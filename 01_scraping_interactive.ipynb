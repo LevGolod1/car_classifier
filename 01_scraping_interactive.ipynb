{
 "cells": [
  {
   "cell_type": "code",
   "id": "initial_id",
   "metadata": {
    "collapsed": true
   },
   "source": [
    "import selenium\n",
    "\n",
    "from selenium import webdriver\n",
    "from selenium.webdriver.firefox.service import Service\n",
    "from selenium.webdriver.firefox.options import Options\n",
    "from selenium.webdriver.common.by import By\n",
    "from selenium.webdriver.support.ui import WebDriverWait, Select\n",
    "from selenium.webdriver.support import expected_conditions as EC\n",
    "\n",
    "# from pywebcopy import save_webpage\n",
    "import pyautogui\n",
    "import random\n",
    "\n",
    "import time\n",
    "import matplotlib.pyplot as plt\n",
    "import re\n",
    "import cv2\n",
    "import os\n",
    "\n",
    "import numpy as np\n",
    "import pandas as pd\n",
    "import glob"
   ],
   "outputs": [],
   "execution_count": null
  },
  {
   "metadata": {
    "ExecuteTime": {
     "end_time": "2025-02-14T18:58:34.374327Z",
     "start_time": "2025-02-14T18:58:33.419883Z"
    }
   },
   "cell_type": "code",
   "source": "from find_vehicle_image_urls import *",
   "id": "bc9eb779f7a43c9",
   "outputs": [],
   "execution_count": 1
  },
  {
   "metadata": {},
   "cell_type": "code",
   "source": [
    "url='https://www.autotrader.com/cars-for-sale/vehicle/736665996?city=Irvine&listingType=USED&makeCode=POR&modelCode=PORTAYCAN&referrer=%2Fporsche%2Ftaycan%3F&state=CA&zip=92604&clickType=listing'\n",
    "\n",
    "driver = firefox_driver_init(headless=headless)\n",
    "\n",
    "driver.get(url)"
   ],
   "id": "510cb604841e74c2",
   "outputs": [],
   "execution_count": null
  },
  {
   "metadata": {},
   "cell_type": "code",
   "source": [
    "from find_vehicle_image_urls import *\n",
    "\n",
    "def chrome_driver_init(headless:bool=False, randomize:bool=True) -> webdriver.Firefox:\n",
    "    options = webdriver.ChromeOptions()\n",
    "    options.binary_location = chrome_path\n",
    "    random_user_agent = create_random_user_agent()\n",
    "    options.add_argument(f\"user-agent={random_user_agent}\")\n",
    "    if headless:\n",
    "        options.add_argument(\"--headless\")\n",
    "\n",
    "    # service = Service(chromedriver_path)\n",
    "    # driver = webdriver.Chrome(service=service, options=options)\n",
    "    driver = webdriver.Chrome(service=Service(ChromeDriverManager().install()), options=options)\n",
    "\n",
    "    return driver\n",
    "\n",
    "\n",
    "driver = chrome_driver_init(headless=False)"
   ],
   "id": "d98aaf052b2536a",
   "outputs": [],
   "execution_count": null
  },
  {
   "metadata": {},
   "cell_type": "code",
   "source": "",
   "id": "e9a80b75177c39f0",
   "outputs": [],
   "execution_count": null
  },
  {
   "metadata": {},
   "cell_type": "code",
   "source": [
    "url='https://www.autotrader.com/cars-for-sale/ford/f150/san-diego-ca?firstRecord=50&searchRadius=0&sortBy=datelistedDESC&zip=92101'\n",
    "\n",
    "driver = firefox_driver_init(headless=headless)\n",
    "\n",
    "driver.get(url)\n",
    "print(f\"make/model search [{url}] webpage initiated\\n\")\n",
    "\n",
    "\n"
   ],
   "id": "ee744932e4f69481",
   "outputs": [],
   "execution_count": null
  },
  {
   "metadata": {},
   "cell_type": "code",
   "source": [
    "import webdriver_manager\n",
    "from selenium import webdriver\n",
    "from selenium.webdriver.chrome.service import Service\n",
    "from webdriver_manager.chrome import ChromeDriverManager\n",
    "\n",
    "chrome_path = \"/Applications/chrome-mac-x64/Google Chrome for Testing.app/Contents/MacOS/Google Chrome for Testing\"\n",
    "\n",
    "options = webdriver.ChromeOptions()\n",
    "options.binary_location = chrome_path\n",
    "\n",
    "# driver = webdriver.Chrome(service=Service(ChromeDriverManager().install()), options=options)\n",
    "driver = webdriver.Chrome(service=Service(ChromeDriverManager().install()), options=options)\n",
    "driver.get(\"https://www.google.com\")\n"
   ],
   "id": "9ee41acb26c5b808",
   "outputs": [],
   "execution_count": null
  },
  {
   "metadata": {},
   "cell_type": "code",
   "source": [
    "random_user_agent = create_random_user_agent()\n",
    "options = webdriver.ChromeOptions()\n",
    "options.binary_location = chrome_path\n",
    "options.add_argument(f\"user-agent={random_user_agent}\")\n",
    "driver = webdriver.Chrome(service=Service(ChromeDriverManager().install()), options=options)\n",
    "driver.get(\"https://www.google.com\")\n",
    "\n"
   ],
   "id": "f3a5995c83e5a8d3",
   "outputs": [],
   "execution_count": null
  },
  {
   "metadata": {
    "ExecuteTime": {
     "end_time": "2025-02-14T18:58:53.929014Z",
     "start_time": "2025-02-14T18:58:44.305314Z"
    }
   },
   "cell_type": "code",
   "source": [
    "from find_vehicle_image_urls import c2\n",
    "url= 'https://www.autotrader.com/cars-for-sale/vehicle/736712659'\n",
    "# driver = chrome_driver_init()\n",
    "driver = c2()\n",
    "driver.get(url)"
   ],
   "id": "241f4e305a21b55c",
   "outputs": [],
   "execution_count": 2
  },
  {
   "metadata": {},
   "cell_type": "code",
   "source": [
    "random_user_agent = create_random_user_agent()\n",
    "options = webdriver.ChromeOptions()\n",
    "options.binary_location = chrome_path\n",
    "options.add_argument(f\"user-agent={random_user_agent}\")\n",
    "driver = webdriver.Chrome(service=Service(ChromeDriverManager().install()), options=options)\n",
    "driver.get(\"https://www.google.com\")"
   ],
   "id": "c9bbbb8cfe47af70",
   "outputs": [],
   "execution_count": null
  },
  {
   "metadata": {},
   "cell_type": "code",
   "source": [
    "# time.sleep(wait_time) # be smarter and wait until things are actually loaded.\n",
    "scrollbar_exists = wait_for_scrollbar(driver)\n",
    "page_unavailable = check_for_site_unavailable(driver)\n",
    "scrollbar_exists, page_unavailable"
   ],
   "id": "8f8935be581e2857",
   "outputs": [],
   "execution_count": null
  },
  {
   "metadata": {},
   "cell_type": "code",
   "source": [
    "## 'view all media' button to see the images\n",
    "view_all_media_element = WebDriverWait(driver, wait_time).until(\n",
    "    EC.visibility_of_element_located(\n",
    "        (By.XPATH, \"//p[normalize-space(text())='View All Media']\")\n",
    "    )\n",
    ")\n",
    "view_all_media_element.click()\n",
    "print(\"view_all_media clicked successfully\")\n"
   ],
   "id": "8b3c39e062a2d489",
   "outputs": [],
   "execution_count": null
  },
  {
   "metadata": {},
   "cell_type": "code",
   "source": [
    "scroll_panel = WebDriverWait(driver, wait_time).until(\n",
    "    EC.visibility_of_element_located(\n",
    "        (By.CSS_SELECTOR, \"div[data-cmp='modalScrollPanel']\")\n",
    "    )\n",
    ")\n",
    "scroll_panel\n",
    "image_urls = find_image_urls(driver)\n",
    "last_length = len(image_urls)\n",
    "i = 0\n",
    "image_urls, last_length"
   ],
   "id": "f2e19c2fefa4f4ad",
   "outputs": [],
   "execution_count": null
  },
  {
   "metadata": {},
   "cell_type": "code",
   "source": [
    "# import pandas as pd\n",
    "#\n",
    "# def find_image_urls_v2(driver) -> list:\n",
    "#     # more flexible\n",
    "#     image_url_prefix = 'https://images.autotrader.com/'\n",
    "#     urls = list(filter(\n",
    "#         lambda x: str(x).startswith(image_url_prefix),\n",
    "#         str(driver.page_source).split()\n",
    "#     ))\n",
    "#     df_urls = pd.DataFrame({'url': urls})\n",
    "#     df_urls['filename'] = df_urls['url'].apply(\n",
    "#         lambda x: os.path.basename(x).split('.')[0]\n",
    "#     )\n",
    "#     # for each unique filename, keep the url w the largest image size e.g. 500\n",
    "#     df_urls = df_urls.sort_values(by=['filename', 'url'], ascending=[1, 0])\n",
    "#     df_urls.reset_index(drop=True, inplace=True)\n",
    "#     df_urls2 = df_urls.groupby('filename').head(1)\n",
    "#     # print(len(df_urls),len(df_urls2))\n",
    "#     df_urls2\n",
    "#     return list(df_urls2['url'])\n"
   ],
   "id": "c0faef0156658953",
   "outputs": [],
   "execution_count": null
  },
  {
   "metadata": {},
   "cell_type": "code",
   "source": [
    "urls_so_far = []\n",
    "urls_so_far += find_image_urls_v2(driver)\n",
    "len(urls_so_far), urls_so_far[0]"
   ],
   "id": "2c2d4537ee962528",
   "outputs": [],
   "execution_count": null
  },
  {
   "metadata": {},
   "cell_type": "code",
   "source": [
    "'''\n",
    "<button data-cmp=\"closeButton\" class=\"close\" aria-label=\"Close\" type=\"button\"><span class=\"glyphicon glyphicon-remove\"></span></button>\n",
    "'''"
   ],
   "id": "b12c7bad603a170d",
   "outputs": [],
   "execution_count": null
  },
  {
   "metadata": {},
   "cell_type": "code",
   "source": [
    "# yes\n",
    "parent_element = driver.find_element(By.CSS_SELECTOR, 'div.modal')\n",
    "close_button = parent_element.find_element(By.CSS_SELECTOR, '[data-cmp=\"closeButton\"]')\n",
    "close_button.click()\n"
   ],
   "id": "c65ea170cb3debaa",
   "outputs": [],
   "execution_count": null
  },
  {
   "metadata": {},
   "cell_type": "code",
   "source": [
    "# view more vehicles\n",
    "\n",
    "'''\n",
    "<a class=\"padding-left-0 text-nowrap margin-vertical-2 btn btn-link\" href=\"/cars-for-sale/all-cars/toyota/tundra/san-diego-ca?zip=92101\"><span aria-hidden=\"true\" class=\"margin-right-1 glyphicon glyphicon-menu-left\"></span>View more vehicles like this one</a>\n",
    "'''\n",
    "\n",
    "button = driver.find_element(By.LINK_TEXT, \"View more vehicles like this one\")\n",
    "button.click()\n"
   ],
   "id": "95724ab27f887ac3",
   "outputs": [],
   "execution_count": null
  },
  {
   "metadata": {},
   "cell_type": "code",
   "source": [
    "\n",
    "## scroll through all the photos\n",
    "\n",
    "\n",
    "## try to scroll in a more naturalistic way    # scroll gradually until there all new image urls are captured\n",
    "image_urls = find_image_urls(driver)\n",
    "last_length = len(image_urls)\n",
    "i = 0\n",
    "while True:\n",
    "    # Scroll down by a small amount\n",
    "    driver.execute_script(f\"arguments[0].scrollTop += {scroll_distance};\", scroll_panel)\n",
    "    # print(f'they see me scrollin, they hatin ({i})')\n",
    "    i += 1\n",
    "    time.sleep(scroll_pause_time)  # Wait for content to load\n",
    "    image_urls = find_image_urls(driver)\n",
    "    new_length = len(image_urls)\n",
    "    if (new_length == last_length) or (i >= max_scrolls):  # If no more content is loading, break\n",
    "        print(f'cant scroll anymore boss {i}')\n",
    "        break\n",
    "    last_length = new_length\n",
    "\n",
    "return image_urls"
   ],
   "id": "67207eab567dae03",
   "outputs": [],
   "execution_count": null
  },
  {
   "metadata": {},
   "cell_type": "code",
   "source": [
    "\n",
    "capture_listings_from_current_page\n"
   ],
   "id": "8959089ecf8fb680",
   "outputs": [],
   "execution_count": null
  },
  {
   "metadata": {},
   "cell_type": "code",
   "source": [
    "vehicle_info= {'make': 'ford', 'model': 'taurus','zipcode':'92101','city_state_lower':'san-diego-ca'}\n",
    "df,driver = find_listings_for_make_model(vehicle_info,quit=False)"
   ],
   "id": "8b4388be910d6628",
   "outputs": [],
   "execution_count": null
  },
  {
   "metadata": {},
   "cell_type": "code",
   "source": [
    "\n",
    "def capture_listings_from_current_page(driver) -> tuple:\n",
    "    '''\n",
    "    :param driver:\n",
    "    :return: (pd.DataFrame, driver)\n",
    "    '''\n",
    "\n",
    "    # time.sleep(wait_time) # be smarter and wait until things are actually loaded.\n",
    "    scrollbar_exists = wait_for_scrollbar(driver)\n",
    "    page_unavailable = check_for_site_unavailable(driver)\n",
    "\n",
    "    if (not scrollbar_exists) or page_unavailable:\n",
    "        message = f'scrollbar failed to load {not scrollbar_exists} and/or page_unavailable {page_unavailable}; that is not good!'\n",
    "        print(message)\n",
    "        driver.quit()\n",
    "        return pd.DataFrame(), None\n",
    "\n",
    "    scroll_down_incrementally(driver)\n",
    "    vehicle_listing_links = find_vehicle_listing_links(driver)\n",
    "\n",
    "    ##  check if I got all the listings or not\n",
    "    result_count_expected = get_search_result_count(driver)\n",
    "    result_count_actual = len(vehicle_listing_links)\n",
    "    _diff = result_count_expected - result_count_actual\n",
    "    if _diff > 0:\n",
    "        message = f'WARNING found {result_count_actual} / {result_count_expected} listings ; {_diff} are missing '\n",
    "    else:\n",
    "        # message = f'Found all {result_count_expected} listings'\n",
    "        message = f'found {result_count_actual} / {result_count_expected} listings'\n",
    "    print(message)\n",
    "\n",
    "    current_url = driver.current_url\n",
    "\n",
    "    df = pd.DataFrame(vehicle_listing_links, columns=['listing_header', 'url'])\n",
    "    df = df.drop_duplicates()\n",
    "    df['search_url'] = current_url\n",
    "    search_timestamp = int(time.time())\n",
    "    df['search_timestamp'] = search_timestamp\n",
    "    # df['search_metadata'] = str(vehicle_info)\n",
    "    print(df.head(1).T)\n",
    "    return df, driver\n"
   ],
   "id": "8c817fe5501d84e4",
   "outputs": [],
   "execution_count": null
  },
  {
   "metadata": {},
   "cell_type": "code",
   "source": "driver, capture_listings_from_current_page",
   "id": "8618d1b448b1aa6a",
   "outputs": [],
   "execution_count": null
  },
  {
   "metadata": {},
   "cell_type": "code",
   "source": "df_results_01, driver = capture_listings_from_current_page(driver)",
   "id": "6528c15f8b6fe822",
   "outputs": [],
   "execution_count": null
  },
  {
   "metadata": {},
   "cell_type": "code",
   "source": "",
   "id": "50bb8beabdc95b97",
   "outputs": [],
   "execution_count": null
  },
  {
   "metadata": {},
   "cell_type": "code",
   "source": [
    "def _find_listings_for_make_model(vehicle_info:dict, driver=None, quit:bool=True) -> tuple:\n",
    "\n",
    "    df_geog = load_geog_df()\n",
    "    search_radius=0 # 0 corresponds to nationwide\n",
    "    sort_by='distanceASC' # e.g. 'datelistedDESC','distanceASC'\n",
    "\n",
    "    make, model = vehicle_info['make'], vehicle_info['model']\n",
    "    first_record = int(vehicle_info.get('first_record', 0)) # 5000\n",
    "    zipcode = vehicle_info.get('zipcode')\n",
    "    city_state = vehicle_info.get('city_state_lower')\n",
    "    if zipcode is None:\n",
    "        print('choose random location within USA')\n",
    "        location = list(df_geog.sample(n=1).to_dict('records'))[0]\n",
    "        zipcode = location['zip']\n",
    "        city_state = location['city_state_lower']\n",
    "\n",
    "\n",
    "    ## you can do a lot by messing with the url, you know. really quite a bit. not everyone knows that.\n",
    "    url_template = 'https://www.autotrader.com/cars-for-sale/' + \\\n",
    "        f'{make}/{model}/{city_state}?firstRecord={first_record}&searchRadius={search_radius}&sortBy={sort_by}&zip={zipcode}'\n",
    "    # https://www.autotrader.com/cars-for-sale/bmw/3-series/houston-tx?firstRecord=5000&searchRadius=100&sortBy=distanceASC&zip=77038\n",
    "\n",
    "    url = url_template.format(make=make, model=model,zipcode=zipcode)\n",
    "    print(f\"attempt to access webpage [{url}]\")\n",
    "    #\n",
    "\n",
    "    ## initialize browser session - unless of course it is already initialized\n",
    "    if driver is None:\n",
    "        driver = firefox_driver_init(headless=headless)\n",
    "\n",
    "    driver.get(url)\n",
    "    print(f\"make/model search [{url}] webpage initiated\\n\")\n",
    "\n",
    "    # time.sleep(wait_time) # be smarter and wait until things are actually loaded.\n",
    "    scrollbar_exists = wait_for_scrollbar(driver)\n",
    "\n",
    "    page_unavailable = check_for_site_unavailable(driver)\n",
    "\n",
    "    if (not scrollbar_exists) or page_unavailable:\n",
    "        message=f'scrollbar failed to load {not scrollbar_exists} and/or page_unavailable {page_unavailable}; that is not good!'\n",
    "        print(message)\n",
    "        driver.quit()\n",
    "        return pd.DataFrame(), None\n",
    "\n",
    "\n",
    "    # print(\"make/model search - initiate scrolling\")\n",
    "    scroll_down_incrementally(driver)\n",
    "    vehicle_listing_links = find_vehicle_listing_links(driver)\n",
    "\n",
    "    ##  check if I got all the listings or not\n",
    "    result_count_expected = get_search_result_count(driver)\n",
    "    result_count_actual = len(vehicle_listing_links)\n",
    "    _diff = result_count_expected - result_count_actual\n",
    "    if _diff >0:\n",
    "        message = f'WARNING found {result_count_actual} / {result_count_expected} listings ; {_diff} are missing '\n",
    "    else:\n",
    "        # message = f'Found all {result_count_expected} listings'\n",
    "        message = f'found {result_count_actual} / {result_count_expected} listings'\n",
    "    print(message)\n",
    "\n",
    "    current_url = driver.current_url\n",
    "\n",
    "    ## todo think about a way to navigate to page 2, page3 of search results\n",
    "    # this can be done by clicking or it can be done by pre-populating the url in a certain way e.g. ?firstRecord=50\n",
    "    # https://www.autotrader.com/cars-for-sale/ford/taurus/san-diego-ca?firstRecord=50&searchRadius=0&sortBy=distanceASC&zip=92101\n",
    "\n",
    "    ## prepare result DF\n",
    "    if quit:\n",
    "        driver.quit()\n",
    "        driver = None\n",
    "\n",
    "    df = pd.DataFrame(vehicle_listing_links, columns=['listing_header', 'url'])\n",
    "    df = df.drop_duplicates()\n",
    "    df['search_url'] = current_url\n",
    "    ts = int(time.time())\n",
    "    df['make']= make\n",
    "    df['model']= model\n",
    "    df['search_timestamp'] =ts\n",
    "    df['search_metadata'] = str(vehicle_info)\n",
    "    print(df.head(1).T)\n",
    "    filename =f'search_results_{make}_{model}_{ts}'\n",
    "    filepath = f'{parent_directory_url_csvs}{filename}.csv'\n",
    "    message=f'saving to {filepath}'\n",
    "    print(message)\n",
    "    df.to_csv(filepath, index=False, quoting=csv.QUOTE_ALL)\n",
    "\n",
    "    return df, driver"
   ],
   "id": "a30701bf31eac3e8",
   "outputs": [],
   "execution_count": null
  },
  {
   "metadata": {},
   "cell_type": "code",
   "source": [
    "import datetime as dt\n",
    "print(dt.datetime.now().replace(second=0, microsecond=0))"
   ],
   "id": "d6ef12d50d49e212",
   "outputs": [],
   "execution_count": null
  },
  {
   "metadata": {},
   "cell_type": "code",
   "source": [
    "vehicles = get_vehicle_make_model_list()\n",
    "df = pd.DataFrame(vehicles)\n",
    "\n",
    "print(df.sort_values(['body_style','make','model']) .set_index('body_style'))"
   ],
   "id": "adeac2267a1f312c",
   "outputs": [],
   "execution_count": null
  },
  {
   "metadata": {},
   "cell_type": "code",
   "source": [
    "import os\n",
    "\n",
    "directory = \"/Users/levgolod/Projects/car_classifier/data/autotrader/vehicle_metadata/\"\n",
    "\n",
    "for filename in os.listdir(directory):\n",
    "    if filename.endswith(\".csv\"):\n",
    "        file_path = os.path.join(directory, filename)\n",
    "\n",
    "        # Open file and count lines\n",
    "        with open(file_path, \"r\") as f:\n",
    "            lines = f.readlines()\n",
    "\n",
    "        # If the file has only one line (header), delete it\n",
    "        if len(lines) == 1:\n",
    "            print(f\"Deleting {filename} (Header-only CSV)\")\n",
    "            os.remove(file_path)\n"
   ],
   "id": "f0f337676bdee23d",
   "outputs": [],
   "execution_count": null
  },
  {
   "metadata": {},
   "cell_type": "code",
   "source": [
    "vehicle_info= {\n",
    "    'make': 'ford', 'model': 'taurus','zipcode':'92101','city_state_lower':'san-diego-ca',\n",
    "    'first_record': 75\n",
    "}\n",
    "df2,driver = _find_listings_for_make_model(vehicle_info,driver=driver, quit=False)"
   ],
   "id": "6f5e1f3ed60d8c3b",
   "outputs": [],
   "execution_count": null
  },
  {
   "metadata": {},
   "cell_type": "code",
   "source": [
    "def load_geog_df() -> pd.DataFrame:\n",
    "    '''\n",
    "    Source https://simplemaps.com/data/us-zips\n",
    "    :return:\n",
    "    beverly-hills-ca\n",
    "    '''\n",
    "    # zips_filepath='~/Projects/car_classifier/data/simplemaps_uszips_basicv1.90/uszips.csv'\n",
    "    zips_filepath='./data/simplemaps_uszips_basicv1.90/uszips.csv'\n",
    "    zips_df = pd.read_csv(zips_filepath)\n",
    "    zips_df['zip'] =zips_df['zip'].astype(str).str.zfill(5)\n",
    "    zips_df['city_state_lower'] = zips_df['city'].str.lower().str.replace(' ','-') + '-' + \\\n",
    "                                  zips_df['state_id'].str.lower()\n",
    "    return zips_df\n",
    "\n",
    "\n",
    "df_geog = load_geog_df()\n",
    "df_geog = df_geog.sample(frac=1)\n",
    "print(df_geog[['zip','city_state_lower']].head(10))"
   ],
   "id": "8762702c12f0bd5f",
   "outputs": [],
   "execution_count": null
  },
  {
   "metadata": {},
   "cell_type": "code",
   "source": "list(df_geog.sample(n=1).to_dict('records'))[0]",
   "id": "36258ed06f084648",
   "outputs": [],
   "execution_count": null
  },
  {
   "metadata": {},
   "cell_type": "code",
   "source": [
    "url='https://www.autotrader.com/cars-for-sale/ford/f150/bloomington-id?firstRecord=5000&searchRadius=100&sortBy=distanceASC&zip=83223'\n",
    "driver = firefox_driver_init(headless=headless)\n",
    "driver.get(url)"
   ],
   "id": "854db38a70ec0716",
   "outputs": [],
   "execution_count": null
  },
  {
   "metadata": {},
   "cell_type": "code",
   "source": [
    "from selenium.webdriver.common.by import By\n",
    "from selenium.webdriver.support.ui import WebDriverWait\n",
    "from selenium.webdriver.support import expected_conditions as EC\n",
    "\n",
    "\n",
    "\n",
    "\n",
    "wait_for_scrollbar(driver)"
   ],
   "id": "8e211b9ef4ecfeea",
   "outputs": [],
   "execution_count": null
  },
  {
   "metadata": {},
   "cell_type": "code",
   "source": [
    "def check_for_site_unavailable(driver):\n",
    "    return 'site is currently unavailable' in str(driver.page_source)\n",
    "\n",
    "\n",
    "check_for_site_unavailable(driver)"
   ],
   "id": "7411e73b992985af",
   "outputs": [],
   "execution_count": null
  },
  {
   "metadata": {},
   "cell_type": "code",
   "source": [
    "## initialize browser session\n",
    "url_cleaned='https://www.autotrader.com/cars-for-sale/vehicle/725617155'\n",
    "driver = firefox_driver_init(headless=False)\n",
    "driver.get(url_cleaned)\n",
    "print(f\"single vehicle listing [{url_cleaned}]- webpage initiated\")\n",
    "\n"
   ],
   "id": "84a10470293f18fe",
   "outputs": [],
   "execution_count": null
  },
  {
   "metadata": {},
   "cell_type": "code",
   "source": [
    "'''\n",
    "<div class=\"modal-header\"><h4 id=\"modal-title\" class=\"modal-title\">Used 2022 Porsche Taycan<span class=\"text-normal\"> - $60,944</span></h4><button data-cmp=\"closeButton\" class=\"close\" aria-label=\"Close\" type=\"button\"><span class=\"glyphicon glyphicon-remove\"></span></button></div>\n",
    "'''"
   ],
   "id": "87302da2e843807c",
   "outputs": [],
   "execution_count": null
  },
  {
   "metadata": {},
   "cell_type": "code",
   "source": [
    "header_image= driver.find_element(By.CSS_SELECTOR, '[data-cmp=\"responsiveImage\"]')\n",
    "header_image\n",
    "header_image.get_attribute('src')\n",
    "\n"
   ],
   "id": "3d3f32f1521c2d1e",
   "outputs": [],
   "execution_count": null
  },
  {
   "metadata": {},
   "cell_type": "code",
   "source": [
    "## create search results df\n",
    "\n",
    "folder=\"/Users/levgolod/Projects/car_classifier/data/autotrader/vehicle_metadata/\"\n",
    "pattern=r'search_results_.*[0-9]*csv'\n",
    "usecols=['listing_header',\n",
    " 'url',\n",
    " 'search_url',\n",
    " 'make',\n",
    " 'model',\n",
    " 'search_timestamp',\n",
    " 'search_metadata']\n",
    "bigdf= pd.DataFrame(columns=usecols)\n",
    "\n",
    "\n",
    "files = [x for x in os.listdir(folder) if bool(re.search(pattern, x))]\n",
    "\n",
    "# file=files[0]\n",
    "for file in files:\n",
    "    print(file)\n",
    "    try:\n",
    "        df=pd.read_csv(folder+file, usecols=usecols)\n",
    "    except ValueError:\n",
    "        print(f'File {file} wrong columns, skipping')\n",
    "        df=None\n",
    "\n",
    "    if df is not None:\n",
    "        bigdf = pd.concat([bigdf, df], ignore_index=True)\n",
    "        bigdf=bigdf.drop_duplicates(subset=['url'])\n",
    "        print(bigdf.shape)\n",
    "\n",
    "# bigdf\n",
    "\n",
    "# list(df)\n",
    "# re.search('search_results_honda_civic_1739366121.csv', search_re)\n",
    "# re.search(search_re, 'search_results_honda_civic_1739366121.csv')\n",
    "\n"
   ],
   "id": "37150f926d088044",
   "outputs": [],
   "execution_count": null
  },
  {
   "metadata": {},
   "cell_type": "code",
   "source": "df.head()",
   "id": "3e07279f0e4101a7",
   "outputs": [],
   "execution_count": null
  },
  {
   "metadata": {},
   "cell_type": "code",
   "source": [
    "df, driver = find_listings_for_make_model(\n",
    "    vehicle_info={'make':'ford','model':'taurus','zipcode':'90210'},\n",
    "    quit=False\n",
    ")"
   ],
   "id": "1b26d5cc72fdaab8",
   "outputs": [],
   "execution_count": null
  },
  {
   "metadata": {},
   "cell_type": "code",
   "source": [
    "## next add try/except\n",
    "# the presence of this text bar \"you have viewed X of Y results\" tells you if you\n",
    "# have the option to click to subsequent pages or not\n",
    "\n",
    "driver\n",
    "element = driver.find_element(By.CSS_SELECTOR, \"div.results-text-container.text-size-300\")\n",
    "element, element.text"
   ],
   "id": "f6a46d0b28b3ca95",
   "outputs": [],
   "execution_count": null
  },
  {
   "metadata": {},
   "cell_type": "code",
   "source": [
    "# <div class=\"results-text-container text-size-300\">You have viewed <span class=\"text-bold\">25</span> of <span class=\"text-bold\">195,802</span> Results</div>\n",
    "\n",
    "# <button aria-label=\"Page 2\" type=\"button\" class=\"btn btn-default\"><span class=\"sr-only\"> Page</span>2</button>\n",
    "\n",
    "button = driver.find_element(By.XPATH, \"//button[@aria-label='Page 2']\")\n",
    "dir(button)\n",
    "# button.click()\n",
    "button.location_once_scrolled_into_view\n",
    "button.click()"
   ],
   "id": "e2cb75d9c6bb022e",
   "outputs": [],
   "execution_count": null
  },
  {
   "metadata": {},
   "cell_type": "code",
   "source": "driver.current_url",
   "id": "b954edcc523eee78",
   "outputs": [],
   "execution_count": null
  },
  {
   "metadata": {},
   "cell_type": "code",
   "source": [
    "from find_vehicle_image_urls import *\n",
    "\n",
    "vehicles = [\n",
    "        {'make':'bmw','model':'4-series'},\n",
    "    {'make':'bmw','model':'3-series'},\n",
    "    {'make':'bmw','model':'x5'},\n",
    "    {'make':'bmw','model':'z4'},\n",
    "    {'make':'ford','model':'taurus'},\n",
    "    {'make':'ford','model':'f150'},\n",
    "    {'make':'ford','model':'explorer'},\n",
    "    {'make':'honda','model':'ridgeline'},\n",
    "    {'make':'honda','model':'odyssey'},\n",
    "    {'make':'honda','model':'accord'},\n",
    "    {'make':'honda','model':'civic'},\n",
    "    {'make':'honda','model':'passport'},\n",
    "    {'make':'toyota','model':'camry'},\n",
    "    {'make':'toyota','model':'crown'},\n",
    "    {'make':'toyota','model':'tacoma'},\n",
    "    {'make':'toyota','model':'tundra'},\n",
    "    {'make':'toyota','model':'corolla'},\n",
    "]\n",
    "\n",
    "repeat=10\n",
    "sleep=300\n",
    "from timethis import timethis\n",
    "\n",
    "for i in range(repeat):\n",
    "    for vehicle in vehicles:\n",
    "        message=f'iteration {i} vehicle {str(vehicle)}'\n",
    "        print(message)\n",
    "        try:\n",
    "            with timethis(message):\n",
    "                df, _ = find_listings_for_make_model(\n",
    "                    vehicle_info=vehicle,\n",
    "                    driver=None,\n",
    "                    quit=True\n",
    "                )\n",
    "            print(message + ' success')\n",
    "        except:\n",
    "            print(message + ' failed')\n",
    "\n",
    "        print(f'sleeping {sleep}')\n",
    "        time.sleep(sleep)\n",
    "\n",
    "\n"
   ],
   "id": "cdbcc29bee6d0a58",
   "outputs": [],
   "execution_count": null
  },
  {
   "metadata": {},
   "cell_type": "code",
   "source": [
    "from random_user_agent.user_agent import UserAgent\n",
    "from random_user_agent.params import SoftwareName, OperatingSystem\n",
    "\n",
    "software_names = [SoftwareName.CHROME.value, SoftwareName.FIREFOX.value]\n",
    "operating_systems = [OperatingSystem.WINDOWS.value, OperatingSystem.MACOS.value]\n",
    "\n",
    "ua = UserAgent(software_names=software_names, operating_systems=operating_systems, limit=100)\n",
    "random_user_agent = ua.get_random_user_agent()\n",
    "print(random_user_agent)\n"
   ],
   "id": "9cbbc7a1d556ed33",
   "outputs": [],
   "execution_count": null
  },
  {
   "metadata": {},
   "cell_type": "code",
   "source": [
    "df, driver = find_listings_for_make_model(\n",
    "    vehicle_info={'make':'ford','model':'taurus','zipcode':'90210'},\n",
    "    driver=driver,\n",
    "    quit=False\n",
    ")"
   ],
   "id": "558543869d2b324",
   "outputs": [],
   "execution_count": null
  },
  {
   "metadata": {},
   "cell_type": "code",
   "source": "!which geckodriver",
   "id": "8ff58b875a4bc4f1",
   "outputs": [],
   "execution_count": null
  },
  {
   "metadata": {},
   "cell_type": "code",
   "source": [
    "geckodriver_path = \"/usr/local/bin/geckodriver\"\n",
    "parent_directory_url_csvs='~/Projects/car_classifier/data/autotrader/vehicle_metadata/'\n",
    "wait_time=10"
   ],
   "id": "ca16ee62415339cd",
   "outputs": [],
   "execution_count": null
  },
  {
   "metadata": {},
   "cell_type": "code",
   "source": [
    "make,model='porsche','taycan'\n",
    "headless=False\n",
    "url_template = 'https://www.autotrader.com/cars-for-sale/{}/{}'\n",
    "url = url_template.format(make,model)\n",
    "\n",
    "\n",
    "## initialize browser session\n",
    "firefox_options = Options()\n",
    "if headless:\n",
    "    firefox_options.add_argument(\"--headless\")\n",
    "\n",
    "service = Service(geckodriver_path)\n",
    "driver = webdriver.Firefox(service=service, options=firefox_options)\n",
    "driver.get(url)\n",
    "print(\"webpage initiated\")"
   ],
   "id": "d89e8da6ed098285",
   "outputs": [],
   "execution_count": null
  },
  {
   "metadata": {},
   "cell_type": "code",
   "source": [
    "def find_vehicle_listing_links(driver) -> list:\n",
    "    '''\n",
    "    return list of tuples\n",
    "    [\n",
    "         (\n",
    "            'Certified 2021 Porsche Taycan 4 Cross Turismo',\n",
    "            'https://www.autotrader.com/cars-for-sale/vehicle/737243275?listingType=USED&makeCode=POR&modelCode=PORTAYCAN&numRecords=25&referrer=%2Fcars-for-sale%2Fporsche%2Ftaycan&sortBy=relevance&zip=92101&clickType=spotlight'\n",
    "        ),\n",
    "    ]\n",
    "    '''\n",
    "    WebDriverWait(driver, wait_time).until(\n",
    "        EC.visibility_of_element_located(\n",
    "            (By.XPATH, '//a[starts-with(@href, \"/cars-for-sale/vehicle/\")]')\n",
    "        )\n",
    "    )\n",
    "    elements = driver.find_elements(By.XPATH, '//a[starts-with(@href, \"/cars-for-sale/vehicle/\")]')\n",
    "    return list(map(\n",
    "        lambda element: (element.text, element.get_attribute(\"href\")),\n",
    "        elements\n",
    "    ))\n",
    "\n",
    "A = find_vehicle_listing_links(driver)\n",
    "len(A),A[0]\n"
   ],
   "id": "dc75be13e260ceb0",
   "outputs": [],
   "execution_count": null
  },
  {
   "metadata": {},
   "cell_type": "code",
   "source": "<select id=\"2281868035\" class=\"form-control has-value\" name=\"searchRadius\"><option label=\"10 Miles\" value=\"10\">10 Miles</option><option label=\"25 Miles\" value=\"25\">25 Miles</option><option label=\"50 Miles\" value=\"50\">50 Miles</option><option label=\"75 Miles\" value=\"75\">75 Miles</option><option label=\"100 Miles\" value=\"100\">100 Miles</option><option label=\"200 Miles\" value=\"200\">200 Miles</option><option label=\"300 Miles\" value=\"300\">300 Miles</option><option label=\"400 Miles\" value=\"400\">400 Miles</option><option label=\"500 Miles\" value=\"500\">500 Miles</option><option label=\"Nationwide\" value=\"0\">Nationwide</option></select>",
   "id": "570f4e6149229842",
   "outputs": [],
   "execution_count": null
  },
  {
   "metadata": {},
   "cell_type": "code",
   "source": [
    "df = pd.DataFrame(A, columns=['listing_header', 'url'])\n",
    "df"
   ],
   "id": "605dc6b6c53e7b1b",
   "outputs": [],
   "execution_count": null
  },
  {
   "metadata": {},
   "cell_type": "code",
   "source": [
    "dropdown = Select(driver.find_element(By.NAME, \"searchRadius\"))\n",
    "dropdown, dropdown.options\n",
    "dropdown.select_by_value(\"100\")\n",
    "dropdown.select_by_value(\"0\")"
   ],
   "id": "402914f3eaf9567",
   "outputs": [],
   "execution_count": null
  },
  {
   "metadata": {},
   "cell_type": "code",
   "source": [
    "dir(dropdown.options[-1])\n",
    "dropdown.options[-1].text, dropdown.options[-1].tag_name"
   ],
   "id": "428c7d0681d22d0d",
   "outputs": [],
   "execution_count": null
  },
  {
   "metadata": {},
   "cell_type": "code",
   "source": "selenium.common.exceptions.NoSuchElementException",
   "id": "a634094c47f37229",
   "outputs": [],
   "execution_count": null
  },
  {
   "metadata": {},
   "cell_type": "code",
   "source": [
    "# scroll_panel = WebDriverWait(driver, wait_time).until(\n",
    "#         EC.visibility_of_element_located(\n",
    "#             (By.CSS_SELECTOR, \"div[data-cmp='modalScrollPanel']\")\n",
    "#         )\n",
    "#     )\n",
    "# scroll_panel\n",
    "driver.execute_script(f\"window.scrollBy(0, {scroll_distance});\")\n",
    "\n",
    "image_urls = find_vehicle_listing_links(driver)\n",
    "last_length =len(image_urls)\n",
    "last_length"
   ],
   "id": "677a14d2240b10c7",
   "outputs": [],
   "execution_count": null
  },
  {
   "metadata": {},
   "cell_type": "code",
   "source": [
    "vehicle_listing_links = find_vehicle_listing_links(driver)\n",
    "last_length =len(image_urls)\n",
    "i=0\n",
    "while True:\n",
    "    # Scroll down by a small amount\n",
    "    driver.execute_script(f\"window.scrollBy(0, {scroll_distance});\")\n",
    "    print(f'they see me scrollin, they hatin ({i})')\n",
    "    i+=1\n",
    "    time.sleep(scroll_pause_time)  # Wait for content to load\n",
    "    vehicle_listing_links = find_vehicle_listing_links(driver)\n",
    "    new_length = len(vehicle_listing_links)\n",
    "    if (new_length == last_length) or (i>=100) :  # If no more content is loading, break\n",
    "        print('cant scroll anymore boss')\n",
    "        break\n",
    "    last_length = new_length"
   ],
   "id": "e784b030c695a108",
   "outputs": [],
   "execution_count": null
  },
  {
   "metadata": {},
   "cell_type": "code",
   "source": [
    "# <h2 data-cmp=\"subheading\" class=\"text-bold text-size-400 link-unstyled\" role=\"heading\" aria-level=\"3\">Certified 2021 Porsche Taycan 4 Cross Turismo</h2>\n",
    "# elements = driver.find_elements(By.CSS_SELECTOR, '[data-cmp=\"subheading\"].text-bold.text-size-400.link-unstyled[role=\"heading\"]')\n",
    "# len(elements), elements[0],elements[0].text\n",
    "\n",
    "elements = driver.find_elements(By.XPATH, '//a[starts-with(@href, \"/cars-for-sale/vehicle/\")]')\n",
    "len(elements), elements[0], elements[0].text, elements[0].get_attribute(\"href\")\n",
    "\n",
    "# Extract and print the URLs\n",
    "# urls = [element.get_attribute(\"href\") for element in elements]\n",
    "# print(urls)\n",
    "\n"
   ],
   "id": "b3bb970e1d0382e6",
   "outputs": [],
   "execution_count": null
  },
  {
   "metadata": {},
   "cell_type": "code",
   "source": "elements[0].click()",
   "id": "3d1e9871d08320e4",
   "outputs": [],
   "execution_count": null
  },
  {
   "metadata": {},
   "cell_type": "code",
   "source": "<a data-cmp=\"link\" class=\"link-undecorated\" rel=\"sponsored,nofollow\" data-next-link=\"true\" href=\"/cars-for-sale/vehicle/736665996?city=Irvine&amp;listingType=USED&amp;makeCode=POR&amp;modelCode=PORTAYCAN&amp;referrer=%2Fporsche%2Ftaycan%3F&amp;state=CA&amp;zip=92604&amp;clickType=spotlight\"><h2 data-cmp=\"subheading\" class=\"text-bold text-size-400 link-unstyled\" role=\"heading\" aria-level=\"3\">Used 2021 Porsche Taycan 4S</h2></a>",
   "id": "c4fef1d4e07fac7f",
   "outputs": [],
   "execution_count": null
  },
  {
   "metadata": {},
   "cell_type": "markdown",
   "source": "### Make sure I can launch firefox",
   "id": "4c7d309e2b045bd5"
  },
  {
   "metadata": {},
   "cell_type": "code",
   "source": [
    "\n",
    "# Set up Firefox options (optional, e.g., for headless mode)\n",
    "firefox_options = Options()\n",
    "# Uncomment the next line if you want to run Firefox in headless mode (i.e., without a GUI)\n",
    "# firefox_options.add_argument(\"--headless\")\n",
    "\n",
    "# If geckodriver is in your PATH, you can just initialize the driver.\n",
    "# Otherwise, specify the path to the geckodriver executable:\n",
    "geckodriver_path = \"/usr/local/bin/geckodriver\"  # Adjust if needed\n",
    "\n",
    "service = Service(geckodriver_path)\n",
    "\n",
    "# Initialize the Firefox driver\n",
    "driver = webdriver.Firefox(service=service, options=firefox_options)\n",
    "\n",
    "# Navigate to a website (replace with your target URL)\n",
    "# driver.get(\"https://www.npr.com\")\n",
    "# url='https://www.autotrader.com/cars-for-sale/vehicle/739471281'\n",
    "url='https://www.autotrader.com/cars-for-sale/vehicle/736665996'\n",
    "driver.get(url)\n",
    "\n",
    "# Wait a few seconds to let the page load\n",
    "time.sleep(5)\n",
    "\n",
    "# Example: Find all images on the page\n",
    "# images = driver.find_elements(\"tag name\", \"img\")\n",
    "# print(f\"Found {len(images)} images on the page.\")\n",
    "\n",
    "# Always quit the browser when done\n",
    "# driver.quit()"
   ],
   "id": "9c6dd09b5338b468",
   "outputs": [],
   "execution_count": null
  },
  {
   "metadata": {},
   "cell_type": "markdown",
   "source": "### Try downloading the images for one car URL",
   "id": "d86647948cac78e1"
  },
  {
   "metadata": {},
   "cell_type": "code",
   "source": [
    "def clean_vehicle_url(url:str) -> str:\n",
    "    pattern = r'^(https://.*?/vehicle/[a-zA-Z0-9]*)(\\?.*)?$'\n",
    "    re_result = re.match(pattern, str(url))\n",
    "    if bool(re_result):\n",
    "        return re_result.group(1)\n",
    "    else:\n",
    "        return None"
   ],
   "id": "7b6923610d253027",
   "outputs": [],
   "execution_count": null
  },
  {
   "metadata": {},
   "cell_type": "code",
   "source": [
    "url='https://www.autotrader.com/cars-for-sale/vehicle/739471281?LNX=SPGOOGLEBRANDPLUSMAKE&city=San%20Diego&ds_rl=1289689&gad_source=1&gclid=CjwKCAiA5Ka9BhB5EiwA1ZVtvHjCtPelBybjmSVqEfXhXQ4FoLUB_-DHe9sxqf7bMrntLKD3J1AJKRoCz-8QAvD_BwE&gclsrc=aw.ds&listingType=USED&makeCode=TOYOTA&modelCode=CAMRY&referrer=%2Ftoyota%2Fcamry%3FLNX%3DSPGOOGLEBRANDPLUSMAKE%26ds_rl%3D1289689%26gad_source%3D1%26gclid%3DCjwKCAiA5Ka9BhB5EiwA1ZVtvHjCtPelBybjmSVqEfXhXQ4FoLUB_-DHe9sxqf7bMrntLKD3J1AJKRoCz-8QAvD_BwE%26gclsrc%3Daw.ds%26utm_campaign%3Dat_na_na_national_evergreen_roi_na_na%26utm_content%3Dkeyword_text_na_na_na_spgooglebrandplusmake_na%26utm_medium%3Dsem_brand-plus_perf%26utm_source%3DGOOGLE%26utm_term%3Dautotrader%2520toyota%2520camry&state=CA&utm_campaign=at_na_na_national_evergreen_roi_na_na&utm_content=keyword_text_na_na_na_spgooglebrandplusmake_na&utm_medium=sem_brand-plus_perf&utm_source=GOOGLE&utm_term=autotrader%20toyota%20camry&zip=92101&clickType=listing'\n",
    "print(clean_vehicle_url(url))"
   ],
   "id": "b049bcda30574f67",
   "outputs": [],
   "execution_count": null
  },
  {
   "metadata": {},
   "cell_type": "code",
   "source": [
    "url_cleaned = clean_vehicle_url(url)\n",
    "firefox_options = Options()\n",
    "# Uncomment the next line if you want to run Firefox in headless mode (i.e., without a GUI)\n",
    "# firefox_options.add_argument(\"--headless\")\n",
    "\n",
    "\n",
    "service = Service(geckodriver_path)\n",
    "driver = webdriver.Firefox(service=service, options=firefox_options)\n",
    "# Navigate to a website (replace with your target URL)\n",
    "driver.get(url_cleaned)\n",
    "\n",
    "view_all_media_element = WebDriverWait(driver, wait_time).until(\n",
    "        EC.visibility_of_element_located(\n",
    "            (By.XPATH, \"//p[normalize-space(text())='View All Media']\")\n",
    "        )\n",
    "    )\n",
    "\n",
    "    # Click the element once it is clickable.\n",
    "view_all_media_element.click()\n",
    "\n",
    "print(\"Element clicked successfully!\")\n",
    "\n",
    "# <p class=\"margin-0\">View All Media</p>"
   ],
   "id": "14425666a474c298",
   "outputs": [],
   "execution_count": null
  },
  {
   "metadata": {},
   "cell_type": "code",
   "source": [
    "\n",
    "\n",
    "page_source= driver.page_source\n",
    "# print(str(page_source)[:1000])\n",
    "'modalScrollPanel' in str(page_source)\n",
    "#  <div data-cmp=\"modalScrollPanel\" class=\"modal-scroll-panel\" tabindex=\"0\">\n",
    "# driver.find_element(\"css selector\", \".media-panel\")\n",
    "scroll_panel = driver.find_element(\"css selector\", \"div[data-cmp='modalScrollPanel']\")\n",
    "scroll_panel\n",
    "driver.execute_script(\"arguments[0].scrollTop = arguments[0].scrollHeight;\", scroll_panel)\n"
   ],
   "id": "b481e8d0026728a",
   "outputs": [],
   "execution_count": null
  },
  {
   "metadata": {},
   "cell_type": "code",
   "source": [
    "scroll_panel2 = WebDriverWait(driver, wait_time).until(\n",
    "        EC.visibility_of_element_located(\n",
    "            (By.CSS_SELECTOR, \"div[data-cmp='modalScrollPanel']\")\n",
    "        )\n",
    "    )\n",
    "scroll_panel2\n",
    "# driver.execute_script(\"arguments[0].scrollTop = arguments[0].scrollHeight;\", scroll_panel2)\n",
    "\n",
    "driver.execute_script(\"arguments[0].scrollTop += 100;\", scroll_panel2)\n",
    "\n",
    "\n",
    "# can verify I'm at the bottom by looking for text \"Estimated Finance Payment\""
   ],
   "id": "21c501475a4e61e7",
   "outputs": [],
   "execution_count": null
  },
  {
   "metadata": {},
   "cell_type": "code",
   "source": [
    "page_source= driver.page_source\n",
    "# print(str(page_source)[:1000])\n",
    "'7dd47a88f70b4489910be87730faa5ba' in str(page_source)\n",
    "urls = list(filter(\n",
    "    lambda x: str(x).startswith('https://images.autotrader.com/scaler/500'),\n",
    "    str(page_source).split()\n",
    "))\n",
    "print(len(urls))"
   ],
   "id": "5f267aa21b701661",
   "outputs": [],
   "execution_count": null
  },
  {
   "metadata": {},
   "cell_type": "code",
   "source": [
    "vehicle_id = url_cleaned.split('/')[-1]\n",
    "\n",
    "\n",
    "download_folder = f\"~/Downloads/{vehicle_id}/\"  # Change this to your preferred save path\n",
    "os.makedirs(download_folder, exist_ok=True)\n",
    "# save_webpage(url_cleaned, download_folder) #lxml_html_clean\n"
   ],
   "id": "4c943e5b7cfc285a",
   "outputs": [],
   "execution_count": null
  },
  {
   "metadata": {},
   "cell_type": "code",
   "source": [
    "EC.visibility_of_element_located(\n",
    "            (By.XPATH, \"//p[normalize-space(text())='View All Media']\")\n",
    "        )\n",
    "\n",
    "elements = driver.find_elements(By.XPATH, \"//p[normalize-space(text())='View All Media']\")\n",
    "len(elements) > 0"
   ],
   "id": "1693c33a2fe8a20f",
   "outputs": [],
   "execution_count": null
  },
  {
   "metadata": {},
   "cell_type": "code",
   "source": [
    "elements[0].click()\n",
    "# ElementClickInterceptedException: Message: Element <p class=\"margin-0\"> is not clickable at point (912,330) because another element <div id=\"onetrust-button-group-parent\" class=\"ot-sdk-three ot-sdk-columns has-reject-all-button\"> obscures it\n",
    "# Stacktrace:\n",
    "# <a href=\"#\" id=\"tabNavBar-tab-0\" role=\"tab\" aria-controls=\"tabNavBar-pane-0\" aria-selected=\"true\">Photos</a>\n",
    "#"
   ],
   "id": "8a4a78b74aee6481",
   "outputs": [],
   "execution_count": null
  },
  {
   "metadata": {},
   "cell_type": "code",
   "source": "'Gas Engine' in str(page_source) #todo extract this information as well",
   "id": "fba3eb7916684b60",
   "outputs": [],
   "execution_count": null
  },
  {
   "metadata": {},
   "cell_type": "code",
   "source": [
    "scroll_pause_time = 0.5  # Adjust based on load time\n",
    "\n",
    "# Get initial scroll height\n",
    "last_height = driver.execute_script(\"return document.body.scrollHeight\", scroll_panel2)\n",
    "i=0\n",
    "while True:\n",
    "    # Scroll down by a small amount\n",
    "    # driver.execute_script(\"window.scrollBy(0, 1000);\", scroll_panel2)  # Scroll down in steps\n",
    "    driver.execute_script(\"arguments[0].scrollTop += 500;\", scroll_panel2)\n",
    "    print(f'they see me scrollin, they hatin ({i})')\n",
    "    i+=1\n",
    "    time.sleep(scroll_pause_time)  # Wait for content to load\n",
    "\n",
    "    # Calculate new scroll height and compare with the last scroll height\n",
    "    new_height = driver.execute_script(\"return document.body.scrollHeight\", scroll_panel2)\n",
    "    if new_height == last_height:  # If no more content is loading, break\n",
    "        break\n",
    "    last_height = new_height\n"
   ],
   "id": "382948c79de77e77",
   "outputs": [],
   "execution_count": null
  },
  {
   "metadata": {},
   "cell_type": "code",
   "source": [
    "def find_image_urls(driver) -> list:\n",
    "    # get the image urls. There are multiple sizes available but due to inflation I am gonna 'keep it 500'\n",
    "    image_url_prefix = 'https://images.autotrader.com/scaler/500'\n",
    "    return list(filter(\n",
    "        lambda x: str(x).startswith(image_url_prefix),\n",
    "        str(driver.page_source).split()\n",
    "    ))\n"
   ],
   "id": "f29805c1a87aa3eb",
   "outputs": [],
   "execution_count": null
  },
  {
   "metadata": {},
   "cell_type": "code",
   "source": [
    "# <h1 data-cmp=\"heading\" id=\"vehicle-details-heading\" class=\"text-ultra-bold text-size-400 text-size-sm-500 text-size-md-650\">Used 2022 Toyota Camry SE</h1>\n",
    "\n",
    "# Find the <h1> element\n",
    "heading_element = driver.find_element(\"css selector\", 'h1[data-cmp=\"heading\"]#vehicle-details-heading')\n",
    "\n",
    "# Extract the text\n",
    "heading_text = heading_element.text\n",
    "heading_text"
   ],
   "id": "98b6ae10d6dba3f7",
   "outputs": [],
   "execution_count": null
  },
  {
   "metadata": {},
   "cell_type": "code",
   "source": [
    "## capture year make model as text\n",
    "year_make_model_element = WebDriverWait(driver, wait_time).until(\n",
    "        EC.visibility_of_element_located(\n",
    "            (By.CSS_SELECTOR, 'h1[data-cmp=\"heading\"]#vehicle-details-heading')\n",
    "        )\n",
    "    )\n",
    "\n",
    "year_make_model_element, year_make_model_element.text"
   ],
   "id": "fb907a6ef0bb5f34",
   "outputs": [],
   "execution_count": null
  },
  {
   "metadata": {},
   "cell_type": "code",
   "source": [
    "list(filter(\n",
    "    lambda x: 'listColumns' in str(x),\n",
    "    str(driver.page_source).split()\n",
    "))\n",
    "\n",
    "len(str(driver.page_source).split('''<ul data-cmp=\"listColumns\" class=\"list columns columns-1'''))\n",
    "\n"
   ],
   "id": "3031c162dc6f9144",
   "outputs": [],
   "execution_count": null
  },
  {
   "metadata": {},
   "cell_type": "code",
   "source": [
    "# list_elements = driver.find_elements(By.CSS_SELECTOR, 'ul[data-cmp=\"listColumns\"]')\n",
    "# len(list_elements)\n",
    "\n",
    "list_element =listing_detail_element= driver.find_element(By.CSS_SELECTOR, 'ul[data-cmp=\"listColumns\"].list.columns.columns-1')\n",
    "# len(list_element)\n",
    "list_element, list_element.text\n",
    "listing_details = list_element.text.split('\\n')\n",
    "listing_details\n",
    "listing_detail = listing_detail_element.text\n",
    "listing_detail_clean = '|'.join(listing_detail.strip().replace('|',' ').split('\\n'))\n",
    "listing_detail_clean\n",
    "# listing_details = str(list_element.text).split('\\n')\n",
    "# listing_details\n",
    "\n",
    "\n"
   ],
   "id": "a6a92f9bef85b80a",
   "outputs": [],
   "execution_count": null
  },
  {
   "metadata": {},
   "cell_type": "code",
   "source": [
    "def clean_text_remove_newline(x:str) -> str:\n",
    "    return '|'.join(str(x).strip().replace('|',' ').split('\\n'))\n"
   ],
   "id": "d903f5e62280bb33",
   "outputs": [],
   "execution_count": null
  },
  {
   "metadata": {},
   "cell_type": "code",
   "source": [
    "# <div class=\"text-size-400 display-flex justify-content-between align-items-center padding-vertical-3\" data-cmp=\"listingPrice\">Listing Price<span class=\"margin-left-auto\">$25,488</span></div>\n",
    "\n",
    "list_price_element = driver.find_element(By.CSS_SELECTOR, '[data-cmp=\"listingPrice\"]')\n",
    "list_price_element, list_price_element.text\n",
    "\n",
    "list_price_clean = clean_text_remove_newline(list_price_element.text)\n",
    "list_price_clean = list_price_clean.split('|')[-1].strip()\n",
    "list_price_clean\n",
    "\n",
    "# <span class=\"display-block display-sm-inline-block\">VIN:&nbsp;4T1G11AK5NU020242</span>"
   ],
   "id": "f0b000c76ddc5e50",
   "outputs": [],
   "execution_count": null
  },
  {
   "metadata": {},
   "cell_type": "code",
   "source": [
    "# elements = driver.find_elements(By.CSS_SELECTOR, '.display-block.display-sm-inline-block')\n",
    "elements = driver.find_elements(By.CSS_SELECTOR, 'span.display-block.display-sm-inline-block')\n",
    "\n",
    "elements, len(elements)\n",
    "elements[0].text\n",
    "\n",
    "def get_clean_vin(vin_text:str) -> str:\n",
    "    '''\n",
    "    'VIN: 4T1G11AK5NU020242'\n",
    "    :param vin_text:\n",
    "    :return:\n",
    "    '''\n",
    "    vin = str(vin_text).upper().split(':')[-1].strip()\n",
    "    if len(vin) ==17:\n",
    "        return vin\n",
    "    else:\n",
    "        return None\n",
    "\n",
    "elements[0].text, get_clean_vin(elements[0].text)"
   ],
   "id": "ad50d24a249633ab",
   "outputs": [],
   "execution_count": null
  },
  {
   "metadata": {},
   "cell_type": "code",
   "source": [
    "listing_narrative_element = driver.find_element(By.CSS_SELECTOR, '[data-cmp=\"seeMore\"]')\n",
    "listing_narrative_element, str(listing_narrative_element.text)[:1000]"
   ],
   "id": "c1423dbe276dc04",
   "outputs": [],
   "execution_count": null
  },
  {
   "metadata": {},
   "cell_type": "code",
   "source": [
    "import csv\n",
    "csv.QUOTE_ALL\n",
    "df = pd.DataFrame({'vehicle_image_url': urls})\n",
    "df['vehicle_id']= vehicle_id\n",
    "filepath = f'{parent_directory_url_csvs}{vehicle_id}.csv'\n",
    "message=f'saving to {filepath}'\n",
    "print(message)\n",
    "df.to_csv(filepath, index=False, quoting=csv.QUOTE_ALL)"
   ],
   "id": "a256aa92db54de60",
   "outputs": [],
   "execution_count": null
  },
  {
   "metadata": {},
   "cell_type": "code",
   "source": [
    "df2 = pd.read_csv(filepath)\n",
    "df2 = pd.read_csv('~/Projects/car_classifier/data/autotrader/vehicle_metadata/736665996.csv')\n",
    "df2"
   ],
   "id": "1cca5bb38cdcf24b",
   "outputs": [],
   "execution_count": null
  },
  {
   "metadata": {},
   "cell_type": "code",
   "source": [
    "special_chars = '|^'\n",
    "internal_delim = '^'\n",
    "chars_to_remove = sorted(set(special_chars + internal_delim))\n",
    "chars_to_remove"
   ],
   "id": "843a9b806c6da269",
   "outputs": [],
   "execution_count": null
  },
  {
   "metadata": {},
   "cell_type": "code",
   "source": [
    "def clean_text_remove_newline(x:str) -> str:\n",
    "    special_chars = '|^'\n",
    "    internal_delim = '^'\n",
    "    chars_to_remove = sorted(set(special_chars + internal_delim))\n",
    "    x2 = str(x).strip()\n",
    "    for char in chars_to_remove:\n",
    "        x2 = x2.replace(char, ' ')\n",
    "\n",
    "    lines= [y.strip() for y in x2.strip().split('\\n')]\n",
    "    return internal_delim.join(lines)\n",
    "\n",
    "clean_text_remove_newline(df2['listing_details'][0])\n",
    "clean_text_remove_newline(listing_detail)"
   ],
   "id": "7738ece0ba7bfbb6",
   "outputs": [],
   "execution_count": null
  },
  {
   "metadata": {},
   "cell_type": "code",
   "source": "!wget -q -nc -P \"/Users/levgolod/Projects/car_classifier/data/autotrader/vehicle_images/\" \"https://images.autotrader.com/scaler/500/375/hn/c/ff42e26fdabb4cf2bee049d3909ffee3.jpg\"",
   "id": "2626016d2c3e25dd",
   "outputs": [],
   "execution_count": null
  },
  {
   "metadata": {},
   "cell_type": "code",
   "source": [
    "## I fw random proxies ; https://www.proxynova.com/proxy-server-list/\n",
    "# 188.112.179.204\t80\t18 hours ago\n",
    "# 396 ms\t76% (129)\tlv Latvia - Riga\tElite\n",
    "\n",
    "from selenium import webdriver\n",
    "from selenium.webdriver.common.proxy import Proxy, ProxyType\n",
    "\n",
    "# Set up proxy details\n",
    "proxy = \"98.176.105.96:3128\"  # e.g., \"123.456.789.101:8080\"\n",
    "\n",
    "\n",
    "# # Set up Firefox options to use the proxy\n",
    "# firefox_profile = Options()\n",
    "# firefox_profile.set_preference(\"network.proxy.type\", 1)  # 1 for manual configuration\n",
    "# firefox_profile.set_preference(\"network.proxy.http\", proxy.split(\":\")[0])\n",
    "# firefox_profile.set_preference(\"network.proxy.http_port\", int(proxy.split(\":\")[1]))\n",
    "# firefox_profile.set_preference(\"network.proxy.ssl\", proxy.split(\":\")[0])\n",
    "# firefox_profile.set_preference(\"network.proxy.ssl_port\", int(proxy.split(\":\")[1]))\n",
    "# service = Service(geckodriver_path)\n",
    "# driver = webdriver.Firefox(service=service, options=firefox_profile)\n",
    "# driver.get(\"https://www.whatismyip.com/\")  # Check your IP address here\n",
    "\n",
    "firefox_options = Options()\n",
    "firefox_options.set_preference(\"network.proxy.type\", 1)  # Enables manual proxy configuration\n",
    "firefox_options.set_preference(\"network.proxy.http\", proxy.split(\":\")[0])  # Proxy IP\n",
    "firefox_options.set_preference(\"network.proxy.http_port\", int(proxy.split(\":\")[1]))  # Proxy Port\n",
    "firefox_options.set_preference(\"network.proxy.ssl\", proxy.split(\":\")[0])  # HTTPS Proxy\n",
    "firefox_options.set_preference(\"network.proxy.ssl_port\", int(proxy.split(\":\")[1]))  # HTTPS Port\n",
    "firefox_options.set_preference(\"network.proxy.socks_version\", 5)  # Use SOCKS5 if needed\n",
    "\n",
    "# Launch Firefox with the configured proxy\n",
    "driver = webdriver.Firefox(options=firefox_options)\n",
    "\n",
    "# Test if the proxy is working\n",
    "driver.get(\"https://www.whatismyip.com/\")\n"
   ],
   "id": "1f098c01fb111588",
   "outputs": [],
   "execution_count": null
  },
  {
   "metadata": {},
   "cell_type": "code",
   "source": [
    "text='Shop for a Car'\n",
    "element = driver.find_element(By.XPATH, f\"//*[contains(text(), '{text}')]\")\n",
    "element, element.is_displayed()"
   ],
   "id": "e47dd6c112d7cb71",
   "outputs": [],
   "execution_count": null
  },
  {
   "metadata": {},
   "cell_type": "code",
   "source": [
    "\n",
    "\n",
    "# Example usage:\n",
    "print(f\"Scrolled: {get_scroll_percentage(driver)}%\")\n"
   ],
   "id": "e4d58147a908874c",
   "outputs": [],
   "execution_count": null
  },
  {
   "metadata": {},
   "cell_type": "code",
   "source": [
    "max_scrolls=100\n",
    "result_count_element = driver.find_element(By.CSS_SELECTOR, '[data-cmp=\"resultsCount\"]')\n",
    "result_count_element, result_count_element.text\n",
    "\n",
    "def get_search_result_count(driver) -> int:\n",
    "    result_count_element = driver.find_element(By.CSS_SELECTOR, '[data-cmp=\"resultsCount\"]')\n",
    "    result_count_text = result_count_element.text\n",
    "    result_count = int(result_count_text.split(' ')[0])\n",
    "    return result_count\n",
    "\n",
    "get_search_result_count(driver)"
   ],
   "id": "3d62ddd5c919789e",
   "outputs": [],
   "execution_count": null
  },
  {
   "metadata": {},
   "cell_type": "code",
   "source": [
    "import time\n",
    "ts = int(time.time())\n",
    "\n",
    "import datetime as dt\n",
    "ts, dt.datetime.fromtimestamp(ts).strftime('%Y-%m-%d %H:%M:%S')"
   ],
   "id": "2a94bb9e0bc7ee48",
   "outputs": [],
   "execution_count": null
  },
  {
   "metadata": {},
   "cell_type": "code",
   "source": [
    "\n",
    "\n",
    "zips = load_zipcodes()\n",
    "zips[:10], len(zips),len(set(zips)), random.choice(zips)"
   ],
   "id": "8f65cf0002197ed3",
   "outputs": [],
   "execution_count": null
  },
  {
   "metadata": {},
   "cell_type": "code",
   "source": "scroll_down_incrementally(driver, scroll_distance, verbose=True)",
   "id": "1fc3a6e1995fdda",
   "outputs": [],
   "execution_count": null
  },
  {
   "metadata": {},
   "cell_type": "code",
   "source": [
    "## get learned how to scroll more better\n",
    "\n",
    "\n",
    "\n",
    "def scroll_until_text_visible(text, max_scrolls=20, scroll_increment=200):\n",
    "    \"\"\"Scrolls down bit-by-bit until the text is visible on screen.\"\"\"\n",
    "    scroll_attempts = 0\n",
    "    while scroll_attempts < max_scrolls:\n",
    "        try:\n",
    "            # Locate the element (even if it's hidden)\n",
    "            element = driver.find_element(By.XPATH, f\"//*[contains(text(), '{text}')]\")\n",
    "\n",
    "            # Check if it's actually displayed (not just in page source)\n",
    "            if element.is_displayed():\n",
    "                print(f'Text \"{text}\" is now visible!')\n",
    "                return element\n",
    "\n",
    "        except selenium.common.exceptions.NoSuchElementException:\n",
    "            pass  # The text isn't found yet, keep scrolling\n",
    "\n",
    "        # Scroll down bit-by-bit\n",
    "        driver.execute_script(f\"window.scrollBy(0, {scroll_increment});\")\n",
    "        time.sleep(0.5)  # Allow new content to load\n",
    "        scroll_attempts += 1\n",
    "\n",
    "    print(f'Text \"{text}\" not visible after {max_scrolls} scrolls.')\n",
    "    return None\n",
    "\n",
    "# Call the function\n",
    "scroll_until_text_visible(\"Shop for a Car\")\n",
    "\n",
    "# Close the driver\n",
    "driver.quit()\n"
   ],
   "id": "833e2d5d4f2cb1e3",
   "outputs": [],
   "execution_count": null
  }
 ],
 "metadata": {
  "kernelspec": {
   "display_name": "Python 3",
   "language": "python",
   "name": "python3"
  },
  "language_info": {
   "codemirror_mode": {
    "name": "ipython",
    "version": 2
   },
   "file_extension": ".py",
   "mimetype": "text/x-python",
   "name": "python",
   "nbconvert_exporter": "python",
   "pygments_lexer": "ipython2",
   "version": "2.7.6"
  }
 },
 "nbformat": 4,
 "nbformat_minor": 5
}
