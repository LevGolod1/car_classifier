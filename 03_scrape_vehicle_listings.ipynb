{
 "cells": [
  {
   "cell_type": "code",
   "id": "initial_id",
   "metadata": {
    "collapsed": true
   },
   "source": [
    "import pandas as pd\n",
    "import os\n",
    "from find_vehicle_image_urls import *"
   ],
   "outputs": [],
   "execution_count": null
  },
  {
   "metadata": {},
   "cell_type": "code",
   "source": [
    "\n",
    "\n",
    "search_results_df=compile_search_results_df()\n",
    "search_results_df.head()\n"
   ],
   "id": "2aac6d0166a6f6cd",
   "outputs": [],
   "execution_count": null
  },
  {
   "metadata": {},
   "cell_type": "code",
   "source": [
    "## let's learn how many vehicle urls are provided by the typical search\n",
    "print(search_results_df.groupby(['filename']).size().describe())\n",
    "np.mean(search_results_df.groupby(['filename']).size() >=20)"
   ],
   "id": "fe4d07149ae7fa01",
   "outputs": [],
   "execution_count": null
  },
  {
   "metadata": {},
   "cell_type": "code",
   "source": [
    "## dedup (devastating)\n",
    "n_before = len(search_results_df)\n",
    "search_results_df=search_results_df.drop_duplicates(subset=['url'])\n",
    "n_after = len(search_results_df)\n",
    "message =f'after deduplicating I go from {n_before} to {n_after} records'\n",
    "print(message)\n",
    "\n",
    "\n",
    "## let's learn how many vehicle urls are provided by the typical search\n",
    "\n",
    "print(search_results_df.groupby(['filename']).size().describe())\n",
    "np.mean(search_results_df.groupby(['filename']).size() >=20)"
   ],
   "id": "859ac4bec308a116",
   "outputs": [],
   "execution_count": null
  },
  {
   "metadata": {},
   "cell_type": "code",
   "source": [
    "\n",
    "# df, _ = process_vehicle_webpage(search_results_df['url'][1])"
   ],
   "id": "5e2b707b04daecc5",
   "outputs": [],
   "execution_count": null
  },
  {
   "metadata": {},
   "cell_type": "code",
   "source": [
    "i=2\n",
    "\n",
    "search_results_df.loc[i, ]\n",
    "vehicle_id = search_results_df.loc[i, 'vehicle_id']\n",
    "filepath=f'{parent_directory_url_csvs}{vehicle_id}.csv'\n",
    "filepath\n",
    "already_exist = os.path.exists(filepath)\n",
    "filepath, already_exist\n",
    "\n",
    "\n",
    "if already_exist:\n",
    "    print(f'file {filepath} already exists, skipping')\n",
    "else:\n",
    "    df, _ = process_vehicle_webpage(search_results_df.loc[i, 'url_clean'])\n"
   ],
   "id": "cfd03b2fd69f11cf",
   "outputs": [],
   "execution_count": null
  },
  {
   "metadata": {},
   "cell_type": "code",
   "source": "!ls -lsh ~/Projects/car_classifier/data/autotrader/vehicle_metadata/738409771.csv",
   "id": "6315562f7eadc6df",
   "outputs": [],
   "execution_count": null
  },
  {
   "metadata": {},
   "cell_type": "code",
   "source": [
    "search_results_df = search_results_df.sample(frac=1)\n",
    "search_results_df.reset_index(drop=True,inplace=True)\n",
    "min_sleep=60\n",
    "sleep = min_sleep\n",
    "\n",
    "for i in search_results_df.index:\n",
    "\n",
    "    search_results_df.loc[i, ]\n",
    "    vehicle_id = search_results_df.loc[i, 'vehicle_id']\n",
    "    url_clean = search_results_df.loc[i, 'url_clean']\n",
    "    filepath=f'{parent_directory_url_csvs}{vehicle_id}.csv'\n",
    "    filepath\n",
    "    already_exist = os.path.exists(filepath)\n",
    "    filepath, already_exist\n",
    "\n",
    "\n",
    "    if already_exist:\n",
    "        print(f'file {filepath} already exists, skipping')\n",
    "        continue\n",
    "\n",
    "    try:\n",
    "        with timethis(url_clean):\n",
    "            df, _ = process_vehicle_webpage(url=url_clean, quit=True)\n",
    "\n",
    "        new_sleep = max(min_sleep, sleep-min_sleep)\n",
    "        if new_sleep != sleep:\n",
    "            print(f'sleep param set to {new_sleep}')\n",
    "            sleep = new_sleep\n",
    "\n",
    "    except Exception as e:\n",
    "        error_message = traceback.format_exc()\n",
    "        print(f\"[{url_clean}] Error Traceback:\\n\", error_message)\n",
    "        new_sleep = sleep + min_sleep\n",
    "        if new_sleep != sleep:\n",
    "            print(f'sleep param set to {new_sleep}')\n",
    "            sleep = new_sleep\n",
    "\n",
    "    print(f'sleeping {sleep} seconds')\n",
    "    time.sleep(sleep)\n"
   ],
   "id": "af5c65945a4e87b",
   "outputs": [],
   "execution_count": null
  },
  {
   "metadata": {},
   "cell_type": "code",
   "source": [
    "# single vehicle listing [https://www.autotrader.com/cars-for-sale/vehicle/725617155]- webpage initiated\n",
    "# doesn't have the View All Media button bc there are only 2 photos\n",
    "\n",
    "image_urls+=[header_image_url]\n"
   ],
   "id": "63d949600cc1d0bf",
   "outputs": [],
   "execution_count": null
  },
  {
   "metadata": {},
   "cell_type": "code",
   "source": [
    "'''\n",
    "We're sorry for any inconvenience, but the site is currently unavailable.\n",
    "'''"
   ],
   "id": "1b3312b3b2448318",
   "outputs": [],
   "execution_count": null
  }
 ],
 "metadata": {
  "kernelspec": {
   "display_name": "Python 3",
   "language": "python",
   "name": "python3"
  },
  "language_info": {
   "codemirror_mode": {
    "name": "ipython",
    "version": 2
   },
   "file_extension": ".py",
   "mimetype": "text/x-python",
   "name": "python",
   "nbconvert_exporter": "python",
   "pygments_lexer": "ipython2",
   "version": "2.7.6"
  }
 },
 "nbformat": 4,
 "nbformat_minor": 5
}
