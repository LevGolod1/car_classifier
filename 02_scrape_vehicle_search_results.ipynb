{
 "cells": [
  {
   "cell_type": "code",
   "id": "initial_id",
   "metadata": {
    "collapsed": true,
    "ExecuteTime": {
     "end_time": "2025-02-12T15:42:52.737607Z",
     "start_time": "2025-02-12T15:42:51.914205Z"
    }
   },
   "source": [
    "import random\n",
    "from timethis import timethis\n",
    "from find_vehicle_image_urls import *"
   ],
   "outputs": [],
   "execution_count": 1
  },
  {
   "metadata": {
    "ExecuteTime": {
     "end_time": "2025-02-12T15:42:52.753666Z",
     "start_time": "2025-02-12T15:42:52.748194Z"
    }
   },
   "cell_type": "code",
   "source": [
    "\n",
    "vehicles = [\n",
    "    {'make':'bmw','model':'4-series'},\n",
    "    {'make':'bmw','model':'3-series'},\n",
    "    {'make':'bmw','model':'x5'},\n",
    "    {'make':'bmw','model':'z4'},\n",
    "    {'make':'ford','model':'taurus'},\n",
    "    {'make':'ford','model':'f150'},\n",
    "    {'make':'ford','model':'explorer'},\n",
    "    {'make':'honda','model':'ridgeline'},\n",
    "    {'make':'honda','model':'odyssey'},\n",
    "    {'make':'honda','model':'accord'},\n",
    "    {'make':'honda','model':'civic'},\n",
    "    {'make':'honda','model':'passport'},\n",
    "    {'make':'toyota','model':'camry'},\n",
    "    {'make':'toyota','model':'crown'},\n",
    "    {'make':'toyota','model':'tacoma'},\n",
    "    {'make':'toyota','model':'tundra'},\n",
    "    {'make':'toyota','model':'corolla'},\n",
    "    {'make':'volvo','model':'v90'},\n",
    "    {'make':'volvo','model':'c30'},\n",
    "]\n",
    "\n",
    "random.shuffle(vehicles)"
   ],
   "id": "b1e9ee1bb4870012",
   "outputs": [],
   "execution_count": 2
  },
  {
   "metadata": {
    "ExecuteTime": {
     "end_time": "2025-02-12T16:12:24.409961Z",
     "start_time": "2025-02-12T15:42:52.923859Z"
    }
   },
   "cell_type": "code",
   "source": [
    "\n",
    "repeat=10\n",
    "sleep=300\n",
    "\n",
    "for i in range(repeat):\n",
    "    for vehicle in vehicles:\n",
    "        message=f'iteration {i} vehicle {str(vehicle)}'\n",
    "        print(message)\n",
    "        try:\n",
    "            with timethis(message):\n",
    "                df, _ = find_listings_for_make_model(\n",
    "                    vehicle_info=vehicle,\n",
    "                    driver=None,\n",
    "                    quit=True\n",
    "                )\n",
    "            print(message + ' success')\n",
    "        except:\n",
    "            print(message + ' failed')\n",
    "\n",
    "        print(f'sleeping {sleep}')\n",
    "        time.sleep(sleep)\n"
   ],
   "id": "4f0848ac632922ba",
   "outputs": [
    {
     "name": "stdout",
     "output_type": "stream",
     "text": [
      "iteration 0 vehicle {'make': 'toyota', 'model': 'tundra'}\n",
      "attempt to access webpage [https://www.autotrader.com/cars-for-sale/toyota/tundra/55912?searchRadius=0&sortBy=distanceASC]\n",
      "make/model search [https://www.autotrader.com/cars-for-sale/toyota/tundra/55912?searchRadius=0&sortBy=distanceASC] webpage initiated\n",
      "WARNING found 30 / 9268 listings ; 9238 are missing \n",
      "                                                                  0\n",
      "listing_header                          Used 2021 Toyota Tundra SR5\n",
      "url               https://www.autotrader.com/cars-for-sale/vehic...\n",
      "search_url        https://www.autotrader.com/cars-for-sale/toyot...\n",
      "make                                                         toyota\n",
      "model                                                        tundra\n",
      "search_timestamp                                         1739374986\n",
      "search_metadata               {'make': 'toyota', 'model': 'tundra'}\n",
      "saving to ~/Projects/car_classifier/data/autotrader/vehicle_metadata/search_results_toyota_tundra_1739374986.csv\n",
      "iteration 0 vehicle {'make': 'toyota', 'model': 'tundra'}: 13.811 seconds\n",
      "iteration 0 vehicle {'make': 'toyota', 'model': 'tundra'} success\n",
      "sleeping 300\n",
      "iteration 0 vehicle {'make': 'honda', 'model': 'civic'}\n",
      "attempt to access webpage [https://www.autotrader.com/cars-for-sale/honda/civic/51052?searchRadius=0&sortBy=distanceASC]\n",
      "make/model search [https://www.autotrader.com/cars-for-sale/honda/civic/51052?searchRadius=0&sortBy=distanceASC] webpage initiated\n",
      "WARNING found 31 / 16838 listings ; 16807 are missing \n",
      "                                                                  0\n",
      "listing_header                             Used 2019 Honda Civic LX\n",
      "url               https://www.autotrader.com/cars-for-sale/vehic...\n",
      "search_url        https://www.autotrader.com/cars-for-sale/honda...\n",
      "make                                                          honda\n",
      "model                                                         civic\n",
      "search_timestamp                                         1739375301\n",
      "search_metadata                 {'make': 'honda', 'model': 'civic'}\n",
      "saving to ~/Projects/car_classifier/data/autotrader/vehicle_metadata/search_results_honda_civic_1739375301.csv\n",
      "iteration 0 vehicle {'make': 'honda', 'model': 'civic'}: 14.649 seconds\n",
      "iteration 0 vehicle {'make': 'honda', 'model': 'civic'} success\n",
      "sleeping 300\n",
      "iteration 0 vehicle {'make': 'ford', 'model': 'explorer'}\n",
      "attempt to access webpage [https://www.autotrader.com/cars-for-sale/ford/explorer/87038?searchRadius=0&sortBy=distanceASC]\n",
      "make/model search [https://www.autotrader.com/cars-for-sale/ford/explorer/87038?searchRadius=0&sortBy=distanceASC] webpage initiated\n",
      "WARNING found 30 / 19860 listings ; 19830 are missing \n",
      "                                                                  0\n",
      "listing_header                          Used 2023 Ford Explorer XLT\n",
      "url               https://www.autotrader.com/cars-for-sale/vehic...\n",
      "search_url        https://www.autotrader.com/cars-for-sale/ford/...\n",
      "make                                                           ford\n",
      "model                                                      explorer\n",
      "search_timestamp                                         1739375614\n",
      "search_metadata               {'make': 'ford', 'model': 'explorer'}\n",
      "saving to ~/Projects/car_classifier/data/autotrader/vehicle_metadata/search_results_ford_explorer_1739375614.csv\n",
      "iteration 0 vehicle {'make': 'ford', 'model': 'explorer'}: 13.124 seconds\n",
      "iteration 0 vehicle {'make': 'ford', 'model': 'explorer'} success\n",
      "sleeping 300\n",
      "iteration 0 vehicle {'make': 'honda', 'model': 'accord'}\n",
      "attempt to access webpage [https://www.autotrader.com/cars-for-sale/honda/accord/59262?searchRadius=0&sortBy=distanceASC]\n",
      "make/model search [https://www.autotrader.com/cars-for-sale/honda/accord/59262?searchRadius=0&sortBy=distanceASC] webpage initiated\n",
      "WARNING found 31 / 16449 listings ; 16418 are missing \n",
      "                                                                  0\n",
      "listing_header                            Used 2023 Honda Accord LX\n",
      "url               https://www.autotrader.com/cars-for-sale/vehic...\n",
      "search_url        https://www.autotrader.com/cars-for-sale/honda...\n",
      "make                                                          honda\n",
      "model                                                        accord\n",
      "search_timestamp                                         1739375929\n",
      "search_metadata                {'make': 'honda', 'model': 'accord'}\n",
      "saving to ~/Projects/car_classifier/data/autotrader/vehicle_metadata/search_results_honda_accord_1739375929.csv\n",
      "iteration 0 vehicle {'make': 'honda', 'model': 'accord'}: 14.961 seconds\n",
      "iteration 0 vehicle {'make': 'honda', 'model': 'accord'} success\n",
      "sleeping 300\n",
      "iteration 0 vehicle {'make': 'bmw', 'model': '4-series'}\n",
      "attempt to access webpage [https://www.autotrader.com/cars-for-sale/bmw/4-series/05001?searchRadius=0&sortBy=distanceASC]\n",
      "make/model search [https://www.autotrader.com/cars-for-sale/bmw/4-series/05001?searchRadius=0&sortBy=distanceASC] webpage initiated\n",
      "WARNING found 29 / 3591 listings ; 3562 are missing \n",
      "                                                                  0\n",
      "listing_header                 Used 2016 BMW 435i Gran Coupe xDrive\n",
      "url               https://www.autotrader.com/cars-for-sale/vehic...\n",
      "search_url        https://www.autotrader.com/cars-for-sale/bmw/4...\n",
      "make                                                            bmw\n",
      "model                                                      4-series\n",
      "search_timestamp                                         1739376243\n",
      "search_metadata                {'make': 'bmw', 'model': '4-series'}\n",
      "saving to ~/Projects/car_classifier/data/autotrader/vehicle_metadata/search_results_bmw_4-series_1739376243.csv\n",
      "iteration 0 vehicle {'make': 'bmw', 'model': '4-series'}: 13.650 seconds\n",
      "iteration 0 vehicle {'make': 'bmw', 'model': '4-series'} success\n",
      "sleeping 300\n",
      "iteration 0 vehicle {'make': 'toyota', 'model': 'corolla'}\n",
      "attempt to access webpage [https://www.autotrader.com/cars-for-sale/toyota/corolla/96007?searchRadius=0&sortBy=distanceASC]\n",
      "make/model search [https://www.autotrader.com/cars-for-sale/toyota/corolla/96007?searchRadius=0&sortBy=distanceASC] webpage initiated\n",
      "WARNING found 30 / 15296 listings ; 15266 are missing \n",
      "                                                                  0\n",
      "listing_header                     Certified 2023 Toyota Corolla LE\n",
      "url               https://www.autotrader.com/cars-for-sale/vehic...\n",
      "search_url        https://www.autotrader.com/cars-for-sale/toyot...\n",
      "make                                                         toyota\n",
      "model                                                       corolla\n",
      "search_timestamp                                         1739376557\n",
      "search_metadata              {'make': 'toyota', 'model': 'corolla'}\n",
      "saving to ~/Projects/car_classifier/data/autotrader/vehicle_metadata/search_results_toyota_corolla_1739376557.csv\n",
      "iteration 0 vehicle {'make': 'toyota', 'model': 'corolla'}: 14.561 seconds\n",
      "iteration 0 vehicle {'make': 'toyota', 'model': 'corolla'} success\n",
      "sleeping 300\n"
     ]
    },
    {
     "ename": "KeyboardInterrupt",
     "evalue": "",
     "output_type": "error",
     "traceback": [
      "\u001B[0;31m---------------------------------------------------------------------------\u001B[0m",
      "\u001B[0;31mKeyboardInterrupt\u001B[0m                         Traceback (most recent call last)",
      "Cell \u001B[0;32mIn[3], line 20\u001B[0m\n\u001B[1;32m     17\u001B[0m     \u001B[38;5;28mprint\u001B[39m(message \u001B[38;5;241m+\u001B[39m \u001B[38;5;124m'\u001B[39m\u001B[38;5;124m failed\u001B[39m\u001B[38;5;124m'\u001B[39m)\n\u001B[1;32m     19\u001B[0m \u001B[38;5;28mprint\u001B[39m(\u001B[38;5;124mf\u001B[39m\u001B[38;5;124m'\u001B[39m\u001B[38;5;124msleeping \u001B[39m\u001B[38;5;132;01m{\u001B[39;00msleep\u001B[38;5;132;01m}\u001B[39;00m\u001B[38;5;124m'\u001B[39m)\n\u001B[0;32m---> 20\u001B[0m \u001B[43mtime\u001B[49m\u001B[38;5;241;43m.\u001B[39;49m\u001B[43msleep\u001B[49m\u001B[43m(\u001B[49m\u001B[43msleep\u001B[49m\u001B[43m)\u001B[49m\n",
      "\u001B[0;31mKeyboardInterrupt\u001B[0m: "
     ]
    }
   ],
   "execution_count": 3
  }
 ],
 "metadata": {
  "kernelspec": {
   "display_name": "Python 3",
   "language": "python",
   "name": "python3"
  },
  "language_info": {
   "codemirror_mode": {
    "name": "ipython",
    "version": 2
   },
   "file_extension": ".py",
   "mimetype": "text/x-python",
   "name": "python",
   "nbconvert_exporter": "python",
   "pygments_lexer": "ipython2",
   "version": "2.7.6"
  }
 },
 "nbformat": 4,
 "nbformat_minor": 5
}
