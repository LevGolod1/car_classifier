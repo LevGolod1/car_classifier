{
 "cells": [
  {
   "cell_type": "code",
   "id": "initial_id",
   "metadata": {
    "collapsed": true,
    "ExecuteTime": {
     "end_time": "2025-02-12T19:20:35.687771Z",
     "start_time": "2025-02-12T19:20:34.802570Z"
    }
   },
   "source": [
    "import random\n",
    "from timethis import timethis\n",
    "from find_vehicle_image_urls import *"
   ],
   "outputs": [],
   "execution_count": 1
  },
  {
   "metadata": {
    "ExecuteTime": {
     "end_time": "2025-02-12T19:20:35.698803Z",
     "start_time": "2025-02-12T19:20:35.692981Z"
    }
   },
   "cell_type": "code",
   "source": [
    "\n",
    "vehicles = [\n",
    "    {'make':'bmw','model':'4-series'},\n",
    "    {'make':'bmw','model':'3-series'},\n",
    "    {'make':'bmw','model':'x5'},\n",
    "    {'make':'bmw','model':'z4'},\n",
    "    {'make':'ford','model':'taurus'},\n",
    "    {'make':'ford','model':'f150'},\n",
    "    {'make':'ford','model':'explorer'},\n",
    "    {'make':'honda','model':'ridgeline'},\n",
    "    {'make':'honda','model':'odyssey'},\n",
    "    {'make':'honda','model':'accord'},\n",
    "    {'make':'honda','model':'civic'},\n",
    "    {'make':'honda','model':'passport'},\n",
    "    {'make':'toyota','model':'camry'},\n",
    "    {'make':'toyota','model':'crown'},\n",
    "    {'make':'toyota','model':'tacoma'},\n",
    "    {'make':'toyota','model':'tundra'},\n",
    "    {'make':'toyota','model':'corolla'},\n",
    "    {'make':'volvo','model':'v90'},\n",
    "    {'make':'volvo','model':'c30'},\n",
    "]\n",
    "\n",
    "random.shuffle(vehicles)"
   ],
   "id": "b1e9ee1bb4870012",
   "outputs": [],
   "execution_count": 2
  },
  {
   "metadata": {
    "jupyter": {
     "is_executing": true
    },
    "ExecuteTime": {
     "start_time": "2025-02-12T19:20:35.824673Z"
    }
   },
   "cell_type": "code",
   "source": [
    "\n",
    "repeat=10\n",
    "sleep=600\n",
    "\n",
    "for i in range(repeat):\n",
    "    for vehicle in vehicles:\n",
    "        message=f'iteration {i} vehicle {str(vehicle)}'\n",
    "        print(message)\n",
    "        try:\n",
    "            with timethis(message):\n",
    "                df, _ = find_listings_for_make_model(\n",
    "                    vehicle_info=vehicle,\n",
    "                    driver=None,\n",
    "                    quit=True\n",
    "                )\n",
    "            print(message + ' success')\n",
    "        except:\n",
    "            print(message + ' failed')\n",
    "\n",
    "        print(f'sleeping {sleep}')\n",
    "        time.sleep(sleep)\n"
   ],
   "id": "4f0848ac632922ba",
   "outputs": [
    {
     "name": "stdout",
     "output_type": "stream",
     "text": [
      "iteration 0 vehicle {'make': 'ford', 'model': 'f150'}\n",
      "attempt to access webpage [https://www.autotrader.com/cars-for-sale/ford/f150/13744?searchRadius=0&sortBy=distanceASC]\n"
     ]
    }
   ],
   "execution_count": null
  }
 ],
 "metadata": {
  "kernelspec": {
   "display_name": "Python 3",
   "language": "python",
   "name": "python3"
  },
  "language_info": {
   "codemirror_mode": {
    "name": "ipython",
    "version": 2
   },
   "file_extension": ".py",
   "mimetype": "text/x-python",
   "name": "python",
   "nbconvert_exporter": "python",
   "pygments_lexer": "ipython2",
   "version": "2.7.6"
  }
 },
 "nbformat": 4,
 "nbformat_minor": 5
}
