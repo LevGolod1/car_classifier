{
 "cells": [
  {
   "cell_type": "code",
   "id": "initial_id",
   "metadata": {
    "collapsed": true,
    "ExecuteTime": {
     "end_time": "2025-02-12T20:27:28.330711Z",
     "start_time": "2025-02-12T20:27:27.397002Z"
    }
   },
   "source": [
    "import random\n",
    "from timethis import timethis\n",
    "from find_vehicle_image_urls import *"
   ],
   "outputs": [],
   "execution_count": 1
  },
  {
   "metadata": {
    "ExecuteTime": {
     "end_time": "2025-02-12T20:27:28.341780Z",
     "start_time": "2025-02-12T20:27:28.336078Z"
    }
   },
   "cell_type": "code",
   "source": [
    "\n",
    "vehicles = [\n",
    "    {'make':'bmw','model':'4-series'},\n",
    "    {'make':'bmw','model':'3-series'},\n",
    "    {'make':'bmw','model':'x5'},\n",
    "    {'make':'bmw','model':'z4'},\n",
    "    {'make':'ford','model':'taurus'},\n",
    "    {'make':'ford','model':'f150'},\n",
    "    {'make':'ford','model':'explorer'},\n",
    "    {'make':'honda','model':'ridgeline'},\n",
    "    {'make':'honda','model':'odyssey'},\n",
    "    {'make':'honda','model':'accord'},\n",
    "    {'make':'honda','model':'civic'},\n",
    "    {'make':'honda','model':'passport'},\n",
    "    {'make':'toyota','model':'camry'},\n",
    "    {'make':'toyota','model':'crown'},\n",
    "    {'make':'toyota','model':'tacoma'},\n",
    "    {'make':'toyota','model':'tundra'},\n",
    "    {'make':'toyota','model':'corolla'},\n",
    "    {'make':'volvo','model':'v90'},\n",
    "    {'make':'volvo','model':'c30'},\n",
    "]\n",
    "\n",
    "random.shuffle(vehicles)"
   ],
   "id": "b1e9ee1bb4870012",
   "outputs": [],
   "execution_count": 2
  },
  {
   "metadata": {
    "ExecuteTime": {
     "end_time": "2025-02-12T20:27:42.706145Z",
     "start_time": "2025-02-12T20:27:28.531195Z"
    }
   },
   "cell_type": "code",
   "source": [
    "\n",
    "repeat=10\n",
    "sleep=300\n",
    "\n",
    "for i in range(repeat):\n",
    "    for vehicle in vehicles:\n",
    "        message=f'iteration {i} vehicle {str(vehicle)}'\n",
    "        print(message)\n",
    "        try:\n",
    "            with timethis(message):\n",
    "                df, _ = find_listings_for_make_model(\n",
    "                    vehicle_info=vehicle,\n",
    "                    driver=None,\n",
    "                    quit=True\n",
    "                )\n",
    "            print(message + ' success')\n",
    "        except:\n",
    "            print(message + ' failed')\n",
    "            df=None\n",
    "\n",
    "        print(f'sleeping {sleep}')\n",
    "        time.sleep(sleep)\n"
   ],
   "id": "4f0848ac632922ba",
   "outputs": [
    {
     "name": "stdout",
     "output_type": "stream",
     "text": [
      "iteration 0 vehicle {'make': 'bmw', 'model': '3-series'}\n",
      "attempt to access webpage [https://www.autotrader.com/cars-for-sale/bmw/3-series/39180?searchRadius=0&sortBy=distanceASC]\n",
      "make/model search [https://www.autotrader.com/cars-for-sale/bmw/3-series/39180?searchRadius=0&sortBy=distanceASC] webpage initiated\n",
      "\n",
      "iteration 0 vehicle {'make': 'bmw', 'model': '3-series'}: 11.459 seconds\n",
      "iteration 0 vehicle {'make': 'bmw', 'model': '3-series'} failed\n",
      "sleeping 300\n"
     ]
    },
    {
     "ename": "KeyboardInterrupt",
     "evalue": "",
     "output_type": "error",
     "traceback": [
      "\u001B[0;31m---------------------------------------------------------------------------\u001B[0m",
      "\u001B[0;31mKeyboardInterrupt\u001B[0m                         Traceback (most recent call last)",
      "Cell \u001B[0;32mIn[3], line 21\u001B[0m\n\u001B[1;32m     18\u001B[0m     df\u001B[38;5;241m=\u001B[39m\u001B[38;5;28;01mNone\u001B[39;00m\n\u001B[1;32m     20\u001B[0m \u001B[38;5;28mprint\u001B[39m(\u001B[38;5;124mf\u001B[39m\u001B[38;5;124m'\u001B[39m\u001B[38;5;124msleeping \u001B[39m\u001B[38;5;132;01m{\u001B[39;00msleep\u001B[38;5;132;01m}\u001B[39;00m\u001B[38;5;124m'\u001B[39m)\n\u001B[0;32m---> 21\u001B[0m \u001B[43mtime\u001B[49m\u001B[38;5;241;43m.\u001B[39;49m\u001B[43msleep\u001B[49m\u001B[43m(\u001B[49m\u001B[43msleep\u001B[49m\u001B[43m)\u001B[49m\n",
      "\u001B[0;31mKeyboardInterrupt\u001B[0m: "
     ]
    }
   ],
   "execution_count": 3
  }
 ],
 "metadata": {
  "kernelspec": {
   "display_name": "Python 3",
   "language": "python",
   "name": "python3"
  },
  "language_info": {
   "codemirror_mode": {
    "name": "ipython",
    "version": 2
   },
   "file_extension": ".py",
   "mimetype": "text/x-python",
   "name": "python",
   "nbconvert_exporter": "python",
   "pygments_lexer": "ipython2",
   "version": "2.7.6"
  }
 },
 "nbformat": 4,
 "nbformat_minor": 5
}
