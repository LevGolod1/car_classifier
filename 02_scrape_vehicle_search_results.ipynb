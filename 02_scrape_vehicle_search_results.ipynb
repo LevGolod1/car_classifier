{
 "cells": [
  {
   "cell_type": "code",
   "id": "initial_id",
   "metadata": {
    "collapsed": true,
    "ExecuteTime": {
     "end_time": "2025-02-12T22:25:32.785967Z",
     "start_time": "2025-02-12T22:25:31.879386Z"
    }
   },
   "source": [
    "import random\n",
    "import numpy as np\n",
    "from timethis import timethis\n",
    "from find_vehicle_image_urls import *"
   ],
   "outputs": [],
   "execution_count": 1
  },
  {
   "metadata": {
    "ExecuteTime": {
     "end_time": "2025-02-12T22:25:32.794009Z",
     "start_time": "2025-02-12T22:25:32.790683Z"
    }
   },
   "cell_type": "code",
   "source": [
    "seed = np.random.randint(0, 10000)\n",
    "print(seed)\n",
    "random.seed(seed)"
   ],
   "id": "63440d30f4f6e049",
   "outputs": [
    {
     "name": "stdout",
     "output_type": "stream",
     "text": [
      "8730\n"
     ]
    }
   ],
   "execution_count": 2
  },
  {
   "metadata": {
    "ExecuteTime": {
     "end_time": "2025-02-12T22:25:32.933225Z",
     "start_time": "2025-02-12T22:25:32.927271Z"
    }
   },
   "cell_type": "code",
   "source": [
    "\n",
    "vehicles = [\n",
    "    {'make':'bmw','model':'4-series'},\n",
    "    {'make':'bmw','model':'3-series'},\n",
    "    {'make':'bmw','model':'x5'},\n",
    "    {'make':'bmw','model':'z4'},\n",
    "    {'make':'ford','model':'taurus'},\n",
    "    {'make':'ford','model':'f150'},\n",
    "    {'make':'ford','model':'explorer'},\n",
    "    {'make':'honda','model':'ridgeline'},\n",
    "    {'make':'honda','model':'odyssey'},\n",
    "    {'make':'honda','model':'accord'},\n",
    "    {'make':'honda','model':'civic'},\n",
    "    {'make':'honda','model':'passport'},\n",
    "    {'make':'toyota','model':'camry'},\n",
    "    {'make':'toyota','model':'crown'},\n",
    "    {'make':'toyota','model':'tacoma'},\n",
    "    {'make':'toyota','model':'tundra'},\n",
    "    {'make':'toyota','model':'corolla'},\n",
    "    {'make':'volvo','model':'v90'},\n",
    "    {'make':'volvo','model':'c30'},\n",
    "]\n",
    "\n",
    "random.shuffle(vehicles)\n",
    "print(vehicles[0])"
   ],
   "id": "b1e9ee1bb4870012",
   "outputs": [
    {
     "name": "stdout",
     "output_type": "stream",
     "text": [
      "{'make': 'ford', 'model': 'explorer'}\n"
     ]
    }
   ],
   "execution_count": 3
  },
  {
   "metadata": {
    "ExecuteTime": {
     "end_time": "2025-02-12T22:27:18.263352Z",
     "start_time": "2025-02-12T22:25:32.942376Z"
    }
   },
   "cell_type": "code",
   "source": [
    "\n",
    "repeat=10\n",
    "min_sleep=60\n",
    "sleep = min_sleep+1\n",
    "\n",
    "for i in range(repeat):\n",
    "    for vehicle in vehicles:\n",
    "        message=f'iteration {i} vehicle {str(vehicle)}'\n",
    "        print(message)\n",
    "        try:\n",
    "            with timethis(message):\n",
    "                df, _ = find_listings_for_make_model(\n",
    "                    vehicle_info=vehicle,\n",
    "                    driver=None,\n",
    "                    quit=True\n",
    "                )\n",
    "            print(message + ' success')\n",
    "            new_sleep = max(min_sleep, sleep-min_sleep)\n",
    "            if new_sleep != sleep:\n",
    "                print(f'sleep param set to {new_sleep}')\n",
    "                sleep = new_sleep\n",
    "\n",
    "        except:\n",
    "            print(message + ' failed')\n",
    "            df=None\n",
    "\n",
    "        if len(df)==0:\n",
    "            sleep += min_sleep\n",
    "            print(f'due to the cruelty of the goods, sleep param set to {sleep}')\n",
    "\n",
    "        print(f'sleeping {sleep} seconds')\n",
    "        time.sleep(sleep)\n",
    "\n"
   ],
   "id": "4f0848ac632922ba",
   "outputs": [
    {
     "name": "stdout",
     "output_type": "stream",
     "text": [
      "iteration 0 vehicle {'make': 'ford', 'model': 'explorer'}\n",
      "attempt to access webpage [https://www.autotrader.com/cars-for-sale/ford/explorer/shenandoah-va?firstRecord=5000&searchRadius=0&sortBy=distanceASC&zip=22849]\n",
      "make/model search [https://www.autotrader.com/cars-for-sale/ford/explorer/shenandoah-va?firstRecord=5000&searchRadius=0&sortBy=distanceASC&zip=22849] webpage initiated\n",
      "\n",
      "Scrollbar detected!\n",
      "found 31 / 0 listings\n",
      "                                                                  0\n",
      "listing_header                     Certified 2023 Ford Explorer XLT\n",
      "url               https://www.autotrader.com/cars-for-sale/vehic...\n",
      "search_url        https://www.autotrader.com/cars-for-sale/ford/...\n",
      "make                                                           ford\n",
      "model                                                      explorer\n",
      "search_timestamp                                         1739399147\n",
      "search_metadata               {'make': 'ford', 'model': 'explorer'}\n",
      "saving to /Users/levgolod/Projects/car_classifier/data/autotrader/vehicle_metadata/search_results_ford_explorer_1739399147.csv\n",
      "iteration 0 vehicle {'make': 'ford', 'model': 'explorer'}: 14.606 seconds\n",
      "iteration 0 vehicle {'make': 'ford', 'model': 'explorer'} success\n",
      "sleep param set to 60\n",
      "sleeping 60 seconds\n",
      "iteration 0 vehicle {'make': 'volvo', 'model': 'v90'}\n",
      "attempt to access webpage [https://www.autotrader.com/cars-for-sale/volvo/v90/fairfield-ca?firstRecord=5000&searchRadius=0&sortBy=distanceASC&zip=94534]\n",
      "make/model search [https://www.autotrader.com/cars-for-sale/volvo/v90/fairfield-ca?firstRecord=5000&searchRadius=0&sortBy=distanceASC&zip=94534] webpage initiated\n",
      "\n",
      "Scrollbar detected!\n",
      "found 29 / 0 listings\n",
      "                                                                  0\n",
      "listing_header       Certified 2023 Volvo V90 B6 Cross Country Plus\n",
      "url               https://www.autotrader.com/cars-for-sale/vehic...\n",
      "search_url        https://www.autotrader.com/cars-for-sale/volvo...\n",
      "make                                                          volvo\n",
      "model                                                           v90\n",
      "search_timestamp                                         1739399224\n",
      "search_metadata                   {'make': 'volvo', 'model': 'v90'}\n",
      "saving to /Users/levgolod/Projects/car_classifier/data/autotrader/vehicle_metadata/search_results_volvo_v90_1739399224.csv\n",
      "iteration 0 vehicle {'make': 'volvo', 'model': 'v90'}: 17.061 seconds\n",
      "iteration 0 vehicle {'make': 'volvo', 'model': 'v90'} success\n",
      "sleeping 60 seconds\n"
     ]
    },
    {
     "ename": "KeyboardInterrupt",
     "evalue": "",
     "output_type": "error",
     "traceback": [
      "\u001B[0;31m---------------------------------------------------------------------------\u001B[0m",
      "\u001B[0;31mKeyboardInterrupt\u001B[0m                         Traceback (most recent call last)",
      "Cell \u001B[0;32mIn[4], line 31\u001B[0m\n\u001B[1;32m     28\u001B[0m     \u001B[38;5;28mprint\u001B[39m(\u001B[38;5;124mf\u001B[39m\u001B[38;5;124m'\u001B[39m\u001B[38;5;124mdue to the cruelty of the goods, sleep param set to \u001B[39m\u001B[38;5;132;01m{\u001B[39;00msleep\u001B[38;5;132;01m}\u001B[39;00m\u001B[38;5;124m'\u001B[39m)\n\u001B[1;32m     30\u001B[0m \u001B[38;5;28mprint\u001B[39m(\u001B[38;5;124mf\u001B[39m\u001B[38;5;124m'\u001B[39m\u001B[38;5;124msleeping \u001B[39m\u001B[38;5;132;01m{\u001B[39;00msleep\u001B[38;5;132;01m}\u001B[39;00m\u001B[38;5;124m seconds\u001B[39m\u001B[38;5;124m'\u001B[39m)\n\u001B[0;32m---> 31\u001B[0m \u001B[43mtime\u001B[49m\u001B[38;5;241;43m.\u001B[39;49m\u001B[43msleep\u001B[49m\u001B[43m(\u001B[49m\u001B[43msleep\u001B[49m\u001B[43m)\u001B[49m\n",
      "\u001B[0;31mKeyboardInterrupt\u001B[0m: "
     ]
    }
   ],
   "execution_count": 4
  }
 ],
 "metadata": {
  "kernelspec": {
   "display_name": "Python 3",
   "language": "python",
   "name": "python3"
  },
  "language_info": {
   "codemirror_mode": {
    "name": "ipython",
    "version": 2
   },
   "file_extension": ".py",
   "mimetype": "text/x-python",
   "name": "python",
   "nbconvert_exporter": "python",
   "pygments_lexer": "ipython2",
   "version": "2.7.6"
  }
 },
 "nbformat": 4,
 "nbformat_minor": 5
}
