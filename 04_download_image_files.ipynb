{
 "cells": [
  {
   "cell_type": "code",
   "id": "initial_id",
   "metadata": {
    "collapsed": true,
    "ExecuteTime": {
     "end_time": "2025-02-12T18:48:45.494010Z",
     "start_time": "2025-02-12T18:48:44.662417Z"
    }
   },
   "source": [
    "import pandas as pd\n",
    "import os\n",
    "import subprocess\n",
    "import json\n",
    "from find_vehicle_image_urls import *"
   ],
   "outputs": [],
   "execution_count": 1
  },
  {
   "metadata": {
    "ExecuteTime": {
     "end_time": "2025-02-12T18:48:45.846057Z",
     "start_time": "2025-02-12T18:48:45.498825Z"
    }
   },
   "cell_type": "code",
   "source": [
    "search_results_df=compile_search_results_df()\n",
    "search_results_df.drop_duplicates(subset=['vehicle_id'], inplace=True)\n",
    "print(search_results_df.shape)\n",
    "search_results_df.head()"
   ],
   "id": "9115f71a98809f74",
   "outputs": [
    {
     "name": "stdout",
     "output_type": "stream",
     "text": [
      "search_results_honda_odyssey_1739360198.csv\n",
      "(31, 8)\n",
      "search_results_alfa romeo_4c.csv.csv\n",
      "File search_results_alfa romeo_4c.csv.csv wrong columns, skipping\n",
      "search_results_ford_explorer_1739359570.csv\n",
      "(61, 8)\n",
      "search_results_ford_taurus_1739325006.csv\n",
      "(90, 8)\n",
      "search_results_porsche_taycan_1739322969.csv\n",
      "File search_results_porsche_taycan_1739322969.csv wrong columns, skipping\n",
      "search_results_bmw_x5_1739338391.csv\n",
      "(119, 8)\n",
      "search_results_bmw_4-series_1739371650.csv\n",
      "(148, 8)\n",
      "search_results_toyota_tacoma_1739356759.csv\n",
      "(178, 8)\n",
      "search_results_toyota_corolla_1739352090.csv\n",
      "(208, 8)\n",
      "search_results_toyota_crown_1739367061.csv\n",
      "(238, 8)\n",
      "search_results_honda_ridgeline_1739327606.csv\n",
      "(269, 8)\n",
      "search_results_honda_civic_1739350203.csv\n",
      "(300, 8)\n",
      "search_results_bmw_3-series_1739352708.csv\n",
      "(329, 8)\n",
      "search_results_bmw_x5_1739363630.csv\n",
      "(358, 8)\n",
      "search_results_toyota_crown_1739356445.csv\n",
      "(388, 8)\n",
      "search_results_porsche_taycan_1739323122.csv\n",
      "File search_results_porsche_taycan_1739323122.csv wrong columns, skipping\n",
      "search_results_honda_accord_1739328236.csv\n",
      "(419, 8)\n",
      "search_results_ford_explorer_1739327292.csv\n",
      "(449, 8)\n",
      "search_results_ford_explorer_1739354268.csv\n",
      "(479, 8)\n",
      "search_results_honda_civic_1739329312.csv\n",
      "(510, 8)\n",
      "search_results_toyota_corolla_1739367994.csv\n",
      "(540, 8)\n",
      "search_results_honda_passport_1739345184.csv\n",
      "(571, 8)\n",
      "search_results_bmw_z4_1739363942.csv\n",
      "(600, 8)\n",
      "search_results_toyota_tundra_1739362377.csv\n",
      "(630, 8)\n",
      "search_results_toyota_tundra_1739346438.csv\n",
      "(660, 8)\n",
      "search_results_ford_f150_1739326976.csv\n",
      "(690, 8)\n",
      "search_results_ford_taurus_1739323840.csv\n",
      "File search_results_ford_taurus_1739323840.csv wrong columns, skipping\n",
      "search_results_bmw_x5_1739342361.csv\n",
      "(719, 8)\n",
      "search_results_honda_accord_1739375929.csv\n",
      "(750, 8)\n",
      "search_results_ford_f150_1739343296.csv\n",
      "(780, 8)\n",
      "search_results_toyota_corolla_1739346752.csv\n",
      "(810, 8)\n",
      "search_results_bmw_3-series_1739338059.csv\n",
      "(839, 8)\n",
      "search_results_toyota_crown_1739361761.csv\n",
      "(869, 8)\n",
      "search_results_honda_accord_1739360512.csv\n",
      "(900, 8)\n",
      "search_results_bmw_3-series_1739363317.csv\n",
      "(929, 8)\n",
      "search_results_honda_odyssey_1739349569.csv\n",
      "(960, 8)\n",
      "search_results_bmw_z4_1739338704.csv\n",
      "(989, 8)\n",
      "search_results_alfa romeo_4c.csv\n",
      "File search_results_alfa romeo_4c.csv wrong columns, skipping\n",
      "search_results_ford_explorer_1739375614.csv\n",
      "(1019, 8)\n",
      "search_results_bmw_x5_1739368936.csv\n",
      "(1048, 8)\n",
      "search_results_honda_ridgeline_1739343929.csv\n",
      "(1079, 8)\n",
      "search_results_hyundai_asgadgadhadhsfqtdhg.csv\n",
      "File search_results_hyundai_asgadgadhadhsfqtdhg.csv wrong columns, skipping\n",
      "search_results_toyota_corolla_1739376557.csv\n",
      "(1109, 8)\n",
      "search_results_ford_taurus_1739333438.csv\n",
      "(1138, 8)\n",
      "search_results_honda_accord_1739344561.csv\n",
      "(1169, 8)\n",
      "search_results_honda_odyssey_1739365492.csv\n",
      "(1200, 8)\n",
      "search_results_honda_passport_1739350516.csv\n",
      "(1231, 8)\n",
      "search_results_ford_lightning_1739323705.csv\n",
      "File search_results_ford_lightning_1739323705.csv wrong columns, skipping\n",
      "search_results_honda_ridgeline_1739334023.csv\n",
      "(1262, 8)\n",
      "search_results_bmw_x5_1739353021.csv\n",
      "(1291, 8)\n",
      "search_results_ford_taurus_1739353641.csv\n",
      "(1320, 8)\n",
      "search_results_bmw_3-series_1739368623.csv\n",
      "(1349, 8)\n",
      "search_results_toyota_tundra_1739367678.csv\n",
      "(1379, 8)\n",
      "search_results_ford_explorer_1739364874.csv\n",
      "(1409, 8)\n",
      "search_results_ford_explorer_1739370197.csv\n",
      "(1439, 8)\n",
      "search_results_honda_accord_1739365806.csv\n",
      "(1470, 8)\n",
      "search_results_toyota_corolla_1739362690.csv\n",
      "(1500, 8)\n",
      "search_results_toyota_camry_1739361448.csv\n",
      "(1530, 8)\n",
      "search_results_honda_odyssey_1739354884.csv\n",
      "(1561, 8)\n",
      "search_results_bmw_z4_1739358633.csv\n",
      "(1590, 8)\n",
      "search_results_porsche_taycan_1739305424.csv\n",
      "File search_results_porsche_taycan_1739305424.csv wrong columns, skipping\n",
      "search_results_bmw_4-series_1739337728.csv\n",
      "(1619, 8)\n",
      "search_results_honda_odyssey_1739327921.csv\n",
      "(1650, 8)\n",
      "search_results_ford_taurus_1739326186.csv\n",
      "(1679, 8)\n",
      "search_results_honda_civic_1739360825.csv\n",
      "(1710, 8)\n",
      "search_results_ford_taurus_1739342979.csv\n",
      "(1739, 8)\n",
      "search_results_ford_explorer_1739343611.csv\n",
      "(1769, 8)\n",
      "search_results_toyota_tundra_1739374986.csv\n",
      "(1799, 8)\n",
      "search_results_ford_f150_1739353956.csv\n",
      "(1829, 8)\n",
      "search_results_toyota_tundra_1739330887.csv\n",
      "(1859, 8)\n",
      "search_results_bmw_3-series_1739371966.csv\n",
      "(1888, 8)\n",
      "search_results_honda_odyssey_1739344246.csv\n",
      "(1919, 8)\n",
      "search_results_honda_civic_1739366121.csv\n",
      "(1950, 8)\n",
      "search_results_toyota_tundra_1739335531.csv\n",
      "(1980, 8)\n",
      "search_results_honda_ridgeline_1739326388.csv\n",
      "(2011, 8)\n",
      "search_results_hyundai_ioniq5.csv.csv\n",
      "File search_results_hyundai_ioniq5.csv.csv wrong columns, skipping\n",
      "search_results_honda_accord_1739349886.csv\n",
      "(2042, 8)\n",
      "search_results_honda_passport_1739329627.csv\n",
      "(2073, 8)\n",
      "search_results_bmw_4-series_1739363003.csv\n",
      "(2102, 8)\n",
      "search_results_ford_explorer_1739348950.csv\n",
      "(2132, 8)\n",
      "search_results_bmw_x5_1739347699.csv\n",
      "(2161, 8)\n",
      "search_results_bmw_4-series_1739374433.csv\n",
      "(2190, 8)\n",
      "search_results_bmw_4-series_1739341714.csv\n",
      "(2219, 8)\n",
      "search_results_toyota_crown_1739351146.csv\n",
      "(2249, 8)\n",
      "search_results_toyota_corolla_1739357390.csv\n",
      "(2279, 8)\n",
      "search_results_toyota_corolla_1739331203.csv\n",
      "(2309, 8)\n",
      "search_results_honda_civic_1739355511.csv\n",
      "(2340, 8)\n",
      "search_results_toyota_camry_1739329942.csv\n",
      "(2370, 8)\n",
      "search_results_bmw_3-series_1739347383.csv\n",
      "(2399, 8)\n",
      "search_results_toyota_tacoma_1739351461.csv\n",
      "(2429, 8)\n",
      "search_results_toyota_tacoma_1739346121.csv\n",
      "(2459, 8)\n",
      "search_results_bmw_z4_1739348013.csv\n",
      "(2488, 8)\n",
      "search_results_ford_taurus_1739348327.csv\n",
      "(2517, 8)\n",
      "search_results_honda_accord_1739355201.csv\n",
      "(2548, 8)\n",
      "search_results_honda_passport_1739366434.csv\n",
      "(2579, 8)\n",
      "search_results_bmw_3-series_1739342048.csv\n",
      "(2608, 8)\n",
      "search_results_toyota_tundra_1739357077.csv\n",
      "(2638, 8)\n",
      "search_results_toyota_crown_1739345803.csv\n",
      "(2668, 8)\n",
      "search_results_bmw_4-series_1739368308.csv\n",
      "(2697, 8)\n",
      "search_results_honda_civic_1739375301.csv\n",
      "(2728, 8)\n",
      "search_results_honda_ridgeline_1739359884.csv\n",
      "(2759, 8)\n",
      "search_results_bmw_z4_1739369250.csv\n",
      "(2788, 8)\n",
      "search_results_ford_f150_1739369880.csv\n",
      "(2818, 8)\n",
      "search_results_ford_explorer_1739333827.csv\n",
      "(2848, 8)\n",
      "search_results_alfa-romeo_4c.csv\n",
      "File search_results_alfa-romeo_4c.csv wrong columns, skipping\n",
      "search_results_bmw_4-series_1739357702.csv\n",
      "(2877, 8)\n",
      "search_results_ford_taurus_1739339020.csv\n",
      "(2906, 8)\n",
      "search_results_honda_odyssey_1739370814.csv\n",
      "(2937, 8)\n",
      "search_results_bmw_4-series_1739376243.csv\n",
      "(2966, 8)\n",
      "search_results_toyota_camry_1739350833.csv\n",
      "(2996, 8)\n",
      "search_results_ford_taurus_1739364257.csv\n",
      "(3025, 8)\n",
      "search_results_toyota_crown_1739330257.csv\n",
      "(3055, 8)\n",
      "search_results_ford_taurus_1739369565.csv\n",
      "(3084, 8)\n",
      "search_results_toyota_camry_1739366749.csv\n",
      "(3114, 8)\n",
      "search_results_bmw_x5_1739358319.csv\n",
      "(3143, 8)\n",
      "search_results_toyota_camry_1739334967.csv\n",
      "(3173, 8)\n",
      "search_results_bmw_x5_1739372283.csv\n",
      "(3202, 8)\n",
      "search_results_ford_taurus_1739358949.csv\n",
      "(3231, 8)\n",
      "search_results_toyota_tundra_1739351776.csv\n",
      "(3261, 8)\n",
      "search_results_honda_passport_1739355827.csv\n",
      "(3292, 8)\n",
      "search_results_ford_taurus_1739326663.csv\n",
      "(3321, 8)\n",
      "search_results_bmw_4-series_1739347070.csv\n",
      "(3350, 8)\n",
      "search_results_ford_f150_1739333632.csv\n",
      "(3380, 8)\n",
      "search_results_toyota_tacoma_1739330573.csv\n",
      "(3410, 8)\n",
      "search_results_ford_taurus_1739324659.csv\n",
      "(3439, 8)\n",
      "search_results_honda_passport_1739334772.csv\n",
      "(3470, 8)\n",
      "(957, 10)\n"
     ]
    },
    {
     "data": {
      "text/plain": [
       "                      listing_header  \\\n",
       "0       Used 2020 Honda Odyssey EX-L   \n",
       "1       Used 2011 Honda Odyssey EX-L   \n",
       "2      Used 2024 Honda Odyssey Sport   \n",
       "3  Certified 2024 Honda Odyssey EX-L   \n",
       "4       Used 2019 Honda Odyssey EX-L   \n",
       "\n",
       "                                                 url  \\\n",
       "0  https://www.autotrader.com/cars-for-sale/vehic...   \n",
       "1  https://www.autotrader.com/cars-for-sale/vehic...   \n",
       "2  https://www.autotrader.com/cars-for-sale/vehic...   \n",
       "3  https://www.autotrader.com/cars-for-sale/vehic...   \n",
       "4  https://www.autotrader.com/cars-for-sale/vehic...   \n",
       "\n",
       "                                          search_url   make    model  \\\n",
       "0  https://www.autotrader.com/cars-for-sale/honda...  honda  odyssey   \n",
       "1  https://www.autotrader.com/cars-for-sale/honda...  honda  odyssey   \n",
       "2  https://www.autotrader.com/cars-for-sale/honda...  honda  odyssey   \n",
       "3  https://www.autotrader.com/cars-for-sale/honda...  honda  odyssey   \n",
       "4  https://www.autotrader.com/cars-for-sale/honda...  honda  odyssey   \n",
       "\n",
       "   search_timestamp                        search_metadata  \\\n",
       "0        1739360198  {'make': 'honda', 'model': 'odyssey'}   \n",
       "1        1739360198  {'make': 'honda', 'model': 'odyssey'}   \n",
       "2        1739360198  {'make': 'honda', 'model': 'odyssey'}   \n",
       "3        1739360198  {'make': 'honda', 'model': 'odyssey'}   \n",
       "4        1739360198  {'make': 'honda', 'model': 'odyssey'}   \n",
       "\n",
       "                                      filename  \\\n",
       "0  search_results_honda_odyssey_1739360198.csv   \n",
       "1  search_results_honda_odyssey_1739360198.csv   \n",
       "2  search_results_honda_odyssey_1739360198.csv   \n",
       "3  search_results_honda_odyssey_1739360198.csv   \n",
       "4  search_results_honda_odyssey_1739360198.csv   \n",
       "\n",
       "                                           url_clean vehicle_id  \n",
       "0  https://www.autotrader.com/cars-for-sale/vehic...  732504624  \n",
       "1  https://www.autotrader.com/cars-for-sale/vehic...  738409771  \n",
       "2  https://www.autotrader.com/cars-for-sale/vehic...  736531071  \n",
       "3  https://www.autotrader.com/cars-for-sale/vehic...  731560875  \n",
       "4  https://www.autotrader.com/cars-for-sale/vehic...  736627883  "
      ],
      "text/html": [
       "<div>\n",
       "<style scoped>\n",
       "    .dataframe tbody tr th:only-of-type {\n",
       "        vertical-align: middle;\n",
       "    }\n",
       "\n",
       "    .dataframe tbody tr th {\n",
       "        vertical-align: top;\n",
       "    }\n",
       "\n",
       "    .dataframe thead th {\n",
       "        text-align: right;\n",
       "    }\n",
       "</style>\n",
       "<table border=\"1\" class=\"dataframe\">\n",
       "  <thead>\n",
       "    <tr style=\"text-align: right;\">\n",
       "      <th></th>\n",
       "      <th>listing_header</th>\n",
       "      <th>url</th>\n",
       "      <th>search_url</th>\n",
       "      <th>make</th>\n",
       "      <th>model</th>\n",
       "      <th>search_timestamp</th>\n",
       "      <th>search_metadata</th>\n",
       "      <th>filename</th>\n",
       "      <th>url_clean</th>\n",
       "      <th>vehicle_id</th>\n",
       "    </tr>\n",
       "  </thead>\n",
       "  <tbody>\n",
       "    <tr>\n",
       "      <th>0</th>\n",
       "      <td>Used 2020 Honda Odyssey EX-L</td>\n",
       "      <td>https://www.autotrader.com/cars-for-sale/vehic...</td>\n",
       "      <td>https://www.autotrader.com/cars-for-sale/honda...</td>\n",
       "      <td>honda</td>\n",
       "      <td>odyssey</td>\n",
       "      <td>1739360198</td>\n",
       "      <td>{'make': 'honda', 'model': 'odyssey'}</td>\n",
       "      <td>search_results_honda_odyssey_1739360198.csv</td>\n",
       "      <td>https://www.autotrader.com/cars-for-sale/vehic...</td>\n",
       "      <td>732504624</td>\n",
       "    </tr>\n",
       "    <tr>\n",
       "      <th>1</th>\n",
       "      <td>Used 2011 Honda Odyssey EX-L</td>\n",
       "      <td>https://www.autotrader.com/cars-for-sale/vehic...</td>\n",
       "      <td>https://www.autotrader.com/cars-for-sale/honda...</td>\n",
       "      <td>honda</td>\n",
       "      <td>odyssey</td>\n",
       "      <td>1739360198</td>\n",
       "      <td>{'make': 'honda', 'model': 'odyssey'}</td>\n",
       "      <td>search_results_honda_odyssey_1739360198.csv</td>\n",
       "      <td>https://www.autotrader.com/cars-for-sale/vehic...</td>\n",
       "      <td>738409771</td>\n",
       "    </tr>\n",
       "    <tr>\n",
       "      <th>2</th>\n",
       "      <td>Used 2024 Honda Odyssey Sport</td>\n",
       "      <td>https://www.autotrader.com/cars-for-sale/vehic...</td>\n",
       "      <td>https://www.autotrader.com/cars-for-sale/honda...</td>\n",
       "      <td>honda</td>\n",
       "      <td>odyssey</td>\n",
       "      <td>1739360198</td>\n",
       "      <td>{'make': 'honda', 'model': 'odyssey'}</td>\n",
       "      <td>search_results_honda_odyssey_1739360198.csv</td>\n",
       "      <td>https://www.autotrader.com/cars-for-sale/vehic...</td>\n",
       "      <td>736531071</td>\n",
       "    </tr>\n",
       "    <tr>\n",
       "      <th>3</th>\n",
       "      <td>Certified 2024 Honda Odyssey EX-L</td>\n",
       "      <td>https://www.autotrader.com/cars-for-sale/vehic...</td>\n",
       "      <td>https://www.autotrader.com/cars-for-sale/honda...</td>\n",
       "      <td>honda</td>\n",
       "      <td>odyssey</td>\n",
       "      <td>1739360198</td>\n",
       "      <td>{'make': 'honda', 'model': 'odyssey'}</td>\n",
       "      <td>search_results_honda_odyssey_1739360198.csv</td>\n",
       "      <td>https://www.autotrader.com/cars-for-sale/vehic...</td>\n",
       "      <td>731560875</td>\n",
       "    </tr>\n",
       "    <tr>\n",
       "      <th>4</th>\n",
       "      <td>Used 2019 Honda Odyssey EX-L</td>\n",
       "      <td>https://www.autotrader.com/cars-for-sale/vehic...</td>\n",
       "      <td>https://www.autotrader.com/cars-for-sale/honda...</td>\n",
       "      <td>honda</td>\n",
       "      <td>odyssey</td>\n",
       "      <td>1739360198</td>\n",
       "      <td>{'make': 'honda', 'model': 'odyssey'}</td>\n",
       "      <td>search_results_honda_odyssey_1739360198.csv</td>\n",
       "      <td>https://www.autotrader.com/cars-for-sale/vehic...</td>\n",
       "      <td>736627883</td>\n",
       "    </tr>\n",
       "  </tbody>\n",
       "</table>\n",
       "</div>"
      ]
     },
     "execution_count": 2,
     "metadata": {},
     "output_type": "execute_result"
    }
   ],
   "execution_count": 2
  },
  {
   "metadata": {
    "ExecuteTime": {
     "end_time": "2025-02-12T18:48:46.082586Z",
     "start_time": "2025-02-12T18:48:46.028636Z"
    }
   },
   "cell_type": "code",
   "source": [
    "\n",
    "\n",
    "df_vehicle_image_urls = compile_image_urls_df()\n",
    "df_vehicle_image_urls.drop_duplicates(subset=['vehicle_image_url'], inplace=True)\n",
    "\n",
    "print(df_vehicle_image_urls.shape)\n",
    "df_vehicle_image_urls.head()\n"
   ],
   "id": "7e4680eed6e184e5",
   "outputs": [
    {
     "name": "stdout",
     "output_type": "stream",
     "text": [
      "731560875.csv\n",
      "(38, 9)\n",
      "730141423.csv\n",
      "(38, 9)\n",
      "736627883.csv\n",
      "(80, 9)\n",
      "733365286.csv\n",
      "(81, 9)\n",
      "734808409.csv\n",
      "(82, 9)\n",
      "732504624.csv\n",
      "(113, 9)\n",
      "739471281.csv\n",
      "(130, 9)\n",
      "738409771.csv\n",
      "(150, 9)\n",
      "737175430.csv\n",
      "(171, 9)\n",
      "737511994.csv\n",
      "(178, 9)\n",
      "725617155.csv\n",
      "(179, 9)\n",
      "736665996.csv\n",
      "(212, 9)\n",
      "736531071.csv\n",
      "(251, 9)\n",
      "(233, 9)\n"
     ]
    },
    {
     "data": {
      "text/plain": [
       "                                   vehicle_image_url  vehicle_id  \\\n",
       "0  https://images.autotrader.com/scaler/500/375/h...   731560875   \n",
       "3  https://images.autotrader.com/scaler/500/375/h...   731560875   \n",
       "4  https://images.autotrader.com/scaler/500/375/h...   731560875   \n",
       "5  https://images.autotrader.com/scaler/500/375/h...   731560875   \n",
       "6  https://images.autotrader.com/scaler/500/375/h...   731560875   \n",
       "\n",
       "                                                 url                vin  \\\n",
       "0  https://www.autotrader.com/cars-for-sale/vehic...  5FNRL6H60RB012707   \n",
       "3  https://www.autotrader.com/cars-for-sale/vehic...  5FNRL6H60RB012707   \n",
       "4  https://www.autotrader.com/cars-for-sale/vehic...  5FNRL6H60RB012707   \n",
       "5  https://www.autotrader.com/cars-for-sale/vehic...  5FNRL6H60RB012707   \n",
       "6  https://www.autotrader.com/cars-for-sale/vehic...  5FNRL6H60RB012707   \n",
       "\n",
       "                     year_make_model list_price  \\\n",
       "0  Certified 2024 Honda Odyssey EX-L    $37,858   \n",
       "3  Certified 2024 Honda Odyssey EX-L    $37,858   \n",
       "4  Certified 2024 Honda Odyssey EX-L    $37,858   \n",
       "5  Certified 2024 Honda Odyssey EX-L    $37,858   \n",
       "6  Certified 2024 Honda Odyssey EX-L    $37,858   \n",
       "\n",
       "                                     listing_details  \\\n",
       "0  2,024 miles^3.5L 6-Cylinder Gas Engine^19 City...   \n",
       "3  2,024 miles^3.5L 6-Cylinder Gas Engine^19 City...   \n",
       "4  2,024 miles^3.5L 6-Cylinder Gas Engine^19 City...   \n",
       "5  2,024 miles^3.5L 6-Cylinder Gas Engine^19 City...   \n",
       "6  2,024 miles^3.5L 6-Cylinder Gas Engine^19 City...   \n",
       "\n",
       "                                   listing_narrative       filename  \n",
       "0  Certified. Radiant Red Metallic II 2024 Honda ...  731560875.csv  \n",
       "3  Certified. Radiant Red Metallic II 2024 Honda ...  731560875.csv  \n",
       "4  Certified. Radiant Red Metallic II 2024 Honda ...  731560875.csv  \n",
       "5  Certified. Radiant Red Metallic II 2024 Honda ...  731560875.csv  \n",
       "6  Certified. Radiant Red Metallic II 2024 Honda ...  731560875.csv  "
      ],
      "text/html": [
       "<div>\n",
       "<style scoped>\n",
       "    .dataframe tbody tr th:only-of-type {\n",
       "        vertical-align: middle;\n",
       "    }\n",
       "\n",
       "    .dataframe tbody tr th {\n",
       "        vertical-align: top;\n",
       "    }\n",
       "\n",
       "    .dataframe thead th {\n",
       "        text-align: right;\n",
       "    }\n",
       "</style>\n",
       "<table border=\"1\" class=\"dataframe\">\n",
       "  <thead>\n",
       "    <tr style=\"text-align: right;\">\n",
       "      <th></th>\n",
       "      <th>vehicle_image_url</th>\n",
       "      <th>vehicle_id</th>\n",
       "      <th>url</th>\n",
       "      <th>vin</th>\n",
       "      <th>year_make_model</th>\n",
       "      <th>list_price</th>\n",
       "      <th>listing_details</th>\n",
       "      <th>listing_narrative</th>\n",
       "      <th>filename</th>\n",
       "    </tr>\n",
       "  </thead>\n",
       "  <tbody>\n",
       "    <tr>\n",
       "      <th>0</th>\n",
       "      <td>https://images.autotrader.com/scaler/500/375/h...</td>\n",
       "      <td>731560875</td>\n",
       "      <td>https://www.autotrader.com/cars-for-sale/vehic...</td>\n",
       "      <td>5FNRL6H60RB012707</td>\n",
       "      <td>Certified 2024 Honda Odyssey EX-L</td>\n",
       "      <td>$37,858</td>\n",
       "      <td>2,024 miles^3.5L 6-Cylinder Gas Engine^19 City...</td>\n",
       "      <td>Certified. Radiant Red Metallic II 2024 Honda ...</td>\n",
       "      <td>731560875.csv</td>\n",
       "    </tr>\n",
       "    <tr>\n",
       "      <th>3</th>\n",
       "      <td>https://images.autotrader.com/scaler/500/375/h...</td>\n",
       "      <td>731560875</td>\n",
       "      <td>https://www.autotrader.com/cars-for-sale/vehic...</td>\n",
       "      <td>5FNRL6H60RB012707</td>\n",
       "      <td>Certified 2024 Honda Odyssey EX-L</td>\n",
       "      <td>$37,858</td>\n",
       "      <td>2,024 miles^3.5L 6-Cylinder Gas Engine^19 City...</td>\n",
       "      <td>Certified. Radiant Red Metallic II 2024 Honda ...</td>\n",
       "      <td>731560875.csv</td>\n",
       "    </tr>\n",
       "    <tr>\n",
       "      <th>4</th>\n",
       "      <td>https://images.autotrader.com/scaler/500/375/h...</td>\n",
       "      <td>731560875</td>\n",
       "      <td>https://www.autotrader.com/cars-for-sale/vehic...</td>\n",
       "      <td>5FNRL6H60RB012707</td>\n",
       "      <td>Certified 2024 Honda Odyssey EX-L</td>\n",
       "      <td>$37,858</td>\n",
       "      <td>2,024 miles^3.5L 6-Cylinder Gas Engine^19 City...</td>\n",
       "      <td>Certified. Radiant Red Metallic II 2024 Honda ...</td>\n",
       "      <td>731560875.csv</td>\n",
       "    </tr>\n",
       "    <tr>\n",
       "      <th>5</th>\n",
       "      <td>https://images.autotrader.com/scaler/500/375/h...</td>\n",
       "      <td>731560875</td>\n",
       "      <td>https://www.autotrader.com/cars-for-sale/vehic...</td>\n",
       "      <td>5FNRL6H60RB012707</td>\n",
       "      <td>Certified 2024 Honda Odyssey EX-L</td>\n",
       "      <td>$37,858</td>\n",
       "      <td>2,024 miles^3.5L 6-Cylinder Gas Engine^19 City...</td>\n",
       "      <td>Certified. Radiant Red Metallic II 2024 Honda ...</td>\n",
       "      <td>731560875.csv</td>\n",
       "    </tr>\n",
       "    <tr>\n",
       "      <th>6</th>\n",
       "      <td>https://images.autotrader.com/scaler/500/375/h...</td>\n",
       "      <td>731560875</td>\n",
       "      <td>https://www.autotrader.com/cars-for-sale/vehic...</td>\n",
       "      <td>5FNRL6H60RB012707</td>\n",
       "      <td>Certified 2024 Honda Odyssey EX-L</td>\n",
       "      <td>$37,858</td>\n",
       "      <td>2,024 miles^3.5L 6-Cylinder Gas Engine^19 City...</td>\n",
       "      <td>Certified. Radiant Red Metallic II 2024 Honda ...</td>\n",
       "      <td>731560875.csv</td>\n",
       "    </tr>\n",
       "  </tbody>\n",
       "</table>\n",
       "</div>"
      ]
     },
     "execution_count": 3,
     "metadata": {},
     "output_type": "execute_result"
    }
   ],
   "execution_count": 3
  },
  {
   "metadata": {
    "ExecuteTime": {
     "end_time": "2025-02-12T18:48:46.149508Z",
     "start_time": "2025-02-12T18:48:46.124903Z"
    }
   },
   "cell_type": "code",
   "source": [
    "sorted(set(list(df_vehicle_image_urls)).intersection(search_results_df))\n",
    "\n",
    "df_vehicle_image_urls['vehicle_id']=df_vehicle_image_urls['vehicle_id'].astype(int)\n",
    "search_results_df['vehicle_id']=search_results_df['vehicle_id'].astype(int)\n",
    "\n",
    "print(len(set(df_vehicle_image_urls['vehicle_id'])),len(set(search_results_df['vehicle_id'])))\n",
    "\n",
    "\n",
    "df = df_vehicle_image_urls.merge(search_results_df, on=['vehicle_id'], how='inner', suffixes=('', '.search'))\n",
    "print(df.shape)\n",
    "df\n"
   ],
   "id": "cd10d8a32763080",
   "outputs": [
    {
     "name": "stdout",
     "output_type": "stream",
     "text": [
      "12 957\n",
      "(187, 18)\n"
     ]
    },
    {
     "data": {
      "text/plain": [
       "                                     vehicle_image_url  vehicle_id  \\\n",
       "0    https://images.autotrader.com/scaler/500/375/h...   731560875   \n",
       "1    https://images.autotrader.com/scaler/500/375/h...   731560875   \n",
       "2    https://images.autotrader.com/scaler/500/375/h...   731560875   \n",
       "3    https://images.autotrader.com/scaler/500/375/h...   731560875   \n",
       "4    https://images.autotrader.com/scaler/500/375/h...   731560875   \n",
       "..                                                 ...         ...   \n",
       "182  https://images.autotrader.com/scaler/500/375/h...   736531071   \n",
       "183  https://images.autotrader.com/scaler/500/375/h...   736531071   \n",
       "184  https://images.autotrader.com/scaler/500/375/h...   736531071   \n",
       "185  https://images.autotrader.com/scaler/500/375/h...   736531071   \n",
       "186  https://images.autotrader.com/scaler/500/375/h...   736531071   \n",
       "\n",
       "                                                   url                vin  \\\n",
       "0    https://www.autotrader.com/cars-for-sale/vehic...  5FNRL6H60RB012707   \n",
       "1    https://www.autotrader.com/cars-for-sale/vehic...  5FNRL6H60RB012707   \n",
       "2    https://www.autotrader.com/cars-for-sale/vehic...  5FNRL6H60RB012707   \n",
       "3    https://www.autotrader.com/cars-for-sale/vehic...  5FNRL6H60RB012707   \n",
       "4    https://www.autotrader.com/cars-for-sale/vehic...  5FNRL6H60RB012707   \n",
       "..                                                 ...                ...   \n",
       "182  https://www.autotrader.com/cars-for-sale/vehic...  5FNRL6H77RB018819   \n",
       "183  https://www.autotrader.com/cars-for-sale/vehic...  5FNRL6H77RB018819   \n",
       "184  https://www.autotrader.com/cars-for-sale/vehic...  5FNRL6H77RB018819   \n",
       "185  https://www.autotrader.com/cars-for-sale/vehic...  5FNRL6H77RB018819   \n",
       "186  https://www.autotrader.com/cars-for-sale/vehic...  5FNRL6H77RB018819   \n",
       "\n",
       "                       year_make_model list_price  \\\n",
       "0    Certified 2024 Honda Odyssey EX-L    $37,858   \n",
       "1    Certified 2024 Honda Odyssey EX-L    $37,858   \n",
       "2    Certified 2024 Honda Odyssey EX-L    $37,858   \n",
       "3    Certified 2024 Honda Odyssey EX-L    $37,858   \n",
       "4    Certified 2024 Honda Odyssey EX-L    $37,858   \n",
       "..                                 ...        ...   \n",
       "182      Used 2024 Honda Odyssey Sport    $38,225   \n",
       "183      Used 2024 Honda Odyssey Sport    $38,225   \n",
       "184      Used 2024 Honda Odyssey Sport    $38,225   \n",
       "185      Used 2024 Honda Odyssey Sport    $38,225   \n",
       "186      Used 2024 Honda Odyssey Sport    $38,225   \n",
       "\n",
       "                                       listing_details  \\\n",
       "0    2,024 miles^3.5L 6-Cylinder Gas Engine^19 City...   \n",
       "1    2,024 miles^3.5L 6-Cylinder Gas Engine^19 City...   \n",
       "2    2,024 miles^3.5L 6-Cylinder Gas Engine^19 City...   \n",
       "3    2,024 miles^3.5L 6-Cylinder Gas Engine^19 City...   \n",
       "4    2,024 miles^3.5L 6-Cylinder Gas Engine^19 City...   \n",
       "..                                                 ...   \n",
       "182  16,322 miles^3.5L 6-Cylinder Gas Engine^19 Cit...   \n",
       "183  16,322 miles^3.5L 6-Cylinder Gas Engine^19 Cit...   \n",
       "184  16,322 miles^3.5L 6-Cylinder Gas Engine^19 Cit...   \n",
       "185  16,322 miles^3.5L 6-Cylinder Gas Engine^19 Cit...   \n",
       "186  16,322 miles^3.5L 6-Cylinder Gas Engine^19 Cit...   \n",
       "\n",
       "                                     listing_narrative       filename  \\\n",
       "0    Certified. Radiant Red Metallic II 2024 Honda ...  731560875.csv   \n",
       "1    Certified. Radiant Red Metallic II 2024 Honda ...  731560875.csv   \n",
       "2    Certified. Radiant Red Metallic II 2024 Honda ...  731560875.csv   \n",
       "3    Certified. Radiant Red Metallic II 2024 Honda ...  731560875.csv   \n",
       "4    Certified. Radiant Red Metallic II 2024 Honda ...  731560875.csv   \n",
       "..                                                 ...            ...   \n",
       "182  NAVIGATION / GPS **, BACK UP CAMERA **, BLUETO...  736531071.csv   \n",
       "183  NAVIGATION / GPS **, BACK UP CAMERA **, BLUETO...  736531071.csv   \n",
       "184  NAVIGATION / GPS **, BACK UP CAMERA **, BLUETO...  736531071.csv   \n",
       "185  NAVIGATION / GPS **, BACK UP CAMERA **, BLUETO...  736531071.csv   \n",
       "186  NAVIGATION / GPS **, BACK UP CAMERA **, BLUETO...  736531071.csv   \n",
       "\n",
       "                        listing_header  \\\n",
       "0    Certified 2024 Honda Odyssey EX-L   \n",
       "1    Certified 2024 Honda Odyssey EX-L   \n",
       "2    Certified 2024 Honda Odyssey EX-L   \n",
       "3    Certified 2024 Honda Odyssey EX-L   \n",
       "4    Certified 2024 Honda Odyssey EX-L   \n",
       "..                                 ...   \n",
       "182      Used 2024 Honda Odyssey Sport   \n",
       "183      Used 2024 Honda Odyssey Sport   \n",
       "184      Used 2024 Honda Odyssey Sport   \n",
       "185      Used 2024 Honda Odyssey Sport   \n",
       "186      Used 2024 Honda Odyssey Sport   \n",
       "\n",
       "                                            url.search  \\\n",
       "0    https://www.autotrader.com/cars-for-sale/vehic...   \n",
       "1    https://www.autotrader.com/cars-for-sale/vehic...   \n",
       "2    https://www.autotrader.com/cars-for-sale/vehic...   \n",
       "3    https://www.autotrader.com/cars-for-sale/vehic...   \n",
       "4    https://www.autotrader.com/cars-for-sale/vehic...   \n",
       "..                                                 ...   \n",
       "182  https://www.autotrader.com/cars-for-sale/vehic...   \n",
       "183  https://www.autotrader.com/cars-for-sale/vehic...   \n",
       "184  https://www.autotrader.com/cars-for-sale/vehic...   \n",
       "185  https://www.autotrader.com/cars-for-sale/vehic...   \n",
       "186  https://www.autotrader.com/cars-for-sale/vehic...   \n",
       "\n",
       "                                            search_url   make    model  \\\n",
       "0    https://www.autotrader.com/cars-for-sale/honda...  honda  odyssey   \n",
       "1    https://www.autotrader.com/cars-for-sale/honda...  honda  odyssey   \n",
       "2    https://www.autotrader.com/cars-for-sale/honda...  honda  odyssey   \n",
       "3    https://www.autotrader.com/cars-for-sale/honda...  honda  odyssey   \n",
       "4    https://www.autotrader.com/cars-for-sale/honda...  honda  odyssey   \n",
       "..                                                 ...    ...      ...   \n",
       "182  https://www.autotrader.com/cars-for-sale/honda...  honda  odyssey   \n",
       "183  https://www.autotrader.com/cars-for-sale/honda...  honda  odyssey   \n",
       "184  https://www.autotrader.com/cars-for-sale/honda...  honda  odyssey   \n",
       "185  https://www.autotrader.com/cars-for-sale/honda...  honda  odyssey   \n",
       "186  https://www.autotrader.com/cars-for-sale/honda...  honda  odyssey   \n",
       "\n",
       "     search_timestamp                        search_metadata  \\\n",
       "0          1739360198  {'make': 'honda', 'model': 'odyssey'}   \n",
       "1          1739360198  {'make': 'honda', 'model': 'odyssey'}   \n",
       "2          1739360198  {'make': 'honda', 'model': 'odyssey'}   \n",
       "3          1739360198  {'make': 'honda', 'model': 'odyssey'}   \n",
       "4          1739360198  {'make': 'honda', 'model': 'odyssey'}   \n",
       "..                ...                                    ...   \n",
       "182        1739360198  {'make': 'honda', 'model': 'odyssey'}   \n",
       "183        1739360198  {'make': 'honda', 'model': 'odyssey'}   \n",
       "184        1739360198  {'make': 'honda', 'model': 'odyssey'}   \n",
       "185        1739360198  {'make': 'honda', 'model': 'odyssey'}   \n",
       "186        1739360198  {'make': 'honda', 'model': 'odyssey'}   \n",
       "\n",
       "                                 filename.search  \\\n",
       "0    search_results_honda_odyssey_1739360198.csv   \n",
       "1    search_results_honda_odyssey_1739360198.csv   \n",
       "2    search_results_honda_odyssey_1739360198.csv   \n",
       "3    search_results_honda_odyssey_1739360198.csv   \n",
       "4    search_results_honda_odyssey_1739360198.csv   \n",
       "..                                           ...   \n",
       "182  search_results_honda_odyssey_1739360198.csv   \n",
       "183  search_results_honda_odyssey_1739360198.csv   \n",
       "184  search_results_honda_odyssey_1739360198.csv   \n",
       "185  search_results_honda_odyssey_1739360198.csv   \n",
       "186  search_results_honda_odyssey_1739360198.csv   \n",
       "\n",
       "                                             url_clean  \n",
       "0    https://www.autotrader.com/cars-for-sale/vehic...  \n",
       "1    https://www.autotrader.com/cars-for-sale/vehic...  \n",
       "2    https://www.autotrader.com/cars-for-sale/vehic...  \n",
       "3    https://www.autotrader.com/cars-for-sale/vehic...  \n",
       "4    https://www.autotrader.com/cars-for-sale/vehic...  \n",
       "..                                                 ...  \n",
       "182  https://www.autotrader.com/cars-for-sale/vehic...  \n",
       "183  https://www.autotrader.com/cars-for-sale/vehic...  \n",
       "184  https://www.autotrader.com/cars-for-sale/vehic...  \n",
       "185  https://www.autotrader.com/cars-for-sale/vehic...  \n",
       "186  https://www.autotrader.com/cars-for-sale/vehic...  \n",
       "\n",
       "[187 rows x 18 columns]"
      ],
      "text/html": [
       "<div>\n",
       "<style scoped>\n",
       "    .dataframe tbody tr th:only-of-type {\n",
       "        vertical-align: middle;\n",
       "    }\n",
       "\n",
       "    .dataframe tbody tr th {\n",
       "        vertical-align: top;\n",
       "    }\n",
       "\n",
       "    .dataframe thead th {\n",
       "        text-align: right;\n",
       "    }\n",
       "</style>\n",
       "<table border=\"1\" class=\"dataframe\">\n",
       "  <thead>\n",
       "    <tr style=\"text-align: right;\">\n",
       "      <th></th>\n",
       "      <th>vehicle_image_url</th>\n",
       "      <th>vehicle_id</th>\n",
       "      <th>url</th>\n",
       "      <th>vin</th>\n",
       "      <th>year_make_model</th>\n",
       "      <th>list_price</th>\n",
       "      <th>listing_details</th>\n",
       "      <th>listing_narrative</th>\n",
       "      <th>filename</th>\n",
       "      <th>listing_header</th>\n",
       "      <th>url.search</th>\n",
       "      <th>search_url</th>\n",
       "      <th>make</th>\n",
       "      <th>model</th>\n",
       "      <th>search_timestamp</th>\n",
       "      <th>search_metadata</th>\n",
       "      <th>filename.search</th>\n",
       "      <th>url_clean</th>\n",
       "    </tr>\n",
       "  </thead>\n",
       "  <tbody>\n",
       "    <tr>\n",
       "      <th>0</th>\n",
       "      <td>https://images.autotrader.com/scaler/500/375/h...</td>\n",
       "      <td>731560875</td>\n",
       "      <td>https://www.autotrader.com/cars-for-sale/vehic...</td>\n",
       "      <td>5FNRL6H60RB012707</td>\n",
       "      <td>Certified 2024 Honda Odyssey EX-L</td>\n",
       "      <td>$37,858</td>\n",
       "      <td>2,024 miles^3.5L 6-Cylinder Gas Engine^19 City...</td>\n",
       "      <td>Certified. Radiant Red Metallic II 2024 Honda ...</td>\n",
       "      <td>731560875.csv</td>\n",
       "      <td>Certified 2024 Honda Odyssey EX-L</td>\n",
       "      <td>https://www.autotrader.com/cars-for-sale/vehic...</td>\n",
       "      <td>https://www.autotrader.com/cars-for-sale/honda...</td>\n",
       "      <td>honda</td>\n",
       "      <td>odyssey</td>\n",
       "      <td>1739360198</td>\n",
       "      <td>{'make': 'honda', 'model': 'odyssey'}</td>\n",
       "      <td>search_results_honda_odyssey_1739360198.csv</td>\n",
       "      <td>https://www.autotrader.com/cars-for-sale/vehic...</td>\n",
       "    </tr>\n",
       "    <tr>\n",
       "      <th>1</th>\n",
       "      <td>https://images.autotrader.com/scaler/500/375/h...</td>\n",
       "      <td>731560875</td>\n",
       "      <td>https://www.autotrader.com/cars-for-sale/vehic...</td>\n",
       "      <td>5FNRL6H60RB012707</td>\n",
       "      <td>Certified 2024 Honda Odyssey EX-L</td>\n",
       "      <td>$37,858</td>\n",
       "      <td>2,024 miles^3.5L 6-Cylinder Gas Engine^19 City...</td>\n",
       "      <td>Certified. Radiant Red Metallic II 2024 Honda ...</td>\n",
       "      <td>731560875.csv</td>\n",
       "      <td>Certified 2024 Honda Odyssey EX-L</td>\n",
       "      <td>https://www.autotrader.com/cars-for-sale/vehic...</td>\n",
       "      <td>https://www.autotrader.com/cars-for-sale/honda...</td>\n",
       "      <td>honda</td>\n",
       "      <td>odyssey</td>\n",
       "      <td>1739360198</td>\n",
       "      <td>{'make': 'honda', 'model': 'odyssey'}</td>\n",
       "      <td>search_results_honda_odyssey_1739360198.csv</td>\n",
       "      <td>https://www.autotrader.com/cars-for-sale/vehic...</td>\n",
       "    </tr>\n",
       "    <tr>\n",
       "      <th>2</th>\n",
       "      <td>https://images.autotrader.com/scaler/500/375/h...</td>\n",
       "      <td>731560875</td>\n",
       "      <td>https://www.autotrader.com/cars-for-sale/vehic...</td>\n",
       "      <td>5FNRL6H60RB012707</td>\n",
       "      <td>Certified 2024 Honda Odyssey EX-L</td>\n",
       "      <td>$37,858</td>\n",
       "      <td>2,024 miles^3.5L 6-Cylinder Gas Engine^19 City...</td>\n",
       "      <td>Certified. Radiant Red Metallic II 2024 Honda ...</td>\n",
       "      <td>731560875.csv</td>\n",
       "      <td>Certified 2024 Honda Odyssey EX-L</td>\n",
       "      <td>https://www.autotrader.com/cars-for-sale/vehic...</td>\n",
       "      <td>https://www.autotrader.com/cars-for-sale/honda...</td>\n",
       "      <td>honda</td>\n",
       "      <td>odyssey</td>\n",
       "      <td>1739360198</td>\n",
       "      <td>{'make': 'honda', 'model': 'odyssey'}</td>\n",
       "      <td>search_results_honda_odyssey_1739360198.csv</td>\n",
       "      <td>https://www.autotrader.com/cars-for-sale/vehic...</td>\n",
       "    </tr>\n",
       "    <tr>\n",
       "      <th>3</th>\n",
       "      <td>https://images.autotrader.com/scaler/500/375/h...</td>\n",
       "      <td>731560875</td>\n",
       "      <td>https://www.autotrader.com/cars-for-sale/vehic...</td>\n",
       "      <td>5FNRL6H60RB012707</td>\n",
       "      <td>Certified 2024 Honda Odyssey EX-L</td>\n",
       "      <td>$37,858</td>\n",
       "      <td>2,024 miles^3.5L 6-Cylinder Gas Engine^19 City...</td>\n",
       "      <td>Certified. Radiant Red Metallic II 2024 Honda ...</td>\n",
       "      <td>731560875.csv</td>\n",
       "      <td>Certified 2024 Honda Odyssey EX-L</td>\n",
       "      <td>https://www.autotrader.com/cars-for-sale/vehic...</td>\n",
       "      <td>https://www.autotrader.com/cars-for-sale/honda...</td>\n",
       "      <td>honda</td>\n",
       "      <td>odyssey</td>\n",
       "      <td>1739360198</td>\n",
       "      <td>{'make': 'honda', 'model': 'odyssey'}</td>\n",
       "      <td>search_results_honda_odyssey_1739360198.csv</td>\n",
       "      <td>https://www.autotrader.com/cars-for-sale/vehic...</td>\n",
       "    </tr>\n",
       "    <tr>\n",
       "      <th>4</th>\n",
       "      <td>https://images.autotrader.com/scaler/500/375/h...</td>\n",
       "      <td>731560875</td>\n",
       "      <td>https://www.autotrader.com/cars-for-sale/vehic...</td>\n",
       "      <td>5FNRL6H60RB012707</td>\n",
       "      <td>Certified 2024 Honda Odyssey EX-L</td>\n",
       "      <td>$37,858</td>\n",
       "      <td>2,024 miles^3.5L 6-Cylinder Gas Engine^19 City...</td>\n",
       "      <td>Certified. Radiant Red Metallic II 2024 Honda ...</td>\n",
       "      <td>731560875.csv</td>\n",
       "      <td>Certified 2024 Honda Odyssey EX-L</td>\n",
       "      <td>https://www.autotrader.com/cars-for-sale/vehic...</td>\n",
       "      <td>https://www.autotrader.com/cars-for-sale/honda...</td>\n",
       "      <td>honda</td>\n",
       "      <td>odyssey</td>\n",
       "      <td>1739360198</td>\n",
       "      <td>{'make': 'honda', 'model': 'odyssey'}</td>\n",
       "      <td>search_results_honda_odyssey_1739360198.csv</td>\n",
       "      <td>https://www.autotrader.com/cars-for-sale/vehic...</td>\n",
       "    </tr>\n",
       "    <tr>\n",
       "      <th>...</th>\n",
       "      <td>...</td>\n",
       "      <td>...</td>\n",
       "      <td>...</td>\n",
       "      <td>...</td>\n",
       "      <td>...</td>\n",
       "      <td>...</td>\n",
       "      <td>...</td>\n",
       "      <td>...</td>\n",
       "      <td>...</td>\n",
       "      <td>...</td>\n",
       "      <td>...</td>\n",
       "      <td>...</td>\n",
       "      <td>...</td>\n",
       "      <td>...</td>\n",
       "      <td>...</td>\n",
       "      <td>...</td>\n",
       "      <td>...</td>\n",
       "      <td>...</td>\n",
       "    </tr>\n",
       "    <tr>\n",
       "      <th>182</th>\n",
       "      <td>https://images.autotrader.com/scaler/500/375/h...</td>\n",
       "      <td>736531071</td>\n",
       "      <td>https://www.autotrader.com/cars-for-sale/vehic...</td>\n",
       "      <td>5FNRL6H77RB018819</td>\n",
       "      <td>Used 2024 Honda Odyssey Sport</td>\n",
       "      <td>$38,225</td>\n",
       "      <td>16,322 miles^3.5L 6-Cylinder Gas Engine^19 Cit...</td>\n",
       "      <td>NAVIGATION / GPS **, BACK UP CAMERA **, BLUETO...</td>\n",
       "      <td>736531071.csv</td>\n",
       "      <td>Used 2024 Honda Odyssey Sport</td>\n",
       "      <td>https://www.autotrader.com/cars-for-sale/vehic...</td>\n",
       "      <td>https://www.autotrader.com/cars-for-sale/honda...</td>\n",
       "      <td>honda</td>\n",
       "      <td>odyssey</td>\n",
       "      <td>1739360198</td>\n",
       "      <td>{'make': 'honda', 'model': 'odyssey'}</td>\n",
       "      <td>search_results_honda_odyssey_1739360198.csv</td>\n",
       "      <td>https://www.autotrader.com/cars-for-sale/vehic...</td>\n",
       "    </tr>\n",
       "    <tr>\n",
       "      <th>183</th>\n",
       "      <td>https://images.autotrader.com/scaler/500/375/h...</td>\n",
       "      <td>736531071</td>\n",
       "      <td>https://www.autotrader.com/cars-for-sale/vehic...</td>\n",
       "      <td>5FNRL6H77RB018819</td>\n",
       "      <td>Used 2024 Honda Odyssey Sport</td>\n",
       "      <td>$38,225</td>\n",
       "      <td>16,322 miles^3.5L 6-Cylinder Gas Engine^19 Cit...</td>\n",
       "      <td>NAVIGATION / GPS **, BACK UP CAMERA **, BLUETO...</td>\n",
       "      <td>736531071.csv</td>\n",
       "      <td>Used 2024 Honda Odyssey Sport</td>\n",
       "      <td>https://www.autotrader.com/cars-for-sale/vehic...</td>\n",
       "      <td>https://www.autotrader.com/cars-for-sale/honda...</td>\n",
       "      <td>honda</td>\n",
       "      <td>odyssey</td>\n",
       "      <td>1739360198</td>\n",
       "      <td>{'make': 'honda', 'model': 'odyssey'}</td>\n",
       "      <td>search_results_honda_odyssey_1739360198.csv</td>\n",
       "      <td>https://www.autotrader.com/cars-for-sale/vehic...</td>\n",
       "    </tr>\n",
       "    <tr>\n",
       "      <th>184</th>\n",
       "      <td>https://images.autotrader.com/scaler/500/375/h...</td>\n",
       "      <td>736531071</td>\n",
       "      <td>https://www.autotrader.com/cars-for-sale/vehic...</td>\n",
       "      <td>5FNRL6H77RB018819</td>\n",
       "      <td>Used 2024 Honda Odyssey Sport</td>\n",
       "      <td>$38,225</td>\n",
       "      <td>16,322 miles^3.5L 6-Cylinder Gas Engine^19 Cit...</td>\n",
       "      <td>NAVIGATION / GPS **, BACK UP CAMERA **, BLUETO...</td>\n",
       "      <td>736531071.csv</td>\n",
       "      <td>Used 2024 Honda Odyssey Sport</td>\n",
       "      <td>https://www.autotrader.com/cars-for-sale/vehic...</td>\n",
       "      <td>https://www.autotrader.com/cars-for-sale/honda...</td>\n",
       "      <td>honda</td>\n",
       "      <td>odyssey</td>\n",
       "      <td>1739360198</td>\n",
       "      <td>{'make': 'honda', 'model': 'odyssey'}</td>\n",
       "      <td>search_results_honda_odyssey_1739360198.csv</td>\n",
       "      <td>https://www.autotrader.com/cars-for-sale/vehic...</td>\n",
       "    </tr>\n",
       "    <tr>\n",
       "      <th>185</th>\n",
       "      <td>https://images.autotrader.com/scaler/500/375/h...</td>\n",
       "      <td>736531071</td>\n",
       "      <td>https://www.autotrader.com/cars-for-sale/vehic...</td>\n",
       "      <td>5FNRL6H77RB018819</td>\n",
       "      <td>Used 2024 Honda Odyssey Sport</td>\n",
       "      <td>$38,225</td>\n",
       "      <td>16,322 miles^3.5L 6-Cylinder Gas Engine^19 Cit...</td>\n",
       "      <td>NAVIGATION / GPS **, BACK UP CAMERA **, BLUETO...</td>\n",
       "      <td>736531071.csv</td>\n",
       "      <td>Used 2024 Honda Odyssey Sport</td>\n",
       "      <td>https://www.autotrader.com/cars-for-sale/vehic...</td>\n",
       "      <td>https://www.autotrader.com/cars-for-sale/honda...</td>\n",
       "      <td>honda</td>\n",
       "      <td>odyssey</td>\n",
       "      <td>1739360198</td>\n",
       "      <td>{'make': 'honda', 'model': 'odyssey'}</td>\n",
       "      <td>search_results_honda_odyssey_1739360198.csv</td>\n",
       "      <td>https://www.autotrader.com/cars-for-sale/vehic...</td>\n",
       "    </tr>\n",
       "    <tr>\n",
       "      <th>186</th>\n",
       "      <td>https://images.autotrader.com/scaler/500/375/h...</td>\n",
       "      <td>736531071</td>\n",
       "      <td>https://www.autotrader.com/cars-for-sale/vehic...</td>\n",
       "      <td>5FNRL6H77RB018819</td>\n",
       "      <td>Used 2024 Honda Odyssey Sport</td>\n",
       "      <td>$38,225</td>\n",
       "      <td>16,322 miles^3.5L 6-Cylinder Gas Engine^19 Cit...</td>\n",
       "      <td>NAVIGATION / GPS **, BACK UP CAMERA **, BLUETO...</td>\n",
       "      <td>736531071.csv</td>\n",
       "      <td>Used 2024 Honda Odyssey Sport</td>\n",
       "      <td>https://www.autotrader.com/cars-for-sale/vehic...</td>\n",
       "      <td>https://www.autotrader.com/cars-for-sale/honda...</td>\n",
       "      <td>honda</td>\n",
       "      <td>odyssey</td>\n",
       "      <td>1739360198</td>\n",
       "      <td>{'make': 'honda', 'model': 'odyssey'}</td>\n",
       "      <td>search_results_honda_odyssey_1739360198.csv</td>\n",
       "      <td>https://www.autotrader.com/cars-for-sale/vehic...</td>\n",
       "    </tr>\n",
       "  </tbody>\n",
       "</table>\n",
       "<p>187 rows × 18 columns</p>\n",
       "</div>"
      ]
     },
     "execution_count": 4,
     "metadata": {},
     "output_type": "execute_result"
    }
   ],
   "execution_count": 4
  },
  {
   "metadata": {
    "ExecuteTime": {
     "end_time": "2025-02-12T18:48:46.322355Z",
     "start_time": "2025-02-12T18:48:46.312737Z"
    }
   },
   "cell_type": "code",
   "source": [
    "i=0\n",
    "vehicle_image_records=list( df.to_dict('records'))\n",
    "vehicle_image_record = vehicle_image_records[i]\n",
    "# print(json.dumps(vehicle_image_record,indent=2))\n",
    "\n",
    "print(vehicle_image_record['vehicle_image_url'], os.path.basename(vehicle_image_record['vehicle_image_url']))"
   ],
   "id": "5a9702f0af5c504d",
   "outputs": [
    {
     "name": "stdout",
     "output_type": "stream",
     "text": [
      "https://images.autotrader.com/scaler/500/375/hn/c/e07236fab645466e953dd25c76e8f16f.jpg e07236fab645466e953dd25c76e8f16f.jpg\n"
     ]
    }
   ],
   "execution_count": 5
  },
  {
   "metadata": {
    "ExecuteTime": {
     "end_time": "2025-02-12T18:48:46.502873Z",
     "start_time": "2025-02-12T18:48:46.499887Z"
    }
   },
   "cell_type": "code",
   "source": [
    "# image_folder_template='make-{make}/model-{model}/vehicle_id-{vehicle_id}/'\n",
    "# cmd_template= '''wget -P \"{folder}\" \"{image_url}\" '''\n",
    "#\n",
    "# '''\n",
    "# wget  -P \"/Users/levgolod/Projects/car_classifier/data/autotrader/vehicle_images/\" \"https://images.autotrader.com/scaler/500/375/hn/c/ff42e26fdabb4cf2bee049d3909ffee3.jpg\"\n",
    "# '''\n",
    "#\n",
    "# folder =parent_directory_images + image_folder_template.format(\n",
    "#     make=vehicle_image_record['make'],\n",
    "#     model=vehicle_image_record['model'],\n",
    "#     vehicle_id=vehicle_image_record['vehicle_id']\n",
    "# )\n",
    "# os.makedirs(folder, exist_ok=True)\n",
    "# folder\n",
    "#\n",
    "# cmd = cmd_template.format(\n",
    "#     folder=folder,\n",
    "#     image_url=vehicle_image_record['vehicle_image_url']\n",
    "# )\n",
    "# print(cmd)\n",
    "# subprocess.call(cmd, shell=True)\n",
    "#\n"
   ],
   "id": "2b984e51ecaee3e7",
   "outputs": [],
   "execution_count": 6
  },
  {
   "metadata": {
    "ExecuteTime": {
     "end_time": "2025-02-12T18:48:46.746436Z",
     "start_time": "2025-02-12T18:48:46.603950Z"
    }
   },
   "cell_type": "code",
   "source": [
    "# !wget -nc -P  \"/Users/levgolod/Projects/car_classifier/data/autotrader/vehicle_images/ff42e26fdabb4cf2bee049d3909ffee3.jpg\" \"https://images.autotrader.com/scaler/500/375/hn/c/ff42e26fdabb4cf2bee049d3909ffee3.jpg\"\n",
    "#\n",
    "# !wget -nc -P \"./data/autotrader/vehicle_images/make-honda/model-odyssey/vehicle_id-731560875/e07236fab645466e953dd25c76e8f16f.jpg\" \"https://images.autotrader.com/scaler/500/375/hn/c/e07236fab645466e953dd25c76e8f16f.jpg\"\n",
    "\n",
    "!wget -nc -O \"/Users/levgolod/Projects/car_classifier/data/autotrader/vehicle_images/make-honda/model-odyssey/vehicle_id-731560875/95e1c384c7a7468ba4e50a1bbe27fbea.jpg\" \"https://images.autotrader.com/scaler/500/375/hn/c/95e1c384c7a7468ba4e50a1bbe27fbea.jpg\""
   ],
   "id": "311f0851b1a0cc58",
   "outputs": [
    {
     "name": "stdout",
     "output_type": "stream",
     "text": [
      "File ‘/Users/levgolod/Projects/car_classifier/data/autotrader/vehicle_images/make-honda/model-odyssey/vehicle_id-731560875/95e1c384c7a7468ba4e50a1bbe27fbea.jpg’ already there; not retrieving.\r\n"
     ]
    }
   ],
   "execution_count": 7
  },
  {
   "metadata": {
    "ExecuteTime": {
     "end_time": "2025-02-12T18:48:46.881220Z",
     "start_time": "2025-02-12T18:48:46.847945Z"
    }
   },
   "cell_type": "code",
   "source": [
    "image_folder_template='make-{make}/model-{model}/vehicle_id-{vehicle_id}/'\n",
    "cmd_template= '''wget -nc -O \"{filepath}\" \"{image_url}\" '''\n",
    "\n",
    "'''\n",
    "wget -P \"/Users/levgolod/Projects/car_classifier/data/autotrader/vehicle_images/\" \"https://images.autotrader.com/scaler/500/375/hn/c/ff42e26fdabb4cf2bee049d3909ffee3.jpg\"\n",
    "'''\n",
    "\n",
    "# print(vehicle_image_record['vehicle_image_url'], os.path.basename(vehicle_image_record['vehicle_image_url']))\n",
    "\n",
    "folder = parent_directory_images + image_folder_template.format(\n",
    "    make=vehicle_image_record['make'],\n",
    "    model=vehicle_image_record['model'],\n",
    "    vehicle_id=vehicle_image_record['vehicle_id']\n",
    ")\n",
    "os.makedirs(folder, exist_ok=True)\n",
    "filepath=f\"{folder}{os.path.basename(vehicle_image_record['vehicle_image_url'])}\"\n",
    "print(filepath)\n",
    "cmd = cmd_template.format(\n",
    "    filepath=filepath,\n",
    "    image_url=vehicle_image_record['vehicle_image_url']\n",
    ")\n",
    "print(cmd)\n",
    "subprocess.call(cmd, shell=True)\n",
    "\n"
   ],
   "id": "9516328798fa0c9",
   "outputs": [
    {
     "name": "stdout",
     "output_type": "stream",
     "text": [
      "/Users/levgolod/Projects/car_classifier/data/autotrader/vehicle_images/make-honda/model-odyssey/vehicle_id-731560875/e07236fab645466e953dd25c76e8f16f.jpg\n",
      "wget -nc -O \"/Users/levgolod/Projects/car_classifier/data/autotrader/vehicle_images/make-honda/model-odyssey/vehicle_id-731560875/e07236fab645466e953dd25c76e8f16f.jpg\" \"https://images.autotrader.com/scaler/500/375/hn/c/e07236fab645466e953dd25c76e8f16f.jpg\" \n"
     ]
    },
    {
     "name": "stderr",
     "output_type": "stream",
     "text": [
      "File ‘/Users/levgolod/Projects/car_classifier/data/autotrader/vehicle_images/make-honda/model-odyssey/vehicle_id-731560875/e07236fab645466e953dd25c76e8f16f.jpg’ already there; not retrieving.\n"
     ]
    },
    {
     "data": {
      "text/plain": [
       "1"
      ]
     },
     "execution_count": 8,
     "metadata": {},
     "output_type": "execute_result"
    }
   ],
   "execution_count": 8
  },
  {
   "metadata": {
    "ExecuteTime": {
     "end_time": "2025-02-12T18:55:58.811659Z",
     "start_time": "2025-02-12T18:48:47.016798Z"
    }
   },
   "cell_type": "code",
   "source": [
    "image_folder_template='make-{make}/model-{model}/vehicle_id-{vehicle_id}/'\n",
    "cmd_template= '''wget -q -nc -O \"{filepath}\" \"{image_url}\" '''\n",
    "sleep=2\n",
    "\n",
    "\n",
    "## todo check if file exists in python and then only sleep if a download occurs\n",
    "\n",
    "for vehicle_image_record in vehicle_image_records:\n",
    "\n",
    "    folder = parent_directory_images + image_folder_template.format(\n",
    "        make=vehicle_image_record['make'],\n",
    "        model=vehicle_image_record['model'],\n",
    "        vehicle_id=vehicle_image_record['vehicle_id']\n",
    "    )\n",
    "    os.makedirs(folder, exist_ok=True)\n",
    "    filepath=f\"{folder}{os.path.basename(vehicle_image_record['vehicle_image_url'])}\"\n",
    "    # print(filepath)\n",
    "    cmd = cmd_template.format(\n",
    "        filepath=filepath,\n",
    "        image_url=vehicle_image_record['vehicle_image_url']\n",
    "    )\n",
    "    print(cmd)\n",
    "    subprocess.call(cmd, shell=True)\n",
    "    time.sleep(sleep)\n",
    "\n",
    "\n"
   ],
   "id": "3dadb67be71f20c",
   "outputs": [
    {
     "name": "stdout",
     "output_type": "stream",
     "text": [
      "wget -nc -O \"/Users/levgolod/Projects/car_classifier/data/autotrader/vehicle_images/make-honda/model-odyssey/vehicle_id-731560875/e07236fab645466e953dd25c76e8f16f.jpg\" \"https://images.autotrader.com/scaler/500/375/hn/c/e07236fab645466e953dd25c76e8f16f.jpg\" \n"
     ]
    },
    {
     "name": "stderr",
     "output_type": "stream",
     "text": [
      "File ‘/Users/levgolod/Projects/car_classifier/data/autotrader/vehicle_images/make-honda/model-odyssey/vehicle_id-731560875/e07236fab645466e953dd25c76e8f16f.jpg’ already there; not retrieving.\n"
     ]
    },
    {
     "name": "stdout",
     "output_type": "stream",
     "text": [
      "wget -nc -O \"/Users/levgolod/Projects/car_classifier/data/autotrader/vehicle_images/make-honda/model-odyssey/vehicle_id-731560875/46ec3293d9d94f2fa80429d649bcc787.jpg\" \"https://images.autotrader.com/scaler/500/375/hn/c/46ec3293d9d94f2fa80429d649bcc787.jpg\" \n"
     ]
    },
    {
     "name": "stderr",
     "output_type": "stream",
     "text": [
      "File ‘/Users/levgolod/Projects/car_classifier/data/autotrader/vehicle_images/make-honda/model-odyssey/vehicle_id-731560875/46ec3293d9d94f2fa80429d649bcc787.jpg’ already there; not retrieving.\n"
     ]
    },
    {
     "name": "stdout",
     "output_type": "stream",
     "text": [
      "wget -nc -O \"/Users/levgolod/Projects/car_classifier/data/autotrader/vehicle_images/make-honda/model-odyssey/vehicle_id-731560875/5f395f412f0241cf9c8342e38feeaa1e.jpg\" \"https://images.autotrader.com/scaler/500/375/hn/c/5f395f412f0241cf9c8342e38feeaa1e.jpg\" \n"
     ]
    },
    {
     "name": "stderr",
     "output_type": "stream",
     "text": [
      "File ‘/Users/levgolod/Projects/car_classifier/data/autotrader/vehicle_images/make-honda/model-odyssey/vehicle_id-731560875/5f395f412f0241cf9c8342e38feeaa1e.jpg’ already there; not retrieving.\n"
     ]
    },
    {
     "name": "stdout",
     "output_type": "stream",
     "text": [
      "wget -nc -O \"/Users/levgolod/Projects/car_classifier/data/autotrader/vehicle_images/make-honda/model-odyssey/vehicle_id-731560875/95e1c384c7a7468ba4e50a1bbe27fbea.jpg\" \"https://images.autotrader.com/scaler/500/375/hn/c/95e1c384c7a7468ba4e50a1bbe27fbea.jpg\" \n"
     ]
    },
    {
     "name": "stderr",
     "output_type": "stream",
     "text": [
      "File ‘/Users/levgolod/Projects/car_classifier/data/autotrader/vehicle_images/make-honda/model-odyssey/vehicle_id-731560875/95e1c384c7a7468ba4e50a1bbe27fbea.jpg’ already there; not retrieving.\n"
     ]
    },
    {
     "name": "stdout",
     "output_type": "stream",
     "text": [
      "wget -nc -O \"/Users/levgolod/Projects/car_classifier/data/autotrader/vehicle_images/make-honda/model-odyssey/vehicle_id-731560875/16953e69485d4ab381d413821b0c47c8.jpg\" \"https://images.autotrader.com/scaler/500/375/hn/c/16953e69485d4ab381d413821b0c47c8.jpg\" \n"
     ]
    },
    {
     "name": "stderr",
     "output_type": "stream",
     "text": [
      "File ‘/Users/levgolod/Projects/car_classifier/data/autotrader/vehicle_images/make-honda/model-odyssey/vehicle_id-731560875/16953e69485d4ab381d413821b0c47c8.jpg’ already there; not retrieving.\n"
     ]
    },
    {
     "name": "stdout",
     "output_type": "stream",
     "text": [
      "wget -nc -O \"/Users/levgolod/Projects/car_classifier/data/autotrader/vehicle_images/make-honda/model-odyssey/vehicle_id-731560875/267224046681407aa605adef29e20198.jpg\" \"https://images.autotrader.com/scaler/500/375/hn/c/267224046681407aa605adef29e20198.jpg\" \n"
     ]
    },
    {
     "name": "stderr",
     "output_type": "stream",
     "text": [
      "File ‘/Users/levgolod/Projects/car_classifier/data/autotrader/vehicle_images/make-honda/model-odyssey/vehicle_id-731560875/267224046681407aa605adef29e20198.jpg’ already there; not retrieving.\n"
     ]
    },
    {
     "name": "stdout",
     "output_type": "stream",
     "text": [
      "wget -nc -O \"/Users/levgolod/Projects/car_classifier/data/autotrader/vehicle_images/make-honda/model-odyssey/vehicle_id-731560875/fbff26a57ace41da81931994fbc0c201.jpg\" \"https://images.autotrader.com/scaler/500/375/hn/c/fbff26a57ace41da81931994fbc0c201.jpg\" \n"
     ]
    },
    {
     "name": "stderr",
     "output_type": "stream",
     "text": [
      "File ‘/Users/levgolod/Projects/car_classifier/data/autotrader/vehicle_images/make-honda/model-odyssey/vehicle_id-731560875/fbff26a57ace41da81931994fbc0c201.jpg’ already there; not retrieving.\n"
     ]
    },
    {
     "name": "stdout",
     "output_type": "stream",
     "text": [
      "wget -nc -O \"/Users/levgolod/Projects/car_classifier/data/autotrader/vehicle_images/make-honda/model-odyssey/vehicle_id-731560875/926412c400ac40d4a851a8485dbcab4f.jpg\" \"https://images.autotrader.com/scaler/500/375/hn/c/926412c400ac40d4a851a8485dbcab4f.jpg\" \n"
     ]
    },
    {
     "name": "stderr",
     "output_type": "stream",
     "text": [
      "File ‘/Users/levgolod/Projects/car_classifier/data/autotrader/vehicle_images/make-honda/model-odyssey/vehicle_id-731560875/926412c400ac40d4a851a8485dbcab4f.jpg’ already there; not retrieving.\n"
     ]
    },
    {
     "name": "stdout",
     "output_type": "stream",
     "text": [
      "wget -nc -O \"/Users/levgolod/Projects/car_classifier/data/autotrader/vehicle_images/make-honda/model-odyssey/vehicle_id-731560875/89b7dfe5189d40c2bc2d0730bb053adf.jpg\" \"https://images.autotrader.com/scaler/500/375/hn/c/89b7dfe5189d40c2bc2d0730bb053adf.jpg\" \n"
     ]
    },
    {
     "name": "stderr",
     "output_type": "stream",
     "text": [
      "File ‘/Users/levgolod/Projects/car_classifier/data/autotrader/vehicle_images/make-honda/model-odyssey/vehicle_id-731560875/89b7dfe5189d40c2bc2d0730bb053adf.jpg’ already there; not retrieving.\n"
     ]
    },
    {
     "name": "stdout",
     "output_type": "stream",
     "text": [
      "wget -nc -O \"/Users/levgolod/Projects/car_classifier/data/autotrader/vehicle_images/make-honda/model-odyssey/vehicle_id-731560875/cce8ee421b1e496dbfd7114c1e643f73.jpg\" \"https://images.autotrader.com/scaler/500/375/hn/c/cce8ee421b1e496dbfd7114c1e643f73.jpg\" \n"
     ]
    },
    {
     "name": "stderr",
     "output_type": "stream",
     "text": [
      "--2025-02-12 10:49:05--  https://images.autotrader.com/scaler/500/375/hn/c/cce8ee421b1e496dbfd7114c1e643f73.jpg\n",
      "Resolving images.autotrader.com (images.autotrader.com)... 2600:9000:201d:bc00:6:249c:1640:93a1, 2600:9000:201d:e800:6:249c:1640:93a1, 2600:9000:201d:2000:6:249c:1640:93a1, ...\n",
      "Connecting to images.autotrader.com (images.autotrader.com)|2600:9000:201d:bc00:6:249c:1640:93a1|:443... connected.\n",
      "HTTP request sent, awaiting response... 200 OK\n",
      "Length: 64517 (63K) [image/jpeg]\n",
      "Saving to: ‘/Users/levgolod/Projects/car_classifier/data/autotrader/vehicle_images/make-honda/model-odyssey/vehicle_id-731560875/cce8ee421b1e496dbfd7114c1e643f73.jpg’\n",
      "\n",
      "     0K .......... .......... .......... .......... .......... 79% 1.84M 0s\n",
      "    50K .......... ...                                        100%  260K=0.03s\n",
      "\n",
      "2025-02-12 10:49:05 (2.32 MB/s) - ‘/Users/levgolod/Projects/car_classifier/data/autotrader/vehicle_images/make-honda/model-odyssey/vehicle_id-731560875/cce8ee421b1e496dbfd7114c1e643f73.jpg’ saved [64517/64517]\n",
      "\n"
     ]
    },
    {
     "name": "stdout",
     "output_type": "stream",
     "text": [
      "wget -nc -O \"/Users/levgolod/Projects/car_classifier/data/autotrader/vehicle_images/make-honda/model-odyssey/vehicle_id-731560875/34c8a728a15c4dd39f537eaf0cc8ae23.jpg\" \"https://images.autotrader.com/scaler/500/375/hn/c/34c8a728a15c4dd39f537eaf0cc8ae23.jpg\" \n"
     ]
    },
    {
     "name": "stderr",
     "output_type": "stream",
     "text": [
      "--2025-02-12 10:49:07--  https://images.autotrader.com/scaler/500/375/hn/c/34c8a728a15c4dd39f537eaf0cc8ae23.jpg\n",
      "Resolving images.autotrader.com (images.autotrader.com)... 2600:9000:201d:e00:6:249c:1640:93a1, 2600:9000:201d:e800:6:249c:1640:93a1, 2600:9000:201d:1000:6:249c:1640:93a1, ...\n",
      "Connecting to images.autotrader.com (images.autotrader.com)|2600:9000:201d:e00:6:249c:1640:93a1|:443... connected.\n",
      "HTTP request sent, awaiting response... 200 OK\n",
      "Length: 34522 (34K) [image/jpeg]\n",
      "Saving to: ‘/Users/levgolod/Projects/car_classifier/data/autotrader/vehicle_images/make-honda/model-odyssey/vehicle_id-731560875/34c8a728a15c4dd39f537eaf0cc8ae23.jpg’\n",
      "\n",
      "     0K .......... .......... .......... ...                  100% 4.10M=0.008s\n",
      "\n",
      "2025-02-12 10:49:07 (4.10 MB/s) - ‘/Users/levgolod/Projects/car_classifier/data/autotrader/vehicle_images/make-honda/model-odyssey/vehicle_id-731560875/34c8a728a15c4dd39f537eaf0cc8ae23.jpg’ saved [34522/34522]\n",
      "\n"
     ]
    },
    {
     "name": "stdout",
     "output_type": "stream",
     "text": [
      "wget -nc -O \"/Users/levgolod/Projects/car_classifier/data/autotrader/vehicle_images/make-honda/model-odyssey/vehicle_id-731560875/f6a7cb33d1bc45b2bd105234f39e66ec.jpg\" \"https://images.autotrader.com/scaler/500/375/hn/c/f6a7cb33d1bc45b2bd105234f39e66ec.jpg\" \n"
     ]
    },
    {
     "name": "stderr",
     "output_type": "stream",
     "text": [
      "--2025-02-12 10:49:09--  https://images.autotrader.com/scaler/500/375/hn/c/f6a7cb33d1bc45b2bd105234f39e66ec.jpg\n",
      "Resolving images.autotrader.com (images.autotrader.com)... 2600:9000:201d:2000:6:249c:1640:93a1, 2600:9000:201d:e800:6:249c:1640:93a1, 2600:9000:201d:1000:6:249c:1640:93a1, ...\n",
      "Connecting to images.autotrader.com (images.autotrader.com)|2600:9000:201d:2000:6:249c:1640:93a1|:443... connected.\n",
      "HTTP request sent, awaiting response... 200 OK\n",
      "Length: 33535 (33K) [image/jpeg]\n",
      "Saving to: ‘/Users/levgolod/Projects/car_classifier/data/autotrader/vehicle_images/make-honda/model-odyssey/vehicle_id-731560875/f6a7cb33d1bc45b2bd105234f39e66ec.jpg’\n",
      "\n",
      "     0K .......... .......... .......... ..                   100% 3.62M=0.009s\n",
      "\n",
      "2025-02-12 10:49:10 (3.62 MB/s) - ‘/Users/levgolod/Projects/car_classifier/data/autotrader/vehicle_images/make-honda/model-odyssey/vehicle_id-731560875/f6a7cb33d1bc45b2bd105234f39e66ec.jpg’ saved [33535/33535]\n",
      "\n"
     ]
    },
    {
     "name": "stdout",
     "output_type": "stream",
     "text": [
      "wget -nc -O \"/Users/levgolod/Projects/car_classifier/data/autotrader/vehicle_images/make-honda/model-odyssey/vehicle_id-731560875/c7f9948cb5bd4b17afc56e357cdaf46a.jpg\" \"https://images.autotrader.com/scaler/500/375/hn/c/c7f9948cb5bd4b17afc56e357cdaf46a.jpg\" \n"
     ]
    },
    {
     "name": "stderr",
     "output_type": "stream",
     "text": [
      "--2025-02-12 10:49:12--  https://images.autotrader.com/scaler/500/375/hn/c/c7f9948cb5bd4b17afc56e357cdaf46a.jpg\n",
      "Resolving images.autotrader.com (images.autotrader.com)... 2600:9000:201d:a800:6:249c:1640:93a1, 2600:9000:201d:e800:6:249c:1640:93a1, 2600:9000:201d:1000:6:249c:1640:93a1, ...\n",
      "Connecting to images.autotrader.com (images.autotrader.com)|2600:9000:201d:a800:6:249c:1640:93a1|:443... connected.\n",
      "HTTP request sent, awaiting response... 200 OK\n",
      "Length: 26007 (25K) [image/jpeg]\n",
      "Saving to: ‘/Users/levgolod/Projects/car_classifier/data/autotrader/vehicle_images/make-honda/model-odyssey/vehicle_id-731560875/c7f9948cb5bd4b17afc56e357cdaf46a.jpg’\n",
      "\n",
      "     0K .......... .......... .....                           100% 2.97M=0.008s\n",
      "\n",
      "2025-02-12 10:49:12 (2.97 MB/s) - ‘/Users/levgolod/Projects/car_classifier/data/autotrader/vehicle_images/make-honda/model-odyssey/vehicle_id-731560875/c7f9948cb5bd4b17afc56e357cdaf46a.jpg’ saved [26007/26007]\n",
      "\n"
     ]
    },
    {
     "name": "stdout",
     "output_type": "stream",
     "text": [
      "wget -nc -O \"/Users/levgolod/Projects/car_classifier/data/autotrader/vehicle_images/make-honda/model-odyssey/vehicle_id-731560875/682dcf2bb2d34aaca3e6f8aef0d4c461.jpg\" \"https://images.autotrader.com/scaler/500/375/hn/c/682dcf2bb2d34aaca3e6f8aef0d4c461.jpg\" \n"
     ]
    },
    {
     "name": "stderr",
     "output_type": "stream",
     "text": [
      "--2025-02-12 10:49:14--  https://images.autotrader.com/scaler/500/375/hn/c/682dcf2bb2d34aaca3e6f8aef0d4c461.jpg\n",
      "Resolving images.autotrader.com (images.autotrader.com)... 2600:9000:201d:ba00:6:249c:1640:93a1, 2600:9000:201d:e800:6:249c:1640:93a1, 2600:9000:201d:1000:6:249c:1640:93a1, ...\n",
      "Connecting to images.autotrader.com (images.autotrader.com)|2600:9000:201d:ba00:6:249c:1640:93a1|:443... connected.\n",
      "HTTP request sent, awaiting response... 200 OK\n",
      "Length: 49062 (48K) [image/jpeg]\n",
      "Saving to: ‘/Users/levgolod/Projects/car_classifier/data/autotrader/vehicle_images/make-honda/model-odyssey/vehicle_id-731560875/682dcf2bb2d34aaca3e6f8aef0d4c461.jpg’\n",
      "\n",
      "     0K .......... .......... .......... .......... .......   100% 2.19M=0.02s\n",
      "\n",
      "2025-02-12 10:49:14 (2.19 MB/s) - ‘/Users/levgolod/Projects/car_classifier/data/autotrader/vehicle_images/make-honda/model-odyssey/vehicle_id-731560875/682dcf2bb2d34aaca3e6f8aef0d4c461.jpg’ saved [49062/49062]\n",
      "\n"
     ]
    },
    {
     "name": "stdout",
     "output_type": "stream",
     "text": [
      "wget -nc -O \"/Users/levgolod/Projects/car_classifier/data/autotrader/vehicle_images/make-honda/model-odyssey/vehicle_id-731560875/343d642580ff48ed847380e9636e6a54.jpg\" \"https://images.autotrader.com/scaler/500/375/hn/c/343d642580ff48ed847380e9636e6a54.jpg\" \n"
     ]
    },
    {
     "name": "stderr",
     "output_type": "stream",
     "text": [
      "--2025-02-12 10:49:17--  https://images.autotrader.com/scaler/500/375/hn/c/343d642580ff48ed847380e9636e6a54.jpg\n",
      "Resolving images.autotrader.com (images.autotrader.com)... 2600:9000:201d:3800:6:249c:1640:93a1, 2600:9000:201d:e800:6:249c:1640:93a1, 2600:9000:201d:1000:6:249c:1640:93a1, ...\n",
      "Connecting to images.autotrader.com (images.autotrader.com)|2600:9000:201d:3800:6:249c:1640:93a1|:443... connected.\n",
      "HTTP request sent, awaiting response... 200 OK\n",
      "Length: 30901 (30K) [image/jpeg]\n",
      "Saving to: ‘/Users/levgolod/Projects/car_classifier/data/autotrader/vehicle_images/make-honda/model-odyssey/vehicle_id-731560875/343d642580ff48ed847380e9636e6a54.jpg’\n",
      "\n",
      "     0K .......... .......... ..........                      100% 11.8M=0.002s\n",
      "\n",
      "2025-02-12 10:49:17 (11.8 MB/s) - ‘/Users/levgolod/Projects/car_classifier/data/autotrader/vehicle_images/make-honda/model-odyssey/vehicle_id-731560875/343d642580ff48ed847380e9636e6a54.jpg’ saved [30901/30901]\n",
      "\n"
     ]
    },
    {
     "name": "stdout",
     "output_type": "stream",
     "text": [
      "wget -nc -O \"/Users/levgolod/Projects/car_classifier/data/autotrader/vehicle_images/make-honda/model-odyssey/vehicle_id-731560875/a5da9f589b7a44219f8f2c676f5dbe46.jpg\" \"https://images.autotrader.com/scaler/500/375/hn/c/a5da9f589b7a44219f8f2c676f5dbe46.jpg\" \n"
     ]
    },
    {
     "name": "stderr",
     "output_type": "stream",
     "text": [
      "--2025-02-12 10:49:19--  https://images.autotrader.com/scaler/500/375/hn/c/a5da9f589b7a44219f8f2c676f5dbe46.jpg\n",
      "Resolving images.autotrader.com (images.autotrader.com)... 2600:9000:201d:3800:6:249c:1640:93a1, 2600:9000:201d:e800:6:249c:1640:93a1, 2600:9000:201d:1000:6:249c:1640:93a1, ...\n",
      "Connecting to images.autotrader.com (images.autotrader.com)|2600:9000:201d:3800:6:249c:1640:93a1|:443... connected.\n",
      "HTTP request sent, awaiting response... 200 OK\n",
      "Length: 37183 (36K) [image/jpeg]\n",
      "Saving to: ‘/Users/levgolod/Projects/car_classifier/data/autotrader/vehicle_images/make-honda/model-odyssey/vehicle_id-731560875/a5da9f589b7a44219f8f2c676f5dbe46.jpg’\n",
      "\n",
      "     0K .......... .......... .......... ......               100% 1.80M=0.02s\n",
      "\n",
      "2025-02-12 10:49:19 (1.80 MB/s) - ‘/Users/levgolod/Projects/car_classifier/data/autotrader/vehicle_images/make-honda/model-odyssey/vehicle_id-731560875/a5da9f589b7a44219f8f2c676f5dbe46.jpg’ saved [37183/37183]\n",
      "\n"
     ]
    },
    {
     "name": "stdout",
     "output_type": "stream",
     "text": [
      "wget -nc -O \"/Users/levgolod/Projects/car_classifier/data/autotrader/vehicle_images/make-honda/model-odyssey/vehicle_id-731560875/ded92b0c155e4c149be56a9d4f520db3.jpg\" \"https://images.autotrader.com/scaler/500/375/hn/c/ded92b0c155e4c149be56a9d4f520db3.jpg\" \n"
     ]
    },
    {
     "name": "stderr",
     "output_type": "stream",
     "text": [
      "--2025-02-12 10:49:21--  https://images.autotrader.com/scaler/500/375/hn/c/ded92b0c155e4c149be56a9d4f520db3.jpg\n",
      "Resolving images.autotrader.com (images.autotrader.com)... 2600:9000:201d:2800:6:249c:1640:93a1, 2600:9000:201d:b000:6:249c:1640:93a1, 2600:9000:201d:6a00:6:249c:1640:93a1, ...\n",
      "Connecting to images.autotrader.com (images.autotrader.com)|2600:9000:201d:2800:6:249c:1640:93a1|:443... connected.\n",
      "HTTP request sent, awaiting response... 200 OK\n",
      "Length: 38794 (38K) [image/jpeg]\n",
      "Saving to: ‘/Users/levgolod/Projects/car_classifier/data/autotrader/vehicle_images/make-honda/model-odyssey/vehicle_id-731560875/ded92b0c155e4c149be56a9d4f520db3.jpg’\n",
      "\n",
      "     0K .......... .......... .......... .......              100% 2.92M=0.01s\n",
      "\n",
      "2025-02-12 10:49:21 (2.92 MB/s) - ‘/Users/levgolod/Projects/car_classifier/data/autotrader/vehicle_images/make-honda/model-odyssey/vehicle_id-731560875/ded92b0c155e4c149be56a9d4f520db3.jpg’ saved [38794/38794]\n",
      "\n"
     ]
    },
    {
     "name": "stdout",
     "output_type": "stream",
     "text": [
      "wget -nc -O \"/Users/levgolod/Projects/car_classifier/data/autotrader/vehicle_images/make-honda/model-odyssey/vehicle_id-731560875/ecbe22e2b9be4ae4923f215f6d5f2ebb.jpg\" \"https://images.autotrader.com/scaler/500/375/hn/c/ecbe22e2b9be4ae4923f215f6d5f2ebb.jpg\" \n"
     ]
    },
    {
     "name": "stderr",
     "output_type": "stream",
     "text": [
      "--2025-02-12 10:49:23--  https://images.autotrader.com/scaler/500/375/hn/c/ecbe22e2b9be4ae4923f215f6d5f2ebb.jpg\n",
      "Resolving images.autotrader.com (images.autotrader.com)... 2600:9000:201d:6e00:6:249c:1640:93a1, 2600:9000:201d:b000:6:249c:1640:93a1, 2600:9000:201d:ca00:6:249c:1640:93a1, ...\n",
      "Connecting to images.autotrader.com (images.autotrader.com)|2600:9000:201d:6e00:6:249c:1640:93a1|:443... connected.\n",
      "HTTP request sent, awaiting response... 200 OK\n",
      "Length: 26841 (26K) [image/jpeg]\n",
      "Saving to: ‘/Users/levgolod/Projects/car_classifier/data/autotrader/vehicle_images/make-honda/model-odyssey/vehicle_id-731560875/ecbe22e2b9be4ae4923f215f6d5f2ebb.jpg’\n",
      "\n",
      "     0K .......... .......... ......                          100% 51.4M=0s\n",
      "\n",
      "2025-02-12 10:49:24 (51.4 MB/s) - ‘/Users/levgolod/Projects/car_classifier/data/autotrader/vehicle_images/make-honda/model-odyssey/vehicle_id-731560875/ecbe22e2b9be4ae4923f215f6d5f2ebb.jpg’ saved [26841/26841]\n",
      "\n"
     ]
    },
    {
     "name": "stdout",
     "output_type": "stream",
     "text": [
      "wget -nc -O \"/Users/levgolod/Projects/car_classifier/data/autotrader/vehicle_images/make-honda/model-odyssey/vehicle_id-731560875/3dafa744c068453d9af8d231056a5632.jpg\" \"https://images.autotrader.com/scaler/500/375/hn/c/3dafa744c068453d9af8d231056a5632.jpg\" \n"
     ]
    },
    {
     "name": "stderr",
     "output_type": "stream",
     "text": [
      "--2025-02-12 10:49:26--  https://images.autotrader.com/scaler/500/375/hn/c/3dafa744c068453d9af8d231056a5632.jpg\n",
      "Resolving images.autotrader.com (images.autotrader.com)... 2600:9000:201d:6a00:6:249c:1640:93a1, 2600:9000:201d:b000:6:249c:1640:93a1, 2600:9000:201d:ca00:6:249c:1640:93a1, ...\n",
      "Connecting to images.autotrader.com (images.autotrader.com)|2600:9000:201d:6a00:6:249c:1640:93a1|:443... connected.\n",
      "HTTP request sent, awaiting response... 200 OK\n",
      "Length: 34713 (34K) [image/jpeg]\n",
      "Saving to: ‘/Users/levgolod/Projects/car_classifier/data/autotrader/vehicle_images/make-honda/model-odyssey/vehicle_id-731560875/3dafa744c068453d9af8d231056a5632.jpg’\n",
      "\n",
      "     0K .......... .......... .......... ...                  100% 5.82M=0.006s\n",
      "\n",
      "2025-02-12 10:49:26 (5.82 MB/s) - ‘/Users/levgolod/Projects/car_classifier/data/autotrader/vehicle_images/make-honda/model-odyssey/vehicle_id-731560875/3dafa744c068453d9af8d231056a5632.jpg’ saved [34713/34713]\n",
      "\n"
     ]
    },
    {
     "name": "stdout",
     "output_type": "stream",
     "text": [
      "wget -nc -O \"/Users/levgolod/Projects/car_classifier/data/autotrader/vehicle_images/make-honda/model-odyssey/vehicle_id-731560875/7a5adac8553149d1ac97b491230c0439.jpg\" \"https://images.autotrader.com/scaler/500/375/hn/c/7a5adac8553149d1ac97b491230c0439.jpg\" \n"
     ]
    },
    {
     "name": "stderr",
     "output_type": "stream",
     "text": [
      "--2025-02-12 10:49:28--  https://images.autotrader.com/scaler/500/375/hn/c/7a5adac8553149d1ac97b491230c0439.jpg\n",
      "Resolving images.autotrader.com (images.autotrader.com)... 2600:9000:201d:6e00:6:249c:1640:93a1, 2600:9000:201d:b000:6:249c:1640:93a1, 2600:9000:201d:ca00:6:249c:1640:93a1, ...\n",
      "Connecting to images.autotrader.com (images.autotrader.com)|2600:9000:201d:6e00:6:249c:1640:93a1|:443... connected.\n",
      "HTTP request sent, awaiting response... 200 OK\n",
      "Length: 34533 (34K) [image/jpeg]\n",
      "Saving to: ‘/Users/levgolod/Projects/car_classifier/data/autotrader/vehicle_images/make-honda/model-odyssey/vehicle_id-731560875/7a5adac8553149d1ac97b491230c0439.jpg’\n",
      "\n",
      "     0K .......... .......... .......... ...                  100% 94.9M=0s\n",
      "\n",
      "2025-02-12 10:49:28 (94.9 MB/s) - ‘/Users/levgolod/Projects/car_classifier/data/autotrader/vehicle_images/make-honda/model-odyssey/vehicle_id-731560875/7a5adac8553149d1ac97b491230c0439.jpg’ saved [34533/34533]\n",
      "\n"
     ]
    },
    {
     "name": "stdout",
     "output_type": "stream",
     "text": [
      "wget -nc -O \"/Users/levgolod/Projects/car_classifier/data/autotrader/vehicle_images/make-honda/model-odyssey/vehicle_id-731560875/1e32558cf3574b49a5af38e8aa81138e.jpg\" \"https://images.autotrader.com/scaler/500/375/hn/c/1e32558cf3574b49a5af38e8aa81138e.jpg\" \n"
     ]
    },
    {
     "name": "stderr",
     "output_type": "stream",
     "text": [
      "--2025-02-12 10:49:30--  https://images.autotrader.com/scaler/500/375/hn/c/1e32558cf3574b49a5af38e8aa81138e.jpg\n",
      "Resolving images.autotrader.com (images.autotrader.com)... 2600:9000:201d:6e00:6:249c:1640:93a1, 2600:9000:201d:b000:6:249c:1640:93a1, 2600:9000:201d:ca00:6:249c:1640:93a1, ...\n",
      "Connecting to images.autotrader.com (images.autotrader.com)|2600:9000:201d:6e00:6:249c:1640:93a1|:443... connected.\n",
      "HTTP request sent, awaiting response... 200 OK\n",
      "Length: 29425 (29K) [image/jpeg]\n",
      "Saving to: ‘/Users/levgolod/Projects/car_classifier/data/autotrader/vehicle_images/make-honda/model-odyssey/vehicle_id-731560875/1e32558cf3574b49a5af38e8aa81138e.jpg’\n",
      "\n",
      "     0K .......... .......... ........                        100% 10.7M=0.003s\n",
      "\n",
      "2025-02-12 10:49:31 (10.7 MB/s) - ‘/Users/levgolod/Projects/car_classifier/data/autotrader/vehicle_images/make-honda/model-odyssey/vehicle_id-731560875/1e32558cf3574b49a5af38e8aa81138e.jpg’ saved [29425/29425]\n",
      "\n"
     ]
    },
    {
     "name": "stdout",
     "output_type": "stream",
     "text": [
      "wget -nc -O \"/Users/levgolod/Projects/car_classifier/data/autotrader/vehicle_images/make-honda/model-odyssey/vehicle_id-731560875/64980f76ffd24155a7d056c91b6e5251.jpg\" \"https://images.autotrader.com/scaler/500/375/hn/c/64980f76ffd24155a7d056c91b6e5251.jpg\" \n"
     ]
    },
    {
     "name": "stderr",
     "output_type": "stream",
     "text": [
      "--2025-02-12 10:49:33--  https://images.autotrader.com/scaler/500/375/hn/c/64980f76ffd24155a7d056c91b6e5251.jpg\n",
      "Resolving images.autotrader.com (images.autotrader.com)... 2600:9000:201d:6e00:6:249c:1640:93a1, 2600:9000:201d:b000:6:249c:1640:93a1, 2600:9000:201d:ca00:6:249c:1640:93a1, ...\n",
      "Connecting to images.autotrader.com (images.autotrader.com)|2600:9000:201d:6e00:6:249c:1640:93a1|:443... connected.\n",
      "HTTP request sent, awaiting response... 200 OK\n",
      "Length: 57264 (56K) [image/jpeg]\n",
      "Saving to: ‘/Users/levgolod/Projects/car_classifier/data/autotrader/vehicle_images/make-honda/model-odyssey/vehicle_id-731560875/64980f76ffd24155a7d056c91b6e5251.jpg’\n",
      "\n",
      "     0K .......... .......... .......... .......... .......... 89% 2.06M 0s\n",
      "    50K .....                                                 100% 20.2M=0.02s\n",
      "\n",
      "2025-02-12 10:49:33 (2.28 MB/s) - ‘/Users/levgolod/Projects/car_classifier/data/autotrader/vehicle_images/make-honda/model-odyssey/vehicle_id-731560875/64980f76ffd24155a7d056c91b6e5251.jpg’ saved [57264/57264]\n",
      "\n"
     ]
    },
    {
     "name": "stdout",
     "output_type": "stream",
     "text": [
      "wget -nc -O \"/Users/levgolod/Projects/car_classifier/data/autotrader/vehicle_images/make-honda/model-odyssey/vehicle_id-731560875/b13c00a8859a4a81aebdb714f0bf779e.jpg\" \"https://images.autotrader.com/scaler/500/375/hn/c/b13c00a8859a4a81aebdb714f0bf779e.jpg\" \n"
     ]
    },
    {
     "name": "stderr",
     "output_type": "stream",
     "text": [
      "--2025-02-12 10:49:35--  https://images.autotrader.com/scaler/500/375/hn/c/b13c00a8859a4a81aebdb714f0bf779e.jpg\n",
      "Resolving images.autotrader.com (images.autotrader.com)... 2600:9000:201d:6e00:6:249c:1640:93a1, 2600:9000:201d:b000:6:249c:1640:93a1, 2600:9000:201d:ca00:6:249c:1640:93a1, ...\n",
      "Connecting to images.autotrader.com (images.autotrader.com)|2600:9000:201d:6e00:6:249c:1640:93a1|:443... connected.\n",
      "HTTP request sent, awaiting response... 200 OK\n",
      "Length: 23225 (23K) [image/jpeg]\n",
      "Saving to: ‘/Users/levgolod/Projects/car_classifier/data/autotrader/vehicle_images/make-honda/model-odyssey/vehicle_id-731560875/b13c00a8859a4a81aebdb714f0bf779e.jpg’\n",
      "\n",
      "     0K .......... .......... ..                              100% 5.76M=0.004s\n",
      "\n",
      "2025-02-12 10:49:36 (5.76 MB/s) - ‘/Users/levgolod/Projects/car_classifier/data/autotrader/vehicle_images/make-honda/model-odyssey/vehicle_id-731560875/b13c00a8859a4a81aebdb714f0bf779e.jpg’ saved [23225/23225]\n",
      "\n"
     ]
    },
    {
     "name": "stdout",
     "output_type": "stream",
     "text": [
      "wget -nc -O \"/Users/levgolod/Projects/car_classifier/data/autotrader/vehicle_images/make-honda/model-odyssey/vehicle_id-731560875/f2d23aceac6844ac9de70b0738ebbb74.jpg\" \"https://images.autotrader.com/scaler/500/375/hn/c/f2d23aceac6844ac9de70b0738ebbb74.jpg\" \n"
     ]
    },
    {
     "name": "stderr",
     "output_type": "stream",
     "text": [
      "--2025-02-12 10:49:38--  https://images.autotrader.com/scaler/500/375/hn/c/f2d23aceac6844ac9de70b0738ebbb74.jpg\n",
      "Resolving images.autotrader.com (images.autotrader.com)... 2600:9000:201d:6e00:6:249c:1640:93a1, 2600:9000:201d:b000:6:249c:1640:93a1, 2600:9000:201d:ca00:6:249c:1640:93a1, ...\n",
      "Connecting to images.autotrader.com (images.autotrader.com)|2600:9000:201d:6e00:6:249c:1640:93a1|:443... connected.\n",
      "HTTP request sent, awaiting response... 200 OK\n",
      "Length: 36980 (36K) [image/jpeg]\n",
      "Saving to: ‘/Users/levgolod/Projects/car_classifier/data/autotrader/vehicle_images/make-honda/model-odyssey/vehicle_id-731560875/f2d23aceac6844ac9de70b0738ebbb74.jpg’\n",
      "\n",
      "     0K .......... .......... .......... ......               100%  672K=0.05s\n",
      "\n",
      "2025-02-12 10:49:38 (672 KB/s) - ‘/Users/levgolod/Projects/car_classifier/data/autotrader/vehicle_images/make-honda/model-odyssey/vehicle_id-731560875/f2d23aceac6844ac9de70b0738ebbb74.jpg’ saved [36980/36980]\n",
      "\n"
     ]
    },
    {
     "name": "stdout",
     "output_type": "stream",
     "text": [
      "wget -nc -O \"/Users/levgolod/Projects/car_classifier/data/autotrader/vehicle_images/make-honda/model-odyssey/vehicle_id-731560875/48d577b8c24045c6baf7b346f7157736.jpg\" \"https://images.autotrader.com/scaler/500/375/hn/c/48d577b8c24045c6baf7b346f7157736.jpg\" \n"
     ]
    },
    {
     "name": "stderr",
     "output_type": "stream",
     "text": [
      "--2025-02-12 10:49:40--  https://images.autotrader.com/scaler/500/375/hn/c/48d577b8c24045c6baf7b346f7157736.jpg\n",
      "Resolving images.autotrader.com (images.autotrader.com)... 2600:9000:201d:9e00:6:249c:1640:93a1, 2600:9000:201d:7e00:6:249c:1640:93a1, 2600:9000:201d:d400:6:249c:1640:93a1, ...\n",
      "Connecting to images.autotrader.com (images.autotrader.com)|2600:9000:201d:9e00:6:249c:1640:93a1|:443... connected.\n",
      "HTTP request sent, awaiting response... 200 OK\n",
      "Length: 46065 (45K) [image/jpeg]\n",
      "Saving to: ‘/Users/levgolod/Projects/car_classifier/data/autotrader/vehicle_images/make-honda/model-odyssey/vehicle_id-731560875/48d577b8c24045c6baf7b346f7157736.jpg’\n",
      "\n",
      "     0K .......... .......... .......... .......... ....      100% 2.04M=0.02s\n",
      "\n",
      "2025-02-12 10:49:40 (2.04 MB/s) - ‘/Users/levgolod/Projects/car_classifier/data/autotrader/vehicle_images/make-honda/model-odyssey/vehicle_id-731560875/48d577b8c24045c6baf7b346f7157736.jpg’ saved [46065/46065]\n",
      "\n"
     ]
    },
    {
     "name": "stdout",
     "output_type": "stream",
     "text": [
      "wget -nc -O \"/Users/levgolod/Projects/car_classifier/data/autotrader/vehicle_images/make-honda/model-odyssey/vehicle_id-731560875/a472950d7db84a219ac273e9900f0a6f.jpg\" \"https://images.autotrader.com/scaler/500/375/hn/c/a472950d7db84a219ac273e9900f0a6f.jpg\" \n"
     ]
    },
    {
     "name": "stderr",
     "output_type": "stream",
     "text": [
      "--2025-02-12 10:49:42--  https://images.autotrader.com/scaler/500/375/hn/c/a472950d7db84a219ac273e9900f0a6f.jpg\n",
      "Resolving images.autotrader.com (images.autotrader.com)... 2600:9000:201d:9e00:6:249c:1640:93a1, 2600:9000:201d:7e00:6:249c:1640:93a1, 2600:9000:201d:d400:6:249c:1640:93a1, ...\n",
      "Connecting to images.autotrader.com (images.autotrader.com)|2600:9000:201d:9e00:6:249c:1640:93a1|:443... connected.\n",
      "HTTP request sent, awaiting response... 200 OK\n",
      "Length: 44056 (43K) [image/jpeg]\n",
      "Saving to: ‘/Users/levgolod/Projects/car_classifier/data/autotrader/vehicle_images/make-honda/model-odyssey/vehicle_id-731560875/a472950d7db84a219ac273e9900f0a6f.jpg’\n",
      "\n",
      "     0K .......... .......... .......... .......... ...       100% 1.98M=0.02s\n",
      "\n",
      "2025-02-12 10:49:43 (1.98 MB/s) - ‘/Users/levgolod/Projects/car_classifier/data/autotrader/vehicle_images/make-honda/model-odyssey/vehicle_id-731560875/a472950d7db84a219ac273e9900f0a6f.jpg’ saved [44056/44056]\n",
      "\n"
     ]
    },
    {
     "name": "stdout",
     "output_type": "stream",
     "text": [
      "wget -nc -O \"/Users/levgolod/Projects/car_classifier/data/autotrader/vehicle_images/make-honda/model-odyssey/vehicle_id-731560875/9ada9242f5314c07881589ae8cdd3bcc.jpg\" \"https://images.autotrader.com/scaler/500/375/hn/c/9ada9242f5314c07881589ae8cdd3bcc.jpg\" \n"
     ]
    },
    {
     "name": "stderr",
     "output_type": "stream",
     "text": [
      "--2025-02-12 10:49:45--  https://images.autotrader.com/scaler/500/375/hn/c/9ada9242f5314c07881589ae8cdd3bcc.jpg\n",
      "Resolving images.autotrader.com (images.autotrader.com)... 2600:9000:201d:9e00:6:249c:1640:93a1, 2600:9000:201d:7e00:6:249c:1640:93a1, 2600:9000:201d:d400:6:249c:1640:93a1, ...\n",
      "Connecting to images.autotrader.com (images.autotrader.com)|2600:9000:201d:9e00:6:249c:1640:93a1|:443... connected.\n",
      "HTTP request sent, awaiting response... 200 OK\n",
      "Length: 40463 (40K) [image/jpeg]\n",
      "Saving to: ‘/Users/levgolod/Projects/car_classifier/data/autotrader/vehicle_images/make-honda/model-odyssey/vehicle_id-731560875/9ada9242f5314c07881589ae8cdd3bcc.jpg’\n",
      "\n",
      "     0K .......... .......... .......... .........            100% 2.04M=0.02s\n",
      "\n",
      "2025-02-12 10:49:45 (2.04 MB/s) - ‘/Users/levgolod/Projects/car_classifier/data/autotrader/vehicle_images/make-honda/model-odyssey/vehicle_id-731560875/9ada9242f5314c07881589ae8cdd3bcc.jpg’ saved [40463/40463]\n",
      "\n"
     ]
    },
    {
     "name": "stdout",
     "output_type": "stream",
     "text": [
      "wget -nc -O \"/Users/levgolod/Projects/car_classifier/data/autotrader/vehicle_images/make-honda/model-odyssey/vehicle_id-731560875/9924db3759a042d996736b073dbb48a7.jpg\" \"https://images.autotrader.com/scaler/500/375/hn/c/9924db3759a042d996736b073dbb48a7.jpg\" \n"
     ]
    },
    {
     "name": "stderr",
     "output_type": "stream",
     "text": [
      "--2025-02-12 10:49:47--  https://images.autotrader.com/scaler/500/375/hn/c/9924db3759a042d996736b073dbb48a7.jpg\n",
      "Resolving images.autotrader.com (images.autotrader.com)... 2600:9000:201d:9e00:6:249c:1640:93a1, 2600:9000:201d:7e00:6:249c:1640:93a1, 2600:9000:201d:d400:6:249c:1640:93a1, ...\n",
      "Connecting to images.autotrader.com (images.autotrader.com)|2600:9000:201d:9e00:6:249c:1640:93a1|:443... connected.\n",
      "HTTP request sent, awaiting response... 200 OK\n",
      "Length: 40278 (39K) [image/jpeg]\n",
      "Saving to: ‘/Users/levgolod/Projects/car_classifier/data/autotrader/vehicle_images/make-honda/model-odyssey/vehicle_id-731560875/9924db3759a042d996736b073dbb48a7.jpg’\n",
      "\n",
      "     0K .......... .......... .......... .........            100% 2.08M=0.02s\n",
      "\n",
      "2025-02-12 10:49:47 (2.08 MB/s) - ‘/Users/levgolod/Projects/car_classifier/data/autotrader/vehicle_images/make-honda/model-odyssey/vehicle_id-731560875/9924db3759a042d996736b073dbb48a7.jpg’ saved [40278/40278]\n",
      "\n"
     ]
    },
    {
     "name": "stdout",
     "output_type": "stream",
     "text": [
      "wget -nc -O \"/Users/levgolod/Projects/car_classifier/data/autotrader/vehicle_images/make-honda/model-odyssey/vehicle_id-731560875/ea546d1116c04897859da41d1c106265.jpg\" \"https://images.autotrader.com/scaler/500/375/hn/c/ea546d1116c04897859da41d1c106265.jpg\" \n"
     ]
    },
    {
     "name": "stderr",
     "output_type": "stream",
     "text": [
      "--2025-02-12 10:49:49--  https://images.autotrader.com/scaler/500/375/hn/c/ea546d1116c04897859da41d1c106265.jpg\n",
      "Resolving images.autotrader.com (images.autotrader.com)... 2600:9000:201d:9e00:6:249c:1640:93a1, 2600:9000:201d:7e00:6:249c:1640:93a1, 2600:9000:201d:d400:6:249c:1640:93a1, ...\n",
      "Connecting to images.autotrader.com (images.autotrader.com)|2600:9000:201d:9e00:6:249c:1640:93a1|:443... connected.\n",
      "HTTP request sent, awaiting response... 200 OK\n",
      "Length: 49068 (48K) [image/jpeg]\n",
      "Saving to: ‘/Users/levgolod/Projects/car_classifier/data/autotrader/vehicle_images/make-honda/model-odyssey/vehicle_id-731560875/ea546d1116c04897859da41d1c106265.jpg’\n",
      "\n",
      "     0K .......... .......... .......... .......... .......   100% 2.77M=0.02s\n",
      "\n",
      "2025-02-12 10:49:49 (2.77 MB/s) - ‘/Users/levgolod/Projects/car_classifier/data/autotrader/vehicle_images/make-honda/model-odyssey/vehicle_id-731560875/ea546d1116c04897859da41d1c106265.jpg’ saved [49068/49068]\n",
      "\n"
     ]
    },
    {
     "name": "stdout",
     "output_type": "stream",
     "text": [
      "wget -nc -O \"/Users/levgolod/Projects/car_classifier/data/autotrader/vehicle_images/make-honda/model-odyssey/vehicle_id-731560875/bdda619edfee4c6da90ea9a7b618b9e6.jpg\" \"https://images.autotrader.com/scaler/500/375/hn/c/bdda619edfee4c6da90ea9a7b618b9e6.jpg\" \n"
     ]
    },
    {
     "name": "stderr",
     "output_type": "stream",
     "text": [
      "--2025-02-12 10:49:51--  https://images.autotrader.com/scaler/500/375/hn/c/bdda619edfee4c6da90ea9a7b618b9e6.jpg\n",
      "Resolving images.autotrader.com (images.autotrader.com)... 2600:9000:201d:9e00:6:249c:1640:93a1, 2600:9000:201d:7e00:6:249c:1640:93a1, 2600:9000:201d:d400:6:249c:1640:93a1, ...\n",
      "Connecting to images.autotrader.com (images.autotrader.com)|2600:9000:201d:9e00:6:249c:1640:93a1|:443... connected.\n",
      "HTTP request sent, awaiting response... 200 OK\n",
      "Length: 41118 (40K) [image/jpeg]\n",
      "Saving to: ‘/Users/levgolod/Projects/car_classifier/data/autotrader/vehicle_images/make-honda/model-odyssey/vehicle_id-731560875/bdda619edfee4c6da90ea9a7b618b9e6.jpg’\n",
      "\n",
      "     0K .......... .......... .......... ..........           100% 2.75M=0.01s\n",
      "\n",
      "2025-02-12 10:49:52 (2.75 MB/s) - ‘/Users/levgolod/Projects/car_classifier/data/autotrader/vehicle_images/make-honda/model-odyssey/vehicle_id-731560875/bdda619edfee4c6da90ea9a7b618b9e6.jpg’ saved [41118/41118]\n",
      "\n"
     ]
    },
    {
     "name": "stdout",
     "output_type": "stream",
     "text": [
      "wget -nc -O \"/Users/levgolod/Projects/car_classifier/data/autotrader/vehicle_images/make-honda/model-odyssey/vehicle_id-731560875/a624acb7d6344b7bbef2c0c20906bee0.jpg\" \"https://images.autotrader.com/scaler/500/375/hn/c/a624acb7d6344b7bbef2c0c20906bee0.jpg\" \n"
     ]
    },
    {
     "name": "stderr",
     "output_type": "stream",
     "text": [
      "--2025-02-12 10:49:54--  https://images.autotrader.com/scaler/500/375/hn/c/a624acb7d6344b7bbef2c0c20906bee0.jpg\n",
      "Resolving images.autotrader.com (images.autotrader.com)... 2600:9000:201d:9e00:6:249c:1640:93a1, 2600:9000:201d:7e00:6:249c:1640:93a1, 2600:9000:201d:d400:6:249c:1640:93a1, ...\n",
      "Connecting to images.autotrader.com (images.autotrader.com)|2600:9000:201d:9e00:6:249c:1640:93a1|:443... connected.\n",
      "HTTP request sent, awaiting response... 200 OK\n",
      "Length: 29744 (29K) [image/jpeg]\n",
      "Saving to: ‘/Users/levgolod/Projects/car_classifier/data/autotrader/vehicle_images/make-honda/model-odyssey/vehicle_id-731560875/a624acb7d6344b7bbef2c0c20906bee0.jpg’\n",
      "\n",
      "     0K .......... .......... .........                       100% 32.6M=0.001s\n",
      "\n",
      "2025-02-12 10:49:54 (32.6 MB/s) - ‘/Users/levgolod/Projects/car_classifier/data/autotrader/vehicle_images/make-honda/model-odyssey/vehicle_id-731560875/a624acb7d6344b7bbef2c0c20906bee0.jpg’ saved [29744/29744]\n",
      "\n"
     ]
    },
    {
     "name": "stdout",
     "output_type": "stream",
     "text": [
      "wget -nc -O \"/Users/levgolod/Projects/car_classifier/data/autotrader/vehicle_images/make-honda/model-odyssey/vehicle_id-731560875/cbd92b6c6e754543b5803b097f47a9d7.jpg\" \"https://images.autotrader.com/scaler/500/375/hn/c/cbd92b6c6e754543b5803b097f47a9d7.jpg\" \n"
     ]
    },
    {
     "name": "stderr",
     "output_type": "stream",
     "text": [
      "--2025-02-12 10:49:56--  https://images.autotrader.com/scaler/500/375/hn/c/cbd92b6c6e754543b5803b097f47a9d7.jpg\n",
      "Resolving images.autotrader.com (images.autotrader.com)... 2600:9000:201d:9e00:6:249c:1640:93a1, 2600:9000:201d:7e00:6:249c:1640:93a1, 2600:9000:201d:d400:6:249c:1640:93a1, ...\n",
      "Connecting to images.autotrader.com (images.autotrader.com)|2600:9000:201d:9e00:6:249c:1640:93a1|:443... connected.\n",
      "HTTP request sent, awaiting response... 200 OK\n",
      "Length: 39336 (38K) [image/jpeg]\n",
      "Saving to: ‘/Users/levgolod/Projects/car_classifier/data/autotrader/vehicle_images/make-honda/model-odyssey/vehicle_id-731560875/cbd92b6c6e754543b5803b097f47a9d7.jpg’\n",
      "\n",
      "     0K .......... .......... .......... ........             100% 2.61M=0.01s\n",
      "\n",
      "2025-02-12 10:49:56 (2.61 MB/s) - ‘/Users/levgolod/Projects/car_classifier/data/autotrader/vehicle_images/make-honda/model-odyssey/vehicle_id-731560875/cbd92b6c6e754543b5803b097f47a9d7.jpg’ saved [39336/39336]\n",
      "\n"
     ]
    },
    {
     "name": "stdout",
     "output_type": "stream",
     "text": [
      "wget -nc -O \"/Users/levgolod/Projects/car_classifier/data/autotrader/vehicle_images/make-honda/model-odyssey/vehicle_id-731560875/180de463ba7e4b2082e4dccd18e39e77.jpg\" \"https://images.autotrader.com/scaler/500/375/hn/c/180de463ba7e4b2082e4dccd18e39e77.jpg\" \n"
     ]
    },
    {
     "name": "stderr",
     "output_type": "stream",
     "text": [
      "--2025-02-12 10:49:58--  https://images.autotrader.com/scaler/500/375/hn/c/180de463ba7e4b2082e4dccd18e39e77.jpg\n",
      "Resolving images.autotrader.com (images.autotrader.com)... 2600:9000:201d:9e00:6:249c:1640:93a1, 2600:9000:201d:7e00:6:249c:1640:93a1, 2600:9000:201d:d400:6:249c:1640:93a1, ...\n",
      "Connecting to images.autotrader.com (images.autotrader.com)|2600:9000:201d:9e00:6:249c:1640:93a1|:443... connected.\n",
      "HTTP request sent, awaiting response... 200 OK\n",
      "Length: 35915 (35K) [image/jpeg]\n",
      "Saving to: ‘/Users/levgolod/Projects/car_classifier/data/autotrader/vehicle_images/make-honda/model-odyssey/vehicle_id-731560875/180de463ba7e4b2082e4dccd18e39e77.jpg’\n",
      "\n",
      "     0K .......... .......... .......... .....                100% 3.42M=0.01s\n",
      "\n",
      "2025-02-12 10:49:59 (3.42 MB/s) - ‘/Users/levgolod/Projects/car_classifier/data/autotrader/vehicle_images/make-honda/model-odyssey/vehicle_id-731560875/180de463ba7e4b2082e4dccd18e39e77.jpg’ saved [35915/35915]\n",
      "\n"
     ]
    },
    {
     "name": "stdout",
     "output_type": "stream",
     "text": [
      "wget -nc -O \"/Users/levgolod/Projects/car_classifier/data/autotrader/vehicle_images/make-honda/model-odyssey/vehicle_id-731560875/c9bd2ddb9e6944e9b20c4081515b3960.jpg\" \"https://images.autotrader.com/scaler/500/375/hn/c/c9bd2ddb9e6944e9b20c4081515b3960.jpg\" \n"
     ]
    },
    {
     "name": "stderr",
     "output_type": "stream",
     "text": [
      "--2025-02-12 10:50:01--  https://images.autotrader.com/scaler/500/375/hn/c/c9bd2ddb9e6944e9b20c4081515b3960.jpg\n",
      "Resolving images.autotrader.com (images.autotrader.com)... 2600:9000:201d:9e00:6:249c:1640:93a1, 2600:9000:201d:7e00:6:249c:1640:93a1, 2600:9000:201d:d400:6:249c:1640:93a1, ...\n",
      "Connecting to images.autotrader.com (images.autotrader.com)|2600:9000:201d:9e00:6:249c:1640:93a1|:443... connected.\n",
      "HTTP request sent, awaiting response... 200 OK\n",
      "Length: 24890 (24K) [image/jpeg]\n",
      "Saving to: ‘/Users/levgolod/Projects/car_classifier/data/autotrader/vehicle_images/make-honda/model-odyssey/vehicle_id-731560875/c9bd2ddb9e6944e9b20c4081515b3960.jpg’\n",
      "\n",
      "     0K .......... .......... ....                            100% 3.31M=0.007s\n",
      "\n",
      "2025-02-12 10:50:01 (3.31 MB/s) - ‘/Users/levgolod/Projects/car_classifier/data/autotrader/vehicle_images/make-honda/model-odyssey/vehicle_id-731560875/c9bd2ddb9e6944e9b20c4081515b3960.jpg’ saved [24890/24890]\n",
      "\n"
     ]
    },
    {
     "name": "stdout",
     "output_type": "stream",
     "text": [
      "wget -nc -O \"/Users/levgolod/Projects/car_classifier/data/autotrader/vehicle_images/make-honda/model-odyssey/vehicle_id-731560875/44e22a85c99b4cb38e86ac6d64d094d5.jpg\" \"https://images.autotrader.com/scaler/500/375/hn/c/44e22a85c99b4cb38e86ac6d64d094d5.jpg\" \n"
     ]
    },
    {
     "name": "stderr",
     "output_type": "stream",
     "text": [
      "--2025-02-12 10:50:03--  https://images.autotrader.com/scaler/500/375/hn/c/44e22a85c99b4cb38e86ac6d64d094d5.jpg\n",
      "Resolving images.autotrader.com (images.autotrader.com)... 2600:9000:201d:9e00:6:249c:1640:93a1, 2600:9000:201d:7e00:6:249c:1640:93a1, 2600:9000:201d:d400:6:249c:1640:93a1, ...\n",
      "Connecting to images.autotrader.com (images.autotrader.com)|2600:9000:201d:9e00:6:249c:1640:93a1|:443... connected.\n",
      "HTTP request sent, awaiting response... 200 OK\n",
      "Length: 39787 (39K) [image/jpeg]\n",
      "Saving to: ‘/Users/levgolod/Projects/car_classifier/data/autotrader/vehicle_images/make-honda/model-odyssey/vehicle_id-731560875/44e22a85c99b4cb38e86ac6d64d094d5.jpg’\n",
      "\n",
      "     0K .......... .......... .......... ........             100% 2.28M=0.02s\n",
      "\n",
      "2025-02-12 10:50:03 (2.28 MB/s) - ‘/Users/levgolod/Projects/car_classifier/data/autotrader/vehicle_images/make-honda/model-odyssey/vehicle_id-731560875/44e22a85c99b4cb38e86ac6d64d094d5.jpg’ saved [39787/39787]\n",
      "\n"
     ]
    },
    {
     "name": "stdout",
     "output_type": "stream",
     "text": [
      "wget -nc -O \"/Users/levgolod/Projects/car_classifier/data/autotrader/vehicle_images/make-honda/model-odyssey/vehicle_id-731560875/697c4b96628b4bb8aaa48be71dfe35da.jpg\" \"https://images.autotrader.com/scaler/500/375/hn/c/697c4b96628b4bb8aaa48be71dfe35da.jpg\" \n"
     ]
    },
    {
     "name": "stderr",
     "output_type": "stream",
     "text": [
      "--2025-02-12 10:50:05--  https://images.autotrader.com/scaler/500/375/hn/c/697c4b96628b4bb8aaa48be71dfe35da.jpg\n",
      "Resolving images.autotrader.com (images.autotrader.com)... 2600:9000:201d:9e00:6:249c:1640:93a1, 2600:9000:201d:7e00:6:249c:1640:93a1, 2600:9000:201d:d400:6:249c:1640:93a1, ...\n",
      "Connecting to images.autotrader.com (images.autotrader.com)|2600:9000:201d:9e00:6:249c:1640:93a1|:443... connected.\n",
      "HTTP request sent, awaiting response... 200 OK\n",
      "Length: 53622 (52K) [image/jpeg]\n",
      "Saving to: ‘/Users/levgolod/Projects/car_classifier/data/autotrader/vehicle_images/make-honda/model-odyssey/vehicle_id-731560875/697c4b96628b4bb8aaa48be71dfe35da.jpg’\n",
      "\n",
      "     0K .......... .......... .......... .......... .......... 95% 2.55M 0s\n",
      "    50K ..                                                    100% 47.3K=0.02s\n",
      "\n",
      "2025-02-12 10:50:06 (2.67 MB/s) - ‘/Users/levgolod/Projects/car_classifier/data/autotrader/vehicle_images/make-honda/model-odyssey/vehicle_id-731560875/697c4b96628b4bb8aaa48be71dfe35da.jpg’ saved [53622/53622]\n",
      "\n"
     ]
    },
    {
     "name": "stdout",
     "output_type": "stream",
     "text": [
      "wget -nc -O \"/Users/levgolod/Projects/car_classifier/data/autotrader/vehicle_images/make-honda/model-odyssey/vehicle_id-736627883/f04a19b79d97427899799b66bab3f010.jpg\" \"https://images.autotrader.com/scaler/500/375/hn/c/f04a19b79d97427899799b66bab3f010.jpg\" \n"
     ]
    },
    {
     "name": "stderr",
     "output_type": "stream",
     "text": [
      "--2025-02-12 10:50:08--  https://images.autotrader.com/scaler/500/375/hn/c/f04a19b79d97427899799b66bab3f010.jpg\n",
      "Resolving images.autotrader.com (images.autotrader.com)... 2600:9000:201d:9e00:6:249c:1640:93a1, 2600:9000:201d:7e00:6:249c:1640:93a1, 2600:9000:201d:d400:6:249c:1640:93a1, ...\n",
      "Connecting to images.autotrader.com (images.autotrader.com)|2600:9000:201d:9e00:6:249c:1640:93a1|:443... connected.\n",
      "HTTP request sent, awaiting response... 200 OK\n",
      "Length: 57670 (56K) [image/jpeg]\n",
      "Saving to: ‘/Users/levgolod/Projects/car_classifier/data/autotrader/vehicle_images/make-honda/model-odyssey/vehicle_id-736627883/f04a19b79d97427899799b66bab3f010.jpg’\n",
      "\n",
      "     0K .......... .......... .......... .......... .......... 88% 1.43M 0s\n",
      "    50K ......                                                100%  126K=0.03s\n",
      "\n",
      "2025-02-12 10:50:08 (1.61 MB/s) - ‘/Users/levgolod/Projects/car_classifier/data/autotrader/vehicle_images/make-honda/model-odyssey/vehicle_id-736627883/f04a19b79d97427899799b66bab3f010.jpg’ saved [57670/57670]\n",
      "\n"
     ]
    },
    {
     "name": "stdout",
     "output_type": "stream",
     "text": [
      "wget -nc -O \"/Users/levgolod/Projects/car_classifier/data/autotrader/vehicle_images/make-honda/model-odyssey/vehicle_id-736627883/42d2b2322cb14fbaab9f2ef75f7403d7.jpg\" \"https://images.autotrader.com/scaler/500/375/hn/c/42d2b2322cb14fbaab9f2ef75f7403d7.jpg\" \n"
     ]
    },
    {
     "name": "stderr",
     "output_type": "stream",
     "text": [
      "--2025-02-12 10:50:10--  https://images.autotrader.com/scaler/500/375/hn/c/42d2b2322cb14fbaab9f2ef75f7403d7.jpg\n",
      "Resolving images.autotrader.com (images.autotrader.com)... 2600:9000:201d:3e00:6:249c:1640:93a1, 2600:9000:201d:5e00:6:249c:1640:93a1, 2600:9000:201d:f800:6:249c:1640:93a1, ...\n",
      "Connecting to images.autotrader.com (images.autotrader.com)|2600:9000:201d:3e00:6:249c:1640:93a1|:443... connected.\n",
      "HTTP request sent, awaiting response... 200 OK\n",
      "Length: 42508 (42K) [image/jpeg]\n",
      "Saving to: ‘/Users/levgolod/Projects/car_classifier/data/autotrader/vehicle_images/make-honda/model-odyssey/vehicle_id-736627883/42d2b2322cb14fbaab9f2ef75f7403d7.jpg’\n",
      "\n",
      "     0K .......... .......... .......... .......... .         100% 5.45M=0.007s\n",
      "\n",
      "2025-02-12 10:50:11 (5.45 MB/s) - ‘/Users/levgolod/Projects/car_classifier/data/autotrader/vehicle_images/make-honda/model-odyssey/vehicle_id-736627883/42d2b2322cb14fbaab9f2ef75f7403d7.jpg’ saved [42508/42508]\n",
      "\n"
     ]
    },
    {
     "name": "stdout",
     "output_type": "stream",
     "text": [
      "wget -nc -O \"/Users/levgolod/Projects/car_classifier/data/autotrader/vehicle_images/make-honda/model-odyssey/vehicle_id-736627883/5a9438be0aec407991d2f61469560f87.jpg\" \"https://images.autotrader.com/scaler/500/375/hn/c/5a9438be0aec407991d2f61469560f87.jpg\" \n"
     ]
    },
    {
     "name": "stderr",
     "output_type": "stream",
     "text": [
      "--2025-02-12 10:50:13--  https://images.autotrader.com/scaler/500/375/hn/c/5a9438be0aec407991d2f61469560f87.jpg\n",
      "Resolving images.autotrader.com (images.autotrader.com)... 2600:9000:201d:3e00:6:249c:1640:93a1, 2600:9000:201d:5e00:6:249c:1640:93a1, 2600:9000:201d:f800:6:249c:1640:93a1, ...\n",
      "Connecting to images.autotrader.com (images.autotrader.com)|2600:9000:201d:3e00:6:249c:1640:93a1|:443... connected.\n",
      "HTTP request sent, awaiting response... 200 OK\n",
      "Length: 44385 (43K) [image/jpeg]\n",
      "Saving to: ‘/Users/levgolod/Projects/car_classifier/data/autotrader/vehicle_images/make-honda/model-odyssey/vehicle_id-736627883/5a9438be0aec407991d2f61469560f87.jpg’\n",
      "\n",
      "     0K .......... .......... .......... .......... ...       100% 2.44M=0.02s\n",
      "\n",
      "2025-02-12 10:50:13 (2.44 MB/s) - ‘/Users/levgolod/Projects/car_classifier/data/autotrader/vehicle_images/make-honda/model-odyssey/vehicle_id-736627883/5a9438be0aec407991d2f61469560f87.jpg’ saved [44385/44385]\n",
      "\n"
     ]
    },
    {
     "name": "stdout",
     "output_type": "stream",
     "text": [
      "wget -nc -O \"/Users/levgolod/Projects/car_classifier/data/autotrader/vehicle_images/make-honda/model-odyssey/vehicle_id-736627883/81e855d641b2416abf92f9eaf2875089.jpg\" \"https://images.autotrader.com/scaler/500/375/hn/c/81e855d641b2416abf92f9eaf2875089.jpg\" \n"
     ]
    },
    {
     "name": "stderr",
     "output_type": "stream",
     "text": [
      "--2025-02-12 10:50:15--  https://images.autotrader.com/scaler/500/375/hn/c/81e855d641b2416abf92f9eaf2875089.jpg\n",
      "Resolving images.autotrader.com (images.autotrader.com)... 2600:9000:201d:3e00:6:249c:1640:93a1, 2600:9000:201d:5e00:6:249c:1640:93a1, 2600:9000:201d:f800:6:249c:1640:93a1, ...\n",
      "Connecting to images.autotrader.com (images.autotrader.com)|2600:9000:201d:3e00:6:249c:1640:93a1|:443... connected.\n",
      "HTTP request sent, awaiting response... 200 OK\n",
      "Length: 43997 (43K) [image/jpeg]\n",
      "Saving to: ‘/Users/levgolod/Projects/car_classifier/data/autotrader/vehicle_images/make-honda/model-odyssey/vehicle_id-736627883/81e855d641b2416abf92f9eaf2875089.jpg’\n",
      "\n",
      "     0K .......... .......... .......... .......... ..        100% 2.20M=0.02s\n",
      "\n",
      "2025-02-12 10:50:15 (2.20 MB/s) - ‘/Users/levgolod/Projects/car_classifier/data/autotrader/vehicle_images/make-honda/model-odyssey/vehicle_id-736627883/81e855d641b2416abf92f9eaf2875089.jpg’ saved [43997/43997]\n",
      "\n"
     ]
    },
    {
     "name": "stdout",
     "output_type": "stream",
     "text": [
      "wget -nc -O \"/Users/levgolod/Projects/car_classifier/data/autotrader/vehicle_images/make-honda/model-odyssey/vehicle_id-736627883/894d9681b5974d49947ee27de799c076.jpg\" \"https://images.autotrader.com/scaler/500/375/hn/c/894d9681b5974d49947ee27de799c076.jpg\" \n"
     ]
    },
    {
     "name": "stderr",
     "output_type": "stream",
     "text": [
      "--2025-02-12 10:50:17--  https://images.autotrader.com/scaler/500/375/hn/c/894d9681b5974d49947ee27de799c076.jpg\n",
      "Resolving images.autotrader.com (images.autotrader.com)... 2600:9000:201d:3e00:6:249c:1640:93a1, 2600:9000:201d:5e00:6:249c:1640:93a1, 2600:9000:201d:f800:6:249c:1640:93a1, ...\n",
      "Connecting to images.autotrader.com (images.autotrader.com)|2600:9000:201d:3e00:6:249c:1640:93a1|:443... connected.\n",
      "HTTP request sent, awaiting response... 200 OK\n",
      "Length: 40038 (39K) [image/jpeg]\n",
      "Saving to: ‘/Users/levgolod/Projects/car_classifier/data/autotrader/vehicle_images/make-honda/model-odyssey/vehicle_id-736627883/894d9681b5974d49947ee27de799c076.jpg’\n",
      "\n",
      "     0K .......... .......... .......... .........            100% 5.69M=0.007s\n",
      "\n",
      "2025-02-12 10:50:17 (5.69 MB/s) - ‘/Users/levgolod/Projects/car_classifier/data/autotrader/vehicle_images/make-honda/model-odyssey/vehicle_id-736627883/894d9681b5974d49947ee27de799c076.jpg’ saved [40038/40038]\n",
      "\n"
     ]
    },
    {
     "name": "stdout",
     "output_type": "stream",
     "text": [
      "wget -nc -O \"/Users/levgolod/Projects/car_classifier/data/autotrader/vehicle_images/make-honda/model-odyssey/vehicle_id-736627883/4047f4fd693a4b8a88b435c58937590b.jpg\" \"https://images.autotrader.com/scaler/500/375/hn/c/4047f4fd693a4b8a88b435c58937590b.jpg\" \n"
     ]
    },
    {
     "name": "stderr",
     "output_type": "stream",
     "text": [
      "--2025-02-12 10:50:19--  https://images.autotrader.com/scaler/500/375/hn/c/4047f4fd693a4b8a88b435c58937590b.jpg\n",
      "Resolving images.autotrader.com (images.autotrader.com)... 2600:9000:201d:3e00:6:249c:1640:93a1, 2600:9000:201d:5e00:6:249c:1640:93a1, 2600:9000:201d:f800:6:249c:1640:93a1, ...\n",
      "Connecting to images.autotrader.com (images.autotrader.com)|2600:9000:201d:3e00:6:249c:1640:93a1|:443... connected.\n",
      "HTTP request sent, awaiting response... 200 OK\n",
      "Length: 49133 (48K) [image/jpeg]\n",
      "Saving to: ‘/Users/levgolod/Projects/car_classifier/data/autotrader/vehicle_images/make-honda/model-odyssey/vehicle_id-736627883/4047f4fd693a4b8a88b435c58937590b.jpg’\n",
      "\n",
      "     0K .......... .......... .......... .......... .......   100% 2.00M=0.02s\n",
      "\n",
      "2025-02-12 10:50:20 (2.00 MB/s) - ‘/Users/levgolod/Projects/car_classifier/data/autotrader/vehicle_images/make-honda/model-odyssey/vehicle_id-736627883/4047f4fd693a4b8a88b435c58937590b.jpg’ saved [49133/49133]\n",
      "\n"
     ]
    },
    {
     "name": "stdout",
     "output_type": "stream",
     "text": [
      "wget -nc -O \"/Users/levgolod/Projects/car_classifier/data/autotrader/vehicle_images/make-honda/model-odyssey/vehicle_id-736627883/dd343944ddd84a3f9963dd50cc634b5a.jpg\" \"https://images.autotrader.com/scaler/500/375/hn/c/dd343944ddd84a3f9963dd50cc634b5a.jpg\" \n"
     ]
    },
    {
     "name": "stderr",
     "output_type": "stream",
     "text": [
      "--2025-02-12 10:50:22--  https://images.autotrader.com/scaler/500/375/hn/c/dd343944ddd84a3f9963dd50cc634b5a.jpg\n",
      "Resolving images.autotrader.com (images.autotrader.com)... 2600:9000:201d:3e00:6:249c:1640:93a1, 2600:9000:201d:5e00:6:249c:1640:93a1, 2600:9000:201d:f800:6:249c:1640:93a1, ...\n",
      "Connecting to images.autotrader.com (images.autotrader.com)|2600:9000:201d:3e00:6:249c:1640:93a1|:443... connected.\n",
      "HTTP request sent, awaiting response... 200 OK\n",
      "Length: 40450 (40K) [image/jpeg]\n",
      "Saving to: ‘/Users/levgolod/Projects/car_classifier/data/autotrader/vehicle_images/make-honda/model-odyssey/vehicle_id-736627883/dd343944ddd84a3f9963dd50cc634b5a.jpg’\n",
      "\n",
      "     0K .......... .......... .......... .........            100% 2.68M=0.01s\n",
      "\n",
      "2025-02-12 10:50:22 (2.68 MB/s) - ‘/Users/levgolod/Projects/car_classifier/data/autotrader/vehicle_images/make-honda/model-odyssey/vehicle_id-736627883/dd343944ddd84a3f9963dd50cc634b5a.jpg’ saved [40450/40450]\n",
      "\n"
     ]
    },
    {
     "name": "stdout",
     "output_type": "stream",
     "text": [
      "wget -nc -O \"/Users/levgolod/Projects/car_classifier/data/autotrader/vehicle_images/make-honda/model-odyssey/vehicle_id-736627883/fae25dcf2773424ea33e8aa79a432f22.jpg\" \"https://images.autotrader.com/scaler/500/375/hn/c/fae25dcf2773424ea33e8aa79a432f22.jpg\" \n"
     ]
    },
    {
     "name": "stderr",
     "output_type": "stream",
     "text": [
      "--2025-02-12 10:50:24--  https://images.autotrader.com/scaler/500/375/hn/c/fae25dcf2773424ea33e8aa79a432f22.jpg\n",
      "Resolving images.autotrader.com (images.autotrader.com)... 2600:9000:201d:3e00:6:249c:1640:93a1, 2600:9000:201d:5e00:6:249c:1640:93a1, 2600:9000:201d:f800:6:249c:1640:93a1, ...\n",
      "Connecting to images.autotrader.com (images.autotrader.com)|2600:9000:201d:3e00:6:249c:1640:93a1|:443... connected.\n",
      "HTTP request sent, awaiting response... 200 OK\n",
      "Length: 30791 (30K) [image/jpeg]\n",
      "Saving to: ‘/Users/levgolod/Projects/car_classifier/data/autotrader/vehicle_images/make-honda/model-odyssey/vehicle_id-736627883/fae25dcf2773424ea33e8aa79a432f22.jpg’\n",
      "\n",
      "     0K .......... .......... ..........                      100% 7.73M=0.004s\n",
      "\n",
      "2025-02-12 10:50:24 (7.73 MB/s) - ‘/Users/levgolod/Projects/car_classifier/data/autotrader/vehicle_images/make-honda/model-odyssey/vehicle_id-736627883/fae25dcf2773424ea33e8aa79a432f22.jpg’ saved [30791/30791]\n",
      "\n"
     ]
    },
    {
     "name": "stdout",
     "output_type": "stream",
     "text": [
      "wget -nc -O \"/Users/levgolod/Projects/car_classifier/data/autotrader/vehicle_images/make-honda/model-odyssey/vehicle_id-736627883/5d7ed23b780045169914748333de7cc2.jpg\" \"https://images.autotrader.com/scaler/500/375/hn/c/5d7ed23b780045169914748333de7cc2.jpg\" \n"
     ]
    },
    {
     "name": "stderr",
     "output_type": "stream",
     "text": [
      "--2025-02-12 10:50:26--  https://images.autotrader.com/scaler/500/375/hn/c/5d7ed23b780045169914748333de7cc2.jpg\n",
      "Resolving images.autotrader.com (images.autotrader.com)... 2600:9000:201d:3e00:6:249c:1640:93a1, 2600:9000:201d:5e00:6:249c:1640:93a1, 2600:9000:201d:f800:6:249c:1640:93a1, ...\n",
      "Connecting to images.autotrader.com (images.autotrader.com)|2600:9000:201d:3e00:6:249c:1640:93a1|:443... connected.\n",
      "HTTP request sent, awaiting response... 200 OK\n",
      "Length: 36778 (36K) [image/jpeg]\n",
      "Saving to: ‘/Users/levgolod/Projects/car_classifier/data/autotrader/vehicle_images/make-honda/model-odyssey/vehicle_id-736627883/5d7ed23b780045169914748333de7cc2.jpg’\n",
      "\n",
      "     0K .......... .......... .......... .....                100% 28.9M=0.001s\n",
      "\n",
      "2025-02-12 10:50:26 (28.9 MB/s) - ‘/Users/levgolod/Projects/car_classifier/data/autotrader/vehicle_images/make-honda/model-odyssey/vehicle_id-736627883/5d7ed23b780045169914748333de7cc2.jpg’ saved [36778/36778]\n",
      "\n"
     ]
    },
    {
     "name": "stdout",
     "output_type": "stream",
     "text": [
      "wget -nc -O \"/Users/levgolod/Projects/car_classifier/data/autotrader/vehicle_images/make-honda/model-odyssey/vehicle_id-736627883/0037f67efb914263a2396999779774ee.jpg\" \"https://images.autotrader.com/scaler/500/375/hn/c/0037f67efb914263a2396999779774ee.jpg\" \n"
     ]
    },
    {
     "name": "stderr",
     "output_type": "stream",
     "text": [
      "--2025-02-12 10:50:29--  https://images.autotrader.com/scaler/500/375/hn/c/0037f67efb914263a2396999779774ee.jpg\n",
      "Resolving images.autotrader.com (images.autotrader.com)... 2600:9000:201d:3e00:6:249c:1640:93a1, 2600:9000:201d:5e00:6:249c:1640:93a1, 2600:9000:201d:f800:6:249c:1640:93a1, ...\n",
      "Connecting to images.autotrader.com (images.autotrader.com)|2600:9000:201d:3e00:6:249c:1640:93a1|:443... connected.\n",
      "HTTP request sent, awaiting response... 200 OK\n",
      "Length: 39520 (39K) [image/jpeg]\n",
      "Saving to: ‘/Users/levgolod/Projects/car_classifier/data/autotrader/vehicle_images/make-honda/model-odyssey/vehicle_id-736627883/0037f67efb914263a2396999779774ee.jpg’\n",
      "\n",
      "     0K .......... .......... .......... ........             100% 2.82M=0.01s\n",
      "\n",
      "2025-02-12 10:50:29 (2.82 MB/s) - ‘/Users/levgolod/Projects/car_classifier/data/autotrader/vehicle_images/make-honda/model-odyssey/vehicle_id-736627883/0037f67efb914263a2396999779774ee.jpg’ saved [39520/39520]\n",
      "\n"
     ]
    },
    {
     "name": "stdout",
     "output_type": "stream",
     "text": [
      "wget -nc -O \"/Users/levgolod/Projects/car_classifier/data/autotrader/vehicle_images/make-honda/model-odyssey/vehicle_id-736627883/35fb576caa3643699f99c15d13311abc.jpg\" \"https://images.autotrader.com/scaler/500/375/hn/c/35fb576caa3643699f99c15d13311abc.jpg\" \n"
     ]
    },
    {
     "name": "stderr",
     "output_type": "stream",
     "text": [
      "--2025-02-12 10:50:31--  https://images.autotrader.com/scaler/500/375/hn/c/35fb576caa3643699f99c15d13311abc.jpg\n",
      "Resolving images.autotrader.com (images.autotrader.com)... 2600:9000:201d:3e00:6:249c:1640:93a1, 2600:9000:201d:5e00:6:249c:1640:93a1, 2600:9000:201d:f800:6:249c:1640:93a1, ...\n",
      "Connecting to images.autotrader.com (images.autotrader.com)|2600:9000:201d:3e00:6:249c:1640:93a1|:443... connected.\n",
      "HTTP request sent, awaiting response... 200 OK\n",
      "Length: 36549 (36K) [image/jpeg]\n",
      "Saving to: ‘/Users/levgolod/Projects/car_classifier/data/autotrader/vehicle_images/make-honda/model-odyssey/vehicle_id-736627883/35fb576caa3643699f99c15d13311abc.jpg’\n",
      "\n",
      "     0K .......... .......... .......... .....                100% 11.8M=0.003s\n",
      "\n",
      "2025-02-12 10:50:31 (11.8 MB/s) - ‘/Users/levgolod/Projects/car_classifier/data/autotrader/vehicle_images/make-honda/model-odyssey/vehicle_id-736627883/35fb576caa3643699f99c15d13311abc.jpg’ saved [36549/36549]\n",
      "\n"
     ]
    },
    {
     "name": "stdout",
     "output_type": "stream",
     "text": [
      "wget -nc -O \"/Users/levgolod/Projects/car_classifier/data/autotrader/vehicle_images/make-honda/model-odyssey/vehicle_id-736627883/a5a2b7230b414f8fa0913626b3c09a91.jpg\" \"https://images.autotrader.com/scaler/500/375/hn/c/a5a2b7230b414f8fa0913626b3c09a91.jpg\" \n"
     ]
    },
    {
     "name": "stderr",
     "output_type": "stream",
     "text": [
      "--2025-02-12 10:50:33--  https://images.autotrader.com/scaler/500/375/hn/c/a5a2b7230b414f8fa0913626b3c09a91.jpg\n",
      "Resolving images.autotrader.com (images.autotrader.com)... 2600:9000:201d:3e00:6:249c:1640:93a1, 2600:9000:201d:5e00:6:249c:1640:93a1, 2600:9000:201d:f800:6:249c:1640:93a1, ...\n",
      "Connecting to images.autotrader.com (images.autotrader.com)|2600:9000:201d:3e00:6:249c:1640:93a1|:443... connected.\n",
      "HTTP request sent, awaiting response... 200 OK\n",
      "Length: 36022 (35K) [image/jpeg]\n",
      "Saving to: ‘/Users/levgolod/Projects/car_classifier/data/autotrader/vehicle_images/make-honda/model-odyssey/vehicle_id-736627883/a5a2b7230b414f8fa0913626b3c09a91.jpg’\n",
      "\n",
      "     0K .......... .......... .......... .....                100% 20.5M=0.002s\n",
      "\n",
      "2025-02-12 10:50:33 (20.5 MB/s) - ‘/Users/levgolod/Projects/car_classifier/data/autotrader/vehicle_images/make-honda/model-odyssey/vehicle_id-736627883/a5a2b7230b414f8fa0913626b3c09a91.jpg’ saved [36022/36022]\n",
      "\n"
     ]
    },
    {
     "name": "stdout",
     "output_type": "stream",
     "text": [
      "wget -nc -O \"/Users/levgolod/Projects/car_classifier/data/autotrader/vehicle_images/make-honda/model-odyssey/vehicle_id-736627883/9c84348c01bf4cb1bdd77d529741ca30.jpg\" \"https://images.autotrader.com/scaler/500/375/hn/c/9c84348c01bf4cb1bdd77d529741ca30.jpg\" \n"
     ]
    },
    {
     "name": "stderr",
     "output_type": "stream",
     "text": [
      "--2025-02-12 10:50:35--  https://images.autotrader.com/scaler/500/375/hn/c/9c84348c01bf4cb1bdd77d529741ca30.jpg\n",
      "Resolving images.autotrader.com (images.autotrader.com)... 2600:9000:201d:3e00:6:249c:1640:93a1, 2600:9000:201d:5e00:6:249c:1640:93a1, 2600:9000:201d:f800:6:249c:1640:93a1, ...\n",
      "Connecting to images.autotrader.com (images.autotrader.com)|2600:9000:201d:3e00:6:249c:1640:93a1|:443... connected.\n",
      "HTTP request sent, awaiting response... 200 OK\n",
      "Length: 38188 (37K) [image/jpeg]\n",
      "Saving to: ‘/Users/levgolod/Projects/car_classifier/data/autotrader/vehicle_images/make-honda/model-odyssey/vehicle_id-736627883/9c84348c01bf4cb1bdd77d529741ca30.jpg’\n",
      "\n",
      "     0K .......... .......... .......... .......              100% 2.31M=0.02s\n",
      "\n",
      "2025-02-12 10:50:36 (2.31 MB/s) - ‘/Users/levgolod/Projects/car_classifier/data/autotrader/vehicle_images/make-honda/model-odyssey/vehicle_id-736627883/9c84348c01bf4cb1bdd77d529741ca30.jpg’ saved [38188/38188]\n",
      "\n"
     ]
    },
    {
     "name": "stdout",
     "output_type": "stream",
     "text": [
      "wget -nc -O \"/Users/levgolod/Projects/car_classifier/data/autotrader/vehicle_images/make-honda/model-odyssey/vehicle_id-736627883/9f652501f1ce4730b8244ba21e6a99eb.jpg\" \"https://images.autotrader.com/scaler/500/375/hn/c/9f652501f1ce4730b8244ba21e6a99eb.jpg\" \n"
     ]
    },
    {
     "name": "stderr",
     "output_type": "stream",
     "text": [
      "--2025-02-12 10:50:38--  https://images.autotrader.com/scaler/500/375/hn/c/9f652501f1ce4730b8244ba21e6a99eb.jpg\n",
      "Resolving images.autotrader.com (images.autotrader.com)... 2600:9000:201d:3e00:6:249c:1640:93a1, 2600:9000:201d:5e00:6:249c:1640:93a1, 2600:9000:201d:f800:6:249c:1640:93a1, ...\n",
      "Connecting to images.autotrader.com (images.autotrader.com)|2600:9000:201d:3e00:6:249c:1640:93a1|:443... connected.\n",
      "HTTP request sent, awaiting response... 200 OK\n",
      "Length: 38474 (38K) [image/jpeg]\n",
      "Saving to: ‘/Users/levgolod/Projects/car_classifier/data/autotrader/vehicle_images/make-honda/model-odyssey/vehicle_id-736627883/9f652501f1ce4730b8244ba21e6a99eb.jpg’\n",
      "\n",
      "     0K .......... .......... .......... .......              100% 2.00M=0.02s\n",
      "\n",
      "2025-02-12 10:50:38 (2.00 MB/s) - ‘/Users/levgolod/Projects/car_classifier/data/autotrader/vehicle_images/make-honda/model-odyssey/vehicle_id-736627883/9f652501f1ce4730b8244ba21e6a99eb.jpg’ saved [38474/38474]\n",
      "\n"
     ]
    },
    {
     "name": "stdout",
     "output_type": "stream",
     "text": [
      "wget -nc -O \"/Users/levgolod/Projects/car_classifier/data/autotrader/vehicle_images/make-honda/model-odyssey/vehicle_id-736627883/60bba05a03fb4b9a97af7f9934b429b7.jpg\" \"https://images.autotrader.com/scaler/500/375/hn/c/60bba05a03fb4b9a97af7f9934b429b7.jpg\" \n"
     ]
    },
    {
     "name": "stderr",
     "output_type": "stream",
     "text": [
      "--2025-02-12 10:50:40--  https://images.autotrader.com/scaler/500/375/hn/c/60bba05a03fb4b9a97af7f9934b429b7.jpg\n",
      "Resolving images.autotrader.com (images.autotrader.com)... 2600:9000:201d:3e00:6:249c:1640:93a1, 2600:9000:201d:5e00:6:249c:1640:93a1, 2600:9000:201d:f800:6:249c:1640:93a1, ...\n",
      "Connecting to images.autotrader.com (images.autotrader.com)|2600:9000:201d:3e00:6:249c:1640:93a1|:443... connected.\n",
      "HTTP request sent, awaiting response... 200 OK\n",
      "Length: 41656 (41K) [image/jpeg]\n",
      "Saving to: ‘/Users/levgolod/Projects/car_classifier/data/autotrader/vehicle_images/make-honda/model-odyssey/vehicle_id-736627883/60bba05a03fb4b9a97af7f9934b429b7.jpg’\n",
      "\n",
      "     0K .......... .......... .......... ..........           100% 2.06M=0.02s\n",
      "\n",
      "2025-02-12 10:50:41 (2.06 MB/s) - ‘/Users/levgolod/Projects/car_classifier/data/autotrader/vehicle_images/make-honda/model-odyssey/vehicle_id-736627883/60bba05a03fb4b9a97af7f9934b429b7.jpg’ saved [41656/41656]\n",
      "\n"
     ]
    },
    {
     "name": "stdout",
     "output_type": "stream",
     "text": [
      "wget -nc -O \"/Users/levgolod/Projects/car_classifier/data/autotrader/vehicle_images/make-honda/model-odyssey/vehicle_id-736627883/5390d569110e4224a4774bd8d74850d0.jpg\" \"https://images.autotrader.com/scaler/500/375/hn/c/5390d569110e4224a4774bd8d74850d0.jpg\" \n"
     ]
    },
    {
     "name": "stderr",
     "output_type": "stream",
     "text": [
      "--2025-02-12 10:50:43--  https://images.autotrader.com/scaler/500/375/hn/c/5390d569110e4224a4774bd8d74850d0.jpg\n",
      "Resolving images.autotrader.com (images.autotrader.com)... 2600:9000:201d:3e00:6:249c:1640:93a1, 2600:9000:201d:5e00:6:249c:1640:93a1, 2600:9000:201d:f800:6:249c:1640:93a1, ...\n",
      "Connecting to images.autotrader.com (images.autotrader.com)|2600:9000:201d:3e00:6:249c:1640:93a1|:443... connected.\n",
      "HTTP request sent, awaiting response... 200 OK\n",
      "Length: 36112 (35K) [image/jpeg]\n",
      "Saving to: ‘/Users/levgolod/Projects/car_classifier/data/autotrader/vehicle_images/make-honda/model-odyssey/vehicle_id-736627883/5390d569110e4224a4774bd8d74850d0.jpg’\n",
      "\n",
      "     0K .......... .......... .......... .....                100% 7.27M=0.005s\n",
      "\n",
      "2025-02-12 10:50:43 (7.27 MB/s) - ‘/Users/levgolod/Projects/car_classifier/data/autotrader/vehicle_images/make-honda/model-odyssey/vehicle_id-736627883/5390d569110e4224a4774bd8d74850d0.jpg’ saved [36112/36112]\n",
      "\n"
     ]
    },
    {
     "name": "stdout",
     "output_type": "stream",
     "text": [
      "wget -nc -O \"/Users/levgolod/Projects/car_classifier/data/autotrader/vehicle_images/make-honda/model-odyssey/vehicle_id-736627883/09d7402d0bcb467d9ab901ff893dcd4e.jpg\" \"https://images.autotrader.com/scaler/500/375/hn/c/09d7402d0bcb467d9ab901ff893dcd4e.jpg\" \n"
     ]
    },
    {
     "name": "stderr",
     "output_type": "stream",
     "text": [
      "--2025-02-12 10:50:45--  https://images.autotrader.com/scaler/500/375/hn/c/09d7402d0bcb467d9ab901ff893dcd4e.jpg\n",
      "Resolving images.autotrader.com (images.autotrader.com)... 2600:9000:201d:3e00:6:249c:1640:93a1, 2600:9000:201d:5e00:6:249c:1640:93a1, 2600:9000:201d:f800:6:249c:1640:93a1, ...\n",
      "Connecting to images.autotrader.com (images.autotrader.com)|2600:9000:201d:3e00:6:249c:1640:93a1|:443... connected.\n",
      "HTTP request sent, awaiting response... 200 OK\n",
      "Length: 23294 (23K) [image/jpeg]\n",
      "Saving to: ‘/Users/levgolod/Projects/car_classifier/data/autotrader/vehicle_images/make-honda/model-odyssey/vehicle_id-736627883/09d7402d0bcb467d9ab901ff893dcd4e.jpg’\n",
      "\n",
      "     0K .......... .......... ..                              100% 4.07M=0.005s\n",
      "\n",
      "2025-02-12 10:50:45 (4.07 MB/s) - ‘/Users/levgolod/Projects/car_classifier/data/autotrader/vehicle_images/make-honda/model-odyssey/vehicle_id-736627883/09d7402d0bcb467d9ab901ff893dcd4e.jpg’ saved [23294/23294]\n",
      "\n"
     ]
    },
    {
     "name": "stdout",
     "output_type": "stream",
     "text": [
      "wget -nc -O \"/Users/levgolod/Projects/car_classifier/data/autotrader/vehicle_images/make-honda/model-odyssey/vehicle_id-736627883/7f611f7854ee4622929f7e58c9cff536.jpg\" \"https://images.autotrader.com/scaler/500/375/hn/c/7f611f7854ee4622929f7e58c9cff536.jpg\" \n"
     ]
    },
    {
     "name": "stderr",
     "output_type": "stream",
     "text": [
      "--2025-02-12 10:50:47--  https://images.autotrader.com/scaler/500/375/hn/c/7f611f7854ee4622929f7e58c9cff536.jpg\n",
      "Resolving images.autotrader.com (images.autotrader.com)... 2600:9000:201d:3e00:6:249c:1640:93a1, 2600:9000:201d:5e00:6:249c:1640:93a1, 2600:9000:201d:f800:6:249c:1640:93a1, ...\n",
      "Connecting to images.autotrader.com (images.autotrader.com)|2600:9000:201d:3e00:6:249c:1640:93a1|:443... connected.\n",
      "HTTP request sent, awaiting response... 200 OK\n",
      "Length: 30381 (30K) [image/jpeg]\n",
      "Saving to: ‘/Users/levgolod/Projects/car_classifier/data/autotrader/vehicle_images/make-honda/model-odyssey/vehicle_id-736627883/7f611f7854ee4622929f7e58c9cff536.jpg’\n",
      "\n",
      "     0K .......... .......... .........                       100% 4.98M=0.006s\n",
      "\n",
      "2025-02-12 10:50:47 (4.98 MB/s) - ‘/Users/levgolod/Projects/car_classifier/data/autotrader/vehicle_images/make-honda/model-odyssey/vehicle_id-736627883/7f611f7854ee4622929f7e58c9cff536.jpg’ saved [30381/30381]\n",
      "\n"
     ]
    },
    {
     "name": "stdout",
     "output_type": "stream",
     "text": [
      "wget -nc -O \"/Users/levgolod/Projects/car_classifier/data/autotrader/vehicle_images/make-honda/model-odyssey/vehicle_id-736627883/7f6301eeca9243a4a98eae02e49d6938.jpg\" \"https://images.autotrader.com/scaler/500/375/hn/c/7f6301eeca9243a4a98eae02e49d6938.jpg\" \n"
     ]
    },
    {
     "name": "stderr",
     "output_type": "stream",
     "text": [
      "--2025-02-12 10:50:49--  https://images.autotrader.com/scaler/500/375/hn/c/7f6301eeca9243a4a98eae02e49d6938.jpg\n",
      "Resolving images.autotrader.com (images.autotrader.com)... 2600:9000:201d:3e00:6:249c:1640:93a1, 2600:9000:201d:5e00:6:249c:1640:93a1, 2600:9000:201d:f800:6:249c:1640:93a1, ...\n",
      "Connecting to images.autotrader.com (images.autotrader.com)|2600:9000:201d:3e00:6:249c:1640:93a1|:443... connected.\n",
      "HTTP request sent, awaiting response... 200 OK\n",
      "Length: 35482 (35K) [image/jpeg]\n",
      "Saving to: ‘/Users/levgolod/Projects/car_classifier/data/autotrader/vehicle_images/make-honda/model-odyssey/vehicle_id-736627883/7f6301eeca9243a4a98eae02e49d6938.jpg’\n",
      "\n",
      "     0K .......... .......... .......... ....                 100%  163M=0s\n",
      "\n",
      "2025-02-12 10:50:50 (163 MB/s) - ‘/Users/levgolod/Projects/car_classifier/data/autotrader/vehicle_images/make-honda/model-odyssey/vehicle_id-736627883/7f6301eeca9243a4a98eae02e49d6938.jpg’ saved [35482/35482]\n",
      "\n"
     ]
    },
    {
     "name": "stdout",
     "output_type": "stream",
     "text": [
      "wget -nc -O \"/Users/levgolod/Projects/car_classifier/data/autotrader/vehicle_images/make-honda/model-odyssey/vehicle_id-736627883/c94eafab48b54c9ba69597d98280c582.jpg\" \"https://images.autotrader.com/scaler/500/375/hn/c/c94eafab48b54c9ba69597d98280c582.jpg\" \n"
     ]
    },
    {
     "name": "stderr",
     "output_type": "stream",
     "text": [
      "--2025-02-12 10:50:52--  https://images.autotrader.com/scaler/500/375/hn/c/c94eafab48b54c9ba69597d98280c582.jpg\n",
      "Resolving images.autotrader.com (images.autotrader.com)... 2600:9000:201d:c800:6:249c:1640:93a1, 2600:9000:201d:b800:6:249c:1640:93a1, 2600:9000:201d:c00:6:249c:1640:93a1, ...\n",
      "Connecting to images.autotrader.com (images.autotrader.com)|2600:9000:201d:c800:6:249c:1640:93a1|:443... connected.\n",
      "HTTP request sent, awaiting response... 200 OK\n",
      "Length: 39109 (38K) [image/jpeg]\n",
      "Saving to: ‘/Users/levgolod/Projects/car_classifier/data/autotrader/vehicle_images/make-honda/model-odyssey/vehicle_id-736627883/c94eafab48b54c9ba69597d98280c582.jpg’\n",
      "\n",
      "     0K .......... .......... .......... ........             100% 1.73M=0.02s\n",
      "\n",
      "2025-02-12 10:50:52 (1.73 MB/s) - ‘/Users/levgolod/Projects/car_classifier/data/autotrader/vehicle_images/make-honda/model-odyssey/vehicle_id-736627883/c94eafab48b54c9ba69597d98280c582.jpg’ saved [39109/39109]\n",
      "\n"
     ]
    },
    {
     "name": "stdout",
     "output_type": "stream",
     "text": [
      "wget -nc -O \"/Users/levgolod/Projects/car_classifier/data/autotrader/vehicle_images/make-honda/model-odyssey/vehicle_id-736627883/854d37c02ee140369589edff2a011fa3.jpg\" \"https://images.autotrader.com/scaler/500/375/hn/c/854d37c02ee140369589edff2a011fa3.jpg\" \n"
     ]
    },
    {
     "name": "stderr",
     "output_type": "stream",
     "text": [
      "--2025-02-12 10:50:54--  https://images.autotrader.com/scaler/500/375/hn/c/854d37c02ee140369589edff2a011fa3.jpg\n",
      "Resolving images.autotrader.com (images.autotrader.com)... 2600:9000:201d:e200:6:249c:1640:93a1, 2600:9000:201d:b800:6:249c:1640:93a1, 2600:9000:201d:4400:6:249c:1640:93a1, ...\n",
      "Connecting to images.autotrader.com (images.autotrader.com)|2600:9000:201d:e200:6:249c:1640:93a1|:443... connected.\n",
      "HTTP request sent, awaiting response... 200 OK\n",
      "Length: 26176 (26K) [image/jpeg]\n",
      "Saving to: ‘/Users/levgolod/Projects/car_classifier/data/autotrader/vehicle_images/make-honda/model-odyssey/vehicle_id-736627883/854d37c02ee140369589edff2a011fa3.jpg’\n",
      "\n",
      "     0K .......... .......... .....                           100%  117M=0s\n",
      "\n",
      "2025-02-12 10:50:54 (117 MB/s) - ‘/Users/levgolod/Projects/car_classifier/data/autotrader/vehicle_images/make-honda/model-odyssey/vehicle_id-736627883/854d37c02ee140369589edff2a011fa3.jpg’ saved [26176/26176]\n",
      "\n"
     ]
    },
    {
     "name": "stdout",
     "output_type": "stream",
     "text": [
      "wget -nc -O \"/Users/levgolod/Projects/car_classifier/data/autotrader/vehicle_images/make-honda/model-odyssey/vehicle_id-736627883/ea3bab2abae74b2da30e710584792dbf.jpg\" \"https://images.autotrader.com/scaler/500/375/hn/c/ea3bab2abae74b2da30e710584792dbf.jpg\" \n"
     ]
    },
    {
     "name": "stderr",
     "output_type": "stream",
     "text": [
      "--2025-02-12 10:50:56--  https://images.autotrader.com/scaler/500/375/hn/c/ea3bab2abae74b2da30e710584792dbf.jpg\n",
      "Resolving images.autotrader.com (images.autotrader.com)... 2600:9000:201d:c00:6:249c:1640:93a1, 2600:9000:201d:b800:6:249c:1640:93a1, 2600:9000:201d:4400:6:249c:1640:93a1, ...\n",
      "Connecting to images.autotrader.com (images.autotrader.com)|2600:9000:201d:c00:6:249c:1640:93a1|:443... connected.\n",
      "HTTP request sent, awaiting response... 200 OK\n",
      "Length: 31450 (31K) [image/jpeg]\n",
      "Saving to: ‘/Users/levgolod/Projects/car_classifier/data/autotrader/vehicle_images/make-honda/model-odyssey/vehicle_id-736627883/ea3bab2abae74b2da30e710584792dbf.jpg’\n",
      "\n",
      "     0K .......... .......... ..........                      100% 23.6M=0.001s\n",
      "\n",
      "2025-02-12 10:50:57 (23.6 MB/s) - ‘/Users/levgolod/Projects/car_classifier/data/autotrader/vehicle_images/make-honda/model-odyssey/vehicle_id-736627883/ea3bab2abae74b2da30e710584792dbf.jpg’ saved [31450/31450]\n",
      "\n"
     ]
    },
    {
     "name": "stdout",
     "output_type": "stream",
     "text": [
      "wget -nc -O \"/Users/levgolod/Projects/car_classifier/data/autotrader/vehicle_images/make-honda/model-odyssey/vehicle_id-736627883/0b6efaffe7174d7cb33ae95682a09c90.jpg\" \"https://images.autotrader.com/scaler/500/375/hn/c/0b6efaffe7174d7cb33ae95682a09c90.jpg\" \n"
     ]
    },
    {
     "name": "stderr",
     "output_type": "stream",
     "text": [
      "--2025-02-12 10:50:59--  https://images.autotrader.com/scaler/500/375/hn/c/0b6efaffe7174d7cb33ae95682a09c90.jpg\n",
      "Resolving images.autotrader.com (images.autotrader.com)... 2600:9000:201d:d600:6:249c:1640:93a1, 2600:9000:201d:b800:6:249c:1640:93a1, 2600:9000:201d:4400:6:249c:1640:93a1, ...\n",
      "Connecting to images.autotrader.com (images.autotrader.com)|2600:9000:201d:d600:6:249c:1640:93a1|:443... connected.\n",
      "HTTP request sent, awaiting response... 200 OK\n",
      "Length: 32281 (32K) [image/jpeg]\n",
      "Saving to: ‘/Users/levgolod/Projects/car_classifier/data/autotrader/vehicle_images/make-honda/model-odyssey/vehicle_id-736627883/0b6efaffe7174d7cb33ae95682a09c90.jpg’\n",
      "\n",
      "     0K .......... .......... .......... .                    100% 35.7M=0.001s\n",
      "\n",
      "2025-02-12 10:50:59 (35.7 MB/s) - ‘/Users/levgolod/Projects/car_classifier/data/autotrader/vehicle_images/make-honda/model-odyssey/vehicle_id-736627883/0b6efaffe7174d7cb33ae95682a09c90.jpg’ saved [32281/32281]\n",
      "\n"
     ]
    },
    {
     "name": "stdout",
     "output_type": "stream",
     "text": [
      "wget -nc -O \"/Users/levgolod/Projects/car_classifier/data/autotrader/vehicle_images/make-honda/model-odyssey/vehicle_id-736627883/9f74a5d712f14a0698e9d93cec730ee1.jpg\" \"https://images.autotrader.com/scaler/500/375/hn/c/9f74a5d712f14a0698e9d93cec730ee1.jpg\" \n"
     ]
    },
    {
     "name": "stderr",
     "output_type": "stream",
     "text": [
      "--2025-02-12 10:51:01--  https://images.autotrader.com/scaler/500/375/hn/c/9f74a5d712f14a0698e9d93cec730ee1.jpg\n",
      "Resolving images.autotrader.com (images.autotrader.com)... 2600:9000:201d:f400:6:249c:1640:93a1, 2600:9000:201d:b800:6:249c:1640:93a1, 2600:9000:201d:4400:6:249c:1640:93a1, ...\n",
      "Connecting to images.autotrader.com (images.autotrader.com)|2600:9000:201d:f400:6:249c:1640:93a1|:443... connected.\n",
      "HTTP request sent, awaiting response... 200 OK\n",
      "Length: 37142 (36K) [image/jpeg]\n",
      "Saving to: ‘/Users/levgolod/Projects/car_classifier/data/autotrader/vehicle_images/make-honda/model-odyssey/vehicle_id-736627883/9f74a5d712f14a0698e9d93cec730ee1.jpg’\n",
      "\n",
      "     0K .......... .......... .......... ......               100% 3.50M=0.01s\n",
      "\n",
      "2025-02-12 10:51:01 (3.50 MB/s) - ‘/Users/levgolod/Projects/car_classifier/data/autotrader/vehicle_images/make-honda/model-odyssey/vehicle_id-736627883/9f74a5d712f14a0698e9d93cec730ee1.jpg’ saved [37142/37142]\n",
      "\n"
     ]
    },
    {
     "name": "stdout",
     "output_type": "stream",
     "text": [
      "wget -nc -O \"/Users/levgolod/Projects/car_classifier/data/autotrader/vehicle_images/make-honda/model-odyssey/vehicle_id-736627883/4720cece82124161bf7a888a10e1105a.jpg\" \"https://images.autotrader.com/scaler/500/375/hn/c/4720cece82124161bf7a888a10e1105a.jpg\" \n"
     ]
    },
    {
     "name": "stderr",
     "output_type": "stream",
     "text": [
      "--2025-02-12 10:51:03--  https://images.autotrader.com/scaler/500/375/hn/c/4720cece82124161bf7a888a10e1105a.jpg\n",
      "Resolving images.autotrader.com (images.autotrader.com)... 2600:9000:201d:4800:6:249c:1640:93a1, 2600:9000:201d:b800:6:249c:1640:93a1, 2600:9000:201d:4400:6:249c:1640:93a1, ...\n",
      "Connecting to images.autotrader.com (images.autotrader.com)|2600:9000:201d:4800:6:249c:1640:93a1|:443... connected.\n",
      "HTTP request sent, awaiting response... 200 OK\n",
      "Length: 44713 (44K) [image/jpeg]\n",
      "Saving to: ‘/Users/levgolod/Projects/car_classifier/data/autotrader/vehicle_images/make-honda/model-odyssey/vehicle_id-736627883/4720cece82124161bf7a888a10e1105a.jpg’\n",
      "\n",
      "     0K .......... .......... .......... .......... ...       100% 1.76M=0.02s\n",
      "\n",
      "2025-02-12 10:51:04 (1.76 MB/s) - ‘/Users/levgolod/Projects/car_classifier/data/autotrader/vehicle_images/make-honda/model-odyssey/vehicle_id-736627883/4720cece82124161bf7a888a10e1105a.jpg’ saved [44713/44713]\n",
      "\n"
     ]
    },
    {
     "name": "stdout",
     "output_type": "stream",
     "text": [
      "wget -nc -O \"/Users/levgolod/Projects/car_classifier/data/autotrader/vehicle_images/make-honda/model-odyssey/vehicle_id-736627883/908e4a39290141c69fb05da75b71f291.jpg\" \"https://images.autotrader.com/scaler/500/375/hn/c/908e4a39290141c69fb05da75b71f291.jpg\" \n"
     ]
    },
    {
     "name": "stderr",
     "output_type": "stream",
     "text": [
      "--2025-02-12 10:51:06--  https://images.autotrader.com/scaler/500/375/hn/c/908e4a39290141c69fb05da75b71f291.jpg\n",
      "Resolving images.autotrader.com (images.autotrader.com)... 2600:9000:201d:4400:6:249c:1640:93a1, 2600:9000:201d:b800:6:249c:1640:93a1, 2600:9000:201d:c800:6:249c:1640:93a1, ...\n",
      "Connecting to images.autotrader.com (images.autotrader.com)|2600:9000:201d:4400:6:249c:1640:93a1|:443... connected.\n",
      "HTTP request sent, awaiting response... 200 OK\n",
      "Length: 27522 (27K) [image/jpeg]\n",
      "Saving to: ‘/Users/levgolod/Projects/car_classifier/data/autotrader/vehicle_images/make-honda/model-odyssey/vehicle_id-736627883/908e4a39290141c69fb05da75b71f291.jpg’\n",
      "\n",
      "     0K .......... .......... ......                          100% 40.4M=0.001s\n",
      "\n",
      "2025-02-12 10:51:06 (40.4 MB/s) - ‘/Users/levgolod/Projects/car_classifier/data/autotrader/vehicle_images/make-honda/model-odyssey/vehicle_id-736627883/908e4a39290141c69fb05da75b71f291.jpg’ saved [27522/27522]\n",
      "\n"
     ]
    },
    {
     "name": "stdout",
     "output_type": "stream",
     "text": [
      "wget -nc -O \"/Users/levgolod/Projects/car_classifier/data/autotrader/vehicle_images/make-honda/model-odyssey/vehicle_id-736627883/f4293e12a0754fada166f79f826e8046.jpg\" \"https://images.autotrader.com/scaler/500/375/hn/c/f4293e12a0754fada166f79f826e8046.jpg\" \n"
     ]
    },
    {
     "name": "stderr",
     "output_type": "stream",
     "text": [
      "--2025-02-12 10:51:08--  https://images.autotrader.com/scaler/500/375/hn/c/f4293e12a0754fada166f79f826e8046.jpg\n",
      "Resolving images.autotrader.com (images.autotrader.com)... 2600:9000:201d:b800:6:249c:1640:93a1, 2600:9000:201d:c800:6:249c:1640:93a1, 2600:9000:201d:4400:6:249c:1640:93a1, ...\n",
      "Connecting to images.autotrader.com (images.autotrader.com)|2600:9000:201d:b800:6:249c:1640:93a1|:443... connected.\n",
      "HTTP request sent, awaiting response... 200 OK\n",
      "Length: 31014 (30K) [image/jpeg]\n",
      "Saving to: ‘/Users/levgolod/Projects/car_classifier/data/autotrader/vehicle_images/make-honda/model-odyssey/vehicle_id-736627883/f4293e12a0754fada166f79f826e8046.jpg’\n",
      "\n",
      "     0K .......... .......... ..........                      100%  210M=0s\n",
      "\n",
      "2025-02-12 10:51:09 (210 MB/s) - ‘/Users/levgolod/Projects/car_classifier/data/autotrader/vehicle_images/make-honda/model-odyssey/vehicle_id-736627883/f4293e12a0754fada166f79f826e8046.jpg’ saved [31014/31014]\n",
      "\n"
     ]
    },
    {
     "name": "stdout",
     "output_type": "stream",
     "text": [
      "wget -nc -O \"/Users/levgolod/Projects/car_classifier/data/autotrader/vehicle_images/make-honda/model-odyssey/vehicle_id-736627883/deb9234e99114443b011c62ba1549f01.jpg\" \"https://images.autotrader.com/scaler/500/375/hn/c/deb9234e99114443b011c62ba1549f01.jpg\" \n"
     ]
    },
    {
     "name": "stderr",
     "output_type": "stream",
     "text": [
      "--2025-02-12 10:51:11--  https://images.autotrader.com/scaler/500/375/hn/c/deb9234e99114443b011c62ba1549f01.jpg\n",
      "Resolving images.autotrader.com (images.autotrader.com)... 2600:9000:201d:c800:6:249c:1640:93a1, 2600:9000:201d:b800:6:249c:1640:93a1, 2600:9000:201d:c00:6:249c:1640:93a1, ...\n",
      "Connecting to images.autotrader.com (images.autotrader.com)|2600:9000:201d:c800:6:249c:1640:93a1|:443... connected.\n",
      "HTTP request sent, awaiting response... 200 OK\n",
      "Length: 28816 (28K) [image/jpeg]\n",
      "Saving to: ‘/Users/levgolod/Projects/car_classifier/data/autotrader/vehicle_images/make-honda/model-odyssey/vehicle_id-736627883/deb9234e99114443b011c62ba1549f01.jpg’\n",
      "\n",
      "     0K .......... .......... ........                        100% 42.5M=0.001s\n",
      "\n",
      "2025-02-12 10:51:11 (42.5 MB/s) - ‘/Users/levgolod/Projects/car_classifier/data/autotrader/vehicle_images/make-honda/model-odyssey/vehicle_id-736627883/deb9234e99114443b011c62ba1549f01.jpg’ saved [28816/28816]\n",
      "\n"
     ]
    },
    {
     "name": "stdout",
     "output_type": "stream",
     "text": [
      "wget -nc -O \"/Users/levgolod/Projects/car_classifier/data/autotrader/vehicle_images/make-honda/model-odyssey/vehicle_id-736627883/baeb62b655384bbdb7f00be00fa76d8a.jpg\" \"https://images.autotrader.com/scaler/500/375/hn/c/baeb62b655384bbdb7f00be00fa76d8a.jpg\" \n"
     ]
    },
    {
     "name": "stderr",
     "output_type": "stream",
     "text": [
      "--2025-02-12 10:51:13--  https://images.autotrader.com/scaler/500/375/hn/c/baeb62b655384bbdb7f00be00fa76d8a.jpg\n",
      "Resolving images.autotrader.com (images.autotrader.com)... 2600:9000:201d:c800:6:249c:1640:93a1, 2600:9000:201d:b800:6:249c:1640:93a1, 2600:9000:201d:c00:6:249c:1640:93a1, ...\n",
      "Connecting to images.autotrader.com (images.autotrader.com)|2600:9000:201d:c800:6:249c:1640:93a1|:443... connected.\n",
      "HTTP request sent, awaiting response... 200 OK\n",
      "Length: 29505 (29K) [image/jpeg]\n",
      "Saving to: ‘/Users/levgolod/Projects/car_classifier/data/autotrader/vehicle_images/make-honda/model-odyssey/vehicle_id-736627883/baeb62b655384bbdb7f00be00fa76d8a.jpg’\n",
      "\n",
      "     0K .......... .......... ........                        100% 3.88M=0.007s\n",
      "\n",
      "2025-02-12 10:51:13 (3.88 MB/s) - ‘/Users/levgolod/Projects/car_classifier/data/autotrader/vehicle_images/make-honda/model-odyssey/vehicle_id-736627883/baeb62b655384bbdb7f00be00fa76d8a.jpg’ saved [29505/29505]\n",
      "\n"
     ]
    },
    {
     "name": "stdout",
     "output_type": "stream",
     "text": [
      "wget -nc -O \"/Users/levgolod/Projects/car_classifier/data/autotrader/vehicle_images/make-honda/model-odyssey/vehicle_id-736627883/45dd3b29706543fea89db6703d77b578.jpg\" \"https://images.autotrader.com/scaler/500/375/hn/c/45dd3b29706543fea89db6703d77b578.jpg\" \n"
     ]
    },
    {
     "name": "stderr",
     "output_type": "stream",
     "text": [
      "--2025-02-12 10:51:15--  https://images.autotrader.com/scaler/500/375/hn/c/45dd3b29706543fea89db6703d77b578.jpg\n",
      "Resolving images.autotrader.com (images.autotrader.com)... 2600:9000:201d:c800:6:249c:1640:93a1, 2600:9000:201d:b800:6:249c:1640:93a1, 2600:9000:201d:c00:6:249c:1640:93a1, ...\n",
      "Connecting to images.autotrader.com (images.autotrader.com)|2600:9000:201d:c800:6:249c:1640:93a1|:443... connected.\n",
      "HTTP request sent, awaiting response... 200 OK\n",
      "Length: 34352 (34K) [image/jpeg]\n",
      "Saving to: ‘/Users/levgolod/Projects/car_classifier/data/autotrader/vehicle_images/make-honda/model-odyssey/vehicle_id-736627883/45dd3b29706543fea89db6703d77b578.jpg’\n",
      "\n",
      "     0K .......... .......... .......... ...                  100% 4.93M=0.007s\n",
      "\n",
      "2025-02-12 10:51:15 (4.93 MB/s) - ‘/Users/levgolod/Projects/car_classifier/data/autotrader/vehicle_images/make-honda/model-odyssey/vehicle_id-736627883/45dd3b29706543fea89db6703d77b578.jpg’ saved [34352/34352]\n",
      "\n"
     ]
    },
    {
     "name": "stdout",
     "output_type": "stream",
     "text": [
      "wget -nc -O \"/Users/levgolod/Projects/car_classifier/data/autotrader/vehicle_images/make-honda/model-odyssey/vehicle_id-736627883/52de7bc5b4174d72aa383c5dac79eaf4.jpg\" \"https://images.autotrader.com/scaler/500/375/hn/c/52de7bc5b4174d72aa383c5dac79eaf4.jpg\" \n"
     ]
    },
    {
     "name": "stderr",
     "output_type": "stream",
     "text": [
      "--2025-02-12 10:51:17--  https://images.autotrader.com/scaler/500/375/hn/c/52de7bc5b4174d72aa383c5dac79eaf4.jpg\n",
      "Resolving images.autotrader.com (images.autotrader.com)... 2600:9000:201d:c800:6:249c:1640:93a1, 2600:9000:201d:b800:6:249c:1640:93a1, 2600:9000:201d:c00:6:249c:1640:93a1, ...\n",
      "Connecting to images.autotrader.com (images.autotrader.com)|2600:9000:201d:c800:6:249c:1640:93a1|:443... connected.\n",
      "HTTP request sent, awaiting response... 200 OK\n",
      "Length: 26038 (25K) [image/jpeg]\n",
      "Saving to: ‘/Users/levgolod/Projects/car_classifier/data/autotrader/vehicle_images/make-honda/model-odyssey/vehicle_id-736627883/52de7bc5b4174d72aa383c5dac79eaf4.jpg’\n",
      "\n",
      "     0K .......... .......... .....                           100% 6.84M=0.004s\n",
      "\n",
      "2025-02-12 10:51:18 (6.84 MB/s) - ‘/Users/levgolod/Projects/car_classifier/data/autotrader/vehicle_images/make-honda/model-odyssey/vehicle_id-736627883/52de7bc5b4174d72aa383c5dac79eaf4.jpg’ saved [26038/26038]\n",
      "\n"
     ]
    },
    {
     "name": "stdout",
     "output_type": "stream",
     "text": [
      "wget -nc -O \"/Users/levgolod/Projects/car_classifier/data/autotrader/vehicle_images/make-honda/model-odyssey/vehicle_id-736627883/b70b89051c5d4ee582fd331fed9f166d.jpg\" \"https://images.autotrader.com/scaler/500/375/hn/c/b70b89051c5d4ee582fd331fed9f166d.jpg\" \n"
     ]
    },
    {
     "name": "stderr",
     "output_type": "stream",
     "text": [
      "--2025-02-12 10:51:20--  https://images.autotrader.com/scaler/500/375/hn/c/b70b89051c5d4ee582fd331fed9f166d.jpg\n",
      "Resolving images.autotrader.com (images.autotrader.com)... 2600:9000:201d:c800:6:249c:1640:93a1, 2600:9000:201d:b800:6:249c:1640:93a1, 2600:9000:201d:c00:6:249c:1640:93a1, ...\n",
      "Connecting to images.autotrader.com (images.autotrader.com)|2600:9000:201d:c800:6:249c:1640:93a1|:443... connected.\n",
      "HTTP request sent, awaiting response... 200 OK\n",
      "Length: 28517 (28K) [image/jpeg]\n",
      "Saving to: ‘/Users/levgolod/Projects/car_classifier/data/autotrader/vehicle_images/make-honda/model-odyssey/vehicle_id-736627883/b70b89051c5d4ee582fd331fed9f166d.jpg’\n",
      "\n",
      "     0K .......... .......... .......                         100% 3.26M=0.008s\n",
      "\n",
      "2025-02-12 10:51:20 (3.26 MB/s) - ‘/Users/levgolod/Projects/car_classifier/data/autotrader/vehicle_images/make-honda/model-odyssey/vehicle_id-736627883/b70b89051c5d4ee582fd331fed9f166d.jpg’ saved [28517/28517]\n",
      "\n"
     ]
    },
    {
     "name": "stdout",
     "output_type": "stream",
     "text": [
      "wget -nc -O \"/Users/levgolod/Projects/car_classifier/data/autotrader/vehicle_images/make-honda/model-odyssey/vehicle_id-736627883/aab01543fb0843ad9971a570de09032b.jpg\" \"https://images.autotrader.com/scaler/500/375/hn/c/aab01543fb0843ad9971a570de09032b.jpg\" \n"
     ]
    },
    {
     "name": "stderr",
     "output_type": "stream",
     "text": [
      "--2025-02-12 10:51:22--  https://images.autotrader.com/scaler/500/375/hn/c/aab01543fb0843ad9971a570de09032b.jpg\n",
      "Resolving images.autotrader.com (images.autotrader.com)... 2600:9000:201d:c800:6:249c:1640:93a1, 2600:9000:201d:b800:6:249c:1640:93a1, 2600:9000:201d:c00:6:249c:1640:93a1, ...\n",
      "Connecting to images.autotrader.com (images.autotrader.com)|2600:9000:201d:c800:6:249c:1640:93a1|:443... connected.\n",
      "HTTP request sent, awaiting response... 200 OK\n",
      "Length: 36962 (36K) [image/jpeg]\n",
      "Saving to: ‘/Users/levgolod/Projects/car_classifier/data/autotrader/vehicle_images/make-honda/model-odyssey/vehicle_id-736627883/aab01543fb0843ad9971a570de09032b.jpg’\n",
      "\n",
      "     0K .......... .......... .......... ......               100% 2.57M=0.01s\n",
      "\n",
      "2025-02-12 10:51:22 (2.57 MB/s) - ‘/Users/levgolod/Projects/car_classifier/data/autotrader/vehicle_images/make-honda/model-odyssey/vehicle_id-736627883/aab01543fb0843ad9971a570de09032b.jpg’ saved [36962/36962]\n",
      "\n"
     ]
    },
    {
     "name": "stdout",
     "output_type": "stream",
     "text": [
      "wget -nc -O \"/Users/levgolod/Projects/car_classifier/data/autotrader/vehicle_images/make-honda/model-odyssey/vehicle_id-736627883/be88445e69b8448bbb5d967549d737f3.jpg\" \"https://images.autotrader.com/scaler/500/375/hn/c/be88445e69b8448bbb5d967549d737f3.jpg\" \n"
     ]
    },
    {
     "name": "stderr",
     "output_type": "stream",
     "text": [
      "--2025-02-12 10:51:24--  https://images.autotrader.com/scaler/500/375/hn/c/be88445e69b8448bbb5d967549d737f3.jpg\n",
      "Resolving images.autotrader.com (images.autotrader.com)... 2600:9000:201d:c800:6:249c:1640:93a1, 2600:9000:201d:b800:6:249c:1640:93a1, 2600:9000:201d:c00:6:249c:1640:93a1, ...\n",
      "Connecting to images.autotrader.com (images.autotrader.com)|2600:9000:201d:c800:6:249c:1640:93a1|:443... connected.\n",
      "HTTP request sent, awaiting response... 200 OK\n",
      "Length: 33466 (33K) [image/jpeg]\n",
      "Saving to: ‘/Users/levgolod/Projects/car_classifier/data/autotrader/vehicle_images/make-honda/model-odyssey/vehicle_id-736627883/be88445e69b8448bbb5d967549d737f3.jpg’\n",
      "\n",
      "     0K .......... .......... .......... ..                   100% 4.09M=0.008s\n",
      "\n",
      "2025-02-12 10:51:25 (4.09 MB/s) - ‘/Users/levgolod/Projects/car_classifier/data/autotrader/vehicle_images/make-honda/model-odyssey/vehicle_id-736627883/be88445e69b8448bbb5d967549d737f3.jpg’ saved [33466/33466]\n",
      "\n"
     ]
    },
    {
     "name": "stdout",
     "output_type": "stream",
     "text": [
      "wget -nc -O \"/Users/levgolod/Projects/car_classifier/data/autotrader/vehicle_images/make-honda/model-odyssey/vehicle_id-736627883/2437cf5e760b4902b5eba6cc3139e5f1.jpg\" \"https://images.autotrader.com/scaler/500/375/hn/c/2437cf5e760b4902b5eba6cc3139e5f1.jpg\" \n"
     ]
    },
    {
     "name": "stderr",
     "output_type": "stream",
     "text": [
      "--2025-02-12 10:51:27--  https://images.autotrader.com/scaler/500/375/hn/c/2437cf5e760b4902b5eba6cc3139e5f1.jpg\n",
      "Resolving images.autotrader.com (images.autotrader.com)... 2600:9000:201d:c800:6:249c:1640:93a1, 2600:9000:201d:b800:6:249c:1640:93a1, 2600:9000:201d:c00:6:249c:1640:93a1, ...\n",
      "Connecting to images.autotrader.com (images.autotrader.com)|2600:9000:201d:c800:6:249c:1640:93a1|:443... connected.\n",
      "HTTP request sent, awaiting response... 200 OK\n",
      "Length: 42623 (42K) [image/jpeg]\n",
      "Saving to: ‘/Users/levgolod/Projects/car_classifier/data/autotrader/vehicle_images/make-honda/model-odyssey/vehicle_id-736627883/2437cf5e760b4902b5eba6cc3139e5f1.jpg’\n",
      "\n",
      "     0K .......... .......... .......... .......... .         100% 2.54M=0.02s\n",
      "\n",
      "2025-02-12 10:51:27 (2.54 MB/s) - ‘/Users/levgolod/Projects/car_classifier/data/autotrader/vehicle_images/make-honda/model-odyssey/vehicle_id-736627883/2437cf5e760b4902b5eba6cc3139e5f1.jpg’ saved [42623/42623]\n",
      "\n"
     ]
    },
    {
     "name": "stdout",
     "output_type": "stream",
     "text": [
      "wget -nc -O \"/Users/levgolod/Projects/car_classifier/data/autotrader/vehicle_images/make-honda/model-odyssey/vehicle_id-736627883/6627e65692f64e90afe34ffa65fe63db.jpg\" \"https://images.autotrader.com/scaler/500/375/hn/c/6627e65692f64e90afe34ffa65fe63db.jpg\" \n"
     ]
    },
    {
     "name": "stderr",
     "output_type": "stream",
     "text": [
      "--2025-02-12 10:51:29--  https://images.autotrader.com/scaler/500/375/hn/c/6627e65692f64e90afe34ffa65fe63db.jpg\n",
      "Resolving images.autotrader.com (images.autotrader.com)... 2600:9000:201d:c800:6:249c:1640:93a1, 2600:9000:201d:b800:6:249c:1640:93a1, 2600:9000:201d:c00:6:249c:1640:93a1, ...\n",
      "Connecting to images.autotrader.com (images.autotrader.com)|2600:9000:201d:c800:6:249c:1640:93a1|:443... connected.\n",
      "HTTP request sent, awaiting response... 200 OK\n",
      "Length: 34051 (33K) [image/jpeg]\n",
      "Saving to: ‘/Users/levgolod/Projects/car_classifier/data/autotrader/vehicle_images/make-honda/model-odyssey/vehicle_id-736627883/6627e65692f64e90afe34ffa65fe63db.jpg’\n",
      "\n",
      "     0K .......... .......... .......... ...                  100% 65.7M=0s\n",
      "\n",
      "2025-02-12 10:51:29 (65.7 MB/s) - ‘/Users/levgolod/Projects/car_classifier/data/autotrader/vehicle_images/make-honda/model-odyssey/vehicle_id-736627883/6627e65692f64e90afe34ffa65fe63db.jpg’ saved [34051/34051]\n",
      "\n"
     ]
    },
    {
     "name": "stdout",
     "output_type": "stream",
     "text": [
      "wget -nc -O \"/Users/levgolod/Projects/car_classifier/data/autotrader/vehicle_images/make-honda/model-odyssey/vehicle_id-736627883/e018a79f2dc0459e998e377c5f31cbee.jpg\" \"https://images.autotrader.com/scaler/500/375/hn/c/e018a79f2dc0459e998e377c5f31cbee.jpg\" \n"
     ]
    },
    {
     "name": "stderr",
     "output_type": "stream",
     "text": [
      "--2025-02-12 10:51:31--  https://images.autotrader.com/scaler/500/375/hn/c/e018a79f2dc0459e998e377c5f31cbee.jpg\n",
      "Resolving images.autotrader.com (images.autotrader.com)... 2600:9000:201d:c800:6:249c:1640:93a1, 2600:9000:201d:b800:6:249c:1640:93a1, 2600:9000:201d:c00:6:249c:1640:93a1, ...\n",
      "Connecting to images.autotrader.com (images.autotrader.com)|2600:9000:201d:c800:6:249c:1640:93a1|:443... connected.\n",
      "HTTP request sent, awaiting response... 200 OK\n",
      "Length: 40799 (40K) [image/jpeg]\n",
      "Saving to: ‘/Users/levgolod/Projects/car_classifier/data/autotrader/vehicle_images/make-honda/model-odyssey/vehicle_id-736627883/e018a79f2dc0459e998e377c5f31cbee.jpg’\n",
      "\n",
      "     0K .......... .......... .......... .........            100% 2.08M=0.02s\n",
      "\n",
      "2025-02-12 10:51:31 (2.08 MB/s) - ‘/Users/levgolod/Projects/car_classifier/data/autotrader/vehicle_images/make-honda/model-odyssey/vehicle_id-736627883/e018a79f2dc0459e998e377c5f31cbee.jpg’ saved [40799/40799]\n",
      "\n"
     ]
    },
    {
     "name": "stdout",
     "output_type": "stream",
     "text": [
      "wget -nc -O \"/Users/levgolod/Projects/car_classifier/data/autotrader/vehicle_images/make-honda/model-odyssey/vehicle_id-736627883/e4d434ba671e4d13ad52d486939635f5.jpg\" \"https://images.autotrader.com/scaler/500/375/hn/c/e4d434ba671e4d13ad52d486939635f5.jpg\" \n"
     ]
    },
    {
     "name": "stderr",
     "output_type": "stream",
     "text": [
      "--2025-02-12 10:51:33--  https://images.autotrader.com/scaler/500/375/hn/c/e4d434ba671e4d13ad52d486939635f5.jpg\n",
      "Resolving images.autotrader.com (images.autotrader.com)... 2600:9000:201d:c800:6:249c:1640:93a1, 2600:9000:201d:b800:6:249c:1640:93a1, 2600:9000:201d:c00:6:249c:1640:93a1, ...\n",
      "Connecting to images.autotrader.com (images.autotrader.com)|2600:9000:201d:c800:6:249c:1640:93a1|:443... connected.\n",
      "HTTP request sent, awaiting response... 200 OK\n",
      "Length: 40091 (39K) [image/jpeg]\n",
      "Saving to: ‘/Users/levgolod/Projects/car_classifier/data/autotrader/vehicle_images/make-honda/model-odyssey/vehicle_id-736627883/e4d434ba671e4d13ad52d486939635f5.jpg’\n",
      "\n",
      "     0K .......... .......... .......... .........            100% 1.89M=0.02s\n",
      "\n",
      "2025-02-12 10:51:34 (1.89 MB/s) - ‘/Users/levgolod/Projects/car_classifier/data/autotrader/vehicle_images/make-honda/model-odyssey/vehicle_id-736627883/e4d434ba671e4d13ad52d486939635f5.jpg’ saved [40091/40091]\n",
      "\n"
     ]
    },
    {
     "name": "stdout",
     "output_type": "stream",
     "text": [
      "wget -nc -O \"/Users/levgolod/Projects/car_classifier/data/autotrader/vehicle_images/make-honda/model-odyssey/vehicle_id-736627883/6503f51566444ba086831f57d2b06900.jpg\" \"https://images.autotrader.com/scaler/500/375/hn/c/6503f51566444ba086831f57d2b06900.jpg\" \n"
     ]
    },
    {
     "name": "stderr",
     "output_type": "stream",
     "text": [
      "--2025-02-12 10:51:36--  https://images.autotrader.com/scaler/500/375/hn/c/6503f51566444ba086831f57d2b06900.jpg\n",
      "Resolving images.autotrader.com (images.autotrader.com)... 2600:9000:201d:c800:6:249c:1640:93a1, 2600:9000:201d:b800:6:249c:1640:93a1, 2600:9000:201d:c00:6:249c:1640:93a1, ...\n",
      "Connecting to images.autotrader.com (images.autotrader.com)|2600:9000:201d:c800:6:249c:1640:93a1|:443... connected.\n",
      "HTTP request sent, awaiting response... 200 OK\n",
      "Length: 45926 (45K) [image/jpeg]\n",
      "Saving to: ‘/Users/levgolod/Projects/car_classifier/data/autotrader/vehicle_images/make-honda/model-odyssey/vehicle_id-736627883/6503f51566444ba086831f57d2b06900.jpg’\n",
      "\n",
      "     0K .......... .......... .......... .......... ....      100% 3.15M=0.01s\n",
      "\n",
      "2025-02-12 10:51:36 (3.15 MB/s) - ‘/Users/levgolod/Projects/car_classifier/data/autotrader/vehicle_images/make-honda/model-odyssey/vehicle_id-736627883/6503f51566444ba086831f57d2b06900.jpg’ saved [45926/45926]\n",
      "\n"
     ]
    },
    {
     "name": "stdout",
     "output_type": "stream",
     "text": [
      "wget -nc -O \"/Users/levgolod/Projects/car_classifier/data/autotrader/vehicle_images/make-honda/model-odyssey/vehicle_id-736627883/35b211f86328486caa1a312bddadd841.jpg\" \"https://images.autotrader.com/scaler/500/375/hn/c/35b211f86328486caa1a312bddadd841.jpg\" \n"
     ]
    },
    {
     "name": "stderr",
     "output_type": "stream",
     "text": [
      "--2025-02-12 10:51:38--  https://images.autotrader.com/scaler/500/375/hn/c/35b211f86328486caa1a312bddadd841.jpg\n",
      "Resolving images.autotrader.com (images.autotrader.com)... 2600:9000:201d:c800:6:249c:1640:93a1, 2600:9000:201d:b800:6:249c:1640:93a1, 2600:9000:201d:c00:6:249c:1640:93a1, ...\n",
      "Connecting to images.autotrader.com (images.autotrader.com)|2600:9000:201d:c800:6:249c:1640:93a1|:443... connected.\n",
      "HTTP request sent, awaiting response... 200 OK\n",
      "Length: 45724 (45K) [image/jpeg]\n",
      "Saving to: ‘/Users/levgolod/Projects/car_classifier/data/autotrader/vehicle_images/make-honda/model-odyssey/vehicle_id-736627883/35b211f86328486caa1a312bddadd841.jpg’\n",
      "\n",
      "     0K .......... .......... .......... .......... ....      100% 2.82M=0.02s\n",
      "\n",
      "2025-02-12 10:51:38 (2.82 MB/s) - ‘/Users/levgolod/Projects/car_classifier/data/autotrader/vehicle_images/make-honda/model-odyssey/vehicle_id-736627883/35b211f86328486caa1a312bddadd841.jpg’ saved [45724/45724]\n",
      "\n"
     ]
    },
    {
     "name": "stdout",
     "output_type": "stream",
     "text": [
      "wget -nc -O \"/Users/levgolod/Projects/car_classifier/data/autotrader/vehicle_images/make-honda/model-odyssey/vehicle_id-733365286/0fc6c641bb724cc7927ee38eac796f28.jpg\" \"https://images.autotrader.com/scaler/500/375/hn/c/0fc6c641bb724cc7927ee38eac796f28.jpg\" \n"
     ]
    },
    {
     "name": "stderr",
     "output_type": "stream",
     "text": [
      "--2025-02-12 10:51:40--  https://images.autotrader.com/scaler/500/375/hn/c/0fc6c641bb724cc7927ee38eac796f28.jpg\n",
      "Resolving images.autotrader.com (images.autotrader.com)... 2600:9000:201d:c800:6:249c:1640:93a1, 2600:9000:201d:b800:6:249c:1640:93a1, 2600:9000:201d:c00:6:249c:1640:93a1, ...\n",
      "Connecting to images.autotrader.com (images.autotrader.com)|2600:9000:201d:c800:6:249c:1640:93a1|:443... connected.\n",
      "HTTP request sent, awaiting response... 200 OK\n",
      "Length: 52542 (51K) [image/jpeg]\n",
      "Saving to: ‘/Users/levgolod/Projects/car_classifier/data/autotrader/vehicle_images/make-honda/model-odyssey/vehicle_id-733365286/0fc6c641bb724cc7927ee38eac796f28.jpg’\n",
      "\n",
      "     0K .......... .......... .......... .......... .......... 97% 2.31M 0s\n",
      "    50K .                                                     100% 26.2K=0.02s\n",
      "\n",
      "2025-02-12 10:51:41 (2.37 MB/s) - ‘/Users/levgolod/Projects/car_classifier/data/autotrader/vehicle_images/make-honda/model-odyssey/vehicle_id-733365286/0fc6c641bb724cc7927ee38eac796f28.jpg’ saved [52542/52542]\n",
      "\n"
     ]
    },
    {
     "name": "stdout",
     "output_type": "stream",
     "text": [
      "wget -nc -O \"/Users/levgolod/Projects/car_classifier/data/autotrader/vehicle_images/make-bmw/model-x5/vehicle_id-734808409/6a1f10625543405cbbd453afdf634f5b.jpg\" \"https://images.autotrader.com/scaler/488/366/hn/c/6a1f10625543405cbbd453afdf634f5b.jpg\" \n"
     ]
    },
    {
     "name": "stderr",
     "output_type": "stream",
     "text": [
      "--2025-02-12 10:51:43--  https://images.autotrader.com/scaler/488/366/hn/c/6a1f10625543405cbbd453afdf634f5b.jpg\n",
      "Resolving images.autotrader.com (images.autotrader.com)... 2600:9000:201d:c800:6:249c:1640:93a1, 2600:9000:201d:b800:6:249c:1640:93a1, 2600:9000:201d:c00:6:249c:1640:93a1, ...\n",
      "Connecting to images.autotrader.com (images.autotrader.com)|2600:9000:201d:c800:6:249c:1640:93a1|:443... connected.\n",
      "HTTP request sent, awaiting response... 200 OK\n",
      "Length: 49093 (48K) [image/jpeg]\n",
      "Saving to: ‘/Users/levgolod/Projects/car_classifier/data/autotrader/vehicle_images/make-bmw/model-x5/vehicle_id-734808409/6a1f10625543405cbbd453afdf634f5b.jpg’\n",
      "\n",
      "     0K .......... .......... .......... .......... .......   100% 2.09M=0.02s\n",
      "\n",
      "2025-02-12 10:51:43 (2.09 MB/s) - ‘/Users/levgolod/Projects/car_classifier/data/autotrader/vehicle_images/make-bmw/model-x5/vehicle_id-734808409/6a1f10625543405cbbd453afdf634f5b.jpg’ saved [49093/49093]\n",
      "\n"
     ]
    },
    {
     "name": "stdout",
     "output_type": "stream",
     "text": [
      "wget -nc -O \"/Users/levgolod/Projects/car_classifier/data/autotrader/vehicle_images/make-honda/model-odyssey/vehicle_id-732504624/33727271d5e443619342b585463dd904.jpg\" \"https://images.autotrader.com/scaler/500/375/hn/c/33727271d5e443619342b585463dd904.jpg\" \n"
     ]
    },
    {
     "name": "stderr",
     "output_type": "stream",
     "text": [
      "--2025-02-12 10:51:45--  https://images.autotrader.com/scaler/500/375/hn/c/33727271d5e443619342b585463dd904.jpg\n",
      "Resolving images.autotrader.com (images.autotrader.com)... 2600:9000:201d:c800:6:249c:1640:93a1, 2600:9000:201d:b800:6:249c:1640:93a1, 2600:9000:201d:c00:6:249c:1640:93a1, ...\n",
      "Connecting to images.autotrader.com (images.autotrader.com)|2600:9000:201d:c800:6:249c:1640:93a1|:443... connected.\n",
      "HTTP request sent, awaiting response... 200 OK\n",
      "Length: 26977 (26K) [image/jpeg]\n",
      "Saving to: ‘/Users/levgolod/Projects/car_classifier/data/autotrader/vehicle_images/make-honda/model-odyssey/vehicle_id-732504624/33727271d5e443619342b585463dd904.jpg’\n",
      "\n",
      "     0K .......... .......... ......                          100% 3.34M=0.008s\n",
      "\n",
      "2025-02-12 10:51:46 (3.34 MB/s) - ‘/Users/levgolod/Projects/car_classifier/data/autotrader/vehicle_images/make-honda/model-odyssey/vehicle_id-732504624/33727271d5e443619342b585463dd904.jpg’ saved [26977/26977]\n",
      "\n"
     ]
    },
    {
     "name": "stdout",
     "output_type": "stream",
     "text": [
      "wget -nc -O \"/Users/levgolod/Projects/car_classifier/data/autotrader/vehicle_images/make-honda/model-odyssey/vehicle_id-732504624/f4a246871a534d2db223b6ae0cfdb4fc.jpg\" \"https://images.autotrader.com/scaler/500/375/hn/c/f4a246871a534d2db223b6ae0cfdb4fc.jpg\" \n"
     ]
    },
    {
     "name": "stderr",
     "output_type": "stream",
     "text": [
      "--2025-02-12 10:51:48--  https://images.autotrader.com/scaler/500/375/hn/c/f4a246871a534d2db223b6ae0cfdb4fc.jpg\n",
      "Resolving images.autotrader.com (images.autotrader.com)... 2600:9000:201d:c800:6:249c:1640:93a1, 2600:9000:201d:b800:6:249c:1640:93a1, 2600:9000:201d:c00:6:249c:1640:93a1, ...\n",
      "Connecting to images.autotrader.com (images.autotrader.com)|2600:9000:201d:c800:6:249c:1640:93a1|:443... connected.\n",
      "HTTP request sent, awaiting response... 200 OK\n",
      "Length: 26977 (26K) [image/jpeg]\n",
      "Saving to: ‘/Users/levgolod/Projects/car_classifier/data/autotrader/vehicle_images/make-honda/model-odyssey/vehicle_id-732504624/f4a246871a534d2db223b6ae0cfdb4fc.jpg’\n",
      "\n",
      "     0K .......... .......... ......                          100% 4.11M=0.006s\n",
      "\n",
      "2025-02-12 10:51:48 (4.11 MB/s) - ‘/Users/levgolod/Projects/car_classifier/data/autotrader/vehicle_images/make-honda/model-odyssey/vehicle_id-732504624/f4a246871a534d2db223b6ae0cfdb4fc.jpg’ saved [26977/26977]\n",
      "\n"
     ]
    },
    {
     "name": "stdout",
     "output_type": "stream",
     "text": [
      "wget -nc -O \"/Users/levgolod/Projects/car_classifier/data/autotrader/vehicle_images/make-honda/model-odyssey/vehicle_id-732504624/ea0983f3550a4e3a9f9e2db613d3eb5f.jpg\" \"https://images.autotrader.com/scaler/500/375/hn/c/ea0983f3550a4e3a9f9e2db613d3eb5f.jpg\" \n"
     ]
    },
    {
     "name": "stderr",
     "output_type": "stream",
     "text": [
      "--2025-02-12 10:51:50--  https://images.autotrader.com/scaler/500/375/hn/c/ea0983f3550a4e3a9f9e2db613d3eb5f.jpg\n",
      "Resolving images.autotrader.com (images.autotrader.com)... 2600:9000:201d:c800:6:249c:1640:93a1, 2600:9000:201d:b800:6:249c:1640:93a1, 2600:9000:201d:c00:6:249c:1640:93a1, ...\n",
      "Connecting to images.autotrader.com (images.autotrader.com)|2600:9000:201d:c800:6:249c:1640:93a1|:443... connected.\n",
      "HTTP request sent, awaiting response... 200 OK\n",
      "Length: 49875 (49K) [image/jpeg]\n",
      "Saving to: ‘/Users/levgolod/Projects/car_classifier/data/autotrader/vehicle_images/make-honda/model-odyssey/vehicle_id-732504624/ea0983f3550a4e3a9f9e2db613d3eb5f.jpg’\n",
      "\n",
      "     0K .......... .......... .......... .......... ........  100% 2.58M=0.02s\n",
      "\n",
      "2025-02-12 10:51:50 (2.58 MB/s) - ‘/Users/levgolod/Projects/car_classifier/data/autotrader/vehicle_images/make-honda/model-odyssey/vehicle_id-732504624/ea0983f3550a4e3a9f9e2db613d3eb5f.jpg’ saved [49875/49875]\n",
      "\n"
     ]
    },
    {
     "name": "stdout",
     "output_type": "stream",
     "text": [
      "wget -nc -O \"/Users/levgolod/Projects/car_classifier/data/autotrader/vehicle_images/make-honda/model-odyssey/vehicle_id-732504624/6f112cdc4f80402493ef31d4b4614f31.jpg\" \"https://images.autotrader.com/scaler/500/375/hn/c/6f112cdc4f80402493ef31d4b4614f31.jpg\" \n"
     ]
    },
    {
     "name": "stderr",
     "output_type": "stream",
     "text": [
      "--2025-02-12 10:51:52--  https://images.autotrader.com/scaler/500/375/hn/c/6f112cdc4f80402493ef31d4b4614f31.jpg\n",
      "Resolving images.autotrader.com (images.autotrader.com)... 2600:9000:201d:c800:6:249c:1640:93a1, 2600:9000:201d:b800:6:249c:1640:93a1, 2600:9000:201d:c00:6:249c:1640:93a1, ...\n",
      "Connecting to images.autotrader.com (images.autotrader.com)|2600:9000:201d:c800:6:249c:1640:93a1|:443... connected.\n",
      "HTTP request sent, awaiting response... 200 OK\n",
      "Length: 51294 (50K) [image/jpeg]\n",
      "Saving to: ‘/Users/levgolod/Projects/car_classifier/data/autotrader/vehicle_images/make-honda/model-odyssey/vehicle_id-732504624/6f112cdc4f80402493ef31d4b4614f31.jpg’\n",
      "\n",
      "     0K .......... .......... .......... .......... .......... 99% 3.28M 0s\n",
      "    50K                                                       100% 1.84K=0.01s\n",
      "\n",
      "2025-02-12 10:51:53 (3.28 MB/s) - ‘/Users/levgolod/Projects/car_classifier/data/autotrader/vehicle_images/make-honda/model-odyssey/vehicle_id-732504624/6f112cdc4f80402493ef31d4b4614f31.jpg’ saved [51294/51294]\n",
      "\n"
     ]
    },
    {
     "name": "stdout",
     "output_type": "stream",
     "text": [
      "wget -nc -O \"/Users/levgolod/Projects/car_classifier/data/autotrader/vehicle_images/make-honda/model-odyssey/vehicle_id-732504624/28bf07d7c19948d5a0eb8220a5433b78.jpg\" \"https://images.autotrader.com/scaler/500/375/hn/c/28bf07d7c19948d5a0eb8220a5433b78.jpg\" \n"
     ]
    },
    {
     "name": "stderr",
     "output_type": "stream",
     "text": [
      "--2025-02-12 10:51:55--  https://images.autotrader.com/scaler/500/375/hn/c/28bf07d7c19948d5a0eb8220a5433b78.jpg\n",
      "Resolving images.autotrader.com (images.autotrader.com)... 2600:9000:201d:c800:6:249c:1640:93a1, 2600:9000:201d:b800:6:249c:1640:93a1, 2600:9000:201d:c00:6:249c:1640:93a1, ...\n",
      "Connecting to images.autotrader.com (images.autotrader.com)|2600:9000:201d:c800:6:249c:1640:93a1|:443... connected.\n",
      "HTTP request sent, awaiting response... 200 OK\n",
      "Length: 49887 (49K) [image/jpeg]\n",
      "Saving to: ‘/Users/levgolod/Projects/car_classifier/data/autotrader/vehicle_images/make-honda/model-odyssey/vehicle_id-732504624/28bf07d7c19948d5a0eb8220a5433b78.jpg’\n",
      "\n",
      "     0K .......... .......... .......... .......... ........  100% 2.31M=0.02s\n",
      "\n",
      "2025-02-12 10:51:55 (2.31 MB/s) - ‘/Users/levgolod/Projects/car_classifier/data/autotrader/vehicle_images/make-honda/model-odyssey/vehicle_id-732504624/28bf07d7c19948d5a0eb8220a5433b78.jpg’ saved [49887/49887]\n",
      "\n"
     ]
    },
    {
     "name": "stdout",
     "output_type": "stream",
     "text": [
      "wget -nc -O \"/Users/levgolod/Projects/car_classifier/data/autotrader/vehicle_images/make-honda/model-odyssey/vehicle_id-732504624/7ccef03f5d734cc1bdbbcf0bf9749a4e.jpg\" \"https://images.autotrader.com/scaler/500/375/hn/c/7ccef03f5d734cc1bdbbcf0bf9749a4e.jpg\" \n"
     ]
    },
    {
     "name": "stderr",
     "output_type": "stream",
     "text": [
      "--2025-02-12 10:51:57--  https://images.autotrader.com/scaler/500/375/hn/c/7ccef03f5d734cc1bdbbcf0bf9749a4e.jpg\n",
      "Resolving images.autotrader.com (images.autotrader.com)... 2600:9000:201d:c800:6:249c:1640:93a1, 2600:9000:201d:b800:6:249c:1640:93a1, 2600:9000:201d:c00:6:249c:1640:93a1, ...\n",
      "Connecting to images.autotrader.com (images.autotrader.com)|2600:9000:201d:c800:6:249c:1640:93a1|:443... connected.\n",
      "HTTP request sent, awaiting response... 200 OK\n",
      "Length: 49356 (48K) [image/jpeg]\n",
      "Saving to: ‘/Users/levgolod/Projects/car_classifier/data/autotrader/vehicle_images/make-honda/model-odyssey/vehicle_id-732504624/7ccef03f5d734cc1bdbbcf0bf9749a4e.jpg’\n",
      "\n",
      "     0K .......... .......... .......... .......... ........  100% 1.90M=0.02s\n",
      "\n",
      "2025-02-12 10:51:57 (1.90 MB/s) - ‘/Users/levgolod/Projects/car_classifier/data/autotrader/vehicle_images/make-honda/model-odyssey/vehicle_id-732504624/7ccef03f5d734cc1bdbbcf0bf9749a4e.jpg’ saved [49356/49356]\n",
      "\n"
     ]
    },
    {
     "name": "stdout",
     "output_type": "stream",
     "text": [
      "wget -nc -O \"/Users/levgolod/Projects/car_classifier/data/autotrader/vehicle_images/make-honda/model-odyssey/vehicle_id-732504624/0cfd93e3f3204e5c882feb0597a5f8e7.jpg\" \"https://images.autotrader.com/scaler/500/375/hn/c/0cfd93e3f3204e5c882feb0597a5f8e7.jpg\" \n"
     ]
    },
    {
     "name": "stderr",
     "output_type": "stream",
     "text": [
      "--2025-02-12 10:51:59--  https://images.autotrader.com/scaler/500/375/hn/c/0cfd93e3f3204e5c882feb0597a5f8e7.jpg\n",
      "Resolving images.autotrader.com (images.autotrader.com)... 2600:9000:201d:c800:6:249c:1640:93a1, 2600:9000:201d:b800:6:249c:1640:93a1, 2600:9000:201d:c00:6:249c:1640:93a1, ...\n",
      "Connecting to images.autotrader.com (images.autotrader.com)|2600:9000:201d:c800:6:249c:1640:93a1|:443... connected.\n",
      "HTTP request sent, awaiting response... 200 OK\n",
      "Length: 51727 (51K) [image/jpeg]\n",
      "Saving to: ‘/Users/levgolod/Projects/car_classifier/data/autotrader/vehicle_images/make-honda/model-odyssey/vehicle_id-732504624/0cfd93e3f3204e5c882feb0597a5f8e7.jpg’\n",
      "\n",
      "     0K .......... .......... .......... .......... .......... 98% 2.44M 0s\n",
      "    50K                                                       100% 10.3K=0.02s\n",
      "\n",
      "2025-02-12 10:51:59 (2.46 MB/s) - ‘/Users/levgolod/Projects/car_classifier/data/autotrader/vehicle_images/make-honda/model-odyssey/vehicle_id-732504624/0cfd93e3f3204e5c882feb0597a5f8e7.jpg’ saved [51727/51727]\n",
      "\n"
     ]
    },
    {
     "name": "stdout",
     "output_type": "stream",
     "text": [
      "wget -nc -O \"/Users/levgolod/Projects/car_classifier/data/autotrader/vehicle_images/make-honda/model-odyssey/vehicle_id-732504624/327f0c8cb27549768d712f4fcd01e2c0.jpg\" \"https://images.autotrader.com/scaler/500/375/hn/c/327f0c8cb27549768d712f4fcd01e2c0.jpg\" \n"
     ]
    },
    {
     "name": "stderr",
     "output_type": "stream",
     "text": [
      "--2025-02-12 10:52:01--  https://images.autotrader.com/scaler/500/375/hn/c/327f0c8cb27549768d712f4fcd01e2c0.jpg\n",
      "Resolving images.autotrader.com (images.autotrader.com)... 2600:9000:201d:c800:6:249c:1640:93a1, 2600:9000:201d:b800:6:249c:1640:93a1, 2600:9000:201d:c00:6:249c:1640:93a1, ...\n",
      "Connecting to images.autotrader.com (images.autotrader.com)|2600:9000:201d:c800:6:249c:1640:93a1|:443... connected.\n",
      "HTTP request sent, awaiting response... 200 OK\n",
      "Length: 48488 (47K) [image/jpeg]\n",
      "Saving to: ‘/Users/levgolod/Projects/car_classifier/data/autotrader/vehicle_images/make-honda/model-odyssey/vehicle_id-732504624/327f0c8cb27549768d712f4fcd01e2c0.jpg’\n",
      "\n",
      "     0K .......... .......... .......... .......... .......   100% 2.35M=0.02s\n",
      "\n",
      "2025-02-12 10:52:02 (2.35 MB/s) - ‘/Users/levgolod/Projects/car_classifier/data/autotrader/vehicle_images/make-honda/model-odyssey/vehicle_id-732504624/327f0c8cb27549768d712f4fcd01e2c0.jpg’ saved [48488/48488]\n",
      "\n"
     ]
    },
    {
     "name": "stdout",
     "output_type": "stream",
     "text": [
      "wget -nc -O \"/Users/levgolod/Projects/car_classifier/data/autotrader/vehicle_images/make-honda/model-odyssey/vehicle_id-732504624/e4b03040ba01403c94d7137e7591e124.jpg\" \"https://images.autotrader.com/scaler/500/375/hn/c/e4b03040ba01403c94d7137e7591e124.jpg\" \n"
     ]
    },
    {
     "name": "stderr",
     "output_type": "stream",
     "text": [
      "--2025-02-12 10:52:04--  https://images.autotrader.com/scaler/500/375/hn/c/e4b03040ba01403c94d7137e7591e124.jpg\n",
      "Resolving images.autotrader.com (images.autotrader.com)... 2600:9000:201d:c800:6:249c:1640:93a1, 2600:9000:201d:b800:6:249c:1640:93a1, 2600:9000:201d:c00:6:249c:1640:93a1, ...\n",
      "Connecting to images.autotrader.com (images.autotrader.com)|2600:9000:201d:c800:6:249c:1640:93a1|:443... connected.\n",
      "HTTP request sent, awaiting response... 200 OK\n",
      "Length: 49799 (49K) [image/jpeg]\n",
      "Saving to: ‘/Users/levgolod/Projects/car_classifier/data/autotrader/vehicle_images/make-honda/model-odyssey/vehicle_id-732504624/e4b03040ba01403c94d7137e7591e124.jpg’\n",
      "\n",
      "     0K .......... .......... .......... .......... ........  100%  801K=0.06s\n",
      "\n",
      "2025-02-12 10:52:04 (801 KB/s) - ‘/Users/levgolod/Projects/car_classifier/data/autotrader/vehicle_images/make-honda/model-odyssey/vehicle_id-732504624/e4b03040ba01403c94d7137e7591e124.jpg’ saved [49799/49799]\n",
      "\n"
     ]
    },
    {
     "name": "stdout",
     "output_type": "stream",
     "text": [
      "wget -nc -O \"/Users/levgolod/Projects/car_classifier/data/autotrader/vehicle_images/make-honda/model-odyssey/vehicle_id-732504624/f541e6d35b94492daf3746b8555ecb8d.jpg\" \"https://images.autotrader.com/scaler/500/375/hn/c/f541e6d35b94492daf3746b8555ecb8d.jpg\" \n"
     ]
    },
    {
     "name": "stderr",
     "output_type": "stream",
     "text": [
      "--2025-02-12 10:52:06--  https://images.autotrader.com/scaler/500/375/hn/c/f541e6d35b94492daf3746b8555ecb8d.jpg\n",
      "Resolving images.autotrader.com (images.autotrader.com)... 2600:9000:201d:c800:6:249c:1640:93a1, 2600:9000:201d:b800:6:249c:1640:93a1, 2600:9000:201d:c00:6:249c:1640:93a1, ...\n",
      "Connecting to images.autotrader.com (images.autotrader.com)|2600:9000:201d:c800:6:249c:1640:93a1|:443... connected.\n",
      "HTTP request sent, awaiting response... 200 OK\n",
      "Length: 46561 (45K) [image/jpeg]\n",
      "Saving to: ‘/Users/levgolod/Projects/car_classifier/data/autotrader/vehicle_images/make-honda/model-odyssey/vehicle_id-732504624/f541e6d35b94492daf3746b8555ecb8d.jpg’\n",
      "\n",
      "     0K .......... .......... .......... .......... .....     100% 2.66M=0.02s\n",
      "\n",
      "2025-02-12 10:52:06 (2.66 MB/s) - ‘/Users/levgolod/Projects/car_classifier/data/autotrader/vehicle_images/make-honda/model-odyssey/vehicle_id-732504624/f541e6d35b94492daf3746b8555ecb8d.jpg’ saved [46561/46561]\n",
      "\n"
     ]
    },
    {
     "name": "stdout",
     "output_type": "stream",
     "text": [
      "wget -nc -O \"/Users/levgolod/Projects/car_classifier/data/autotrader/vehicle_images/make-honda/model-odyssey/vehicle_id-732504624/bf77d85513df4d34b1aa781410686eca.jpg\" \"https://images.autotrader.com/scaler/500/375/hn/c/bf77d85513df4d34b1aa781410686eca.jpg\" \n"
     ]
    },
    {
     "name": "stderr",
     "output_type": "stream",
     "text": [
      "--2025-02-12 10:52:08--  https://images.autotrader.com/scaler/500/375/hn/c/bf77d85513df4d34b1aa781410686eca.jpg\n",
      "Resolving images.autotrader.com (images.autotrader.com)... 2600:9000:201d:c800:6:249c:1640:93a1, 2600:9000:201d:b800:6:249c:1640:93a1, 2600:9000:201d:c00:6:249c:1640:93a1, ...\n",
      "Connecting to images.autotrader.com (images.autotrader.com)|2600:9000:201d:c800:6:249c:1640:93a1|:443... connected.\n",
      "HTTP request sent, awaiting response... 200 OK\n",
      "Length: 40308 (39K) [image/jpeg]\n",
      "Saving to: ‘/Users/levgolod/Projects/car_classifier/data/autotrader/vehicle_images/make-honda/model-odyssey/vehicle_id-732504624/bf77d85513df4d34b1aa781410686eca.jpg’\n",
      "\n",
      "     0K .......... .......... .......... .........            100% 2.78M=0.01s\n",
      "\n",
      "2025-02-12 10:52:09 (2.78 MB/s) - ‘/Users/levgolod/Projects/car_classifier/data/autotrader/vehicle_images/make-honda/model-odyssey/vehicle_id-732504624/bf77d85513df4d34b1aa781410686eca.jpg’ saved [40308/40308]\n",
      "\n"
     ]
    },
    {
     "name": "stdout",
     "output_type": "stream",
     "text": [
      "wget -nc -O \"/Users/levgolod/Projects/car_classifier/data/autotrader/vehicle_images/make-honda/model-odyssey/vehicle_id-732504624/003997b49fba434181f58da18319b313.jpg\" \"https://images.autotrader.com/scaler/500/375/hn/c/003997b49fba434181f58da18319b313.jpg\" \n"
     ]
    },
    {
     "name": "stderr",
     "output_type": "stream",
     "text": [
      "--2025-02-12 10:52:11--  https://images.autotrader.com/scaler/500/375/hn/c/003997b49fba434181f58da18319b313.jpg\n",
      "Resolving images.autotrader.com (images.autotrader.com)... 2600:9000:201d:800:6:249c:1640:93a1, 2600:9000:201d:fc00:6:249c:1640:93a1, 2600:9000:201d:c600:6:249c:1640:93a1, ...\n",
      "Connecting to images.autotrader.com (images.autotrader.com)|2600:9000:201d:800:6:249c:1640:93a1|:443... connected.\n",
      "HTTP request sent, awaiting response... 200 OK\n",
      "Length: 37399 (37K) [image/jpeg]\n",
      "Saving to: ‘/Users/levgolod/Projects/car_classifier/data/autotrader/vehicle_images/make-honda/model-odyssey/vehicle_id-732504624/003997b49fba434181f58da18319b313.jpg’\n",
      "\n",
      "     0K .......... .......... .......... ......               100% 1.95M=0.02s\n",
      "\n",
      "2025-02-12 10:52:11 (1.95 MB/s) - ‘/Users/levgolod/Projects/car_classifier/data/autotrader/vehicle_images/make-honda/model-odyssey/vehicle_id-732504624/003997b49fba434181f58da18319b313.jpg’ saved [37399/37399]\n",
      "\n"
     ]
    },
    {
     "name": "stdout",
     "output_type": "stream",
     "text": [
      "wget -nc -O \"/Users/levgolod/Projects/car_classifier/data/autotrader/vehicle_images/make-honda/model-odyssey/vehicle_id-732504624/610587a5fefd494588f7d25b3f5cea4e.jpg\" \"https://images.autotrader.com/scaler/500/375/hn/c/610587a5fefd494588f7d25b3f5cea4e.jpg\" \n"
     ]
    },
    {
     "name": "stderr",
     "output_type": "stream",
     "text": [
      "--2025-02-12 10:52:13--  https://images.autotrader.com/scaler/500/375/hn/c/610587a5fefd494588f7d25b3f5cea4e.jpg\n",
      "Resolving images.autotrader.com (images.autotrader.com)... 2600:9000:201d:800:6:249c:1640:93a1, 2600:9000:201d:fc00:6:249c:1640:93a1, 2600:9000:201d:c600:6:249c:1640:93a1, ...\n",
      "Connecting to images.autotrader.com (images.autotrader.com)|2600:9000:201d:800:6:249c:1640:93a1|:443... connected.\n",
      "HTTP request sent, awaiting response... 200 OK\n",
      "Length: 42947 (42K) [image/jpeg]\n",
      "Saving to: ‘/Users/levgolod/Projects/car_classifier/data/autotrader/vehicle_images/make-honda/model-odyssey/vehicle_id-732504624/610587a5fefd494588f7d25b3f5cea4e.jpg’\n",
      "\n",
      "     0K .......... .......... .......... .......... .         100% 2.78M=0.01s\n",
      "\n",
      "2025-02-12 10:52:13 (2.78 MB/s) - ‘/Users/levgolod/Projects/car_classifier/data/autotrader/vehicle_images/make-honda/model-odyssey/vehicle_id-732504624/610587a5fefd494588f7d25b3f5cea4e.jpg’ saved [42947/42947]\n",
      "\n"
     ]
    },
    {
     "name": "stdout",
     "output_type": "stream",
     "text": [
      "wget -nc -O \"/Users/levgolod/Projects/car_classifier/data/autotrader/vehicle_images/make-honda/model-odyssey/vehicle_id-732504624/366a979540f84b47a89defa324d9e587.jpg\" \"https://images.autotrader.com/scaler/500/375/hn/c/366a979540f84b47a89defa324d9e587.jpg\" \n"
     ]
    },
    {
     "name": "stderr",
     "output_type": "stream",
     "text": [
      "--2025-02-12 10:52:15--  https://images.autotrader.com/scaler/500/375/hn/c/366a979540f84b47a89defa324d9e587.jpg\n",
      "Resolving images.autotrader.com (images.autotrader.com)... 2600:9000:201d:800:6:249c:1640:93a1, 2600:9000:201d:fc00:6:249c:1640:93a1, 2600:9000:201d:c600:6:249c:1640:93a1, ...\n",
      "Connecting to images.autotrader.com (images.autotrader.com)|2600:9000:201d:800:6:249c:1640:93a1|:443... connected.\n",
      "HTTP request sent, awaiting response... 200 OK\n",
      "Length: 31101 (30K) [image/jpeg]\n",
      "Saving to: ‘/Users/levgolod/Projects/car_classifier/data/autotrader/vehicle_images/make-honda/model-odyssey/vehicle_id-732504624/366a979540f84b47a89defa324d9e587.jpg’\n",
      "\n",
      "     0K .......... .......... ..........                      100% 23.6M=0.001s\n",
      "\n",
      "2025-02-12 10:52:16 (23.6 MB/s) - ‘/Users/levgolod/Projects/car_classifier/data/autotrader/vehicle_images/make-honda/model-odyssey/vehicle_id-732504624/366a979540f84b47a89defa324d9e587.jpg’ saved [31101/31101]\n",
      "\n"
     ]
    },
    {
     "name": "stdout",
     "output_type": "stream",
     "text": [
      "wget -nc -O \"/Users/levgolod/Projects/car_classifier/data/autotrader/vehicle_images/make-honda/model-odyssey/vehicle_id-732504624/72ef07d119724907a23928cebbe27e9a.jpg\" \"https://images.autotrader.com/scaler/500/375/hn/c/72ef07d119724907a23928cebbe27e9a.jpg\" \n"
     ]
    },
    {
     "name": "stderr",
     "output_type": "stream",
     "text": [
      "--2025-02-12 10:52:18--  https://images.autotrader.com/scaler/500/375/hn/c/72ef07d119724907a23928cebbe27e9a.jpg\n",
      "Resolving images.autotrader.com (images.autotrader.com)... 2600:9000:201d:800:6:249c:1640:93a1, 2600:9000:201d:fc00:6:249c:1640:93a1, 2600:9000:201d:c600:6:249c:1640:93a1, ...\n",
      "Connecting to images.autotrader.com (images.autotrader.com)|2600:9000:201d:800:6:249c:1640:93a1|:443... connected.\n",
      "HTTP request sent, awaiting response... 200 OK\n",
      "Length: 38144 (37K) [image/jpeg]\n",
      "Saving to: ‘/Users/levgolod/Projects/car_classifier/data/autotrader/vehicle_images/make-honda/model-odyssey/vehicle_id-732504624/72ef07d119724907a23928cebbe27e9a.jpg’\n",
      "\n",
      "     0K .......... .......... .......... .......              100% 1.65M=0.02s\n",
      "\n",
      "2025-02-12 10:52:18 (1.65 MB/s) - ‘/Users/levgolod/Projects/car_classifier/data/autotrader/vehicle_images/make-honda/model-odyssey/vehicle_id-732504624/72ef07d119724907a23928cebbe27e9a.jpg’ saved [38144/38144]\n",
      "\n"
     ]
    },
    {
     "name": "stdout",
     "output_type": "stream",
     "text": [
      "wget -nc -O \"/Users/levgolod/Projects/car_classifier/data/autotrader/vehicle_images/make-honda/model-odyssey/vehicle_id-732504624/defb8a53778d475abeb76e6321f67bef.jpg\" \"https://images.autotrader.com/scaler/500/375/hn/c/defb8a53778d475abeb76e6321f67bef.jpg\" \n"
     ]
    },
    {
     "name": "stderr",
     "output_type": "stream",
     "text": [
      "--2025-02-12 10:52:20--  https://images.autotrader.com/scaler/500/375/hn/c/defb8a53778d475abeb76e6321f67bef.jpg\n",
      "Resolving images.autotrader.com (images.autotrader.com)... 2600:9000:201d:800:6:249c:1640:93a1, 2600:9000:201d:fc00:6:249c:1640:93a1, 2600:9000:201d:c600:6:249c:1640:93a1, ...\n",
      "Connecting to images.autotrader.com (images.autotrader.com)|2600:9000:201d:800:6:249c:1640:93a1|:443... connected.\n",
      "HTTP request sent, awaiting response... 200 OK\n",
      "Length: 46556 (45K) [image/jpeg]\n",
      "Saving to: ‘/Users/levgolod/Projects/car_classifier/data/autotrader/vehicle_images/make-honda/model-odyssey/vehicle_id-732504624/defb8a53778d475abeb76e6321f67bef.jpg’\n",
      "\n",
      "     0K .......... .......... .......... .......... .....     100% 2.63M=0.02s\n",
      "\n",
      "2025-02-12 10:52:20 (2.63 MB/s) - ‘/Users/levgolod/Projects/car_classifier/data/autotrader/vehicle_images/make-honda/model-odyssey/vehicle_id-732504624/defb8a53778d475abeb76e6321f67bef.jpg’ saved [46556/46556]\n",
      "\n"
     ]
    },
    {
     "name": "stdout",
     "output_type": "stream",
     "text": [
      "wget -nc -O \"/Users/levgolod/Projects/car_classifier/data/autotrader/vehicle_images/make-honda/model-odyssey/vehicle_id-732504624/74654286103d4103ad883e732a8f6701.jpg\" \"https://images.autotrader.com/scaler/500/375/hn/c/74654286103d4103ad883e732a8f6701.jpg\" \n"
     ]
    },
    {
     "name": "stderr",
     "output_type": "stream",
     "text": [
      "--2025-02-12 10:52:22--  https://images.autotrader.com/scaler/500/375/hn/c/74654286103d4103ad883e732a8f6701.jpg\n",
      "Resolving images.autotrader.com (images.autotrader.com)... 2600:9000:201d:800:6:249c:1640:93a1, 2600:9000:201d:fc00:6:249c:1640:93a1, 2600:9000:201d:c600:6:249c:1640:93a1, ...\n",
      "Connecting to images.autotrader.com (images.autotrader.com)|2600:9000:201d:800:6:249c:1640:93a1|:443... connected.\n",
      "HTTP request sent, awaiting response... 200 OK\n",
      "Length: 45302 (44K) [image/jpeg]\n",
      "Saving to: ‘/Users/levgolod/Projects/car_classifier/data/autotrader/vehicle_images/make-honda/model-odyssey/vehicle_id-732504624/74654286103d4103ad883e732a8f6701.jpg’\n",
      "\n",
      "     0K .......... .......... .......... .......... ....      100% 2.80M=0.02s\n",
      "\n",
      "2025-02-12 10:52:23 (2.80 MB/s) - ‘/Users/levgolod/Projects/car_classifier/data/autotrader/vehicle_images/make-honda/model-odyssey/vehicle_id-732504624/74654286103d4103ad883e732a8f6701.jpg’ saved [45302/45302]\n",
      "\n"
     ]
    },
    {
     "name": "stdout",
     "output_type": "stream",
     "text": [
      "wget -nc -O \"/Users/levgolod/Projects/car_classifier/data/autotrader/vehicle_images/make-honda/model-odyssey/vehicle_id-732504624/5b66a9f921de467ebccb6cce2ddffb55.jpg\" \"https://images.autotrader.com/scaler/500/375/hn/c/5b66a9f921de467ebccb6cce2ddffb55.jpg\" \n"
     ]
    },
    {
     "name": "stderr",
     "output_type": "stream",
     "text": [
      "--2025-02-12 10:52:25--  https://images.autotrader.com/scaler/500/375/hn/c/5b66a9f921de467ebccb6cce2ddffb55.jpg\n",
      "Resolving images.autotrader.com (images.autotrader.com)... 2600:9000:201d:800:6:249c:1640:93a1, 2600:9000:201d:fc00:6:249c:1640:93a1, 2600:9000:201d:c600:6:249c:1640:93a1, ...\n",
      "Connecting to images.autotrader.com (images.autotrader.com)|2600:9000:201d:800:6:249c:1640:93a1|:443... connected.\n",
      "HTTP request sent, awaiting response... 200 OK\n",
      "Length: 29040 (28K) [image/jpeg]\n",
      "Saving to: ‘/Users/levgolod/Projects/car_classifier/data/autotrader/vehicle_images/make-honda/model-odyssey/vehicle_id-732504624/5b66a9f921de467ebccb6cce2ddffb55.jpg’\n",
      "\n",
      "     0K .......... .......... ........                        100% 3.90M=0.007s\n",
      "\n",
      "2025-02-12 10:52:25 (3.90 MB/s) - ‘/Users/levgolod/Projects/car_classifier/data/autotrader/vehicle_images/make-honda/model-odyssey/vehicle_id-732504624/5b66a9f921de467ebccb6cce2ddffb55.jpg’ saved [29040/29040]\n",
      "\n"
     ]
    },
    {
     "name": "stdout",
     "output_type": "stream",
     "text": [
      "wget -nc -O \"/Users/levgolod/Projects/car_classifier/data/autotrader/vehicle_images/make-honda/model-odyssey/vehicle_id-732504624/403ef255a43540c18ea76710dc96e3a8.jpg\" \"https://images.autotrader.com/scaler/500/375/hn/c/403ef255a43540c18ea76710dc96e3a8.jpg\" \n"
     ]
    },
    {
     "name": "stderr",
     "output_type": "stream",
     "text": [
      "--2025-02-12 10:52:27--  https://images.autotrader.com/scaler/500/375/hn/c/403ef255a43540c18ea76710dc96e3a8.jpg\n",
      "Resolving images.autotrader.com (images.autotrader.com)... 2600:9000:201d:800:6:249c:1640:93a1, 2600:9000:201d:fc00:6:249c:1640:93a1, 2600:9000:201d:c600:6:249c:1640:93a1, ...\n",
      "Connecting to images.autotrader.com (images.autotrader.com)|2600:9000:201d:800:6:249c:1640:93a1|:443... connected.\n",
      "HTTP request sent, awaiting response... 200 OK\n",
      "Length: 36241 (35K) [image/jpeg]\n",
      "Saving to: ‘/Users/levgolod/Projects/car_classifier/data/autotrader/vehicle_images/make-honda/model-odyssey/vehicle_id-732504624/403ef255a43540c18ea76710dc96e3a8.jpg’\n",
      "\n",
      "     0K .......... .......... .......... .....                100% 2.11M=0.02s\n",
      "\n",
      "2025-02-12 10:52:27 (2.11 MB/s) - ‘/Users/levgolod/Projects/car_classifier/data/autotrader/vehicle_images/make-honda/model-odyssey/vehicle_id-732504624/403ef255a43540c18ea76710dc96e3a8.jpg’ saved [36241/36241]\n",
      "\n"
     ]
    },
    {
     "name": "stdout",
     "output_type": "stream",
     "text": [
      "wget -nc -O \"/Users/levgolod/Projects/car_classifier/data/autotrader/vehicle_images/make-honda/model-odyssey/vehicle_id-732504624/f366bc4d10bb4291a6c52bbfedc7b077.jpg\" \"https://images.autotrader.com/scaler/500/375/hn/c/f366bc4d10bb4291a6c52bbfedc7b077.jpg\" \n"
     ]
    },
    {
     "name": "stderr",
     "output_type": "stream",
     "text": [
      "--2025-02-12 10:52:29--  https://images.autotrader.com/scaler/500/375/hn/c/f366bc4d10bb4291a6c52bbfedc7b077.jpg\n",
      "Resolving images.autotrader.com (images.autotrader.com)... 2600:9000:201d:3800:6:249c:1640:93a1, 2600:9000:201d:c000:6:249c:1640:93a1, 2600:9000:201d:9800:6:249c:1640:93a1, ...\n",
      "Connecting to images.autotrader.com (images.autotrader.com)|2600:9000:201d:3800:6:249c:1640:93a1|:443... connected.\n",
      "HTTP request sent, awaiting response... 200 OK\n",
      "Length: 36559 (36K) [image/jpeg]\n",
      "Saving to: ‘/Users/levgolod/Projects/car_classifier/data/autotrader/vehicle_images/make-honda/model-odyssey/vehicle_id-732504624/f366bc4d10bb4291a6c52bbfedc7b077.jpg’\n",
      "\n",
      "     0K .......... .......... .......... .....                100% 24.6M=0.001s\n",
      "\n",
      "2025-02-12 10:52:30 (24.6 MB/s) - ‘/Users/levgolod/Projects/car_classifier/data/autotrader/vehicle_images/make-honda/model-odyssey/vehicle_id-732504624/f366bc4d10bb4291a6c52bbfedc7b077.jpg’ saved [36559/36559]\n",
      "\n"
     ]
    },
    {
     "name": "stdout",
     "output_type": "stream",
     "text": [
      "wget -nc -O \"/Users/levgolod/Projects/car_classifier/data/autotrader/vehicle_images/make-honda/model-odyssey/vehicle_id-732504624/82a5ebd065f14c63b3e257f53b272844.jpg\" \"https://images.autotrader.com/scaler/500/375/hn/c/82a5ebd065f14c63b3e257f53b272844.jpg\" \n"
     ]
    },
    {
     "name": "stderr",
     "output_type": "stream",
     "text": [
      "--2025-02-12 10:52:32--  https://images.autotrader.com/scaler/500/375/hn/c/82a5ebd065f14c63b3e257f53b272844.jpg\n",
      "Resolving images.autotrader.com (images.autotrader.com)... 2600:9000:201d:ca00:6:249c:1640:93a1, 2600:9000:201d:c000:6:249c:1640:93a1, 2600:9000:201d:1e00:6:249c:1640:93a1, ...\n",
      "Connecting to images.autotrader.com (images.autotrader.com)|2600:9000:201d:ca00:6:249c:1640:93a1|:443... connected.\n",
      "HTTP request sent, awaiting response... 200 OK\n",
      "Length: 28796 (28K) [image/jpeg]\n",
      "Saving to: ‘/Users/levgolod/Projects/car_classifier/data/autotrader/vehicle_images/make-honda/model-odyssey/vehicle_id-732504624/82a5ebd065f14c63b3e257f53b272844.jpg’\n",
      "\n",
      "     0K .......... .......... ........                        100% 14.1M=0.002s\n",
      "\n",
      "2025-02-12 10:52:32 (14.1 MB/s) - ‘/Users/levgolod/Projects/car_classifier/data/autotrader/vehicle_images/make-honda/model-odyssey/vehicle_id-732504624/82a5ebd065f14c63b3e257f53b272844.jpg’ saved [28796/28796]\n",
      "\n"
     ]
    },
    {
     "name": "stdout",
     "output_type": "stream",
     "text": [
      "wget -nc -O \"/Users/levgolod/Projects/car_classifier/data/autotrader/vehicle_images/make-honda/model-odyssey/vehicle_id-732504624/bb0709d81c034999b4147d8176aac0ca.jpg\" \"https://images.autotrader.com/scaler/500/375/hn/c/bb0709d81c034999b4147d8176aac0ca.jpg\" \n"
     ]
    },
    {
     "name": "stderr",
     "output_type": "stream",
     "text": [
      "--2025-02-12 10:52:34--  https://images.autotrader.com/scaler/500/375/hn/c/bb0709d81c034999b4147d8176aac0ca.jpg\n",
      "Resolving images.autotrader.com (images.autotrader.com)... 2600:9000:201d:9800:6:249c:1640:93a1, 2600:9000:201d:c000:6:249c:1640:93a1, 2600:9000:201d:1e00:6:249c:1640:93a1, ...\n",
      "Connecting to images.autotrader.com (images.autotrader.com)|2600:9000:201d:9800:6:249c:1640:93a1|:443... connected.\n",
      "HTTP request sent, awaiting response... 200 OK\n",
      "Length: 40501 (40K) [image/jpeg]\n",
      "Saving to: ‘/Users/levgolod/Projects/car_classifier/data/autotrader/vehicle_images/make-honda/model-odyssey/vehicle_id-732504624/bb0709d81c034999b4147d8176aac0ca.jpg’\n",
      "\n",
      "     0K .......... .......... .......... .........            100% 2.07M=0.02s\n",
      "\n",
      "2025-02-12 10:52:34 (2.07 MB/s) - ‘/Users/levgolod/Projects/car_classifier/data/autotrader/vehicle_images/make-honda/model-odyssey/vehicle_id-732504624/bb0709d81c034999b4147d8176aac0ca.jpg’ saved [40501/40501]\n",
      "\n"
     ]
    },
    {
     "name": "stdout",
     "output_type": "stream",
     "text": [
      "wget -nc -O \"/Users/levgolod/Projects/car_classifier/data/autotrader/vehicle_images/make-honda/model-odyssey/vehicle_id-732504624/6dc816a820a24ea9bed71aae9410a858.jpg\" \"https://images.autotrader.com/scaler/500/375/hn/c/6dc816a820a24ea9bed71aae9410a858.jpg\" \n"
     ]
    },
    {
     "name": "stderr",
     "output_type": "stream",
     "text": [
      "--2025-02-12 10:52:37--  https://images.autotrader.com/scaler/500/375/hn/c/6dc816a820a24ea9bed71aae9410a858.jpg\n",
      "Resolving images.autotrader.com (images.autotrader.com)... 2600:9000:201d:4600:6:249c:1640:93a1, 2600:9000:201d:c000:6:249c:1640:93a1, 2600:9000:201d:1e00:6:249c:1640:93a1, ...\n",
      "Connecting to images.autotrader.com (images.autotrader.com)|2600:9000:201d:4600:6:249c:1640:93a1|:443... connected.\n",
      "HTTP request sent, awaiting response... 200 OK\n",
      "Length: 44371 (43K) [image/jpeg]\n",
      "Saving to: ‘/Users/levgolod/Projects/car_classifier/data/autotrader/vehicle_images/make-honda/model-odyssey/vehicle_id-732504624/6dc816a820a24ea9bed71aae9410a858.jpg’\n",
      "\n",
      "     0K .......... .......... .......... .......... ...       100% 2.91M=0.01s\n",
      "\n",
      "2025-02-12 10:52:37 (2.91 MB/s) - ‘/Users/levgolod/Projects/car_classifier/data/autotrader/vehicle_images/make-honda/model-odyssey/vehicle_id-732504624/6dc816a820a24ea9bed71aae9410a858.jpg’ saved [44371/44371]\n",
      "\n"
     ]
    },
    {
     "name": "stdout",
     "output_type": "stream",
     "text": [
      "wget -nc -O \"/Users/levgolod/Projects/car_classifier/data/autotrader/vehicle_images/make-honda/model-odyssey/vehicle_id-732504624/58e75096ceaf48b8994cb78992a763fc.jpg\" \"https://images.autotrader.com/scaler/500/375/hn/c/58e75096ceaf48b8994cb78992a763fc.jpg\" \n"
     ]
    },
    {
     "name": "stderr",
     "output_type": "stream",
     "text": [
      "--2025-02-12 10:52:39--  https://images.autotrader.com/scaler/500/375/hn/c/58e75096ceaf48b8994cb78992a763fc.jpg\n",
      "Resolving images.autotrader.com (images.autotrader.com)... 2600:9000:201d:2800:6:249c:1640:93a1, 2600:9000:201d:c000:6:249c:1640:93a1, 2600:9000:201d:1e00:6:249c:1640:93a1, ...\n",
      "Connecting to images.autotrader.com (images.autotrader.com)|2600:9000:201d:2800:6:249c:1640:93a1|:443... connected.\n",
      "HTTP request sent, awaiting response... 200 OK\n",
      "Length: 46758 (46K) [image/jpeg]\n",
      "Saving to: ‘/Users/levgolod/Projects/car_classifier/data/autotrader/vehicle_images/make-honda/model-odyssey/vehicle_id-732504624/58e75096ceaf48b8994cb78992a763fc.jpg’\n",
      "\n",
      "     0K .......... .......... .......... .......... .....     100% 2.62M=0.02s\n",
      "\n",
      "2025-02-12 10:52:39 (2.62 MB/s) - ‘/Users/levgolod/Projects/car_classifier/data/autotrader/vehicle_images/make-honda/model-odyssey/vehicle_id-732504624/58e75096ceaf48b8994cb78992a763fc.jpg’ saved [46758/46758]\n",
      "\n"
     ]
    },
    {
     "name": "stdout",
     "output_type": "stream",
     "text": [
      "wget -nc -O \"/Users/levgolod/Projects/car_classifier/data/autotrader/vehicle_images/make-honda/model-odyssey/vehicle_id-732504624/b36f0a39cb18483ba5e4ed8bbe1b5f7b.jpg\" \"https://images.autotrader.com/scaler/500/375/hn/c/b36f0a39cb18483ba5e4ed8bbe1b5f7b.jpg\" \n"
     ]
    },
    {
     "name": "stderr",
     "output_type": "stream",
     "text": [
      "--2025-02-12 10:52:41--  https://images.autotrader.com/scaler/500/375/hn/c/b36f0a39cb18483ba5e4ed8bbe1b5f7b.jpg\n",
      "Resolving images.autotrader.com (images.autotrader.com)... 2600:9000:201d:c800:6:249c:1640:93a1, 2600:9000:201d:c000:6:249c:1640:93a1, 2600:9000:201d:1e00:6:249c:1640:93a1, ...\n",
      "Connecting to images.autotrader.com (images.autotrader.com)|2600:9000:201d:c800:6:249c:1640:93a1|:443... connected.\n",
      "HTTP request sent, awaiting response... 200 OK\n",
      "Length: 47401 (46K) [image/jpeg]\n",
      "Saving to: ‘/Users/levgolod/Projects/car_classifier/data/autotrader/vehicle_images/make-honda/model-odyssey/vehicle_id-732504624/b36f0a39cb18483ba5e4ed8bbe1b5f7b.jpg’\n",
      "\n",
      "     0K .......... .......... .......... .......... ......    100% 2.27M=0.02s\n",
      "\n",
      "2025-02-12 10:52:42 (2.27 MB/s) - ‘/Users/levgolod/Projects/car_classifier/data/autotrader/vehicle_images/make-honda/model-odyssey/vehicle_id-732504624/b36f0a39cb18483ba5e4ed8bbe1b5f7b.jpg’ saved [47401/47401]\n",
      "\n"
     ]
    },
    {
     "name": "stdout",
     "output_type": "stream",
     "text": [
      "wget -nc -O \"/Users/levgolod/Projects/car_classifier/data/autotrader/vehicle_images/make-honda/model-odyssey/vehicle_id-732504624/fa251e68f586451db72dc99d5c89e3d9.jpg\" \"https://images.autotrader.com/scaler/500/375/hn/c/fa251e68f586451db72dc99d5c89e3d9.jpg\" \n"
     ]
    },
    {
     "name": "stderr",
     "output_type": "stream",
     "text": [
      "--2025-02-12 10:52:44--  https://images.autotrader.com/scaler/500/375/hn/c/fa251e68f586451db72dc99d5c89e3d9.jpg\n",
      "Resolving images.autotrader.com (images.autotrader.com)... 2600:9000:201d:1e00:6:249c:1640:93a1, 2600:9000:201d:c000:6:249c:1640:93a1, 2600:9000:201d:3800:6:249c:1640:93a1, ...\n",
      "Connecting to images.autotrader.com (images.autotrader.com)|2600:9000:201d:1e00:6:249c:1640:93a1|:443... connected.\n",
      "HTTP request sent, awaiting response... 200 OK\n",
      "Length: 41130 (40K) [image/jpeg]\n",
      "Saving to: ‘/Users/levgolod/Projects/car_classifier/data/autotrader/vehicle_images/make-honda/model-odyssey/vehicle_id-732504624/fa251e68f586451db72dc99d5c89e3d9.jpg’\n",
      "\n",
      "     0K .......... .......... .......... ..........           100% 2.02M=0.02s\n",
      "\n",
      "2025-02-12 10:52:44 (2.02 MB/s) - ‘/Users/levgolod/Projects/car_classifier/data/autotrader/vehicle_images/make-honda/model-odyssey/vehicle_id-732504624/fa251e68f586451db72dc99d5c89e3d9.jpg’ saved [41130/41130]\n",
      "\n"
     ]
    },
    {
     "name": "stdout",
     "output_type": "stream",
     "text": [
      "wget -nc -O \"/Users/levgolod/Projects/car_classifier/data/autotrader/vehicle_images/make-honda/model-odyssey/vehicle_id-732504624/a7374ae186624e77bd73253d1d4f5f4f.jpg\" \"https://images.autotrader.com/scaler/500/375/hn/c/a7374ae186624e77bd73253d1d4f5f4f.jpg\" \n"
     ]
    },
    {
     "name": "stderr",
     "output_type": "stream",
     "text": [
      "--2025-02-12 10:52:46--  https://images.autotrader.com/scaler/500/375/hn/c/a7374ae186624e77bd73253d1d4f5f4f.jpg\n",
      "Resolving images.autotrader.com (images.autotrader.com)... 2600:9000:201d:c000:6:249c:1640:93a1, 2600:9000:201d:3800:6:249c:1640:93a1, 2600:9000:201d:1e00:6:249c:1640:93a1, ...\n",
      "Connecting to images.autotrader.com (images.autotrader.com)|2600:9000:201d:c000:6:249c:1640:93a1|:443... connected.\n",
      "HTTP request sent, awaiting response... 200 OK\n",
      "Length: 25644 (25K) [image/jpeg]\n",
      "Saving to: ‘/Users/levgolod/Projects/car_classifier/data/autotrader/vehicle_images/make-honda/model-odyssey/vehicle_id-732504624/a7374ae186624e77bd73253d1d4f5f4f.jpg’\n",
      "\n",
      "     0K .......... .......... .....                           100% 4.35M=0.006s\n",
      "\n",
      "2025-02-12 10:52:46 (4.35 MB/s) - ‘/Users/levgolod/Projects/car_classifier/data/autotrader/vehicle_images/make-honda/model-odyssey/vehicle_id-732504624/a7374ae186624e77bd73253d1d4f5f4f.jpg’ saved [25644/25644]\n",
      "\n"
     ]
    },
    {
     "name": "stdout",
     "output_type": "stream",
     "text": [
      "wget -nc -O \"/Users/levgolod/Projects/car_classifier/data/autotrader/vehicle_images/make-honda/model-odyssey/vehicle_id-732504624/cbadd73f587b4b069278a07f5037586e.jpg\" \"https://images.autotrader.com/scaler/500/375/hn/c/cbadd73f587b4b069278a07f5037586e.jpg\" \n"
     ]
    },
    {
     "name": "stderr",
     "output_type": "stream",
     "text": [
      "--2025-02-12 10:52:48--  https://images.autotrader.com/scaler/500/375/hn/c/cbadd73f587b4b069278a07f5037586e.jpg\n",
      "Resolving images.autotrader.com (images.autotrader.com)... 2600:9000:201d:3800:6:249c:1640:93a1, 2600:9000:201d:c000:6:249c:1640:93a1, 2600:9000:201d:9800:6:249c:1640:93a1, ...\n",
      "Connecting to images.autotrader.com (images.autotrader.com)|2600:9000:201d:3800:6:249c:1640:93a1|:443... connected.\n",
      "HTTP request sent, awaiting response... 200 OK\n",
      "Length: 45239 (44K) [image/jpeg]\n",
      "Saving to: ‘/Users/levgolod/Projects/car_classifier/data/autotrader/vehicle_images/make-honda/model-odyssey/vehicle_id-732504624/cbadd73f587b4b069278a07f5037586e.jpg’\n",
      "\n",
      "     0K .......... .......... .......... .......... ....      100% 1.83M=0.02s\n",
      "\n",
      "2025-02-12 10:52:49 (1.83 MB/s) - ‘/Users/levgolod/Projects/car_classifier/data/autotrader/vehicle_images/make-honda/model-odyssey/vehicle_id-732504624/cbadd73f587b4b069278a07f5037586e.jpg’ saved [45239/45239]\n",
      "\n"
     ]
    },
    {
     "name": "stdout",
     "output_type": "stream",
     "text": [
      "wget -nc -O \"/Users/levgolod/Projects/car_classifier/data/autotrader/vehicle_images/make-honda/model-odyssey/vehicle_id-732504624/0209588e9cb242b683eacc5a54de470b.jpg\" \"https://images.autotrader.com/scaler/500/375/hn/c/0209588e9cb242b683eacc5a54de470b.jpg\" \n"
     ]
    },
    {
     "name": "stderr",
     "output_type": "stream",
     "text": [
      "--2025-02-12 10:52:51--  https://images.autotrader.com/scaler/500/375/hn/c/0209588e9cb242b683eacc5a54de470b.jpg\n",
      "Resolving images.autotrader.com (images.autotrader.com)... 2600:9000:201d:3800:6:249c:1640:93a1, 2600:9000:201d:c000:6:249c:1640:93a1, 2600:9000:201d:9800:6:249c:1640:93a1, ...\n",
      "Connecting to images.autotrader.com (images.autotrader.com)|2600:9000:201d:3800:6:249c:1640:93a1|:443... connected.\n",
      "HTTP request sent, awaiting response... 200 OK\n",
      "Length: 38005 (37K) [image/jpeg]\n",
      "Saving to: ‘/Users/levgolod/Projects/car_classifier/data/autotrader/vehicle_images/make-honda/model-odyssey/vehicle_id-732504624/0209588e9cb242b683eacc5a54de470b.jpg’\n",
      "\n",
      "     0K .......... .......... .......... .......              100% 2.66M=0.01s\n",
      "\n",
      "2025-02-12 10:52:51 (2.66 MB/s) - ‘/Users/levgolod/Projects/car_classifier/data/autotrader/vehicle_images/make-honda/model-odyssey/vehicle_id-732504624/0209588e9cb242b683eacc5a54de470b.jpg’ saved [38005/38005]\n",
      "\n"
     ]
    },
    {
     "name": "stdout",
     "output_type": "stream",
     "text": [
      "wget -nc -O \"/Users/levgolod/Projects/car_classifier/data/autotrader/vehicle_images/make-honda/model-odyssey/vehicle_id-738409771/13c5f3e0550d4f17adf7b588fba8bbde.jpg\" \"https://images.autotrader.com/scaler/500/375/hn/c/13c5f3e0550d4f17adf7b588fba8bbde.jpg\" \n"
     ]
    },
    {
     "name": "stderr",
     "output_type": "stream",
     "text": [
      "--2025-02-12 10:52:53--  https://images.autotrader.com/scaler/500/375/hn/c/13c5f3e0550d4f17adf7b588fba8bbde.jpg\n",
      "Resolving images.autotrader.com (images.autotrader.com)... 2600:9000:201d:3800:6:249c:1640:93a1, 2600:9000:201d:c000:6:249c:1640:93a1, 2600:9000:201d:9800:6:249c:1640:93a1, ...\n",
      "Connecting to images.autotrader.com (images.autotrader.com)|2600:9000:201d:3800:6:249c:1640:93a1|:443... connected.\n",
      "HTTP request sent, awaiting response... 200 OK\n",
      "Length: 49995 (49K) [image/jpeg]\n",
      "Saving to: ‘/Users/levgolod/Projects/car_classifier/data/autotrader/vehicle_images/make-honda/model-odyssey/vehicle_id-738409771/13c5f3e0550d4f17adf7b588fba8bbde.jpg’\n",
      "\n",
      "     0K .......... .......... .......... .......... ........  100% 2.30M=0.02s\n",
      "\n",
      "2025-02-12 10:52:53 (2.30 MB/s) - ‘/Users/levgolod/Projects/car_classifier/data/autotrader/vehicle_images/make-honda/model-odyssey/vehicle_id-738409771/13c5f3e0550d4f17adf7b588fba8bbde.jpg’ saved [49995/49995]\n",
      "\n"
     ]
    },
    {
     "name": "stdout",
     "output_type": "stream",
     "text": [
      "wget -nc -O \"/Users/levgolod/Projects/car_classifier/data/autotrader/vehicle_images/make-honda/model-odyssey/vehicle_id-738409771/9a0732201d3e48cba1221e095358110a.jpg\" \"https://images.autotrader.com/scaler/500/375/hn/c/9a0732201d3e48cba1221e095358110a.jpg\" \n"
     ]
    },
    {
     "name": "stderr",
     "output_type": "stream",
     "text": [
      "--2025-02-12 10:52:55--  https://images.autotrader.com/scaler/500/375/hn/c/9a0732201d3e48cba1221e095358110a.jpg\n",
      "Resolving images.autotrader.com (images.autotrader.com)... 2600:9000:201d:3800:6:249c:1640:93a1, 2600:9000:201d:c000:6:249c:1640:93a1, 2600:9000:201d:9800:6:249c:1640:93a1, ...\n",
      "Connecting to images.autotrader.com (images.autotrader.com)|2600:9000:201d:3800:6:249c:1640:93a1|:443... connected.\n",
      "HTTP request sent, awaiting response... 200 OK\n",
      "Length: 49445 (48K) [image/jpeg]\n",
      "Saving to: ‘/Users/levgolod/Projects/car_classifier/data/autotrader/vehicle_images/make-honda/model-odyssey/vehicle_id-738409771/9a0732201d3e48cba1221e095358110a.jpg’\n",
      "\n",
      "     0K .......... .......... .......... .......... ........  100% 2.46M=0.02s\n",
      "\n",
      "2025-02-12 10:52:56 (2.46 MB/s) - ‘/Users/levgolod/Projects/car_classifier/data/autotrader/vehicle_images/make-honda/model-odyssey/vehicle_id-738409771/9a0732201d3e48cba1221e095358110a.jpg’ saved [49445/49445]\n",
      "\n"
     ]
    },
    {
     "name": "stdout",
     "output_type": "stream",
     "text": [
      "wget -nc -O \"/Users/levgolod/Projects/car_classifier/data/autotrader/vehicle_images/make-honda/model-odyssey/vehicle_id-738409771/6b0d240919cb469a97dc34a2b3f9877d.jpg\" \"https://images.autotrader.com/scaler/500/375/hn/c/6b0d240919cb469a97dc34a2b3f9877d.jpg\" \n"
     ]
    },
    {
     "name": "stderr",
     "output_type": "stream",
     "text": [
      "--2025-02-12 10:52:58--  https://images.autotrader.com/scaler/500/375/hn/c/6b0d240919cb469a97dc34a2b3f9877d.jpg\n",
      "Resolving images.autotrader.com (images.autotrader.com)... 2600:9000:201d:3800:6:249c:1640:93a1, 2600:9000:201d:c000:6:249c:1640:93a1, 2600:9000:201d:9800:6:249c:1640:93a1, ...\n",
      "Connecting to images.autotrader.com (images.autotrader.com)|2600:9000:201d:3800:6:249c:1640:93a1|:443... connected.\n",
      "HTTP request sent, awaiting response... 200 OK\n",
      "Length: 46960 (46K) [image/jpeg]\n",
      "Saving to: ‘/Users/levgolod/Projects/car_classifier/data/autotrader/vehicle_images/make-honda/model-odyssey/vehicle_id-738409771/6b0d240919cb469a97dc34a2b3f9877d.jpg’\n",
      "\n",
      "     0K .......... .......... .......... .......... .....     100% 2.43M=0.02s\n",
      "\n",
      "2025-02-12 10:52:58 (2.43 MB/s) - ‘/Users/levgolod/Projects/car_classifier/data/autotrader/vehicle_images/make-honda/model-odyssey/vehicle_id-738409771/6b0d240919cb469a97dc34a2b3f9877d.jpg’ saved [46960/46960]\n",
      "\n"
     ]
    },
    {
     "name": "stdout",
     "output_type": "stream",
     "text": [
      "wget -nc -O \"/Users/levgolod/Projects/car_classifier/data/autotrader/vehicle_images/make-honda/model-odyssey/vehicle_id-738409771/cc66d5f5fe37452e8a9adc45f9ba0117.jpg\" \"https://images.autotrader.com/scaler/500/375/hn/c/cc66d5f5fe37452e8a9adc45f9ba0117.jpg\" \n"
     ]
    },
    {
     "name": "stderr",
     "output_type": "stream",
     "text": [
      "--2025-02-12 10:53:00--  https://images.autotrader.com/scaler/500/375/hn/c/cc66d5f5fe37452e8a9adc45f9ba0117.jpg\n",
      "Resolving images.autotrader.com (images.autotrader.com)... 2600:9000:201d:3800:6:249c:1640:93a1, 2600:9000:201d:c000:6:249c:1640:93a1, 2600:9000:201d:9800:6:249c:1640:93a1, ...\n",
      "Connecting to images.autotrader.com (images.autotrader.com)|2600:9000:201d:3800:6:249c:1640:93a1|:443... connected.\n",
      "HTTP request sent, awaiting response... 200 OK\n",
      "Length: 50326 (49K) [image/jpeg]\n",
      "Saving to: ‘/Users/levgolod/Projects/car_classifier/data/autotrader/vehicle_images/make-honda/model-odyssey/vehicle_id-738409771/cc66d5f5fe37452e8a9adc45f9ba0117.jpg’\n",
      "\n",
      "     0K .......... .......... .......... .......... ......... 100% 2.15M=0.02s\n",
      "\n",
      "2025-02-12 10:53:00 (2.15 MB/s) - ‘/Users/levgolod/Projects/car_classifier/data/autotrader/vehicle_images/make-honda/model-odyssey/vehicle_id-738409771/cc66d5f5fe37452e8a9adc45f9ba0117.jpg’ saved [50326/50326]\n",
      "\n"
     ]
    },
    {
     "name": "stdout",
     "output_type": "stream",
     "text": [
      "wget -nc -O \"/Users/levgolod/Projects/car_classifier/data/autotrader/vehicle_images/make-honda/model-odyssey/vehicle_id-738409771/320adf2001e04e93af9d4b1914ec52a6.jpg\" \"https://images.autotrader.com/scaler/500/375/hn/c/320adf2001e04e93af9d4b1914ec52a6.jpg\" \n"
     ]
    },
    {
     "name": "stderr",
     "output_type": "stream",
     "text": [
      "--2025-02-12 10:53:02--  https://images.autotrader.com/scaler/500/375/hn/c/320adf2001e04e93af9d4b1914ec52a6.jpg\n",
      "Resolving images.autotrader.com (images.autotrader.com)... 2600:9000:201d:3800:6:249c:1640:93a1, 2600:9000:201d:c000:6:249c:1640:93a1, 2600:9000:201d:9800:6:249c:1640:93a1, ...\n",
      "Connecting to images.autotrader.com (images.autotrader.com)|2600:9000:201d:3800:6:249c:1640:93a1|:443... connected.\n",
      "HTTP request sent, awaiting response... 200 OK\n",
      "Length: 53071 (52K) [image/jpeg]\n",
      "Saving to: ‘/Users/levgolod/Projects/car_classifier/data/autotrader/vehicle_images/make-honda/model-odyssey/vehicle_id-738409771/320adf2001e04e93af9d4b1914ec52a6.jpg’\n",
      "\n",
      "     0K .......... .......... .......... .......... .......... 96% 2.39M 0s\n",
      "    50K .                                                     100% 36.5K=0.02s\n",
      "\n",
      "2025-02-12 10:53:03 (2.47 MB/s) - ‘/Users/levgolod/Projects/car_classifier/data/autotrader/vehicle_images/make-honda/model-odyssey/vehicle_id-738409771/320adf2001e04e93af9d4b1914ec52a6.jpg’ saved [53071/53071]\n",
      "\n"
     ]
    },
    {
     "name": "stdout",
     "output_type": "stream",
     "text": [
      "wget -nc -O \"/Users/levgolod/Projects/car_classifier/data/autotrader/vehicle_images/make-honda/model-odyssey/vehicle_id-738409771/0b51362a92fa4a5fb0ec94989ec70b5b.jpg\" \"https://images.autotrader.com/scaler/500/375/hn/c/0b51362a92fa4a5fb0ec94989ec70b5b.jpg\" \n"
     ]
    },
    {
     "name": "stderr",
     "output_type": "stream",
     "text": [
      "--2025-02-12 10:53:05--  https://images.autotrader.com/scaler/500/375/hn/c/0b51362a92fa4a5fb0ec94989ec70b5b.jpg\n",
      "Resolving images.autotrader.com (images.autotrader.com)... 2600:9000:201d:3800:6:249c:1640:93a1, 2600:9000:201d:c000:6:249c:1640:93a1, 2600:9000:201d:9800:6:249c:1640:93a1, ...\n",
      "Connecting to images.autotrader.com (images.autotrader.com)|2600:9000:201d:3800:6:249c:1640:93a1|:443... connected.\n",
      "HTTP request sent, awaiting response... 200 OK\n",
      "Length: 45694 (45K) [image/jpeg]\n",
      "Saving to: ‘/Users/levgolod/Projects/car_classifier/data/autotrader/vehicle_images/make-honda/model-odyssey/vehicle_id-738409771/0b51362a92fa4a5fb0ec94989ec70b5b.jpg’\n",
      "\n",
      "     0K .......... .......... .......... .......... ....      100% 2.51M=0.02s\n",
      "\n",
      "2025-02-12 10:53:05 (2.51 MB/s) - ‘/Users/levgolod/Projects/car_classifier/data/autotrader/vehicle_images/make-honda/model-odyssey/vehicle_id-738409771/0b51362a92fa4a5fb0ec94989ec70b5b.jpg’ saved [45694/45694]\n",
      "\n"
     ]
    },
    {
     "name": "stdout",
     "output_type": "stream",
     "text": [
      "wget -nc -O \"/Users/levgolod/Projects/car_classifier/data/autotrader/vehicle_images/make-honda/model-odyssey/vehicle_id-738409771/8836d2851fc44f4aaa8f0155df0caa8a.jpg\" \"https://images.autotrader.com/scaler/500/375/hn/c/8836d2851fc44f4aaa8f0155df0caa8a.jpg\" \n"
     ]
    },
    {
     "name": "stderr",
     "output_type": "stream",
     "text": [
      "--2025-02-12 10:53:07--  https://images.autotrader.com/scaler/500/375/hn/c/8836d2851fc44f4aaa8f0155df0caa8a.jpg\n",
      "Resolving images.autotrader.com (images.autotrader.com)... 2600:9000:201d:3800:6:249c:1640:93a1, 2600:9000:201d:c000:6:249c:1640:93a1, 2600:9000:201d:9800:6:249c:1640:93a1, ...\n",
      "Connecting to images.autotrader.com (images.autotrader.com)|2600:9000:201d:3800:6:249c:1640:93a1|:443... connected.\n",
      "HTTP request sent, awaiting response... 200 OK\n",
      "Length: 45251 (44K) [image/jpeg]\n",
      "Saving to: ‘/Users/levgolod/Projects/car_classifier/data/autotrader/vehicle_images/make-honda/model-odyssey/vehicle_id-738409771/8836d2851fc44f4aaa8f0155df0caa8a.jpg’\n",
      "\n",
      "     0K .......... .......... .......... .......... ....      100% 2.10M=0.02s\n",
      "\n",
      "2025-02-12 10:53:07 (2.10 MB/s) - ‘/Users/levgolod/Projects/car_classifier/data/autotrader/vehicle_images/make-honda/model-odyssey/vehicle_id-738409771/8836d2851fc44f4aaa8f0155df0caa8a.jpg’ saved [45251/45251]\n",
      "\n"
     ]
    },
    {
     "name": "stdout",
     "output_type": "stream",
     "text": [
      "wget -nc -O \"/Users/levgolod/Projects/car_classifier/data/autotrader/vehicle_images/make-honda/model-odyssey/vehicle_id-738409771/36c513c29834411d89eddcda54cb51b9.jpg\" \"https://images.autotrader.com/scaler/500/375/hn/c/36c513c29834411d89eddcda54cb51b9.jpg\" \n"
     ]
    },
    {
     "name": "stderr",
     "output_type": "stream",
     "text": [
      "--2025-02-12 10:53:09--  https://images.autotrader.com/scaler/500/375/hn/c/36c513c29834411d89eddcda54cb51b9.jpg\n",
      "Resolving images.autotrader.com (images.autotrader.com)... 2600:9000:201d:3800:6:249c:1640:93a1, 2600:9000:201d:c000:6:249c:1640:93a1, 2600:9000:201d:9800:6:249c:1640:93a1, ...\n",
      "Connecting to images.autotrader.com (images.autotrader.com)|2600:9000:201d:3800:6:249c:1640:93a1|:443... connected.\n",
      "HTTP request sent, awaiting response... 200 OK\n",
      "Length: 49280 (48K) [image/jpeg]\n",
      "Saving to: ‘/Users/levgolod/Projects/car_classifier/data/autotrader/vehicle_images/make-honda/model-odyssey/vehicle_id-738409771/36c513c29834411d89eddcda54cb51b9.jpg’\n",
      "\n",
      "     0K .......... .......... .......... .......... ........  100% 2.20M=0.02s\n",
      "\n",
      "2025-02-12 10:53:10 (2.20 MB/s) - ‘/Users/levgolod/Projects/car_classifier/data/autotrader/vehicle_images/make-honda/model-odyssey/vehicle_id-738409771/36c513c29834411d89eddcda54cb51b9.jpg’ saved [49280/49280]\n",
      "\n"
     ]
    },
    {
     "name": "stdout",
     "output_type": "stream",
     "text": [
      "wget -nc -O \"/Users/levgolod/Projects/car_classifier/data/autotrader/vehicle_images/make-honda/model-odyssey/vehicle_id-738409771/182202c678b54332bac2c69ea499cb14.jpg\" \"https://images.autotrader.com/scaler/500/375/hn/c/182202c678b54332bac2c69ea499cb14.jpg\" \n"
     ]
    },
    {
     "name": "stderr",
     "output_type": "stream",
     "text": [
      "--2025-02-12 10:53:12--  https://images.autotrader.com/scaler/500/375/hn/c/182202c678b54332bac2c69ea499cb14.jpg\n",
      "Resolving images.autotrader.com (images.autotrader.com)... 2600:9000:201d:3800:6:249c:1640:93a1, 2600:9000:201d:c000:6:249c:1640:93a1, 2600:9000:201d:9800:6:249c:1640:93a1, ...\n",
      "Connecting to images.autotrader.com (images.autotrader.com)|2600:9000:201d:3800:6:249c:1640:93a1|:443... connected.\n",
      "HTTP request sent, awaiting response... 200 OK\n",
      "Length: 49689 (49K) [image/jpeg]\n",
      "Saving to: ‘/Users/levgolod/Projects/car_classifier/data/autotrader/vehicle_images/make-honda/model-odyssey/vehicle_id-738409771/182202c678b54332bac2c69ea499cb14.jpg’\n",
      "\n",
      "     0K .......... .......... .......... .......... ........  100% 2.70M=0.02s\n",
      "\n",
      "2025-02-12 10:53:12 (2.70 MB/s) - ‘/Users/levgolod/Projects/car_classifier/data/autotrader/vehicle_images/make-honda/model-odyssey/vehicle_id-738409771/182202c678b54332bac2c69ea499cb14.jpg’ saved [49689/49689]\n",
      "\n"
     ]
    },
    {
     "name": "stdout",
     "output_type": "stream",
     "text": [
      "wget -nc -O \"/Users/levgolod/Projects/car_classifier/data/autotrader/vehicle_images/make-honda/model-odyssey/vehicle_id-738409771/eec38c0e9dc6430ba70a39a5ff274821.jpg\" \"https://images.autotrader.com/scaler/500/375/hn/c/eec38c0e9dc6430ba70a39a5ff274821.jpg\" \n"
     ]
    },
    {
     "name": "stderr",
     "output_type": "stream",
     "text": [
      "--2025-02-12 10:53:14--  https://images.autotrader.com/scaler/500/375/hn/c/eec38c0e9dc6430ba70a39a5ff274821.jpg\n",
      "Resolving images.autotrader.com (images.autotrader.com)... 2600:9000:201d:3800:6:249c:1640:93a1, 2600:9000:201d:c000:6:249c:1640:93a1, 2600:9000:201d:9800:6:249c:1640:93a1, ...\n",
      "Connecting to images.autotrader.com (images.autotrader.com)|2600:9000:201d:3800:6:249c:1640:93a1|:443... connected.\n",
      "HTTP request sent, awaiting response... 200 OK\n",
      "Length: 45117 (44K) [image/jpeg]\n",
      "Saving to: ‘/Users/levgolod/Projects/car_classifier/data/autotrader/vehicle_images/make-honda/model-odyssey/vehicle_id-738409771/eec38c0e9dc6430ba70a39a5ff274821.jpg’\n",
      "\n",
      "     0K .......... .......... .......... .......... ....      100%  949K=0.05s\n",
      "\n",
      "2025-02-12 10:53:14 (949 KB/s) - ‘/Users/levgolod/Projects/car_classifier/data/autotrader/vehicle_images/make-honda/model-odyssey/vehicle_id-738409771/eec38c0e9dc6430ba70a39a5ff274821.jpg’ saved [45117/45117]\n",
      "\n"
     ]
    },
    {
     "name": "stdout",
     "output_type": "stream",
     "text": [
      "wget -nc -O \"/Users/levgolod/Projects/car_classifier/data/autotrader/vehicle_images/make-honda/model-odyssey/vehicle_id-738409771/f7d96cd43faa4a8e9696c5343de399ff.jpg\" \"https://images.autotrader.com/scaler/500/375/hn/c/f7d96cd43faa4a8e9696c5343de399ff.jpg\" \n"
     ]
    },
    {
     "name": "stderr",
     "output_type": "stream",
     "text": [
      "--2025-02-12 10:53:16--  https://images.autotrader.com/scaler/500/375/hn/c/f7d96cd43faa4a8e9696c5343de399ff.jpg\n",
      "Resolving images.autotrader.com (images.autotrader.com)... 2600:9000:201d:3800:6:249c:1640:93a1, 2600:9000:201d:c000:6:249c:1640:93a1, 2600:9000:201d:9800:6:249c:1640:93a1, ...\n",
      "Connecting to images.autotrader.com (images.autotrader.com)|2600:9000:201d:3800:6:249c:1640:93a1|:443... connected.\n",
      "HTTP request sent, awaiting response... 200 OK\n",
      "Length: 37610 (37K) [image/jpeg]\n",
      "Saving to: ‘/Users/levgolod/Projects/car_classifier/data/autotrader/vehicle_images/make-honda/model-odyssey/vehicle_id-738409771/f7d96cd43faa4a8e9696c5343de399ff.jpg’\n",
      "\n",
      "     0K .......... .......... .......... ......               100%  442K=0.08s\n",
      "\n",
      "2025-02-12 10:53:17 (442 KB/s) - ‘/Users/levgolod/Projects/car_classifier/data/autotrader/vehicle_images/make-honda/model-odyssey/vehicle_id-738409771/f7d96cd43faa4a8e9696c5343de399ff.jpg’ saved [37610/37610]\n",
      "\n"
     ]
    },
    {
     "name": "stdout",
     "output_type": "stream",
     "text": [
      "wget -nc -O \"/Users/levgolod/Projects/car_classifier/data/autotrader/vehicle_images/make-honda/model-odyssey/vehicle_id-738409771/fbde7829acd245818dc7fcf9e5d381f8.jpg\" \"https://images.autotrader.com/scaler/500/375/hn/c/fbde7829acd245818dc7fcf9e5d381f8.jpg\" \n"
     ]
    },
    {
     "name": "stderr",
     "output_type": "stream",
     "text": [
      "--2025-02-12 10:53:19--  https://images.autotrader.com/scaler/500/375/hn/c/fbde7829acd245818dc7fcf9e5d381f8.jpg\n",
      "Resolving images.autotrader.com (images.autotrader.com)... 2600:9000:201d:3800:6:249c:1640:93a1, 2600:9000:201d:c000:6:249c:1640:93a1, 2600:9000:201d:9800:6:249c:1640:93a1, ...\n",
      "Connecting to images.autotrader.com (images.autotrader.com)|2600:9000:201d:3800:6:249c:1640:93a1|:443... connected.\n",
      "HTTP request sent, awaiting response... 200 OK\n",
      "Length: 36932 (36K) [image/jpeg]\n",
      "Saving to: ‘/Users/levgolod/Projects/car_classifier/data/autotrader/vehicle_images/make-honda/model-odyssey/vehicle_id-738409771/fbde7829acd245818dc7fcf9e5d381f8.jpg’\n",
      "\n",
      "     0K .......... .......... .......... ......               100% 2.01M=0.02s\n",
      "\n",
      "2025-02-12 10:53:19 (2.01 MB/s) - ‘/Users/levgolod/Projects/car_classifier/data/autotrader/vehicle_images/make-honda/model-odyssey/vehicle_id-738409771/fbde7829acd245818dc7fcf9e5d381f8.jpg’ saved [36932/36932]\n",
      "\n"
     ]
    },
    {
     "name": "stdout",
     "output_type": "stream",
     "text": [
      "wget -nc -O \"/Users/levgolod/Projects/car_classifier/data/autotrader/vehicle_images/make-honda/model-odyssey/vehicle_id-738409771/7d064ce7f92d489893e83631f74f42dd.jpg\" \"https://images.autotrader.com/scaler/500/375/hn/c/7d064ce7f92d489893e83631f74f42dd.jpg\" \n"
     ]
    },
    {
     "name": "stderr",
     "output_type": "stream",
     "text": [
      "--2025-02-12 10:53:21--  https://images.autotrader.com/scaler/500/375/hn/c/7d064ce7f92d489893e83631f74f42dd.jpg\n",
      "Resolving images.autotrader.com (images.autotrader.com)... 2600:9000:201d:3800:6:249c:1640:93a1, 2600:9000:201d:c000:6:249c:1640:93a1, 2600:9000:201d:9800:6:249c:1640:93a1, ...\n",
      "Connecting to images.autotrader.com (images.autotrader.com)|2600:9000:201d:3800:6:249c:1640:93a1|:443... connected.\n",
      "HTTP request sent, awaiting response... 200 OK\n",
      "Length: 37716 (37K) [image/jpeg]\n",
      "Saving to: ‘/Users/levgolod/Projects/car_classifier/data/autotrader/vehicle_images/make-honda/model-odyssey/vehicle_id-738409771/7d064ce7f92d489893e83631f74f42dd.jpg’\n",
      "\n",
      "     0K .......... .......... .......... ......               100% 2.63M=0.01s\n",
      "\n",
      "2025-02-12 10:53:21 (2.63 MB/s) - ‘/Users/levgolod/Projects/car_classifier/data/autotrader/vehicle_images/make-honda/model-odyssey/vehicle_id-738409771/7d064ce7f92d489893e83631f74f42dd.jpg’ saved [37716/37716]\n",
      "\n"
     ]
    },
    {
     "name": "stdout",
     "output_type": "stream",
     "text": [
      "wget -nc -O \"/Users/levgolod/Projects/car_classifier/data/autotrader/vehicle_images/make-honda/model-odyssey/vehicle_id-738409771/3161721c50324436b722494e55f167b8.jpg\" \"https://images.autotrader.com/scaler/500/375/hn/c/3161721c50324436b722494e55f167b8.jpg\" \n"
     ]
    },
    {
     "name": "stderr",
     "output_type": "stream",
     "text": [
      "--2025-02-12 10:53:23--  https://images.autotrader.com/scaler/500/375/hn/c/3161721c50324436b722494e55f167b8.jpg\n",
      "Resolving images.autotrader.com (images.autotrader.com)... 2600:9000:201d:3800:6:249c:1640:93a1, 2600:9000:201d:c000:6:249c:1640:93a1, 2600:9000:201d:9800:6:249c:1640:93a1, ...\n",
      "Connecting to images.autotrader.com (images.autotrader.com)|2600:9000:201d:3800:6:249c:1640:93a1|:443... connected.\n",
      "HTTP request sent, awaiting response... 200 OK\n",
      "Length: 41186 (40K) [image/jpeg]\n",
      "Saving to: ‘/Users/levgolod/Projects/car_classifier/data/autotrader/vehicle_images/make-honda/model-odyssey/vehicle_id-738409771/3161721c50324436b722494e55f167b8.jpg’\n",
      "\n",
      "     0K .......... .......... .......... ..........           100% 2.16M=0.02s\n",
      "\n",
      "2025-02-12 10:53:24 (2.16 MB/s) - ‘/Users/levgolod/Projects/car_classifier/data/autotrader/vehicle_images/make-honda/model-odyssey/vehicle_id-738409771/3161721c50324436b722494e55f167b8.jpg’ saved [41186/41186]\n",
      "\n"
     ]
    },
    {
     "name": "stdout",
     "output_type": "stream",
     "text": [
      "wget -nc -O \"/Users/levgolod/Projects/car_classifier/data/autotrader/vehicle_images/make-honda/model-odyssey/vehicle_id-738409771/d6a0e4c4923d4c5daf3e5006bb9d2b3e.jpg\" \"https://images.autotrader.com/scaler/500/375/hn/c/d6a0e4c4923d4c5daf3e5006bb9d2b3e.jpg\" \n"
     ]
    },
    {
     "name": "stderr",
     "output_type": "stream",
     "text": [
      "--2025-02-12 10:53:26--  https://images.autotrader.com/scaler/500/375/hn/c/d6a0e4c4923d4c5daf3e5006bb9d2b3e.jpg\n",
      "Resolving images.autotrader.com (images.autotrader.com)... 2600:9000:201d:3800:6:249c:1640:93a1, 2600:9000:201d:c000:6:249c:1640:93a1, 2600:9000:201d:9800:6:249c:1640:93a1, ...\n",
      "Connecting to images.autotrader.com (images.autotrader.com)|2600:9000:201d:3800:6:249c:1640:93a1|:443... connected.\n",
      "HTTP request sent, awaiting response... 200 OK\n",
      "Length: 33848 (33K) [image/jpeg]\n",
      "Saving to: ‘/Users/levgolod/Projects/car_classifier/data/autotrader/vehicle_images/make-honda/model-odyssey/vehicle_id-738409771/d6a0e4c4923d4c5daf3e5006bb9d2b3e.jpg’\n",
      "\n",
      "     0K .......... .......... .......... ...                  100% 3.60M=0.009s\n",
      "\n",
      "2025-02-12 10:53:26 (3.60 MB/s) - ‘/Users/levgolod/Projects/car_classifier/data/autotrader/vehicle_images/make-honda/model-odyssey/vehicle_id-738409771/d6a0e4c4923d4c5daf3e5006bb9d2b3e.jpg’ saved [33848/33848]\n",
      "\n"
     ]
    },
    {
     "name": "stdout",
     "output_type": "stream",
     "text": [
      "wget -nc -O \"/Users/levgolod/Projects/car_classifier/data/autotrader/vehicle_images/make-honda/model-odyssey/vehicle_id-738409771/2c180231e9e3464cab96a06b5ed3ac9c.jpg\" \"https://images.autotrader.com/scaler/500/375/hn/c/2c180231e9e3464cab96a06b5ed3ac9c.jpg\" \n"
     ]
    },
    {
     "name": "stderr",
     "output_type": "stream",
     "text": [
      "--2025-02-12 10:53:28--  https://images.autotrader.com/scaler/500/375/hn/c/2c180231e9e3464cab96a06b5ed3ac9c.jpg\n",
      "Resolving images.autotrader.com (images.autotrader.com)... 2600:9000:201d:3800:6:249c:1640:93a1, 2600:9000:201d:c000:6:249c:1640:93a1, 2600:9000:201d:9800:6:249c:1640:93a1, ...\n",
      "Connecting to images.autotrader.com (images.autotrader.com)|2600:9000:201d:3800:6:249c:1640:93a1|:443... connected.\n",
      "HTTP request sent, awaiting response... 200 OK\n",
      "Length: 41729 (41K) [image/jpeg]\n",
      "Saving to: ‘/Users/levgolod/Projects/car_classifier/data/autotrader/vehicle_images/make-honda/model-odyssey/vehicle_id-738409771/2c180231e9e3464cab96a06b5ed3ac9c.jpg’\n",
      "\n",
      "     0K .......... .......... .......... ..........           100% 2.62M=0.02s\n",
      "\n",
      "2025-02-12 10:53:28 (2.62 MB/s) - ‘/Users/levgolod/Projects/car_classifier/data/autotrader/vehicle_images/make-honda/model-odyssey/vehicle_id-738409771/2c180231e9e3464cab96a06b5ed3ac9c.jpg’ saved [41729/41729]\n",
      "\n"
     ]
    },
    {
     "name": "stdout",
     "output_type": "stream",
     "text": [
      "wget -nc -O \"/Users/levgolod/Projects/car_classifier/data/autotrader/vehicle_images/make-honda/model-odyssey/vehicle_id-738409771/344735546a4a42d89b20515b5be7529b.jpg\" \"https://images.autotrader.com/scaler/500/375/hn/c/344735546a4a42d89b20515b5be7529b.jpg\" \n"
     ]
    },
    {
     "name": "stderr",
     "output_type": "stream",
     "text": [
      "--2025-02-12 10:53:30--  https://images.autotrader.com/scaler/500/375/hn/c/344735546a4a42d89b20515b5be7529b.jpg\n",
      "Resolving images.autotrader.com (images.autotrader.com)... 2600:9000:201d:3800:6:249c:1640:93a1, 2600:9000:201d:c000:6:249c:1640:93a1, 2600:9000:201d:9800:6:249c:1640:93a1, ...\n",
      "Connecting to images.autotrader.com (images.autotrader.com)|2600:9000:201d:3800:6:249c:1640:93a1|:443... connected.\n",
      "HTTP request sent, awaiting response... 200 OK\n",
      "Length: 35212 (34K) [image/jpeg]\n",
      "Saving to: ‘/Users/levgolod/Projects/car_classifier/data/autotrader/vehicle_images/make-honda/model-odyssey/vehicle_id-738409771/344735546a4a42d89b20515b5be7529b.jpg’\n",
      "\n",
      "     0K .......... .......... .......... ....                 100% 10.3M=0.003s\n",
      "\n",
      "2025-02-12 10:53:31 (10.3 MB/s) - ‘/Users/levgolod/Projects/car_classifier/data/autotrader/vehicle_images/make-honda/model-odyssey/vehicle_id-738409771/344735546a4a42d89b20515b5be7529b.jpg’ saved [35212/35212]\n",
      "\n"
     ]
    },
    {
     "name": "stdout",
     "output_type": "stream",
     "text": [
      "wget -nc -O \"/Users/levgolod/Projects/car_classifier/data/autotrader/vehicle_images/make-honda/model-odyssey/vehicle_id-738409771/affd0ffb894344f6a75704b7e9048e37.jpg\" \"https://images.autotrader.com/scaler/500/375/hn/c/affd0ffb894344f6a75704b7e9048e37.jpg\" \n"
     ]
    },
    {
     "name": "stderr",
     "output_type": "stream",
     "text": [
      "--2025-02-12 10:53:33--  https://images.autotrader.com/scaler/500/375/hn/c/affd0ffb894344f6a75704b7e9048e37.jpg\n",
      "Resolving images.autotrader.com (images.autotrader.com)... 2600:9000:201d:3800:6:249c:1640:93a1, 2600:9000:201d:c000:6:249c:1640:93a1, 2600:9000:201d:9800:6:249c:1640:93a1, ...\n",
      "Connecting to images.autotrader.com (images.autotrader.com)|2600:9000:201d:3800:6:249c:1640:93a1|:443... connected.\n",
      "HTTP request sent, awaiting response... 200 OK\n",
      "Length: 35356 (35K) [image/jpeg]\n",
      "Saving to: ‘/Users/levgolod/Projects/car_classifier/data/autotrader/vehicle_images/make-honda/model-odyssey/vehicle_id-738409771/affd0ffb894344f6a75704b7e9048e37.jpg’\n",
      "\n",
      "     0K .......... .......... .......... ....                 100% 6.83M=0.005s\n",
      "\n",
      "2025-02-12 10:53:33 (6.83 MB/s) - ‘/Users/levgolod/Projects/car_classifier/data/autotrader/vehicle_images/make-honda/model-odyssey/vehicle_id-738409771/affd0ffb894344f6a75704b7e9048e37.jpg’ saved [35356/35356]\n",
      "\n"
     ]
    },
    {
     "name": "stdout",
     "output_type": "stream",
     "text": [
      "wget -nc -O \"/Users/levgolod/Projects/car_classifier/data/autotrader/vehicle_images/make-honda/model-odyssey/vehicle_id-737175430/4a6ddd39a3fc42a8ae137268063491dd.jpg\" \"https://images.autotrader.com/scaler/500/375/hn/c/4a6ddd39a3fc42a8ae137268063491dd.jpg\" \n"
     ]
    },
    {
     "name": "stderr",
     "output_type": "stream",
     "text": [
      "--2025-02-12 10:53:35--  https://images.autotrader.com/scaler/500/375/hn/c/4a6ddd39a3fc42a8ae137268063491dd.jpg\n",
      "Resolving images.autotrader.com (images.autotrader.com)... 2600:9000:201d:3800:6:249c:1640:93a1, 2600:9000:201d:c000:6:249c:1640:93a1, 2600:9000:201d:9800:6:249c:1640:93a1, ...\n",
      "Connecting to images.autotrader.com (images.autotrader.com)|2600:9000:201d:3800:6:249c:1640:93a1|:443... connected.\n",
      "HTTP request sent, awaiting response... 200 OK\n",
      "Length: 22383 (22K) [image/jpeg]\n",
      "Saving to: ‘/Users/levgolod/Projects/car_classifier/data/autotrader/vehicle_images/make-honda/model-odyssey/vehicle_id-737175430/4a6ddd39a3fc42a8ae137268063491dd.jpg’\n",
      "\n",
      "     0K .......... .......... .                               100%  165M=0s\n",
      "\n",
      "2025-02-12 10:53:35 (165 MB/s) - ‘/Users/levgolod/Projects/car_classifier/data/autotrader/vehicle_images/make-honda/model-odyssey/vehicle_id-737175430/4a6ddd39a3fc42a8ae137268063491dd.jpg’ saved [22383/22383]\n",
      "\n"
     ]
    },
    {
     "name": "stdout",
     "output_type": "stream",
     "text": [
      "wget -nc -O \"/Users/levgolod/Projects/car_classifier/data/autotrader/vehicle_images/make-honda/model-odyssey/vehicle_id-737175430/b7ed50b91e8943ad8c456b223c3a475b.jpg\" \"https://images.autotrader.com/scaler/500/375/hn/c/b7ed50b91e8943ad8c456b223c3a475b.jpg\" \n"
     ]
    },
    {
     "name": "stderr",
     "output_type": "stream",
     "text": [
      "--2025-02-12 10:53:37--  https://images.autotrader.com/scaler/500/375/hn/c/b7ed50b91e8943ad8c456b223c3a475b.jpg\n",
      "Resolving images.autotrader.com (images.autotrader.com)... 2600:9000:201d:3800:6:249c:1640:93a1, 2600:9000:201d:c000:6:249c:1640:93a1, 2600:9000:201d:9800:6:249c:1640:93a1, ...\n",
      "Connecting to images.autotrader.com (images.autotrader.com)|2600:9000:201d:3800:6:249c:1640:93a1|:443... connected.\n",
      "HTTP request sent, awaiting response... 200 OK\n",
      "Length: 22660 (22K) [image/jpeg]\n",
      "Saving to: ‘/Users/levgolod/Projects/car_classifier/data/autotrader/vehicle_images/make-honda/model-odyssey/vehicle_id-737175430/b7ed50b91e8943ad8c456b223c3a475b.jpg’\n",
      "\n",
      "     0K .......... .......... ..                              100% 3.58M=0.006s\n",
      "\n",
      "2025-02-12 10:53:38 (3.58 MB/s) - ‘/Users/levgolod/Projects/car_classifier/data/autotrader/vehicle_images/make-honda/model-odyssey/vehicle_id-737175430/b7ed50b91e8943ad8c456b223c3a475b.jpg’ saved [22660/22660]\n",
      "\n"
     ]
    },
    {
     "name": "stdout",
     "output_type": "stream",
     "text": [
      "wget -nc -O \"/Users/levgolod/Projects/car_classifier/data/autotrader/vehicle_images/make-honda/model-odyssey/vehicle_id-737175430/4bba6df900eb4fb29f89d1c46bd82ede.jpg\" \"https://images.autotrader.com/scaler/500/375/hn/c/4bba6df900eb4fb29f89d1c46bd82ede.jpg\" \n"
     ]
    },
    {
     "name": "stderr",
     "output_type": "stream",
     "text": [
      "--2025-02-12 10:53:40--  https://images.autotrader.com/scaler/500/375/hn/c/4bba6df900eb4fb29f89d1c46bd82ede.jpg\n",
      "Resolving images.autotrader.com (images.autotrader.com)... 2600:9000:201d:3800:6:249c:1640:93a1, 2600:9000:201d:c000:6:249c:1640:93a1, 2600:9000:201d:9800:6:249c:1640:93a1, ...\n",
      "Connecting to images.autotrader.com (images.autotrader.com)|2600:9000:201d:3800:6:249c:1640:93a1|:443... connected.\n",
      "HTTP request sent, awaiting response... 200 OK\n",
      "Length: 17704 (17K) [image/jpeg]\n",
      "Saving to: ‘/Users/levgolod/Projects/car_classifier/data/autotrader/vehicle_images/make-honda/model-odyssey/vehicle_id-737175430/4bba6df900eb4fb29f89d1c46bd82ede.jpg’\n",
      "\n",
      "     0K .......... .......                                    100% 19.3M=0.001s\n",
      "\n",
      "2025-02-12 10:53:40 (19.3 MB/s) - ‘/Users/levgolod/Projects/car_classifier/data/autotrader/vehicle_images/make-honda/model-odyssey/vehicle_id-737175430/4bba6df900eb4fb29f89d1c46bd82ede.jpg’ saved [17704/17704]\n",
      "\n"
     ]
    },
    {
     "name": "stdout",
     "output_type": "stream",
     "text": [
      "wget -nc -O \"/Users/levgolod/Projects/car_classifier/data/autotrader/vehicle_images/make-honda/model-odyssey/vehicle_id-737175430/cbbea71c2eb94c639b995efa4d47de45.jpg\" \"https://images.autotrader.com/scaler/500/375/hn/c/cbbea71c2eb94c639b995efa4d47de45.jpg\" \n"
     ]
    },
    {
     "name": "stderr",
     "output_type": "stream",
     "text": [
      "--2025-02-12 10:53:42--  https://images.autotrader.com/scaler/500/375/hn/c/cbbea71c2eb94c639b995efa4d47de45.jpg\n",
      "Resolving images.autotrader.com (images.autotrader.com)... 2600:9000:201d:3800:6:249c:1640:93a1, 2600:9000:201d:c000:6:249c:1640:93a1, 2600:9000:201d:9800:6:249c:1640:93a1, ...\n",
      "Connecting to images.autotrader.com (images.autotrader.com)|2600:9000:201d:3800:6:249c:1640:93a1|:443... connected.\n",
      "HTTP request sent, awaiting response... 200 OK\n",
      "Length: 24437 (24K) [image/jpeg]\n",
      "Saving to: ‘/Users/levgolod/Projects/car_classifier/data/autotrader/vehicle_images/make-honda/model-odyssey/vehicle_id-737175430/cbbea71c2eb94c639b995efa4d47de45.jpg’\n",
      "\n",
      "     0K .......... .......... ...                             100%  166M=0s\n",
      "\n",
      "2025-02-12 10:53:42 (166 MB/s) - ‘/Users/levgolod/Projects/car_classifier/data/autotrader/vehicle_images/make-honda/model-odyssey/vehicle_id-737175430/cbbea71c2eb94c639b995efa4d47de45.jpg’ saved [24437/24437]\n",
      "\n"
     ]
    },
    {
     "name": "stdout",
     "output_type": "stream",
     "text": [
      "wget -nc -O \"/Users/levgolod/Projects/car_classifier/data/autotrader/vehicle_images/make-honda/model-odyssey/vehicle_id-737175430/a0497f13cded419c9fe523bd45dc912c.jpg\" \"https://images.autotrader.com/scaler/500/375/hn/c/a0497f13cded419c9fe523bd45dc912c.jpg\" \n"
     ]
    },
    {
     "name": "stderr",
     "output_type": "stream",
     "text": [
      "--2025-02-12 10:53:44--  https://images.autotrader.com/scaler/500/375/hn/c/a0497f13cded419c9fe523bd45dc912c.jpg\n",
      "Resolving images.autotrader.com (images.autotrader.com)... 2600:9000:201d:3800:6:249c:1640:93a1, 2600:9000:201d:c000:6:249c:1640:93a1, 2600:9000:201d:9800:6:249c:1640:93a1, ...\n",
      "Connecting to images.autotrader.com (images.autotrader.com)|2600:9000:201d:3800:6:249c:1640:93a1|:443... connected.\n",
      "HTTP request sent, awaiting response... 200 OK\n",
      "Length: 23732 (23K) [image/jpeg]\n",
      "Saving to: ‘/Users/levgolod/Projects/car_classifier/data/autotrader/vehicle_images/make-honda/model-odyssey/vehicle_id-737175430/a0497f13cded419c9fe523bd45dc912c.jpg’\n",
      "\n",
      "     0K .......... .......... ...                             100% 77.2M=0s\n",
      "\n",
      "2025-02-12 10:53:44 (77.2 MB/s) - ‘/Users/levgolod/Projects/car_classifier/data/autotrader/vehicle_images/make-honda/model-odyssey/vehicle_id-737175430/a0497f13cded419c9fe523bd45dc912c.jpg’ saved [23732/23732]\n",
      "\n"
     ]
    },
    {
     "name": "stdout",
     "output_type": "stream",
     "text": [
      "wget -nc -O \"/Users/levgolod/Projects/car_classifier/data/autotrader/vehicle_images/make-honda/model-odyssey/vehicle_id-737175430/edb121941f254e11803ded840160bf4b.jpg\" \"https://images.autotrader.com/scaler/500/375/hn/c/edb121941f254e11803ded840160bf4b.jpg\" \n"
     ]
    },
    {
     "name": "stderr",
     "output_type": "stream",
     "text": [
      "--2025-02-12 10:53:46--  https://images.autotrader.com/scaler/500/375/hn/c/edb121941f254e11803ded840160bf4b.jpg\n",
      "Resolving images.autotrader.com (images.autotrader.com)... 2600:9000:201d:3800:6:249c:1640:93a1, 2600:9000:201d:c000:6:249c:1640:93a1, 2600:9000:201d:9800:6:249c:1640:93a1, ...\n",
      "Connecting to images.autotrader.com (images.autotrader.com)|2600:9000:201d:3800:6:249c:1640:93a1|:443... connected.\n",
      "HTTP request sent, awaiting response... 200 OK\n",
      "Length: 18476 (18K) [image/jpeg]\n",
      "Saving to: ‘/Users/levgolod/Projects/car_classifier/data/autotrader/vehicle_images/make-honda/model-odyssey/vehicle_id-737175430/edb121941f254e11803ded840160bf4b.jpg’\n",
      "\n",
      "     0K .......... ........                                   100% 8.91M=0.002s\n",
      "\n",
      "2025-02-12 10:53:46 (8.91 MB/s) - ‘/Users/levgolod/Projects/car_classifier/data/autotrader/vehicle_images/make-honda/model-odyssey/vehicle_id-737175430/edb121941f254e11803ded840160bf4b.jpg’ saved [18476/18476]\n",
      "\n"
     ]
    },
    {
     "name": "stdout",
     "output_type": "stream",
     "text": [
      "wget -nc -O \"/Users/levgolod/Projects/car_classifier/data/autotrader/vehicle_images/make-honda/model-odyssey/vehicle_id-737175430/5196495ecaed41f2a19ed9f15be09d51.jpg\" \"https://images.autotrader.com/scaler/500/375/hn/c/5196495ecaed41f2a19ed9f15be09d51.jpg\" \n"
     ]
    },
    {
     "name": "stderr",
     "output_type": "stream",
     "text": [
      "--2025-02-12 10:53:48--  https://images.autotrader.com/scaler/500/375/hn/c/5196495ecaed41f2a19ed9f15be09d51.jpg\n",
      "Resolving images.autotrader.com (images.autotrader.com)... 2600:9000:201d:5000:6:249c:1640:93a1, 2600:9000:201d:6e00:6:249c:1640:93a1, 2600:9000:201d:e800:6:249c:1640:93a1, ...\n",
      "Connecting to images.autotrader.com (images.autotrader.com)|2600:9000:201d:5000:6:249c:1640:93a1|:443... connected.\n",
      "HTTP request sent, awaiting response... 200 OK\n",
      "Length: 17390 (17K) [image/jpeg]\n",
      "Saving to: ‘/Users/levgolod/Projects/car_classifier/data/autotrader/vehicle_images/make-honda/model-odyssey/vehicle_id-737175430/5196495ecaed41f2a19ed9f15be09d51.jpg’\n",
      "\n",
      "     0K .......... ......                                     100% 2.97M=0.006s\n",
      "\n",
      "2025-02-12 10:53:49 (2.97 MB/s) - ‘/Users/levgolod/Projects/car_classifier/data/autotrader/vehicle_images/make-honda/model-odyssey/vehicle_id-737175430/5196495ecaed41f2a19ed9f15be09d51.jpg’ saved [17390/17390]\n",
      "\n"
     ]
    },
    {
     "name": "stdout",
     "output_type": "stream",
     "text": [
      "wget -nc -O \"/Users/levgolod/Projects/car_classifier/data/autotrader/vehicle_images/make-honda/model-odyssey/vehicle_id-737175430/e22a3e0647474c0ea034ca8792f351c2.jpg\" \"https://images.autotrader.com/scaler/500/375/hn/c/e22a3e0647474c0ea034ca8792f351c2.jpg\" \n"
     ]
    },
    {
     "name": "stderr",
     "output_type": "stream",
     "text": [
      "--2025-02-12 10:53:51--  https://images.autotrader.com/scaler/500/375/hn/c/e22a3e0647474c0ea034ca8792f351c2.jpg\n",
      "Resolving images.autotrader.com (images.autotrader.com)... 2600:9000:201d:5000:6:249c:1640:93a1, 2600:9000:201d:6e00:6:249c:1640:93a1, 2600:9000:201d:e800:6:249c:1640:93a1, ...\n",
      "Connecting to images.autotrader.com (images.autotrader.com)|2600:9000:201d:5000:6:249c:1640:93a1|:443... connected.\n",
      "HTTP request sent, awaiting response... 200 OK\n",
      "Length: 17394 (17K) [image/jpeg]\n",
      "Saving to: ‘/Users/levgolod/Projects/car_classifier/data/autotrader/vehicle_images/make-honda/model-odyssey/vehicle_id-737175430/e22a3e0647474c0ea034ca8792f351c2.jpg’\n",
      "\n",
      "     0K .......... ......                                     100%  107M=0s\n",
      "\n",
      "2025-02-12 10:53:51 (107 MB/s) - ‘/Users/levgolod/Projects/car_classifier/data/autotrader/vehicle_images/make-honda/model-odyssey/vehicle_id-737175430/e22a3e0647474c0ea034ca8792f351c2.jpg’ saved [17394/17394]\n",
      "\n"
     ]
    },
    {
     "name": "stdout",
     "output_type": "stream",
     "text": [
      "wget -nc -O \"/Users/levgolod/Projects/car_classifier/data/autotrader/vehicle_images/make-honda/model-odyssey/vehicle_id-737175430/d0220face8bc4860ac19ba54702e8528.jpg\" \"https://images.autotrader.com/scaler/500/375/hn/c/d0220face8bc4860ac19ba54702e8528.jpg\" \n"
     ]
    },
    {
     "name": "stderr",
     "output_type": "stream",
     "text": [
      "--2025-02-12 10:53:53--  https://images.autotrader.com/scaler/500/375/hn/c/d0220face8bc4860ac19ba54702e8528.jpg\n",
      "Resolving images.autotrader.com (images.autotrader.com)... 2600:9000:201d:5000:6:249c:1640:93a1, 2600:9000:201d:6e00:6:249c:1640:93a1, 2600:9000:201d:e800:6:249c:1640:93a1, ...\n",
      "Connecting to images.autotrader.com (images.autotrader.com)|2600:9000:201d:5000:6:249c:1640:93a1|:443... connected.\n",
      "HTTP request sent, awaiting response... 200 OK\n",
      "Length: 23957 (23K) [image/jpeg]\n",
      "Saving to: ‘/Users/levgolod/Projects/car_classifier/data/autotrader/vehicle_images/make-honda/model-odyssey/vehicle_id-737175430/d0220face8bc4860ac19ba54702e8528.jpg’\n",
      "\n",
      "     0K .......... .......... ...                             100% 5.09M=0.004s\n",
      "\n",
      "2025-02-12 10:53:53 (5.09 MB/s) - ‘/Users/levgolod/Projects/car_classifier/data/autotrader/vehicle_images/make-honda/model-odyssey/vehicle_id-737175430/d0220face8bc4860ac19ba54702e8528.jpg’ saved [23957/23957]\n",
      "\n"
     ]
    },
    {
     "name": "stdout",
     "output_type": "stream",
     "text": [
      "wget -nc -O \"/Users/levgolod/Projects/car_classifier/data/autotrader/vehicle_images/make-honda/model-odyssey/vehicle_id-737175430/42827e0629ae4636ab99ca867c4bac81.jpg\" \"https://images.autotrader.com/scaler/500/375/hn/c/42827e0629ae4636ab99ca867c4bac81.jpg\" \n"
     ]
    },
    {
     "name": "stderr",
     "output_type": "stream",
     "text": [
      "--2025-02-12 10:53:55--  https://images.autotrader.com/scaler/500/375/hn/c/42827e0629ae4636ab99ca867c4bac81.jpg\n",
      "Resolving images.autotrader.com (images.autotrader.com)... 2600:9000:201d:5000:6:249c:1640:93a1, 2600:9000:201d:6e00:6:249c:1640:93a1, 2600:9000:201d:e800:6:249c:1640:93a1, ...\n",
      "Connecting to images.autotrader.com (images.autotrader.com)|2600:9000:201d:5000:6:249c:1640:93a1|:443... connected.\n",
      "HTTP request sent, awaiting response... 200 OK\n",
      "Length: 30885 (30K) [image/jpeg]\n",
      "Saving to: ‘/Users/levgolod/Projects/car_classifier/data/autotrader/vehicle_images/make-honda/model-odyssey/vehicle_id-737175430/42827e0629ae4636ab99ca867c4bac81.jpg’\n",
      "\n",
      "     0K .......... .......... ..........                      100%  213M=0s\n",
      "\n",
      "2025-02-12 10:53:55 (213 MB/s) - ‘/Users/levgolod/Projects/car_classifier/data/autotrader/vehicle_images/make-honda/model-odyssey/vehicle_id-737175430/42827e0629ae4636ab99ca867c4bac81.jpg’ saved [30885/30885]\n",
      "\n"
     ]
    },
    {
     "name": "stdout",
     "output_type": "stream",
     "text": [
      "wget -nc -O \"/Users/levgolod/Projects/car_classifier/data/autotrader/vehicle_images/make-honda/model-odyssey/vehicle_id-737175430/3e9089c62008438a8c8dfbdebc53f293.jpg\" \"https://images.autotrader.com/scaler/500/375/hn/c/3e9089c62008438a8c8dfbdebc53f293.jpg\" \n"
     ]
    },
    {
     "name": "stderr",
     "output_type": "stream",
     "text": [
      "--2025-02-12 10:53:57--  https://images.autotrader.com/scaler/500/375/hn/c/3e9089c62008438a8c8dfbdebc53f293.jpg\n",
      "Resolving images.autotrader.com (images.autotrader.com)... 2600:9000:201d:5000:6:249c:1640:93a1, 2600:9000:201d:6e00:6:249c:1640:93a1, 2600:9000:201d:e800:6:249c:1640:93a1, ...\n",
      "Connecting to images.autotrader.com (images.autotrader.com)|2600:9000:201d:5000:6:249c:1640:93a1|:443... connected.\n",
      "HTTP request sent, awaiting response... 200 OK\n",
      "Length: 30872 (30K) [image/jpeg]\n",
      "Saving to: ‘/Users/levgolod/Projects/car_classifier/data/autotrader/vehicle_images/make-honda/model-odyssey/vehicle_id-737175430/3e9089c62008438a8c8dfbdebc53f293.jpg’\n",
      "\n",
      "     0K .......... .......... ..........                      100% 4.64M=0.006s\n",
      "\n",
      "2025-02-12 10:53:58 (4.64 MB/s) - ‘/Users/levgolod/Projects/car_classifier/data/autotrader/vehicle_images/make-honda/model-odyssey/vehicle_id-737175430/3e9089c62008438a8c8dfbdebc53f293.jpg’ saved [30872/30872]\n",
      "\n"
     ]
    },
    {
     "name": "stdout",
     "output_type": "stream",
     "text": [
      "wget -nc -O \"/Users/levgolod/Projects/car_classifier/data/autotrader/vehicle_images/make-honda/model-odyssey/vehicle_id-737175430/616044586f03414eaa2758486c191c93.jpg\" \"https://images.autotrader.com/scaler/500/375/hn/c/616044586f03414eaa2758486c191c93.jpg\" \n"
     ]
    },
    {
     "name": "stderr",
     "output_type": "stream",
     "text": [
      "--2025-02-12 10:54:00--  https://images.autotrader.com/scaler/500/375/hn/c/616044586f03414eaa2758486c191c93.jpg\n",
      "Resolving images.autotrader.com (images.autotrader.com)... 2600:9000:201d:5000:6:249c:1640:93a1, 2600:9000:201d:6e00:6:249c:1640:93a1, 2600:9000:201d:e800:6:249c:1640:93a1, ...\n",
      "Connecting to images.autotrader.com (images.autotrader.com)|2600:9000:201d:5000:6:249c:1640:93a1|:443... connected.\n",
      "HTTP request sent, awaiting response... 200 OK\n",
      "Length: 30355 (30K) [image/jpeg]\n",
      "Saving to: ‘/Users/levgolod/Projects/car_classifier/data/autotrader/vehicle_images/make-honda/model-odyssey/vehicle_id-737175430/616044586f03414eaa2758486c191c93.jpg’\n",
      "\n",
      "     0K .......... .......... .........                       100% 12.5M=0.002s\n",
      "\n",
      "2025-02-12 10:54:00 (12.5 MB/s) - ‘/Users/levgolod/Projects/car_classifier/data/autotrader/vehicle_images/make-honda/model-odyssey/vehicle_id-737175430/616044586f03414eaa2758486c191c93.jpg’ saved [30355/30355]\n",
      "\n"
     ]
    },
    {
     "name": "stdout",
     "output_type": "stream",
     "text": [
      "wget -nc -O \"/Users/levgolod/Projects/car_classifier/data/autotrader/vehicle_images/make-honda/model-odyssey/vehicle_id-737175430/02cc11065bf846a6bdff7696d0f1a4ad.jpg\" \"https://images.autotrader.com/scaler/500/375/hn/c/02cc11065bf846a6bdff7696d0f1a4ad.jpg\" \n"
     ]
    },
    {
     "name": "stderr",
     "output_type": "stream",
     "text": [
      "--2025-02-12 10:54:02--  https://images.autotrader.com/scaler/500/375/hn/c/02cc11065bf846a6bdff7696d0f1a4ad.jpg\n",
      "Resolving images.autotrader.com (images.autotrader.com)... 2600:9000:201d:5000:6:249c:1640:93a1, 2600:9000:201d:6e00:6:249c:1640:93a1, 2600:9000:201d:e800:6:249c:1640:93a1, ...\n",
      "Connecting to images.autotrader.com (images.autotrader.com)|2600:9000:201d:5000:6:249c:1640:93a1|:443... connected.\n",
      "HTTP request sent, awaiting response... 200 OK\n",
      "Length: 32460 (32K) [image/jpeg]\n",
      "Saving to: ‘/Users/levgolod/Projects/car_classifier/data/autotrader/vehicle_images/make-honda/model-odyssey/vehicle_id-737175430/02cc11065bf846a6bdff7696d0f1a4ad.jpg’\n",
      "\n",
      "     0K .......... .......... .......... .                    100% 21.4M=0.001s\n",
      "\n",
      "2025-02-12 10:54:02 (21.4 MB/s) - ‘/Users/levgolod/Projects/car_classifier/data/autotrader/vehicle_images/make-honda/model-odyssey/vehicle_id-737175430/02cc11065bf846a6bdff7696d0f1a4ad.jpg’ saved [32460/32460]\n",
      "\n"
     ]
    },
    {
     "name": "stdout",
     "output_type": "stream",
     "text": [
      "wget -nc -O \"/Users/levgolod/Projects/car_classifier/data/autotrader/vehicle_images/make-honda/model-odyssey/vehicle_id-737175430/4323965cbc7b4111b602a8ebb3e1dc61.jpg\" \"https://images.autotrader.com/scaler/500/375/hn/c/4323965cbc7b4111b602a8ebb3e1dc61.jpg\" \n"
     ]
    },
    {
     "name": "stderr",
     "output_type": "stream",
     "text": [
      "--2025-02-12 10:54:04--  https://images.autotrader.com/scaler/500/375/hn/c/4323965cbc7b4111b602a8ebb3e1dc61.jpg\n",
      "Resolving images.autotrader.com (images.autotrader.com)... 2600:9000:201d:5000:6:249c:1640:93a1, 2600:9000:201d:6e00:6:249c:1640:93a1, 2600:9000:201d:e800:6:249c:1640:93a1, ...\n",
      "Connecting to images.autotrader.com (images.autotrader.com)|2600:9000:201d:5000:6:249c:1640:93a1|:443... connected.\n",
      "HTTP request sent, awaiting response... 200 OK\n",
      "Length: 27942 (27K) [image/jpeg]\n",
      "Saving to: ‘/Users/levgolod/Projects/car_classifier/data/autotrader/vehicle_images/make-honda/model-odyssey/vehicle_id-737175430/4323965cbc7b4111b602a8ebb3e1dc61.jpg’\n",
      "\n",
      "     0K .......... .......... .......                         100% 2.39M=0.01s\n",
      "\n",
      "2025-02-12 10:54:04 (2.39 MB/s) - ‘/Users/levgolod/Projects/car_classifier/data/autotrader/vehicle_images/make-honda/model-odyssey/vehicle_id-737175430/4323965cbc7b4111b602a8ebb3e1dc61.jpg’ saved [27942/27942]\n",
      "\n"
     ]
    },
    {
     "name": "stdout",
     "output_type": "stream",
     "text": [
      "wget -nc -O \"/Users/levgolod/Projects/car_classifier/data/autotrader/vehicle_images/make-honda/model-odyssey/vehicle_id-737175430/70b9b7211515498c9bb02f585c1afb60.jpg\" \"https://images.autotrader.com/scaler/500/375/hn/c/70b9b7211515498c9bb02f585c1afb60.jpg\" \n"
     ]
    },
    {
     "name": "stderr",
     "output_type": "stream",
     "text": [
      "--2025-02-12 10:54:06--  https://images.autotrader.com/scaler/500/375/hn/c/70b9b7211515498c9bb02f585c1afb60.jpg\n",
      "Resolving images.autotrader.com (images.autotrader.com)... 2600:9000:201d:5000:6:249c:1640:93a1, 2600:9000:201d:6e00:6:249c:1640:93a1, 2600:9000:201d:e800:6:249c:1640:93a1, ...\n",
      "Connecting to images.autotrader.com (images.autotrader.com)|2600:9000:201d:5000:6:249c:1640:93a1|:443... connected.\n",
      "HTTP request sent, awaiting response... 200 OK\n",
      "Length: 34715 (34K) [image/jpeg]\n",
      "Saving to: ‘/Users/levgolod/Projects/car_classifier/data/autotrader/vehicle_images/make-honda/model-odyssey/vehicle_id-737175430/70b9b7211515498c9bb02f585c1afb60.jpg’\n",
      "\n",
      "     0K .......... .......... .......... ...                  100% 7.44M=0.004s\n",
      "\n",
      "2025-02-12 10:54:07 (7.44 MB/s) - ‘/Users/levgolod/Projects/car_classifier/data/autotrader/vehicle_images/make-honda/model-odyssey/vehicle_id-737175430/70b9b7211515498c9bb02f585c1afb60.jpg’ saved [34715/34715]\n",
      "\n"
     ]
    },
    {
     "name": "stdout",
     "output_type": "stream",
     "text": [
      "wget -nc -O \"/Users/levgolod/Projects/car_classifier/data/autotrader/vehicle_images/make-honda/model-odyssey/vehicle_id-737175430/e3ac78b04c384aa9a144372212beedc5.jpg\" \"https://images.autotrader.com/scaler/500/375/hn/c/e3ac78b04c384aa9a144372212beedc5.jpg\" \n"
     ]
    },
    {
     "name": "stderr",
     "output_type": "stream",
     "text": [
      "--2025-02-12 10:54:09--  https://images.autotrader.com/scaler/500/375/hn/c/e3ac78b04c384aa9a144372212beedc5.jpg\n",
      "Resolving images.autotrader.com (images.autotrader.com)... 2600:9000:201d:5000:6:249c:1640:93a1, 2600:9000:201d:6e00:6:249c:1640:93a1, 2600:9000:201d:e800:6:249c:1640:93a1, ...\n",
      "Connecting to images.autotrader.com (images.autotrader.com)|2600:9000:201d:5000:6:249c:1640:93a1|:443... connected.\n",
      "HTTP request sent, awaiting response... 200 OK\n",
      "Length: 25399 (25K) [image/jpeg]\n",
      "Saving to: ‘/Users/levgolod/Projects/car_classifier/data/autotrader/vehicle_images/make-honda/model-odyssey/vehicle_id-737175430/e3ac78b04c384aa9a144372212beedc5.jpg’\n",
      "\n",
      "     0K .......... .......... ....                            100% 98.9M=0s\n",
      "\n",
      "2025-02-12 10:54:09 (98.9 MB/s) - ‘/Users/levgolod/Projects/car_classifier/data/autotrader/vehicle_images/make-honda/model-odyssey/vehicle_id-737175430/e3ac78b04c384aa9a144372212beedc5.jpg’ saved [25399/25399]\n",
      "\n"
     ]
    },
    {
     "name": "stdout",
     "output_type": "stream",
     "text": [
      "wget -nc -O \"/Users/levgolod/Projects/car_classifier/data/autotrader/vehicle_images/make-honda/model-odyssey/vehicle_id-737175430/cb72e0dbcc574a388d0c1c723ed58e3d.jpg\" \"https://images.autotrader.com/scaler/500/375/hn/c/cb72e0dbcc574a388d0c1c723ed58e3d.jpg\" \n"
     ]
    },
    {
     "name": "stderr",
     "output_type": "stream",
     "text": [
      "--2025-02-12 10:54:11--  https://images.autotrader.com/scaler/500/375/hn/c/cb72e0dbcc574a388d0c1c723ed58e3d.jpg\n",
      "Resolving images.autotrader.com (images.autotrader.com)... 2600:9000:201d:5000:6:249c:1640:93a1, 2600:9000:201d:6e00:6:249c:1640:93a1, 2600:9000:201d:e800:6:249c:1640:93a1, ...\n",
      "Connecting to images.autotrader.com (images.autotrader.com)|2600:9000:201d:5000:6:249c:1640:93a1|:443... connected.\n",
      "HTTP request sent, awaiting response... 200 OK\n",
      "Length: 25316 (25K) [image/jpeg]\n",
      "Saving to: ‘/Users/levgolod/Projects/car_classifier/data/autotrader/vehicle_images/make-honda/model-odyssey/vehicle_id-737175430/cb72e0dbcc574a388d0c1c723ed58e3d.jpg’\n",
      "\n",
      "     0K .......... .......... ....                            100% 7.62M=0.003s\n",
      "\n",
      "2025-02-12 10:54:11 (7.62 MB/s) - ‘/Users/levgolod/Projects/car_classifier/data/autotrader/vehicle_images/make-honda/model-odyssey/vehicle_id-737175430/cb72e0dbcc574a388d0c1c723ed58e3d.jpg’ saved [25316/25316]\n",
      "\n"
     ]
    },
    {
     "name": "stdout",
     "output_type": "stream",
     "text": [
      "wget -nc -O \"/Users/levgolod/Projects/car_classifier/data/autotrader/vehicle_images/make-honda/model-odyssey/vehicle_id-737175430/070bc92514224e90926d67aa1245e460.jpg\" \"https://images.autotrader.com/scaler/500/375/hn/c/070bc92514224e90926d67aa1245e460.jpg\" \n"
     ]
    },
    {
     "name": "stderr",
     "output_type": "stream",
     "text": [
      "--2025-02-12 10:54:13--  https://images.autotrader.com/scaler/500/375/hn/c/070bc92514224e90926d67aa1245e460.jpg\n",
      "Resolving images.autotrader.com (images.autotrader.com)... 2600:9000:201d:5000:6:249c:1640:93a1, 2600:9000:201d:6e00:6:249c:1640:93a1, 2600:9000:201d:e800:6:249c:1640:93a1, ...\n",
      "Connecting to images.autotrader.com (images.autotrader.com)|2600:9000:201d:5000:6:249c:1640:93a1|:443... connected.\n",
      "HTTP request sent, awaiting response... 200 OK\n",
      "Length: 29270 (29K) [image/jpeg]\n",
      "Saving to: ‘/Users/levgolod/Projects/car_classifier/data/autotrader/vehicle_images/make-honda/model-odyssey/vehicle_id-737175430/070bc92514224e90926d67aa1245e460.jpg’\n",
      "\n",
      "     0K .......... .......... ........                        100%  239M=0s\n",
      "\n",
      "2025-02-12 10:54:13 (239 MB/s) - ‘/Users/levgolod/Projects/car_classifier/data/autotrader/vehicle_images/make-honda/model-odyssey/vehicle_id-737175430/070bc92514224e90926d67aa1245e460.jpg’ saved [29270/29270]\n",
      "\n"
     ]
    },
    {
     "name": "stdout",
     "output_type": "stream",
     "text": [
      "wget -nc -O \"/Users/levgolod/Projects/car_classifier/data/autotrader/vehicle_images/make-honda/model-odyssey/vehicle_id-737175430/f9955fb315ab49b18a0c640b958dbf14.jpg\" \"https://images.autotrader.com/scaler/500/375/hn/c/f9955fb315ab49b18a0c640b958dbf14.jpg\" \n"
     ]
    },
    {
     "name": "stderr",
     "output_type": "stream",
     "text": [
      "--2025-02-12 10:54:15--  https://images.autotrader.com/scaler/500/375/hn/c/f9955fb315ab49b18a0c640b958dbf14.jpg\n",
      "Resolving images.autotrader.com (images.autotrader.com)... 2600:9000:201d:5000:6:249c:1640:93a1, 2600:9000:201d:6e00:6:249c:1640:93a1, 2600:9000:201d:e800:6:249c:1640:93a1, ...\n",
      "Connecting to images.autotrader.com (images.autotrader.com)|2600:9000:201d:5000:6:249c:1640:93a1|:443... connected.\n",
      "HTTP request sent, awaiting response... 200 OK\n",
      "Length: 33907 (33K) [image/jpeg]\n",
      "Saving to: ‘/Users/levgolod/Projects/car_classifier/data/autotrader/vehicle_images/make-honda/model-odyssey/vehicle_id-737175430/f9955fb315ab49b18a0c640b958dbf14.jpg’\n",
      "\n",
      "     0K .......... .......... .......... ...                  100% 8.54M=0.004s\n",
      "\n",
      "2025-02-12 10:54:16 (8.54 MB/s) - ‘/Users/levgolod/Projects/car_classifier/data/autotrader/vehicle_images/make-honda/model-odyssey/vehicle_id-737175430/f9955fb315ab49b18a0c640b958dbf14.jpg’ saved [33907/33907]\n",
      "\n"
     ]
    },
    {
     "name": "stdout",
     "output_type": "stream",
     "text": [
      "wget -nc -O \"/Users/levgolod/Projects/car_classifier/data/autotrader/vehicle_images/make-honda/model-odyssey/vehicle_id-737511994/41245d78466c4a6191704181474c6bef.jpg\" \"https://images.autotrader.com/scaler/500/375/hn/c/41245d78466c4a6191704181474c6bef.jpg\" \n"
     ]
    },
    {
     "name": "stderr",
     "output_type": "stream",
     "text": [
      "--2025-02-12 10:54:18--  https://images.autotrader.com/scaler/500/375/hn/c/41245d78466c4a6191704181474c6bef.jpg\n",
      "Resolving images.autotrader.com (images.autotrader.com)... 2600:9000:201d:5000:6:249c:1640:93a1, 2600:9000:201d:6e00:6:249c:1640:93a1, 2600:9000:201d:e800:6:249c:1640:93a1, ...\n",
      "Connecting to images.autotrader.com (images.autotrader.com)|2600:9000:201d:5000:6:249c:1640:93a1|:443... connected.\n",
      "HTTP request sent, awaiting response... 200 OK\n",
      "Length: 68463 (67K) [image/jpeg]\n",
      "Saving to: ‘/Users/levgolod/Projects/car_classifier/data/autotrader/vehicle_images/make-honda/model-odyssey/vehicle_id-737511994/41245d78466c4a6191704181474c6bef.jpg’\n",
      "\n",
      "     0K .......... .......... .......... .......... .......... 74% 1.57M 0s\n",
      "    50K .......... ......                                     100% 89.5M=0.03s\n",
      "\n",
      "2025-02-12 10:54:18 (2.09 MB/s) - ‘/Users/levgolod/Projects/car_classifier/data/autotrader/vehicle_images/make-honda/model-odyssey/vehicle_id-737511994/41245d78466c4a6191704181474c6bef.jpg’ saved [68463/68463]\n",
      "\n"
     ]
    },
    {
     "name": "stdout",
     "output_type": "stream",
     "text": [
      "wget -nc -O \"/Users/levgolod/Projects/car_classifier/data/autotrader/vehicle_images/make-honda/model-odyssey/vehicle_id-737511994/704945bc33ea42c8bbf31183205b72b3.jpg\" \"https://images.autotrader.com/scaler/500/375/hn/c/704945bc33ea42c8bbf31183205b72b3.jpg\" \n"
     ]
    },
    {
     "name": "stderr",
     "output_type": "stream",
     "text": [
      "--2025-02-12 10:54:20--  https://images.autotrader.com/scaler/500/375/hn/c/704945bc33ea42c8bbf31183205b72b3.jpg\n",
      "Resolving images.autotrader.com (images.autotrader.com)... 2600:9000:201d:5000:6:249c:1640:93a1, 2600:9000:201d:6e00:6:249c:1640:93a1, 2600:9000:201d:e800:6:249c:1640:93a1, ...\n",
      "Connecting to images.autotrader.com (images.autotrader.com)|2600:9000:201d:5000:6:249c:1640:93a1|:443... connected.\n",
      "HTTP request sent, awaiting response... 200 OK\n",
      "Length: 68220 (67K) [image/jpeg]\n",
      "Saving to: ‘/Users/levgolod/Projects/car_classifier/data/autotrader/vehicle_images/make-honda/model-odyssey/vehicle_id-737511994/704945bc33ea42c8bbf31183205b72b3.jpg’\n",
      "\n",
      "     0K .......... .......... .......... .......... .......... 75% 2.68M 0s\n",
      "    50K .......... ......                                     100% 24.9M=0.02s\n",
      "\n",
      "2025-02-12 10:54:20 (3.45 MB/s) - ‘/Users/levgolod/Projects/car_classifier/data/autotrader/vehicle_images/make-honda/model-odyssey/vehicle_id-737511994/704945bc33ea42c8bbf31183205b72b3.jpg’ saved [68220/68220]\n",
      "\n"
     ]
    },
    {
     "name": "stdout",
     "output_type": "stream",
     "text": [
      "wget -nc -O \"/Users/levgolod/Projects/car_classifier/data/autotrader/vehicle_images/make-honda/model-odyssey/vehicle_id-737511994/49f41c5cb34a4f51a01fea41748b7960.jpg\" \"https://images.autotrader.com/scaler/500/375/hn/c/49f41c5cb34a4f51a01fea41748b7960.jpg\" \n"
     ]
    },
    {
     "name": "stderr",
     "output_type": "stream",
     "text": [
      "--2025-02-12 10:54:22--  https://images.autotrader.com/scaler/500/375/hn/c/49f41c5cb34a4f51a01fea41748b7960.jpg\n",
      "Resolving images.autotrader.com (images.autotrader.com)... 2600:9000:201d:5000:6:249c:1640:93a1, 2600:9000:201d:6e00:6:249c:1640:93a1, 2600:9000:201d:e800:6:249c:1640:93a1, ...\n",
      "Connecting to images.autotrader.com (images.autotrader.com)|2600:9000:201d:5000:6:249c:1640:93a1|:443... connected.\n",
      "HTTP request sent, awaiting response... 200 OK\n",
      "Length: 68078 (66K) [image/jpeg]\n",
      "Saving to: ‘/Users/levgolod/Projects/car_classifier/data/autotrader/vehicle_images/make-honda/model-odyssey/vehicle_id-737511994/49f41c5cb34a4f51a01fea41748b7960.jpg’\n",
      "\n",
      "     0K .......... .......... .......... .......... .......... 75% 1.84M 0s\n",
      "    50K .......... ......                                     100% 8.10M=0.03s\n",
      "\n",
      "2025-02-12 10:54:22 (2.28 MB/s) - ‘/Users/levgolod/Projects/car_classifier/data/autotrader/vehicle_images/make-honda/model-odyssey/vehicle_id-737511994/49f41c5cb34a4f51a01fea41748b7960.jpg’ saved [68078/68078]\n",
      "\n"
     ]
    },
    {
     "name": "stdout",
     "output_type": "stream",
     "text": [
      "wget -nc -O \"/Users/levgolod/Projects/car_classifier/data/autotrader/vehicle_images/make-honda/model-odyssey/vehicle_id-737511994/c73b0c8bec4a4f67b4d3a900b3355459.jpg\" \"https://images.autotrader.com/scaler/500/375/hn/c/c73b0c8bec4a4f67b4d3a900b3355459.jpg\" \n"
     ]
    },
    {
     "name": "stderr",
     "output_type": "stream",
     "text": [
      "--2025-02-12 10:54:24--  https://images.autotrader.com/scaler/500/375/hn/c/c73b0c8bec4a4f67b4d3a900b3355459.jpg\n",
      "Resolving images.autotrader.com (images.autotrader.com)... 2600:9000:201d:5000:6:249c:1640:93a1, 2600:9000:201d:6e00:6:249c:1640:93a1, 2600:9000:201d:e800:6:249c:1640:93a1, ...\n",
      "Connecting to images.autotrader.com (images.autotrader.com)|2600:9000:201d:5000:6:249c:1640:93a1|:443... connected.\n",
      "HTTP request sent, awaiting response... 200 OK\n",
      "Length: 64850 (63K) [image/jpeg]\n",
      "Saving to: ‘/Users/levgolod/Projects/car_classifier/data/autotrader/vehicle_images/make-honda/model-odyssey/vehicle_id-737511994/c73b0c8bec4a4f67b4d3a900b3355459.jpg’\n",
      "\n",
      "     0K .......... .......... .......... .......... .......... 78% 1.76M 0s\n",
      "    50K .......... ...                                        100%  267K=0.03s\n",
      "\n",
      "2025-02-12 10:54:25 (2.23 MB/s) - ‘/Users/levgolod/Projects/car_classifier/data/autotrader/vehicle_images/make-honda/model-odyssey/vehicle_id-737511994/c73b0c8bec4a4f67b4d3a900b3355459.jpg’ saved [64850/64850]\n",
      "\n"
     ]
    },
    {
     "name": "stdout",
     "output_type": "stream",
     "text": [
      "wget -nc -O \"/Users/levgolod/Projects/car_classifier/data/autotrader/vehicle_images/make-honda/model-odyssey/vehicle_id-737511994/3fc42cc7ed464155b72937f8128ce332.jpg\" \"https://images.autotrader.com/scaler/500/375/hn/c/3fc42cc7ed464155b72937f8128ce332.jpg\" \n"
     ]
    },
    {
     "name": "stderr",
     "output_type": "stream",
     "text": [
      "--2025-02-12 10:54:27--  https://images.autotrader.com/scaler/500/375/hn/c/3fc42cc7ed464155b72937f8128ce332.jpg\n",
      "Resolving images.autotrader.com (images.autotrader.com)... 2600:9000:201d:5000:6:249c:1640:93a1, 2600:9000:201d:6e00:6:249c:1640:93a1, 2600:9000:201d:e800:6:249c:1640:93a1, ...\n",
      "Connecting to images.autotrader.com (images.autotrader.com)|2600:9000:201d:5000:6:249c:1640:93a1|:443... connected.\n",
      "HTTP request sent, awaiting response... 200 OK\n",
      "Length: 72643 (71K) [image/jpeg]\n",
      "Saving to: ‘/Users/levgolod/Projects/car_classifier/data/autotrader/vehicle_images/make-honda/model-odyssey/vehicle_id-737511994/3fc42cc7ed464155b72937f8128ce332.jpg’\n",
      "\n",
      "     0K .......... .......... .......... .......... .......... 70% 1.78M 0s\n",
      "    50K .......... ..........                                 100% 8.46M=0.03s\n",
      "\n",
      "2025-02-12 10:54:27 (2.32 MB/s) - ‘/Users/levgolod/Projects/car_classifier/data/autotrader/vehicle_images/make-honda/model-odyssey/vehicle_id-737511994/3fc42cc7ed464155b72937f8128ce332.jpg’ saved [72643/72643]\n",
      "\n"
     ]
    },
    {
     "name": "stdout",
     "output_type": "stream",
     "text": [
      "wget -nc -O \"/Users/levgolod/Projects/car_classifier/data/autotrader/vehicle_images/make-honda/model-odyssey/vehicle_id-725617155/a621c573a49e4404810199aaff073aac.jpg\" \"https://images.autotrader.com/scaler/500/375/hn/c/a621c573a49e4404810199aaff073aac.jpg\" \n"
     ]
    },
    {
     "name": "stderr",
     "output_type": "stream",
     "text": [
      "--2025-02-12 10:54:29--  https://images.autotrader.com/scaler/500/375/hn/c/a621c573a49e4404810199aaff073aac.jpg\n",
      "Resolving images.autotrader.com (images.autotrader.com)... 2600:9000:201d:5000:6:249c:1640:93a1, 2600:9000:201d:6e00:6:249c:1640:93a1, 2600:9000:201d:e800:6:249c:1640:93a1, ...\n",
      "Connecting to images.autotrader.com (images.autotrader.com)|2600:9000:201d:5000:6:249c:1640:93a1|:443... connected.\n",
      "HTTP request sent, awaiting response... 200 OK\n",
      "Length: 23707 (23K) [image/jpeg]\n",
      "Saving to: ‘/Users/levgolod/Projects/car_classifier/data/autotrader/vehicle_images/make-honda/model-odyssey/vehicle_id-725617155/a621c573a49e4404810199aaff073aac.jpg’\n",
      "\n",
      "     0K .......... .......... ...                             100%  103M=0s\n",
      "\n",
      "2025-02-12 10:54:30 (103 MB/s) - ‘/Users/levgolod/Projects/car_classifier/data/autotrader/vehicle_images/make-honda/model-odyssey/vehicle_id-725617155/a621c573a49e4404810199aaff073aac.jpg’ saved [23707/23707]\n",
      "\n"
     ]
    },
    {
     "name": "stdout",
     "output_type": "stream",
     "text": [
      "wget -nc -O \"/Users/levgolod/Projects/car_classifier/data/autotrader/vehicle_images/make-honda/model-odyssey/vehicle_id-736531071/064fb6c071644208a7c4a9e8854e6090.jpg\" \"https://images.autotrader.com/scaler/500/375/hn/c/064fb6c071644208a7c4a9e8854e6090.jpg\" \n"
     ]
    },
    {
     "name": "stderr",
     "output_type": "stream",
     "text": [
      "--2025-02-12 10:54:32--  https://images.autotrader.com/scaler/500/375/hn/c/064fb6c071644208a7c4a9e8854e6090.jpg\n",
      "Resolving images.autotrader.com (images.autotrader.com)... 2600:9000:201d:5000:6:249c:1640:93a1, 2600:9000:201d:6e00:6:249c:1640:93a1, 2600:9000:201d:e800:6:249c:1640:93a1, ...\n",
      "Connecting to images.autotrader.com (images.autotrader.com)|2600:9000:201d:5000:6:249c:1640:93a1|:443... connected.\n",
      "HTTP request sent, awaiting response... 200 OK\n",
      "Length: 34979 (34K) [image/jpeg]\n",
      "Saving to: ‘/Users/levgolod/Projects/car_classifier/data/autotrader/vehicle_images/make-honda/model-odyssey/vehicle_id-736531071/064fb6c071644208a7c4a9e8854e6090.jpg’\n",
      "\n",
      "     0K .......... .......... .......... ....                 100% 6.90M=0.005s\n",
      "\n",
      "2025-02-12 10:54:32 (6.90 MB/s) - ‘/Users/levgolod/Projects/car_classifier/data/autotrader/vehicle_images/make-honda/model-odyssey/vehicle_id-736531071/064fb6c071644208a7c4a9e8854e6090.jpg’ saved [34979/34979]\n",
      "\n"
     ]
    },
    {
     "name": "stdout",
     "output_type": "stream",
     "text": [
      "wget -nc -O \"/Users/levgolod/Projects/car_classifier/data/autotrader/vehicle_images/make-honda/model-odyssey/vehicle_id-736531071/94b17a2f59574a52bacc895da5c17db7.jpg\" \"https://images.autotrader.com/scaler/500/375/hn/c/94b17a2f59574a52bacc895da5c17db7.jpg\" \n"
     ]
    },
    {
     "name": "stderr",
     "output_type": "stream",
     "text": [
      "--2025-02-12 10:54:34--  https://images.autotrader.com/scaler/500/375/hn/c/94b17a2f59574a52bacc895da5c17db7.jpg\n",
      "Resolving images.autotrader.com (images.autotrader.com)... 2600:9000:201d:5000:6:249c:1640:93a1, 2600:9000:201d:6e00:6:249c:1640:93a1, 2600:9000:201d:e800:6:249c:1640:93a1, ...\n",
      "Connecting to images.autotrader.com (images.autotrader.com)|2600:9000:201d:5000:6:249c:1640:93a1|:443... connected.\n",
      "HTTP request sent, awaiting response... 200 OK\n",
      "Length: 61001 (60K) [image/jpeg]\n",
      "Saving to: ‘/Users/levgolod/Projects/car_classifier/data/autotrader/vehicle_images/make-honda/model-odyssey/vehicle_id-736531071/94b17a2f59574a52bacc895da5c17db7.jpg’\n",
      "\n",
      "     0K .......... .......... .......... .......... .......... 83% 1.96M 0s\n",
      "    50K .........                                             100% 7.29M=0.03s\n",
      "\n",
      "2025-02-12 10:54:34 (2.23 MB/s) - ‘/Users/levgolod/Projects/car_classifier/data/autotrader/vehicle_images/make-honda/model-odyssey/vehicle_id-736531071/94b17a2f59574a52bacc895da5c17db7.jpg’ saved [61001/61001]\n",
      "\n"
     ]
    },
    {
     "name": "stdout",
     "output_type": "stream",
     "text": [
      "wget -nc -O \"/Users/levgolod/Projects/car_classifier/data/autotrader/vehicle_images/make-honda/model-odyssey/vehicle_id-736531071/7755d6e167af427cb1c8ee49aafb9ecc.jpg\" \"https://images.autotrader.com/scaler/500/375/hn/c/7755d6e167af427cb1c8ee49aafb9ecc.jpg\" \n"
     ]
    },
    {
     "name": "stderr",
     "output_type": "stream",
     "text": [
      "--2025-02-12 10:54:36--  https://images.autotrader.com/scaler/500/375/hn/c/7755d6e167af427cb1c8ee49aafb9ecc.jpg\n",
      "Resolving images.autotrader.com (images.autotrader.com)... 2600:9000:201d:5000:6:249c:1640:93a1, 2600:9000:201d:6e00:6:249c:1640:93a1, 2600:9000:201d:e800:6:249c:1640:93a1, ...\n",
      "Connecting to images.autotrader.com (images.autotrader.com)|2600:9000:201d:5000:6:249c:1640:93a1|:443... connected.\n",
      "HTTP request sent, awaiting response... 200 OK\n",
      "Length: 55691 (54K) [image/jpeg]\n",
      "Saving to: ‘/Users/levgolod/Projects/car_classifier/data/autotrader/vehicle_images/make-honda/model-odyssey/vehicle_id-736531071/7755d6e167af427cb1c8ee49aafb9ecc.jpg’\n",
      "\n",
      "     0K .......... .......... .......... .......... .......... 91% 1.73M 0s\n",
      "    50K ....                                                  100% 87.7K=0.03s\n",
      "\n",
      "2025-02-12 10:54:37 (1.88 MB/s) - ‘/Users/levgolod/Projects/car_classifier/data/autotrader/vehicle_images/make-honda/model-odyssey/vehicle_id-736531071/7755d6e167af427cb1c8ee49aafb9ecc.jpg’ saved [55691/55691]\n",
      "\n"
     ]
    },
    {
     "name": "stdout",
     "output_type": "stream",
     "text": [
      "wget -nc -O \"/Users/levgolod/Projects/car_classifier/data/autotrader/vehicle_images/make-honda/model-odyssey/vehicle_id-736531071/52bf64f2ebb849cab7cd54e2870446ba.jpg\" \"https://images.autotrader.com/scaler/500/375/hn/c/52bf64f2ebb849cab7cd54e2870446ba.jpg\" \n"
     ]
    },
    {
     "name": "stderr",
     "output_type": "stream",
     "text": [
      "--2025-02-12 10:54:39--  https://images.autotrader.com/scaler/500/375/hn/c/52bf64f2ebb849cab7cd54e2870446ba.jpg\n",
      "Resolving images.autotrader.com (images.autotrader.com)... 2600:9000:201d:5000:6:249c:1640:93a1, 2600:9000:201d:6e00:6:249c:1640:93a1, 2600:9000:201d:e800:6:249c:1640:93a1, ...\n",
      "Connecting to images.autotrader.com (images.autotrader.com)|2600:9000:201d:5000:6:249c:1640:93a1|:443... connected.\n",
      "HTTP request sent, awaiting response... 200 OK\n",
      "Length: 55802 (54K) [image/jpeg]\n",
      "Saving to: ‘/Users/levgolod/Projects/car_classifier/data/autotrader/vehicle_images/make-honda/model-odyssey/vehicle_id-736531071/52bf64f2ebb849cab7cd54e2870446ba.jpg’\n",
      "\n",
      "     0K .......... .......... .......... .......... .......... 91%  485K 0s\n",
      "    50K ....                                                  100% 89.9K=0.1s\n",
      "\n",
      "2025-02-12 10:54:39 (528 KB/s) - ‘/Users/levgolod/Projects/car_classifier/data/autotrader/vehicle_images/make-honda/model-odyssey/vehicle_id-736531071/52bf64f2ebb849cab7cd54e2870446ba.jpg’ saved [55802/55802]\n",
      "\n"
     ]
    },
    {
     "name": "stdout",
     "output_type": "stream",
     "text": [
      "wget -nc -O \"/Users/levgolod/Projects/car_classifier/data/autotrader/vehicle_images/make-honda/model-odyssey/vehicle_id-736531071/baf6e10f99bb4c1b8a6f1b909843a397.jpg\" \"https://images.autotrader.com/scaler/500/375/hn/c/baf6e10f99bb4c1b8a6f1b909843a397.jpg\" \n"
     ]
    },
    {
     "name": "stderr",
     "output_type": "stream",
     "text": [
      "--2025-02-12 10:54:41--  https://images.autotrader.com/scaler/500/375/hn/c/baf6e10f99bb4c1b8a6f1b909843a397.jpg\n",
      "Resolving images.autotrader.com (images.autotrader.com)... 2600:9000:201d:5000:6:249c:1640:93a1, 2600:9000:201d:6e00:6:249c:1640:93a1, 2600:9000:201d:e800:6:249c:1640:93a1, ...\n",
      "Connecting to images.autotrader.com (images.autotrader.com)|2600:9000:201d:5000:6:249c:1640:93a1|:443... connected.\n",
      "HTTP request sent, awaiting response... 200 OK\n",
      "Length: 61990 (61K) [image/jpeg]\n",
      "Saving to: ‘/Users/levgolod/Projects/car_classifier/data/autotrader/vehicle_images/make-honda/model-odyssey/vehicle_id-736531071/baf6e10f99bb4c1b8a6f1b909843a397.jpg’\n",
      "\n",
      "     0K .......... .......... .......... .......... .......... 82% 2.36M 0s\n",
      "    50K ..........                                            100%  211K=0.02s\n",
      "\n",
      "2025-02-12 10:54:41 (2.86 MB/s) - ‘/Users/levgolod/Projects/car_classifier/data/autotrader/vehicle_images/make-honda/model-odyssey/vehicle_id-736531071/baf6e10f99bb4c1b8a6f1b909843a397.jpg’ saved [61990/61990]\n",
      "\n"
     ]
    },
    {
     "name": "stdout",
     "output_type": "stream",
     "text": [
      "wget -nc -O \"/Users/levgolod/Projects/car_classifier/data/autotrader/vehicle_images/make-honda/model-odyssey/vehicle_id-736531071/61f07bfdf71b4e1f84558b8b9e8ad36c.jpg\" \"https://images.autotrader.com/scaler/500/375/hn/c/61f07bfdf71b4e1f84558b8b9e8ad36c.jpg\" \n"
     ]
    },
    {
     "name": "stderr",
     "output_type": "stream",
     "text": [
      "--2025-02-12 10:54:43--  https://images.autotrader.com/scaler/500/375/hn/c/61f07bfdf71b4e1f84558b8b9e8ad36c.jpg\n",
      "Resolving images.autotrader.com (images.autotrader.com)... 2600:9000:201d:f400:6:249c:1640:93a1, 2600:9000:201d:9000:6:249c:1640:93a1, 2600:9000:201d:9400:6:249c:1640:93a1, ...\n",
      "Connecting to images.autotrader.com (images.autotrader.com)|2600:9000:201d:f400:6:249c:1640:93a1|:443... connected.\n",
      "HTTP request sent, awaiting response... 200 OK\n",
      "Length: 56801 (55K) [image/jpeg]\n",
      "Saving to: ‘/Users/levgolod/Projects/car_classifier/data/autotrader/vehicle_images/make-honda/model-odyssey/vehicle_id-736531071/61f07bfdf71b4e1f84558b8b9e8ad36c.jpg’\n",
      "\n",
      "     0K .......... .......... .......... .......... .......... 90% 1.79M 0s\n",
      "    50K .....                                                 100%  109K=0.03s\n",
      "\n",
      "2025-02-12 10:54:44 (1.99 MB/s) - ‘/Users/levgolod/Projects/car_classifier/data/autotrader/vehicle_images/make-honda/model-odyssey/vehicle_id-736531071/61f07bfdf71b4e1f84558b8b9e8ad36c.jpg’ saved [56801/56801]\n",
      "\n"
     ]
    },
    {
     "name": "stdout",
     "output_type": "stream",
     "text": [
      "wget -nc -O \"/Users/levgolod/Projects/car_classifier/data/autotrader/vehicle_images/make-honda/model-odyssey/vehicle_id-736531071/ea27d1e7978844788e03ba85807ae229.jpg\" \"https://images.autotrader.com/scaler/500/375/hn/c/ea27d1e7978844788e03ba85807ae229.jpg\" \n"
     ]
    },
    {
     "name": "stderr",
     "output_type": "stream",
     "text": [
      "--2025-02-12 10:54:46--  https://images.autotrader.com/scaler/500/375/hn/c/ea27d1e7978844788e03ba85807ae229.jpg\n",
      "Resolving images.autotrader.com (images.autotrader.com)... 2600:9000:201d:f400:6:249c:1640:93a1, 2600:9000:201d:9000:6:249c:1640:93a1, 2600:9000:201d:9400:6:249c:1640:93a1, ...\n",
      "Connecting to images.autotrader.com (images.autotrader.com)|2600:9000:201d:f400:6:249c:1640:93a1|:443... connected.\n",
      "HTTP request sent, awaiting response... 200 OK\n",
      "Length: 52204 (51K) [image/jpeg]\n",
      "Saving to: ‘/Users/levgolod/Projects/car_classifier/data/autotrader/vehicle_images/make-honda/model-odyssey/vehicle_id-736531071/ea27d1e7978844788e03ba85807ae229.jpg’\n",
      "\n",
      "     0K .......... .......... .......... .......... .......... 98% 2.06M 0s\n",
      "    50K                                                       100% 19.6K=0.02s\n",
      "\n",
      "2025-02-12 10:54:46 (2.10 MB/s) - ‘/Users/levgolod/Projects/car_classifier/data/autotrader/vehicle_images/make-honda/model-odyssey/vehicle_id-736531071/ea27d1e7978844788e03ba85807ae229.jpg’ saved [52204/52204]\n",
      "\n"
     ]
    },
    {
     "name": "stdout",
     "output_type": "stream",
     "text": [
      "wget -nc -O \"/Users/levgolod/Projects/car_classifier/data/autotrader/vehicle_images/make-honda/model-odyssey/vehicle_id-736531071/fe3fd567d7c04bcbb3314e7c22eb5215.jpg\" \"https://images.autotrader.com/scaler/500/375/hn/c/fe3fd567d7c04bcbb3314e7c22eb5215.jpg\" \n"
     ]
    },
    {
     "name": "stderr",
     "output_type": "stream",
     "text": [
      "--2025-02-12 10:54:48--  https://images.autotrader.com/scaler/500/375/hn/c/fe3fd567d7c04bcbb3314e7c22eb5215.jpg\n",
      "Resolving images.autotrader.com (images.autotrader.com)... 2600:9000:201d:f400:6:249c:1640:93a1, 2600:9000:201d:9000:6:249c:1640:93a1, 2600:9000:201d:9400:6:249c:1640:93a1, ...\n",
      "Connecting to images.autotrader.com (images.autotrader.com)|2600:9000:201d:f400:6:249c:1640:93a1|:443... connected.\n",
      "HTTP request sent, awaiting response... 200 OK\n",
      "Length: 59925 (59K) [image/jpeg]\n",
      "Saving to: ‘/Users/levgolod/Projects/car_classifier/data/autotrader/vehicle_images/make-honda/model-odyssey/vehicle_id-736531071/fe3fd567d7c04bcbb3314e7c22eb5215.jpg’\n",
      "\n",
      "     0K .......... .......... .......... .......... .......... 85% 2.14M 0s\n",
      "    50K ........                                              100%  170K=0.02s\n",
      "\n",
      "2025-02-12 10:54:48 (2.50 MB/s) - ‘/Users/levgolod/Projects/car_classifier/data/autotrader/vehicle_images/make-honda/model-odyssey/vehicle_id-736531071/fe3fd567d7c04bcbb3314e7c22eb5215.jpg’ saved [59925/59925]\n",
      "\n"
     ]
    },
    {
     "name": "stdout",
     "output_type": "stream",
     "text": [
      "wget -nc -O \"/Users/levgolod/Projects/car_classifier/data/autotrader/vehicle_images/make-honda/model-odyssey/vehicle_id-736531071/3f3ffaaa54b545a8a625794069610d88.jpg\" \"https://images.autotrader.com/scaler/500/375/hn/c/3f3ffaaa54b545a8a625794069610d88.jpg\" \n"
     ]
    },
    {
     "name": "stderr",
     "output_type": "stream",
     "text": [
      "--2025-02-12 10:54:50--  https://images.autotrader.com/scaler/500/375/hn/c/3f3ffaaa54b545a8a625794069610d88.jpg\n",
      "Resolving images.autotrader.com (images.autotrader.com)... 2600:9000:201d:f400:6:249c:1640:93a1, 2600:9000:201d:9000:6:249c:1640:93a1, 2600:9000:201d:9400:6:249c:1640:93a1, ...\n",
      "Connecting to images.autotrader.com (images.autotrader.com)|2600:9000:201d:f400:6:249c:1640:93a1|:443... connected.\n",
      "HTTP request sent, awaiting response... 200 OK\n",
      "Length: 52138 (51K) [image/jpeg]\n",
      "Saving to: ‘/Users/levgolod/Projects/car_classifier/data/autotrader/vehicle_images/make-honda/model-odyssey/vehicle_id-736531071/3f3ffaaa54b545a8a625794069610d88.jpg’\n",
      "\n",
      "     0K .......... .......... .......... .......... .......... 98% 2.77M 0s\n",
      "    50K                                                       100% 18.3K=0.02s\n",
      "\n",
      "2025-02-12 10:54:51 (2.82 MB/s) - ‘/Users/levgolod/Projects/car_classifier/data/autotrader/vehicle_images/make-honda/model-odyssey/vehicle_id-736531071/3f3ffaaa54b545a8a625794069610d88.jpg’ saved [52138/52138]\n",
      "\n"
     ]
    },
    {
     "name": "stdout",
     "output_type": "stream",
     "text": [
      "wget -nc -O \"/Users/levgolod/Projects/car_classifier/data/autotrader/vehicle_images/make-honda/model-odyssey/vehicle_id-736531071/4e610250ffd441eebc9e36889f72b10f.jpg\" \"https://images.autotrader.com/scaler/500/375/hn/c/4e610250ffd441eebc9e36889f72b10f.jpg\" \n"
     ]
    },
    {
     "name": "stderr",
     "output_type": "stream",
     "text": [
      "--2025-02-12 10:54:53--  https://images.autotrader.com/scaler/500/375/hn/c/4e610250ffd441eebc9e36889f72b10f.jpg\n",
      "Resolving images.autotrader.com (images.autotrader.com)... 2600:9000:201d:f400:6:249c:1640:93a1, 2600:9000:201d:9000:6:249c:1640:93a1, 2600:9000:201d:9400:6:249c:1640:93a1, ...\n",
      "Connecting to images.autotrader.com (images.autotrader.com)|2600:9000:201d:f400:6:249c:1640:93a1|:443... connected.\n",
      "HTTP request sent, awaiting response... 200 OK\n",
      "Length: 50673 (49K) [image/jpeg]\n",
      "Saving to: ‘/Users/levgolod/Projects/car_classifier/data/autotrader/vehicle_images/make-honda/model-odyssey/vehicle_id-736531071/4e610250ffd441eebc9e36889f72b10f.jpg’\n",
      "\n",
      "     0K .......... .......... .......... .......... ......... 100% 3.02M=0.02s\n",
      "\n",
      "2025-02-12 10:54:53 (3.02 MB/s) - ‘/Users/levgolod/Projects/car_classifier/data/autotrader/vehicle_images/make-honda/model-odyssey/vehicle_id-736531071/4e610250ffd441eebc9e36889f72b10f.jpg’ saved [50673/50673]\n",
      "\n"
     ]
    },
    {
     "name": "stdout",
     "output_type": "stream",
     "text": [
      "wget -nc -O \"/Users/levgolod/Projects/car_classifier/data/autotrader/vehicle_images/make-honda/model-odyssey/vehicle_id-736531071/34681f660aa848a58405b20c70be5859.jpg\" \"https://images.autotrader.com/scaler/500/375/hn/c/34681f660aa848a58405b20c70be5859.jpg\" \n"
     ]
    },
    {
     "name": "stderr",
     "output_type": "stream",
     "text": [
      "--2025-02-12 10:54:55--  https://images.autotrader.com/scaler/500/375/hn/c/34681f660aa848a58405b20c70be5859.jpg\n",
      "Resolving images.autotrader.com (images.autotrader.com)... 2600:9000:201d:f400:6:249c:1640:93a1, 2600:9000:201d:9000:6:249c:1640:93a1, 2600:9000:201d:9400:6:249c:1640:93a1, ...\n",
      "Connecting to images.autotrader.com (images.autotrader.com)|2600:9000:201d:f400:6:249c:1640:93a1|:443... connected.\n",
      "HTTP request sent, awaiting response... 200 OK\n",
      "Length: 50783 (50K) [image/jpeg]\n",
      "Saving to: ‘/Users/levgolod/Projects/car_classifier/data/autotrader/vehicle_images/make-honda/model-odyssey/vehicle_id-736531071/34681f660aa848a58405b20c70be5859.jpg’\n",
      "\n",
      "     0K .......... .......... .......... .......... ......... 100% 2.44M=0.02s\n",
      "\n",
      "2025-02-12 10:54:55 (2.44 MB/s) - ‘/Users/levgolod/Projects/car_classifier/data/autotrader/vehicle_images/make-honda/model-odyssey/vehicle_id-736531071/34681f660aa848a58405b20c70be5859.jpg’ saved [50783/50783]\n",
      "\n"
     ]
    },
    {
     "name": "stdout",
     "output_type": "stream",
     "text": [
      "wget -nc -O \"/Users/levgolod/Projects/car_classifier/data/autotrader/vehicle_images/make-honda/model-odyssey/vehicle_id-736531071/e0dc5b8db551445b922a5a3c5095dca8.jpg\" \"https://images.autotrader.com/scaler/500/375/hn/c/e0dc5b8db551445b922a5a3c5095dca8.jpg\" \n"
     ]
    },
    {
     "name": "stderr",
     "output_type": "stream",
     "text": [
      "--2025-02-12 10:54:57--  https://images.autotrader.com/scaler/500/375/hn/c/e0dc5b8db551445b922a5a3c5095dca8.jpg\n",
      "Resolving images.autotrader.com (images.autotrader.com)... 2600:9000:201d:f400:6:249c:1640:93a1, 2600:9000:201d:9000:6:249c:1640:93a1, 2600:9000:201d:9400:6:249c:1640:93a1, ...\n",
      "Connecting to images.autotrader.com (images.autotrader.com)|2600:9000:201d:f400:6:249c:1640:93a1|:443... connected.\n",
      "HTTP request sent, awaiting response... 200 OK\n",
      "Length: 40172 (39K) [image/jpeg]\n",
      "Saving to: ‘/Users/levgolod/Projects/car_classifier/data/autotrader/vehicle_images/make-honda/model-odyssey/vehicle_id-736531071/e0dc5b8db551445b922a5a3c5095dca8.jpg’\n",
      "\n",
      "     0K .......... .......... .......... .........            100% 2.11M=0.02s\n",
      "\n",
      "2025-02-12 10:54:57 (2.11 MB/s) - ‘/Users/levgolod/Projects/car_classifier/data/autotrader/vehicle_images/make-honda/model-odyssey/vehicle_id-736531071/e0dc5b8db551445b922a5a3c5095dca8.jpg’ saved [40172/40172]\n",
      "\n"
     ]
    },
    {
     "name": "stdout",
     "output_type": "stream",
     "text": [
      "wget -nc -O \"/Users/levgolod/Projects/car_classifier/data/autotrader/vehicle_images/make-honda/model-odyssey/vehicle_id-736531071/b182bc4d512f4cb799e3f4f5c4ee5ea1.jpg\" \"https://images.autotrader.com/scaler/500/375/hn/c/b182bc4d512f4cb799e3f4f5c4ee5ea1.jpg\" \n"
     ]
    },
    {
     "name": "stderr",
     "output_type": "stream",
     "text": [
      "--2025-02-12 10:55:00--  https://images.autotrader.com/scaler/500/375/hn/c/b182bc4d512f4cb799e3f4f5c4ee5ea1.jpg\n",
      "Resolving images.autotrader.com (images.autotrader.com)... 2600:9000:201d:f400:6:249c:1640:93a1, 2600:9000:201d:9000:6:249c:1640:93a1, 2600:9000:201d:9400:6:249c:1640:93a1, ...\n",
      "Connecting to images.autotrader.com (images.autotrader.com)|2600:9000:201d:f400:6:249c:1640:93a1|:443... connected.\n",
      "HTTP request sent, awaiting response... 200 OK\n",
      "Length: 47502 (46K) [image/jpeg]\n",
      "Saving to: ‘/Users/levgolod/Projects/car_classifier/data/autotrader/vehicle_images/make-honda/model-odyssey/vehicle_id-736531071/b182bc4d512f4cb799e3f4f5c4ee5ea1.jpg’\n",
      "\n",
      "     0K .......... .......... .......... .......... ......    100% 2.53M=0.02s\n",
      "\n",
      "2025-02-12 10:55:00 (2.53 MB/s) - ‘/Users/levgolod/Projects/car_classifier/data/autotrader/vehicle_images/make-honda/model-odyssey/vehicle_id-736531071/b182bc4d512f4cb799e3f4f5c4ee5ea1.jpg’ saved [47502/47502]\n",
      "\n"
     ]
    },
    {
     "name": "stdout",
     "output_type": "stream",
     "text": [
      "wget -nc -O \"/Users/levgolod/Projects/car_classifier/data/autotrader/vehicle_images/make-honda/model-odyssey/vehicle_id-736531071/05cb798666914398abb62409af449f73.jpg\" \"https://images.autotrader.com/scaler/500/375/hn/c/05cb798666914398abb62409af449f73.jpg\" \n"
     ]
    },
    {
     "name": "stderr",
     "output_type": "stream",
     "text": [
      "--2025-02-12 10:55:02--  https://images.autotrader.com/scaler/500/375/hn/c/05cb798666914398abb62409af449f73.jpg\n",
      "Resolving images.autotrader.com (images.autotrader.com)... 2600:9000:201d:f400:6:249c:1640:93a1, 2600:9000:201d:9000:6:249c:1640:93a1, 2600:9000:201d:9400:6:249c:1640:93a1, ...\n",
      "Connecting to images.autotrader.com (images.autotrader.com)|2600:9000:201d:f400:6:249c:1640:93a1|:443... connected.\n",
      "HTTP request sent, awaiting response... 200 OK\n",
      "Length: 53898 (53K) [image/jpeg]\n",
      "Saving to: ‘/Users/levgolod/Projects/car_classifier/data/autotrader/vehicle_images/make-honda/model-odyssey/vehicle_id-736531071/05cb798666914398abb62409af449f73.jpg’\n",
      "\n",
      "     0K .......... .......... .......... .......... .......... 94% 2.21M 0s\n",
      "    50K ..                                                    100% 52.7K=0.02s\n",
      "\n",
      "2025-02-12 10:55:02 (2.32 MB/s) - ‘/Users/levgolod/Projects/car_classifier/data/autotrader/vehicle_images/make-honda/model-odyssey/vehicle_id-736531071/05cb798666914398abb62409af449f73.jpg’ saved [53898/53898]\n",
      "\n"
     ]
    },
    {
     "name": "stdout",
     "output_type": "stream",
     "text": [
      "wget -nc -O \"/Users/levgolod/Projects/car_classifier/data/autotrader/vehicle_images/make-honda/model-odyssey/vehicle_id-736531071/e8e230d3366c43af8c7ca750489e5497.jpg\" \"https://images.autotrader.com/scaler/500/375/hn/c/e8e230d3366c43af8c7ca750489e5497.jpg\" \n"
     ]
    },
    {
     "name": "stderr",
     "output_type": "stream",
     "text": [
      "--2025-02-12 10:55:04--  https://images.autotrader.com/scaler/500/375/hn/c/e8e230d3366c43af8c7ca750489e5497.jpg\n",
      "Resolving images.autotrader.com (images.autotrader.com)... 2600:9000:201d:f400:6:249c:1640:93a1, 2600:9000:201d:9000:6:249c:1640:93a1, 2600:9000:201d:9400:6:249c:1640:93a1, ...\n",
      "Connecting to images.autotrader.com (images.autotrader.com)|2600:9000:201d:f400:6:249c:1640:93a1|:443... connected.\n",
      "HTTP request sent, awaiting response... 200 OK\n",
      "Length: 38461 (38K) [image/jpeg]\n",
      "Saving to: ‘/Users/levgolod/Projects/car_classifier/data/autotrader/vehicle_images/make-honda/model-odyssey/vehicle_id-736531071/e8e230d3366c43af8c7ca750489e5497.jpg’\n",
      "\n",
      "     0K .......... .......... .......... .......              100% 3.43M=0.01s\n",
      "\n",
      "2025-02-12 10:55:04 (3.43 MB/s) - ‘/Users/levgolod/Projects/car_classifier/data/autotrader/vehicle_images/make-honda/model-odyssey/vehicle_id-736531071/e8e230d3366c43af8c7ca750489e5497.jpg’ saved [38461/38461]\n",
      "\n"
     ]
    },
    {
     "name": "stdout",
     "output_type": "stream",
     "text": [
      "wget -nc -O \"/Users/levgolod/Projects/car_classifier/data/autotrader/vehicle_images/make-honda/model-odyssey/vehicle_id-736531071/57d755e4f993403d8e9978b8f87d7a81.jpg\" \"https://images.autotrader.com/scaler/500/375/hn/c/57d755e4f993403d8e9978b8f87d7a81.jpg\" \n"
     ]
    },
    {
     "name": "stderr",
     "output_type": "stream",
     "text": [
      "--2025-02-12 10:55:06--  https://images.autotrader.com/scaler/500/375/hn/c/57d755e4f993403d8e9978b8f87d7a81.jpg\n",
      "Resolving images.autotrader.com (images.autotrader.com)... 2600:9000:201d:f400:6:249c:1640:93a1, 2600:9000:201d:9000:6:249c:1640:93a1, 2600:9000:201d:9400:6:249c:1640:93a1, ...\n",
      "Connecting to images.autotrader.com (images.autotrader.com)|2600:9000:201d:f400:6:249c:1640:93a1|:443... connected.\n",
      "HTTP request sent, awaiting response... 200 OK\n",
      "Length: 47717 (47K) [image/jpeg]\n",
      "Saving to: ‘/Users/levgolod/Projects/car_classifier/data/autotrader/vehicle_images/make-honda/model-odyssey/vehicle_id-736531071/57d755e4f993403d8e9978b8f87d7a81.jpg’\n",
      "\n",
      "     0K .......... .......... .......... .......... ......    100% 2.30M=0.02s\n",
      "\n",
      "2025-02-12 10:55:07 (2.30 MB/s) - ‘/Users/levgolod/Projects/car_classifier/data/autotrader/vehicle_images/make-honda/model-odyssey/vehicle_id-736531071/57d755e4f993403d8e9978b8f87d7a81.jpg’ saved [47717/47717]\n",
      "\n"
     ]
    },
    {
     "name": "stdout",
     "output_type": "stream",
     "text": [
      "wget -nc -O \"/Users/levgolod/Projects/car_classifier/data/autotrader/vehicle_images/make-honda/model-odyssey/vehicle_id-736531071/495a66e6af924d3288aa634d515b58c8.jpg\" \"https://images.autotrader.com/scaler/500/375/hn/c/495a66e6af924d3288aa634d515b58c8.jpg\" \n"
     ]
    },
    {
     "name": "stderr",
     "output_type": "stream",
     "text": [
      "--2025-02-12 10:55:09--  https://images.autotrader.com/scaler/500/375/hn/c/495a66e6af924d3288aa634d515b58c8.jpg\n",
      "Resolving images.autotrader.com (images.autotrader.com)... 2600:9000:201d:f400:6:249c:1640:93a1, 2600:9000:201d:9000:6:249c:1640:93a1, 2600:9000:201d:9400:6:249c:1640:93a1, ...\n",
      "Connecting to images.autotrader.com (images.autotrader.com)|2600:9000:201d:f400:6:249c:1640:93a1|:443... connected.\n",
      "HTTP request sent, awaiting response... 200 OK\n",
      "Length: 52411 (51K) [image/jpeg]\n",
      "Saving to: ‘/Users/levgolod/Projects/car_classifier/data/autotrader/vehicle_images/make-honda/model-odyssey/vehicle_id-736531071/495a66e6af924d3288aa634d515b58c8.jpg’\n",
      "\n",
      "     0K .......... .......... .......... .......... .......... 97% 2.60M 0s\n",
      "    50K .                                                     100% 23.7K=0.02s\n",
      "\n",
      "2025-02-12 10:55:09 (2.66 MB/s) - ‘/Users/levgolod/Projects/car_classifier/data/autotrader/vehicle_images/make-honda/model-odyssey/vehicle_id-736531071/495a66e6af924d3288aa634d515b58c8.jpg’ saved [52411/52411]\n",
      "\n"
     ]
    },
    {
     "name": "stdout",
     "output_type": "stream",
     "text": [
      "wget -nc -O \"/Users/levgolod/Projects/car_classifier/data/autotrader/vehicle_images/make-honda/model-odyssey/vehicle_id-736531071/17b597784aac449e891cdd4e73c21926.jpg\" \"https://images.autotrader.com/scaler/500/375/hn/c/17b597784aac449e891cdd4e73c21926.jpg\" \n"
     ]
    },
    {
     "name": "stderr",
     "output_type": "stream",
     "text": [
      "--2025-02-12 10:55:11--  https://images.autotrader.com/scaler/500/375/hn/c/17b597784aac449e891cdd4e73c21926.jpg\n",
      "Resolving images.autotrader.com (images.autotrader.com)... 2600:9000:201d:f400:6:249c:1640:93a1, 2600:9000:201d:9000:6:249c:1640:93a1, 2600:9000:201d:9400:6:249c:1640:93a1, ...\n",
      "Connecting to images.autotrader.com (images.autotrader.com)|2600:9000:201d:f400:6:249c:1640:93a1|:443... connected.\n",
      "HTTP request sent, awaiting response... 200 OK\n",
      "Length: 51181 (50K) [image/jpeg]\n",
      "Saving to: ‘/Users/levgolod/Projects/car_classifier/data/autotrader/vehicle_images/make-honda/model-odyssey/vehicle_id-736531071/17b597784aac449e891cdd4e73c21926.jpg’\n",
      "\n",
      "     0K .......... .......... .......... .......... ......... 100% 1.95M=0.03s\n",
      "\n",
      "2025-02-12 10:55:11 (1.95 MB/s) - ‘/Users/levgolod/Projects/car_classifier/data/autotrader/vehicle_images/make-honda/model-odyssey/vehicle_id-736531071/17b597784aac449e891cdd4e73c21926.jpg’ saved [51181/51181]\n",
      "\n"
     ]
    },
    {
     "name": "stdout",
     "output_type": "stream",
     "text": [
      "wget -nc -O \"/Users/levgolod/Projects/car_classifier/data/autotrader/vehicle_images/make-honda/model-odyssey/vehicle_id-736531071/d20a8d07a0074862ac9e8dca97b5942e.jpg\" \"https://images.autotrader.com/scaler/500/375/hn/c/d20a8d07a0074862ac9e8dca97b5942e.jpg\" \n"
     ]
    },
    {
     "name": "stderr",
     "output_type": "stream",
     "text": [
      "--2025-02-12 10:55:13--  https://images.autotrader.com/scaler/500/375/hn/c/d20a8d07a0074862ac9e8dca97b5942e.jpg\n",
      "Resolving images.autotrader.com (images.autotrader.com)... 2600:9000:201d:f400:6:249c:1640:93a1, 2600:9000:201d:9000:6:249c:1640:93a1, 2600:9000:201d:9400:6:249c:1640:93a1, ...\n",
      "Connecting to images.autotrader.com (images.autotrader.com)|2600:9000:201d:f400:6:249c:1640:93a1|:443... connected.\n",
      "HTTP request sent, awaiting response... 200 OK\n",
      "Length: 53749 (52K) [image/jpeg]\n",
      "Saving to: ‘/Users/levgolod/Projects/car_classifier/data/autotrader/vehicle_images/make-honda/model-odyssey/vehicle_id-736531071/d20a8d07a0074862ac9e8dca97b5942e.jpg’\n",
      "\n",
      "     0K .......... .......... .......... .......... .......... 95% 1.03M 0s\n",
      "    50K ..                                                    100% 18.0M=0.05s\n",
      "\n",
      "2025-02-12 10:55:14 (1.08 MB/s) - ‘/Users/levgolod/Projects/car_classifier/data/autotrader/vehicle_images/make-honda/model-odyssey/vehicle_id-736531071/d20a8d07a0074862ac9e8dca97b5942e.jpg’ saved [53749/53749]\n",
      "\n"
     ]
    },
    {
     "name": "stdout",
     "output_type": "stream",
     "text": [
      "wget -nc -O \"/Users/levgolod/Projects/car_classifier/data/autotrader/vehicle_images/make-honda/model-odyssey/vehicle_id-736531071/b61ee012836443a6bfcc38dbcd44d22d.jpg\" \"https://images.autotrader.com/scaler/500/375/hn/c/b61ee012836443a6bfcc38dbcd44d22d.jpg\" \n"
     ]
    },
    {
     "name": "stderr",
     "output_type": "stream",
     "text": [
      "--2025-02-12 10:55:16--  https://images.autotrader.com/scaler/500/375/hn/c/b61ee012836443a6bfcc38dbcd44d22d.jpg\n",
      "Resolving images.autotrader.com (images.autotrader.com)... 2600:9000:201d:f400:6:249c:1640:93a1, 2600:9000:201d:9000:6:249c:1640:93a1, 2600:9000:201d:9400:6:249c:1640:93a1, ...\n",
      "Connecting to images.autotrader.com (images.autotrader.com)|2600:9000:201d:f400:6:249c:1640:93a1|:443... connected.\n",
      "HTTP request sent, awaiting response... 200 OK\n",
      "Length: 50759 (50K) [image/jpeg]\n",
      "Saving to: ‘/Users/levgolod/Projects/car_classifier/data/autotrader/vehicle_images/make-honda/model-odyssey/vehicle_id-736531071/b61ee012836443a6bfcc38dbcd44d22d.jpg’\n",
      "\n",
      "     0K .......... .......... .......... .......... ......... 100% 1.67M=0.03s\n",
      "\n",
      "2025-02-12 10:55:16 (1.67 MB/s) - ‘/Users/levgolod/Projects/car_classifier/data/autotrader/vehicle_images/make-honda/model-odyssey/vehicle_id-736531071/b61ee012836443a6bfcc38dbcd44d22d.jpg’ saved [50759/50759]\n",
      "\n"
     ]
    },
    {
     "name": "stdout",
     "output_type": "stream",
     "text": [
      "wget -nc -O \"/Users/levgolod/Projects/car_classifier/data/autotrader/vehicle_images/make-honda/model-odyssey/vehicle_id-736531071/d65d0e0fc55446639fa6da33ac7eaa40.jpg\" \"https://images.autotrader.com/scaler/500/375/hn/c/d65d0e0fc55446639fa6da33ac7eaa40.jpg\" \n"
     ]
    },
    {
     "name": "stderr",
     "output_type": "stream",
     "text": [
      "--2025-02-12 10:55:18--  https://images.autotrader.com/scaler/500/375/hn/c/d65d0e0fc55446639fa6da33ac7eaa40.jpg\n",
      "Resolving images.autotrader.com (images.autotrader.com)... 2600:9000:201d:f400:6:249c:1640:93a1, 2600:9000:201d:9000:6:249c:1640:93a1, 2600:9000:201d:9400:6:249c:1640:93a1, ...\n",
      "Connecting to images.autotrader.com (images.autotrader.com)|2600:9000:201d:f400:6:249c:1640:93a1|:443... connected.\n",
      "HTTP request sent, awaiting response... 200 OK\n",
      "Length: 35314 (34K) [image/jpeg]\n",
      "Saving to: ‘/Users/levgolod/Projects/car_classifier/data/autotrader/vehicle_images/make-honda/model-odyssey/vehicle_id-736531071/d65d0e0fc55446639fa6da33ac7eaa40.jpg’\n",
      "\n",
      "     0K .......... .......... .......... ....                 100% 3.76M=0.009s\n",
      "\n",
      "2025-02-12 10:55:18 (3.76 MB/s) - ‘/Users/levgolod/Projects/car_classifier/data/autotrader/vehicle_images/make-honda/model-odyssey/vehicle_id-736531071/d65d0e0fc55446639fa6da33ac7eaa40.jpg’ saved [35314/35314]\n",
      "\n"
     ]
    },
    {
     "name": "stdout",
     "output_type": "stream",
     "text": [
      "wget -nc -O \"/Users/levgolod/Projects/car_classifier/data/autotrader/vehicle_images/make-honda/model-odyssey/vehicle_id-736531071/e176c005a1b143c4a0a1c28dc104503b.jpg\" \"https://images.autotrader.com/scaler/500/375/hn/c/e176c005a1b143c4a0a1c28dc104503b.jpg\" \n"
     ]
    },
    {
     "name": "stderr",
     "output_type": "stream",
     "text": [
      "--2025-02-12 10:55:20--  https://images.autotrader.com/scaler/500/375/hn/c/e176c005a1b143c4a0a1c28dc104503b.jpg\n",
      "Resolving images.autotrader.com (images.autotrader.com)... 2600:9000:201d:f400:6:249c:1640:93a1, 2600:9000:201d:9000:6:249c:1640:93a1, 2600:9000:201d:9400:6:249c:1640:93a1, ...\n",
      "Connecting to images.autotrader.com (images.autotrader.com)|2600:9000:201d:f400:6:249c:1640:93a1|:443... connected.\n",
      "HTTP request sent, awaiting response... 200 OK\n",
      "Length: 47645 (47K) [image/jpeg]\n",
      "Saving to: ‘/Users/levgolod/Projects/car_classifier/data/autotrader/vehicle_images/make-honda/model-odyssey/vehicle_id-736531071/e176c005a1b143c4a0a1c28dc104503b.jpg’\n",
      "\n",
      "     0K .......... .......... .......... .......... ......    100% 2.67M=0.02s\n",
      "\n",
      "2025-02-12 10:55:21 (2.67 MB/s) - ‘/Users/levgolod/Projects/car_classifier/data/autotrader/vehicle_images/make-honda/model-odyssey/vehicle_id-736531071/e176c005a1b143c4a0a1c28dc104503b.jpg’ saved [47645/47645]\n",
      "\n"
     ]
    },
    {
     "name": "stdout",
     "output_type": "stream",
     "text": [
      "wget -nc -O \"/Users/levgolod/Projects/car_classifier/data/autotrader/vehicle_images/make-honda/model-odyssey/vehicle_id-736531071/7af34986da9847f8ad5be99788cd8867.jpg\" \"https://images.autotrader.com/scaler/500/375/hn/c/7af34986da9847f8ad5be99788cd8867.jpg\" \n"
     ]
    },
    {
     "name": "stderr",
     "output_type": "stream",
     "text": [
      "--2025-02-12 10:55:23--  https://images.autotrader.com/scaler/500/375/hn/c/7af34986da9847f8ad5be99788cd8867.jpg\n",
      "Resolving images.autotrader.com (images.autotrader.com)... 2600:9000:201d:f400:6:249c:1640:93a1, 2600:9000:201d:9000:6:249c:1640:93a1, 2600:9000:201d:9400:6:249c:1640:93a1, ...\n",
      "Connecting to images.autotrader.com (images.autotrader.com)|2600:9000:201d:f400:6:249c:1640:93a1|:443... connected.\n",
      "HTTP request sent, awaiting response... 200 OK\n",
      "Length: 44515 (43K) [image/jpeg]\n",
      "Saving to: ‘/Users/levgolod/Projects/car_classifier/data/autotrader/vehicle_images/make-honda/model-odyssey/vehicle_id-736531071/7af34986da9847f8ad5be99788cd8867.jpg’\n",
      "\n",
      "     0K .......... .......... .......... .......... ...       100% 2.06M=0.02s\n",
      "\n",
      "2025-02-12 10:55:23 (2.06 MB/s) - ‘/Users/levgolod/Projects/car_classifier/data/autotrader/vehicle_images/make-honda/model-odyssey/vehicle_id-736531071/7af34986da9847f8ad5be99788cd8867.jpg’ saved [44515/44515]\n",
      "\n"
     ]
    },
    {
     "name": "stdout",
     "output_type": "stream",
     "text": [
      "wget -nc -O \"/Users/levgolod/Projects/car_classifier/data/autotrader/vehicle_images/make-honda/model-odyssey/vehicle_id-736531071/8186cd360d614f40bf465eaff7a638ef.jpg\" \"https://images.autotrader.com/scaler/500/375/hn/c/8186cd360d614f40bf465eaff7a638ef.jpg\" \n"
     ]
    },
    {
     "name": "stderr",
     "output_type": "stream",
     "text": [
      "--2025-02-12 10:55:25--  https://images.autotrader.com/scaler/500/375/hn/c/8186cd360d614f40bf465eaff7a638ef.jpg\n",
      "Resolving images.autotrader.com (images.autotrader.com)... 2600:9000:201d:f400:6:249c:1640:93a1, 2600:9000:201d:9000:6:249c:1640:93a1, 2600:9000:201d:9400:6:249c:1640:93a1, ...\n",
      "Connecting to images.autotrader.com (images.autotrader.com)|2600:9000:201d:f400:6:249c:1640:93a1|:443... connected.\n",
      "HTTP request sent, awaiting response... 200 OK\n",
      "Length: 36510 (36K) [image/jpeg]\n",
      "Saving to: ‘/Users/levgolod/Projects/car_classifier/data/autotrader/vehicle_images/make-honda/model-odyssey/vehicle_id-736531071/8186cd360d614f40bf465eaff7a638ef.jpg’\n",
      "\n",
      "     0K .......... .......... .......... .....                100% 3.75M=0.009s\n",
      "\n",
      "2025-02-12 10:55:25 (3.75 MB/s) - ‘/Users/levgolod/Projects/car_classifier/data/autotrader/vehicle_images/make-honda/model-odyssey/vehicle_id-736531071/8186cd360d614f40bf465eaff7a638ef.jpg’ saved [36510/36510]\n",
      "\n"
     ]
    },
    {
     "name": "stdout",
     "output_type": "stream",
     "text": [
      "wget -nc -O \"/Users/levgolod/Projects/car_classifier/data/autotrader/vehicle_images/make-honda/model-odyssey/vehicle_id-736531071/4b63c5084fde41bba637415686cb8d37.jpg\" \"https://images.autotrader.com/scaler/500/375/hn/c/4b63c5084fde41bba637415686cb8d37.jpg\" \n"
     ]
    },
    {
     "name": "stderr",
     "output_type": "stream",
     "text": [
      "--2025-02-12 10:55:27--  https://images.autotrader.com/scaler/500/375/hn/c/4b63c5084fde41bba637415686cb8d37.jpg\n",
      "Resolving images.autotrader.com (images.autotrader.com)... 2600:9000:201d:f400:6:249c:1640:93a1, 2600:9000:201d:9000:6:249c:1640:93a1, 2600:9000:201d:9400:6:249c:1640:93a1, ...\n",
      "Connecting to images.autotrader.com (images.autotrader.com)|2600:9000:201d:f400:6:249c:1640:93a1|:443... connected.\n",
      "HTTP request sent, awaiting response... 200 OK\n",
      "Length: 49896 (49K) [image/jpeg]\n",
      "Saving to: ‘/Users/levgolod/Projects/car_classifier/data/autotrader/vehicle_images/make-honda/model-odyssey/vehicle_id-736531071/4b63c5084fde41bba637415686cb8d37.jpg’\n",
      "\n",
      "     0K .......... .......... .......... .......... ........  100% 2.09M=0.02s\n",
      "\n",
      "2025-02-12 10:55:28 (2.09 MB/s) - ‘/Users/levgolod/Projects/car_classifier/data/autotrader/vehicle_images/make-honda/model-odyssey/vehicle_id-736531071/4b63c5084fde41bba637415686cb8d37.jpg’ saved [49896/49896]\n",
      "\n"
     ]
    },
    {
     "name": "stdout",
     "output_type": "stream",
     "text": [
      "wget -nc -O \"/Users/levgolod/Projects/car_classifier/data/autotrader/vehicle_images/make-honda/model-odyssey/vehicle_id-736531071/403a7403fd7b46bfb463cbf0f2566074.jpg\" \"https://images.autotrader.com/scaler/500/375/hn/c/403a7403fd7b46bfb463cbf0f2566074.jpg\" \n"
     ]
    },
    {
     "name": "stderr",
     "output_type": "stream",
     "text": [
      "--2025-02-12 10:55:30--  https://images.autotrader.com/scaler/500/375/hn/c/403a7403fd7b46bfb463cbf0f2566074.jpg\n",
      "Resolving images.autotrader.com (images.autotrader.com)... 2600:9000:201d:f400:6:249c:1640:93a1, 2600:9000:201d:9000:6:249c:1640:93a1, 2600:9000:201d:9400:6:249c:1640:93a1, ...\n",
      "Connecting to images.autotrader.com (images.autotrader.com)|2600:9000:201d:f400:6:249c:1640:93a1|:443... connected.\n",
      "HTTP request sent, awaiting response... 200 OK\n",
      "Length: 48728 (48K) [image/jpeg]\n",
      "Saving to: ‘/Users/levgolod/Projects/car_classifier/data/autotrader/vehicle_images/make-honda/model-odyssey/vehicle_id-736531071/403a7403fd7b46bfb463cbf0f2566074.jpg’\n",
      "\n",
      "     0K .......... .......... .......... .......... .......   100% 3.05M=0.02s\n",
      "\n",
      "2025-02-12 10:55:30 (3.05 MB/s) - ‘/Users/levgolod/Projects/car_classifier/data/autotrader/vehicle_images/make-honda/model-odyssey/vehicle_id-736531071/403a7403fd7b46bfb463cbf0f2566074.jpg’ saved [48728/48728]\n",
      "\n"
     ]
    },
    {
     "name": "stdout",
     "output_type": "stream",
     "text": [
      "wget -nc -O \"/Users/levgolod/Projects/car_classifier/data/autotrader/vehicle_images/make-honda/model-odyssey/vehicle_id-736531071/e5de4e92a2754d0b965dce4b07ee2d30.jpg\" \"https://images.autotrader.com/scaler/500/375/hn/c/e5de4e92a2754d0b965dce4b07ee2d30.jpg\" \n"
     ]
    },
    {
     "name": "stderr",
     "output_type": "stream",
     "text": [
      "--2025-02-12 10:55:32--  https://images.autotrader.com/scaler/500/375/hn/c/e5de4e92a2754d0b965dce4b07ee2d30.jpg\n",
      "Resolving images.autotrader.com (images.autotrader.com)... 2600:9000:201d:f400:6:249c:1640:93a1, 2600:9000:201d:9000:6:249c:1640:93a1, 2600:9000:201d:9400:6:249c:1640:93a1, ...\n",
      "Connecting to images.autotrader.com (images.autotrader.com)|2600:9000:201d:f400:6:249c:1640:93a1|:443... connected.\n",
      "HTTP request sent, awaiting response... 200 OK\n",
      "Length: 53018 (52K) [image/jpeg]\n",
      "Saving to: ‘/Users/levgolod/Projects/car_classifier/data/autotrader/vehicle_images/make-honda/model-odyssey/vehicle_id-736531071/e5de4e92a2754d0b965dce4b07ee2d30.jpg’\n",
      "\n",
      "     0K .......... .......... .......... .......... .......... 96% 1.70M 0s\n",
      "    50K .                                                     100% 35.5K=0.03s\n",
      "\n",
      "2025-02-12 10:55:32 (1.76 MB/s) - ‘/Users/levgolod/Projects/car_classifier/data/autotrader/vehicle_images/make-honda/model-odyssey/vehicle_id-736531071/e5de4e92a2754d0b965dce4b07ee2d30.jpg’ saved [53018/53018]\n",
      "\n"
     ]
    },
    {
     "name": "stdout",
     "output_type": "stream",
     "text": [
      "wget -nc -O \"/Users/levgolod/Projects/car_classifier/data/autotrader/vehicle_images/make-honda/model-odyssey/vehicle_id-736531071/86dbdcaa485141cca3b0c3a1c3ece974.jpg\" \"https://images.autotrader.com/scaler/500/375/hn/c/86dbdcaa485141cca3b0c3a1c3ece974.jpg\" \n"
     ]
    },
    {
     "name": "stderr",
     "output_type": "stream",
     "text": [
      "--2025-02-12 10:55:34--  https://images.autotrader.com/scaler/500/375/hn/c/86dbdcaa485141cca3b0c3a1c3ece974.jpg\n",
      "Resolving images.autotrader.com (images.autotrader.com)... 2600:9000:201d:f400:6:249c:1640:93a1, 2600:9000:201d:9000:6:249c:1640:93a1, 2600:9000:201d:9400:6:249c:1640:93a1, ...\n",
      "Connecting to images.autotrader.com (images.autotrader.com)|2600:9000:201d:f400:6:249c:1640:93a1|:443... connected.\n",
      "HTTP request sent, awaiting response... 200 OK\n",
      "Length: 65874 (64K) [image/jpeg]\n",
      "Saving to: ‘/Users/levgolod/Projects/car_classifier/data/autotrader/vehicle_images/make-honda/model-odyssey/vehicle_id-736531071/86dbdcaa485141cca3b0c3a1c3ece974.jpg’\n",
      "\n",
      "     0K .......... .......... .......... .......... .......... 77% 1.97M 0s\n",
      "    50K .......... ....                                       100% 18.4M=0.03s\n",
      "\n",
      "2025-02-12 10:55:35 (2.46 MB/s) - ‘/Users/levgolod/Projects/car_classifier/data/autotrader/vehicle_images/make-honda/model-odyssey/vehicle_id-736531071/86dbdcaa485141cca3b0c3a1c3ece974.jpg’ saved [65874/65874]\n",
      "\n"
     ]
    },
    {
     "name": "stdout",
     "output_type": "stream",
     "text": [
      "wget -nc -O \"/Users/levgolod/Projects/car_classifier/data/autotrader/vehicle_images/make-honda/model-odyssey/vehicle_id-736531071/bbad7ccc882545939c4574c6713c7676.jpg\" \"https://images.autotrader.com/scaler/500/375/hn/c/bbad7ccc882545939c4574c6713c7676.jpg\" \n"
     ]
    },
    {
     "name": "stderr",
     "output_type": "stream",
     "text": [
      "--2025-02-12 10:55:37--  https://images.autotrader.com/scaler/500/375/hn/c/bbad7ccc882545939c4574c6713c7676.jpg\n",
      "Resolving images.autotrader.com (images.autotrader.com)... 2600:9000:201d:f400:6:249c:1640:93a1, 2600:9000:201d:9000:6:249c:1640:93a1, 2600:9000:201d:9400:6:249c:1640:93a1, ...\n",
      "Connecting to images.autotrader.com (images.autotrader.com)|2600:9000:201d:f400:6:249c:1640:93a1|:443... connected.\n",
      "HTTP request sent, awaiting response... 200 OK\n",
      "Length: 56678 (55K) [image/jpeg]\n",
      "Saving to: ‘/Users/levgolod/Projects/car_classifier/data/autotrader/vehicle_images/make-honda/model-odyssey/vehicle_id-736531071/bbad7ccc882545939c4574c6713c7676.jpg’\n",
      "\n",
      "     0K .......... .......... .......... .......... .......... 90% 2.23M 0s\n",
      "    50K .....                                                 100%  107K=0.02s\n",
      "\n",
      "2025-02-12 10:55:37 (2.47 MB/s) - ‘/Users/levgolod/Projects/car_classifier/data/autotrader/vehicle_images/make-honda/model-odyssey/vehicle_id-736531071/bbad7ccc882545939c4574c6713c7676.jpg’ saved [56678/56678]\n",
      "\n"
     ]
    },
    {
     "name": "stdout",
     "output_type": "stream",
     "text": [
      "wget -nc -O \"/Users/levgolod/Projects/car_classifier/data/autotrader/vehicle_images/make-honda/model-odyssey/vehicle_id-736531071/54356529e56244039d8a72d43a337d3a.jpg\" \"https://images.autotrader.com/scaler/500/375/hn/c/54356529e56244039d8a72d43a337d3a.jpg\" \n"
     ]
    },
    {
     "name": "stderr",
     "output_type": "stream",
     "text": [
      "--2025-02-12 10:55:39--  https://images.autotrader.com/scaler/500/375/hn/c/54356529e56244039d8a72d43a337d3a.jpg\n",
      "Resolving images.autotrader.com (images.autotrader.com)... 2600:9000:201d:f400:6:249c:1640:93a1, 2600:9000:201d:9000:6:249c:1640:93a1, 2600:9000:201d:9400:6:249c:1640:93a1, ...\n",
      "Connecting to images.autotrader.com (images.autotrader.com)|2600:9000:201d:f400:6:249c:1640:93a1|:443... connected.\n",
      "HTTP request sent, awaiting response... 200 OK\n",
      "Length: 38820 (38K) [image/jpeg]\n",
      "Saving to: ‘/Users/levgolod/Projects/car_classifier/data/autotrader/vehicle_images/make-honda/model-odyssey/vehicle_id-736531071/54356529e56244039d8a72d43a337d3a.jpg’\n",
      "\n",
      "     0K .......... .......... .......... .......              100% 2.89M=0.01s\n",
      "\n",
      "2025-02-12 10:55:39 (2.89 MB/s) - ‘/Users/levgolod/Projects/car_classifier/data/autotrader/vehicle_images/make-honda/model-odyssey/vehicle_id-736531071/54356529e56244039d8a72d43a337d3a.jpg’ saved [38820/38820]\n",
      "\n"
     ]
    },
    {
     "name": "stdout",
     "output_type": "stream",
     "text": [
      "wget -nc -O \"/Users/levgolod/Projects/car_classifier/data/autotrader/vehicle_images/make-honda/model-odyssey/vehicle_id-736531071/cf289308faa349709170948791da9acb.jpg\" \"https://images.autotrader.com/scaler/500/375/hn/c/cf289308faa349709170948791da9acb.jpg\" \n"
     ]
    },
    {
     "name": "stderr",
     "output_type": "stream",
     "text": [
      "--2025-02-12 10:55:41--  https://images.autotrader.com/scaler/500/375/hn/c/cf289308faa349709170948791da9acb.jpg\n",
      "Resolving images.autotrader.com (images.autotrader.com)... 2600:9000:201d:f400:6:249c:1640:93a1, 2600:9000:201d:9000:6:249c:1640:93a1, 2600:9000:201d:9400:6:249c:1640:93a1, ...\n",
      "Connecting to images.autotrader.com (images.autotrader.com)|2600:9000:201d:f400:6:249c:1640:93a1|:443... connected.\n",
      "HTTP request sent, awaiting response... 200 OK\n",
      "Length: 36541 (36K) [image/jpeg]\n",
      "Saving to: ‘/Users/levgolod/Projects/car_classifier/data/autotrader/vehicle_images/make-honda/model-odyssey/vehicle_id-736531071/cf289308faa349709170948791da9acb.jpg’\n",
      "\n",
      "     0K .......... .......... .......... .....                100% 2.05M=0.02s\n",
      "\n",
      "2025-02-12 10:55:42 (2.05 MB/s) - ‘/Users/levgolod/Projects/car_classifier/data/autotrader/vehicle_images/make-honda/model-odyssey/vehicle_id-736531071/cf289308faa349709170948791da9acb.jpg’ saved [36541/36541]\n",
      "\n"
     ]
    },
    {
     "name": "stdout",
     "output_type": "stream",
     "text": [
      "wget -nc -O \"/Users/levgolod/Projects/car_classifier/data/autotrader/vehicle_images/make-honda/model-odyssey/vehicle_id-736531071/850f5b2d8dec43cf99aad43745d3c7cb.jpg\" \"https://images.autotrader.com/scaler/500/375/hn/c/850f5b2d8dec43cf99aad43745d3c7cb.jpg\" \n"
     ]
    },
    {
     "name": "stderr",
     "output_type": "stream",
     "text": [
      "--2025-02-12 10:55:44--  https://images.autotrader.com/scaler/500/375/hn/c/850f5b2d8dec43cf99aad43745d3c7cb.jpg\n",
      "Resolving images.autotrader.com (images.autotrader.com)... 2600:9000:201d:f400:6:249c:1640:93a1, 2600:9000:201d:9000:6:249c:1640:93a1, 2600:9000:201d:9400:6:249c:1640:93a1, ...\n",
      "Connecting to images.autotrader.com (images.autotrader.com)|2600:9000:201d:f400:6:249c:1640:93a1|:443... connected.\n",
      "HTTP request sent, awaiting response... 200 OK\n",
      "Length: 49595 (48K) [image/jpeg]\n",
      "Saving to: ‘/Users/levgolod/Projects/car_classifier/data/autotrader/vehicle_images/make-honda/model-odyssey/vehicle_id-736531071/850f5b2d8dec43cf99aad43745d3c7cb.jpg’\n",
      "\n",
      "     0K .......... .......... .......... .......... ........  100% 2.14M=0.02s\n",
      "\n",
      "2025-02-12 10:55:44 (2.14 MB/s) - ‘/Users/levgolod/Projects/car_classifier/data/autotrader/vehicle_images/make-honda/model-odyssey/vehicle_id-736531071/850f5b2d8dec43cf99aad43745d3c7cb.jpg’ saved [49595/49595]\n",
      "\n"
     ]
    },
    {
     "name": "stdout",
     "output_type": "stream",
     "text": [
      "wget -nc -O \"/Users/levgolod/Projects/car_classifier/data/autotrader/vehicle_images/make-honda/model-odyssey/vehicle_id-736531071/a376f20d575a415091fd9bb28dbdb863.jpg\" \"https://images.autotrader.com/scaler/500/375/hn/c/a376f20d575a415091fd9bb28dbdb863.jpg\" \n"
     ]
    },
    {
     "name": "stderr",
     "output_type": "stream",
     "text": [
      "--2025-02-12 10:55:46--  https://images.autotrader.com/scaler/500/375/hn/c/a376f20d575a415091fd9bb28dbdb863.jpg\n",
      "Resolving images.autotrader.com (images.autotrader.com)... 2600:9000:201d:f400:6:249c:1640:93a1, 2600:9000:201d:9000:6:249c:1640:93a1, 2600:9000:201d:9400:6:249c:1640:93a1, ...\n",
      "Connecting to images.autotrader.com (images.autotrader.com)|2600:9000:201d:f400:6:249c:1640:93a1|:443... connected.\n",
      "HTTP request sent, awaiting response... 200 OK\n",
      "Length: 30675 (30K) [image/jpeg]\n",
      "Saving to: ‘/Users/levgolod/Projects/car_classifier/data/autotrader/vehicle_images/make-honda/model-odyssey/vehicle_id-736531071/a376f20d575a415091fd9bb28dbdb863.jpg’\n",
      "\n",
      "     0K .......... .......... .........                       100% 2.79M=0.01s\n",
      "\n",
      "2025-02-12 10:55:46 (2.79 MB/s) - ‘/Users/levgolod/Projects/car_classifier/data/autotrader/vehicle_images/make-honda/model-odyssey/vehicle_id-736531071/a376f20d575a415091fd9bb28dbdb863.jpg’ saved [30675/30675]\n",
      "\n"
     ]
    },
    {
     "name": "stdout",
     "output_type": "stream",
     "text": [
      "wget -nc -O \"/Users/levgolod/Projects/car_classifier/data/autotrader/vehicle_images/make-honda/model-odyssey/vehicle_id-736531071/211fd55c137d4bd0ad2b1923d08f82ed.jpg\" \"https://images.autotrader.com/scaler/500/375/hn/c/211fd55c137d4bd0ad2b1923d08f82ed.jpg\" \n"
     ]
    },
    {
     "name": "stderr",
     "output_type": "stream",
     "text": [
      "--2025-02-12 10:55:48--  https://images.autotrader.com/scaler/500/375/hn/c/211fd55c137d4bd0ad2b1923d08f82ed.jpg\n",
      "Resolving images.autotrader.com (images.autotrader.com)... 2600:9000:201d:f400:6:249c:1640:93a1, 2600:9000:201d:9000:6:249c:1640:93a1, 2600:9000:201d:9400:6:249c:1640:93a1, ...\n",
      "Connecting to images.autotrader.com (images.autotrader.com)|2600:9000:201d:f400:6:249c:1640:93a1|:443... connected.\n",
      "HTTP request sent, awaiting response... 200 OK\n",
      "Length: 49177 (48K) [image/jpeg]\n",
      "Saving to: ‘/Users/levgolod/Projects/car_classifier/data/autotrader/vehicle_images/make-honda/model-odyssey/vehicle_id-736531071/211fd55c137d4bd0ad2b1923d08f82ed.jpg’\n",
      "\n",
      "     0K .......... .......... .......... .......... ........  100% 2.60M=0.02s\n",
      "\n",
      "2025-02-12 10:55:48 (2.60 MB/s) - ‘/Users/levgolod/Projects/car_classifier/data/autotrader/vehicle_images/make-honda/model-odyssey/vehicle_id-736531071/211fd55c137d4bd0ad2b1923d08f82ed.jpg’ saved [49177/49177]\n",
      "\n"
     ]
    },
    {
     "name": "stdout",
     "output_type": "stream",
     "text": [
      "wget -nc -O \"/Users/levgolod/Projects/car_classifier/data/autotrader/vehicle_images/make-honda/model-odyssey/vehicle_id-736531071/b0a119ed1e024c07b034b7b79857924e.jpg\" \"https://images.autotrader.com/scaler/500/375/hn/c/b0a119ed1e024c07b034b7b79857924e.jpg\" \n"
     ]
    },
    {
     "name": "stderr",
     "output_type": "stream",
     "text": [
      "--2025-02-12 10:55:50--  https://images.autotrader.com/scaler/500/375/hn/c/b0a119ed1e024c07b034b7b79857924e.jpg\n",
      "Resolving images.autotrader.com (images.autotrader.com)... 2600:9000:201d:f400:6:249c:1640:93a1, 2600:9000:201d:9000:6:249c:1640:93a1, 2600:9000:201d:9400:6:249c:1640:93a1, ...\n",
      "Connecting to images.autotrader.com (images.autotrader.com)|2600:9000:201d:f400:6:249c:1640:93a1|:443... connected.\n",
      "HTTP request sent, awaiting response... 200 OK\n",
      "Length: 57151 (56K) [image/jpeg]\n",
      "Saving to: ‘/Users/levgolod/Projects/car_classifier/data/autotrader/vehicle_images/make-honda/model-odyssey/vehicle_id-736531071/b0a119ed1e024c07b034b7b79857924e.jpg’\n",
      "\n",
      "     0K .......... .......... .......... .......... .......... 89% 2.33M 0s\n",
      "    50K .....                                                 100%  116K=0.02s\n",
      "\n",
      "2025-02-12 10:55:51 (2.60 MB/s) - ‘/Users/levgolod/Projects/car_classifier/data/autotrader/vehicle_images/make-honda/model-odyssey/vehicle_id-736531071/b0a119ed1e024c07b034b7b79857924e.jpg’ saved [57151/57151]\n",
      "\n"
     ]
    },
    {
     "name": "stdout",
     "output_type": "stream",
     "text": [
      "wget -nc -O \"/Users/levgolod/Projects/car_classifier/data/autotrader/vehicle_images/make-honda/model-odyssey/vehicle_id-736531071/64d8bd96b2a4474ca9d80496e9e5b7e6.jpg\" \"https://images.autotrader.com/scaler/500/375/hn/c/64d8bd96b2a4474ca9d80496e9e5b7e6.jpg\" \n"
     ]
    },
    {
     "name": "stderr",
     "output_type": "stream",
     "text": [
      "--2025-02-12 10:55:53--  https://images.autotrader.com/scaler/500/375/hn/c/64d8bd96b2a4474ca9d80496e9e5b7e6.jpg\n",
      "Resolving images.autotrader.com (images.autotrader.com)... 2600:9000:201d:f400:6:249c:1640:93a1, 2600:9000:201d:9000:6:249c:1640:93a1, 2600:9000:201d:9400:6:249c:1640:93a1, ...\n",
      "Connecting to images.autotrader.com (images.autotrader.com)|2600:9000:201d:f400:6:249c:1640:93a1|:443... connected.\n",
      "HTTP request sent, awaiting response... 200 OK\n",
      "Length: 39936 (39K) [image/jpeg]\n",
      "Saving to: ‘/Users/levgolod/Projects/car_classifier/data/autotrader/vehicle_images/make-honda/model-odyssey/vehicle_id-736531071/64d8bd96b2a4474ca9d80496e9e5b7e6.jpg’\n",
      "\n",
      "     0K .......... .......... .......... .........            100% 2.32M=0.02s\n",
      "\n",
      "2025-02-12 10:55:53 (2.32 MB/s) - ‘/Users/levgolod/Projects/car_classifier/data/autotrader/vehicle_images/make-honda/model-odyssey/vehicle_id-736531071/64d8bd96b2a4474ca9d80496e9e5b7e6.jpg’ saved [39936/39936]\n",
      "\n"
     ]
    },
    {
     "name": "stdout",
     "output_type": "stream",
     "text": [
      "wget -nc -O \"/Users/levgolod/Projects/car_classifier/data/autotrader/vehicle_images/make-honda/model-odyssey/vehicle_id-736531071/b46ba6c667df47b0bc6ee1dc7b9d1cdd.jpg\" \"https://images.autotrader.com/scaler/500/375/hn/c/b46ba6c667df47b0bc6ee1dc7b9d1cdd.jpg\" \n"
     ]
    },
    {
     "name": "stderr",
     "output_type": "stream",
     "text": [
      "--2025-02-12 10:55:55--  https://images.autotrader.com/scaler/500/375/hn/c/b46ba6c667df47b0bc6ee1dc7b9d1cdd.jpg\n",
      "Resolving images.autotrader.com (images.autotrader.com)... 2600:9000:201d:f400:6:249c:1640:93a1, 2600:9000:201d:9000:6:249c:1640:93a1, 2600:9000:201d:9400:6:249c:1640:93a1, ...\n",
      "Connecting to images.autotrader.com (images.autotrader.com)|2600:9000:201d:f400:6:249c:1640:93a1|:443... connected.\n",
      "HTTP request sent, awaiting response... 200 OK\n",
      "Length: 32184 (31K) [image/jpeg]\n",
      "Saving to: ‘/Users/levgolod/Projects/car_classifier/data/autotrader/vehicle_images/make-honda/model-odyssey/vehicle_id-736531071/b46ba6c667df47b0bc6ee1dc7b9d1cdd.jpg’\n",
      "\n",
      "     0K .......... .......... .......... .                    100% 59.6M=0.001s\n",
      "\n",
      "2025-02-12 10:55:56 (59.6 MB/s) - ‘/Users/levgolod/Projects/car_classifier/data/autotrader/vehicle_images/make-honda/model-odyssey/vehicle_id-736531071/b46ba6c667df47b0bc6ee1dc7b9d1cdd.jpg’ saved [32184/32184]\n",
      "\n"
     ]
    }
   ],
   "execution_count": 9
  }
 ],
 "metadata": {
  "kernelspec": {
   "display_name": "Python 3",
   "language": "python",
   "name": "python3"
  },
  "language_info": {
   "codemirror_mode": {
    "name": "ipython",
    "version": 2
   },
   "file_extension": ".py",
   "mimetype": "text/x-python",
   "name": "python",
   "nbconvert_exporter": "python",
   "pygments_lexer": "ipython2",
   "version": "2.7.6"
  }
 },
 "nbformat": 4,
 "nbformat_minor": 5
}
